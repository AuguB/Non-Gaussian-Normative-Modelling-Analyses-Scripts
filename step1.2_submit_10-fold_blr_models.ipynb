{
 "cells": [
  {
   "cell_type": "code",
   "execution_count": null,
   "id": "83c494d3-6ebd-4cde-aff0-8fc9344374dd",
   "metadata": {
    "id": "83c494d3-6ebd-4cde-aff0-8fc9344374dd"
   },
   "outputs": [],
   "source": [
    "import os\n",
    "import numpy as np\n",
    "import pandas as pd\n",
    "import pickle\n",
    "from matplotlib import pyplot as plt\n",
    "import seaborn as sns\n",
    "from scipy.stats import gaussian_kde\n",
    "import pcntoolkit as ptk\n",
    "from pcntoolkit.normative import estimate, predict, evaluate\n",
    "from pcntoolkit.util.utils import compute_MSLL, create_design_matrix\n",
    "from pcntoolkit.util.utils import calibration_descriptives\n",
    "from pcntoolkit.model.hbr import bspline_fit, bspline_transform\n",
    "from sklearn.preprocessing import OneHotEncoder"
   ]
  },
  {
   "cell_type": "code",
   "execution_count": null,
   "id": "7da01c88-7033-498b-a811-79ad58e8c17a",
   "metadata": {
    "id": "7da01c88-7033-498b-a811-79ad58e8c17a"
   },
   "outputs": [],
   "source": [
    "projdir = '/project_cephfs/3022017.02/projects/stijdboe/make_results/10_folds_results/'\n",
    "textfiles = os.path.join(projdir,'textfiles')\n",
    "if not os.path.exists(textfiles):\n",
    "    os.mkdir(textfiles)\n",
    "data_dir = '/project_cephfs/3022017.02/projects/stijdboe/Data'\n",
    "folds_dir = os.path.join(data_dir,'10_folds_sexcov')\n",
    "python_path = '/project_cephfs/3022017.02/projects/stijdboe/stijn2/bin/python3.10'\n",
    "normative_path = '/project_cephfs/3022017.02/projects/stijdboe/PCNtoolkit/pcntoolkit/normative.py'"
   ]
  },
  {
   "cell_type": "markdown",
   "id": "896842d7-8913-4137-9d86-4757c42bcf1b",
   "metadata": {
    "id": "896842d7-8913-4137-9d86-4757c42bcf1b"
   },
   "source": [
    "### Fit the models\n",
    "\n",
    "Now we fit the models. This involves looping over the IDPs we have selected. We will use a module from PCNtoolkit to set up the design matrices, containing the covariates, fixed effects for site and nonlinear basis expansion. "
   ]
  },
  {
   "cell_type": "code",
   "execution_count": null,
   "id": "b12d20d7-30ae-4440-9e69-ec8ce4120b32",
   "metadata": {
    "tags": []
   },
   "outputs": [],
   "source": [
    "warp =  'WarpSinArcsinh'\n",
    "# For each fold\n",
    "for i in range(10):\n",
    "\n",
    "    this_identifier = f\"fold_{i}_blr\"\n",
    "    fold_dir = os.path.join(folds_dir,f'fold_{i}')\n",
    "    processing_dir = os.path.join(projdir, this_identifier+'/')\n",
    "    if not os.path.exists(processing_dir):\n",
    "        os.mkdir(processing_dir)\n",
    "\n",
    "    log_dir = os.path.join(processing_dir, 'log')           #\n",
    "    if not os.path.isdir(log_dir):\n",
    "        os.mkdir(log_dir)\n",
    "\n",
    "    # The paths to the data\n",
    "    X_tr_path = os.path.join(fold_dir, 'X_train.pkl')\n",
    "    Y_tr_path = os.path.join(fold_dir, 'Y_train.pkl')\n",
    "    Z_tr_path = os.path.join(fold_dir, 'Z_train.pkl')\n",
    "    \n",
    "    X_te_path = os.path.join(fold_dir, 'X_test.pkl')\n",
    "    Y_te_path = os.path.join(fold_dir, 'Y_test.pkl')\n",
    "    Z_te_path = os.path.join(fold_dir, 'Z_test.pkl')\n",
    "    \n",
    "    with open(X_tr_path, 'rb') as file:\n",
    "        X_tr = pickle.load(file)\n",
    "    with open(Z_tr_path, 'rb') as file:\n",
    "        Z_tr = pickle.load(file)\n",
    "    with open(X_te_path, 'rb') as file:\n",
    "        X_te = pickle.load(file)\n",
    "    with open(Z_te_path, 'rb') as file:\n",
    "        Z_te = pickle.load(file)\n",
    "    print(Z_tr)\n",
    "    \n",
    "    \n",
    "    \n",
    "    Phi_tr = create_design_matrix(X_tr, site_ids = Z_tr['site_id'].to_numpy(), basis='bspline')\n",
    "    Phi_cov_tr = create_design_matrix(X_tr, basis='bspline')\n",
    "    Phi_te = create_design_matrix(X_te, site_ids = Z_te['site_id'].to_numpy(), basis='bspline')\n",
    "    Phi_cov_te = create_design_matrix(X_te, basis='bspline')\n",
    "\n",
    "    # Save as text files \n",
    "    Phi_tr_path = os.path.join(textfiles, f'Phi_tr_{i}.txt' )\n",
    "    Phi_te_path = os.path.join(textfiles, f'Phi_te_{i}.txt' )\n",
    "    np.savetxt(Phi_tr_path, Phi_tr)\n",
    "    np.savetxt(Phi_te_path, Phi_te)\n",
    "    \n",
    "    Phi_cov_tr_path = os.path.join(textfiles, f'Phi_cov_tr_{i}.txt' )\n",
    "    Phi_cov_te_path = os.path.join(textfiles, f'Phi_cov_te_{i}.txt' )\n",
    "    np.savetxt(Phi_cov_tr_path, Phi_cov_tr)\n",
    "    np.savetxt(Phi_cov_te_path, Phi_cov_te)\n",
    "    \n",
    "    \n",
    "    # Load response variables\n",
    "    with open(Y_tr_path, 'rb') as file:\n",
    "        Y_tr = pickle.load(file)\n",
    "    with open(Y_te_path, 'rb') as file:\n",
    "        Y_te = pickle.load(file)\n",
    "    \n",
    "    # Loop over features\n",
    "    for iff, feature in enumerate(Y_tr.columns):\n",
    "        batch_dir = os.path.join(processing_dir, f'batch_{iff+1}')\n",
    "        if not os.path.exists(batch_dir):\n",
    "            os.mkdir(batch_dir)\n",
    "        os.chdir(batch_dir)\n",
    "        \n",
    "        F_tr = Y_tr[feature].to_numpy()\n",
    "        F_tr_mean = np.mean(F_tr, axis = 0)\n",
    "        F_tr_sd = np.std(F_tr, axis = 0)\n",
    "        F_tr = (F_tr-F_tr_mean)/F_tr_sd\n",
    "        F_te = Y_te[feature].to_numpy()\n",
    "        F_te = (F_te-F_tr_mean)/F_tr_sd\n",
    "        \n",
    "        # Save as text files \n",
    "        Y_feature_tr_path = os.path.join(textfiles, f'Y_{feature}_tr_{i}.txt' )\n",
    "        Y_feature_te_path = os.path.join(textfiles, f'Y_{feature}_te_{i}.txt' )\n",
    "        np.savetxt(Y_feature_tr_path, F_tr)\n",
    "        np.savetxt(Y_feature_te_path, F_te)\n",
    "        \n",
    "#         # Fit the model\n",
    "        estimate(\n",
    "                 Phi_tr_path,  \n",
    "                 Y_feature_tr_path,\n",
    "                 testcov=Phi_te_path, \n",
    "                 testresp=Y_feature_te_path,\n",
    "                 alg='blr', optimizer = 'powell', \n",
    "                 savemodel=True, warp=warp, warp_reparam=True)\n",
    "\n",
    "\n"
   ]
  }
 ],
 "metadata": {
  "colab": {
   "name": "1_fit_normative_models.ipynb",
   "provenance": [],
   "toc_visible": true
  },
  "kernelspec": {
   "display_name": "new_pymc_venv",
   "language": "python",
   "name": "new_pymc_venv"
  },
  "language_info": {
   "codemirror_mode": {
    "name": "ipython",
    "version": 3
   },
   "file_extension": ".py",
   "mimetype": "text/x-python",
   "name": "python",
   "nbconvert_exporter": "python",
   "pygments_lexer": "ipython3",
   "version": "3.10.11"
  }
 },
 "nbformat": 4,
 "nbformat_minor": 5
}
