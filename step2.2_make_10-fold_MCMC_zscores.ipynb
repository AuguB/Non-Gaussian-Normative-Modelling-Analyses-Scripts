{
 "cells": [
  {
   "cell_type": "code",
   "execution_count": 1,
   "id": "420b5385",
   "metadata": {},
   "outputs": [],
   "source": [
    "from pcntoolkit.util.hbr_utils import *\n",
    "import scipy\n",
    "\n",
    "import os\n",
    "import pickle\n",
    "import numpy as np\n",
    "import pandas as pd\n",
    "from matplotlib import pyplot as plt\n",
    "from sklearn.model_selection import train_test_split\n",
    "import pcntoolkit as ptk\n",
    "from itertools import product\n",
    "from functools import reduce\n",
    "from pcntoolkit.model.SHASH import SHASHb, SHASH, SHASHo\n",
    "from pcntoolkit.util.utils import scaler\n",
    "from scipy.stats import gaussian_kde\n",
    "import pymc as pm\n",
    "import scipy.special as spp\n",
    "import arviz as av\n",
    "from scipy.stats import skew, kurtosis\n",
    "import seaborn as sns\n",
    "import time\n",
    "sns.set(style='darkgrid')"
   ]
  },
  {
   "cell_type": "code",
   "execution_count": 2,
   "id": "095b9c3b",
   "metadata": {},
   "outputs": [],
   "source": [
    "projdir = '/project_cephfs/3022017.02/projects/stijdboe/make_results/10_folds_results/'\n",
    "data_dir = '/project_cephfs/3022017.02/projects/stijdboe/Data'\n",
    "folds_dir = os.path.join(data_dir,'10_folds')\n",
    "python_path = '/project_cephfs/3022017.02/projects/stijdboe/stijn2/bin/python3.10'\n",
    "normative_path = '/project_cephfs/3022017.02/projects/stijdboe/PCNtoolkit/pcntoolkit/normative.py'"
   ]
  },
  {
   "cell_type": "code",
   "execution_count": 3,
   "id": "dc7eb218",
   "metadata": {},
   "outputs": [
    {
     "name": "stdout",
     "output_type": "stream",
     "text": [
      "Computing zscores for NM_0_0_estimate.pkl\n",
      "SHASHo\n",
      "slope_mu <class 'pcntoolkit.model.hbr.FixedParameterization'>\n",
      "intercept_mu <class 'pcntoolkit.model.hbr.NonCentralRandomFixedParameterization'>\n",
      "mu <class 'pcntoolkit.model.hbr.LinearParameterization'>\n",
      "slope_sigma <class 'pcntoolkit.model.hbr.FixedParameterization'>\n",
      "intercept_sigma <class 'pcntoolkit.model.hbr.FixedParameterization'>\n",
      "sigma <class 'pcntoolkit.model.hbr.LinearParameterization'>\n",
      "epsilon <class 'pcntoolkit.model.hbr.FixedParameterization'>\n",
      "delta <class 'pcntoolkit.model.hbr.FixedParameterization'>\n"
     ]
    },
    {
     "name": "stderr",
     "output_type": "stream",
     "text": [
      "Sampling: [y_like]\n"
     ]
    },
    {
     "data": {
      "text/html": [
       "\n",
       "<style>\n",
       "    /* Turns off some styling */\n",
       "    progress {\n",
       "        /* gets rid of default border in Firefox and Opera. */\n",
       "        border: none;\n",
       "        /* Needs to be in here for Safari polyfill so background images work as expected. */\n",
       "        background-size: auto;\n",
       "    }\n",
       "    progress:not([value]), progress:not([value])::-webkit-progress-bar {\n",
       "        background: repeating-linear-gradient(45deg, #7e7e7e, #7e7e7e 10px, #5c5c5c 10px, #5c5c5c 20px);\n",
       "    }\n",
       "    .progress-bar-interrupted, .progress-bar-interrupted::-webkit-progress-bar {\n",
       "        background: #F44336;\n",
       "    }\n",
       "</style>\n"
      ],
      "text/plain": [
       "<IPython.core.display.HTML object>"
      ]
     },
     "metadata": {},
     "output_type": "display_data"
    },
    {
     "data": {
      "text/html": [
       "\n",
       "    <div>\n",
       "      <progress value='2000' class='' max='2000' style='width:300px; height:20px; vertical-align: middle;'></progress>\n",
       "      100.00% [2000/2000 00:03&lt;00:00]\n",
       "    </div>\n",
       "    "
      ],
      "text/plain": [
       "<IPython.core.display.HTML object>"
      ]
     },
     "metadata": {},
     "output_type": "display_data"
    },
    {
     "name": "stdout",
     "output_type": "stream",
     "text": [
      "Done computing zscores in 11.997231721878052 seconds\n",
      "Computing zscores for NM_0_0_estimate.pkl\n",
      "SHASHb\n",
      "slope_mu <class 'pcntoolkit.model.hbr.FixedParameterization'>\n",
      "intercept_mu <class 'pcntoolkit.model.hbr.NonCentralRandomFixedParameterization'>\n",
      "mu <class 'pcntoolkit.model.hbr.LinearParameterization'>\n",
      "slope_sigma <class 'pcntoolkit.model.hbr.FixedParameterization'>\n",
      "intercept_sigma <class 'pcntoolkit.model.hbr.FixedParameterization'>\n",
      "sigma <class 'pcntoolkit.model.hbr.LinearParameterization'>\n",
      "epsilon <class 'pcntoolkit.model.hbr.FixedParameterization'>\n",
      "delta <class 'pcntoolkit.model.hbr.FixedParameterization'>\n"
     ]
    },
    {
     "name": "stderr",
     "output_type": "stream",
     "text": [
      "Sampling: [y_like]\n"
     ]
    },
    {
     "data": {
      "text/html": [
       "\n",
       "<style>\n",
       "    /* Turns off some styling */\n",
       "    progress {\n",
       "        /* gets rid of default border in Firefox and Opera. */\n",
       "        border: none;\n",
       "        /* Needs to be in here for Safari polyfill so background images work as expected. */\n",
       "        background-size: auto;\n",
       "    }\n",
       "    progress:not([value]), progress:not([value])::-webkit-progress-bar {\n",
       "        background: repeating-linear-gradient(45deg, #7e7e7e, #7e7e7e 10px, #5c5c5c 10px, #5c5c5c 20px);\n",
       "    }\n",
       "    .progress-bar-interrupted, .progress-bar-interrupted::-webkit-progress-bar {\n",
       "        background: #F44336;\n",
       "    }\n",
       "</style>\n"
      ],
      "text/plain": [
       "<IPython.core.display.HTML object>"
      ]
     },
     "metadata": {},
     "output_type": "display_data"
    },
    {
     "data": {
      "text/html": [
       "\n",
       "    <div>\n",
       "      <progress value='2000' class='' max='2000' style='width:300px; height:20px; vertical-align: middle;'></progress>\n",
       "      100.00% [2000/2000 00:06&lt;00:00]\n",
       "    </div>\n",
       "    "
      ],
      "text/plain": [
       "<IPython.core.display.HTML object>"
      ]
     },
     "metadata": {},
     "output_type": "display_data"
    },
    {
     "name": "stdout",
     "output_type": "stream",
     "text": [
      "Done computing zscores in 9.02136516571045 seconds\n",
      "Computing zscores for NM_0_0_estimate.pkl\n",
      "SHASHb\n",
      "slope_mu <class 'pcntoolkit.model.hbr.FixedParameterization'>\n",
      "intercept_mu <class 'pcntoolkit.model.hbr.NonCentralRandomFixedParameterization'>\n",
      "mu <class 'pcntoolkit.model.hbr.LinearParameterization'>\n",
      "slope_sigma <class 'pcntoolkit.model.hbr.FixedParameterization'>\n",
      "intercept_sigma <class 'pcntoolkit.model.hbr.FixedParameterization'>\n",
      "sigma <class 'pcntoolkit.model.hbr.LinearParameterization'>\n",
      "slope_epsilon <class 'pcntoolkit.model.hbr.FixedParameterization'>\n",
      "intercept_epsilon <class 'pcntoolkit.model.hbr.FixedParameterization'>\n",
      "epsilon <class 'pcntoolkit.model.hbr.LinearParameterization'>\n",
      "slope_delta <class 'pcntoolkit.model.hbr.FixedParameterization'>\n",
      "intercept_delta <class 'pcntoolkit.model.hbr.FixedParameterization'>\n",
      "delta <class 'pcntoolkit.model.hbr.LinearParameterization'>\n"
     ]
    },
    {
     "name": "stderr",
     "output_type": "stream",
     "text": [
      "Sampling: [y_like]\n"
     ]
    },
    {
     "data": {
      "text/html": [
       "\n",
       "<style>\n",
       "    /* Turns off some styling */\n",
       "    progress {\n",
       "        /* gets rid of default border in Firefox and Opera. */\n",
       "        border: none;\n",
       "        /* Needs to be in here for Safari polyfill so background images work as expected. */\n",
       "        background-size: auto;\n",
       "    }\n",
       "    progress:not([value]), progress:not([value])::-webkit-progress-bar {\n",
       "        background: repeating-linear-gradient(45deg, #7e7e7e, #7e7e7e 10px, #5c5c5c 10px, #5c5c5c 20px);\n",
       "    }\n",
       "    .progress-bar-interrupted, .progress-bar-interrupted::-webkit-progress-bar {\n",
       "        background: #F44336;\n",
       "    }\n",
       "</style>\n"
      ],
      "text/plain": [
       "<IPython.core.display.HTML object>"
      ]
     },
     "metadata": {},
     "output_type": "display_data"
    },
    {
     "data": {
      "text/html": [
       "\n",
       "    <div>\n",
       "      <progress value='2000' class='' max='2000' style='width:300px; height:20px; vertical-align: middle;'></progress>\n",
       "      100.00% [2000/2000 00:19&lt;00:00]\n",
       "    </div>\n",
       "    "
      ],
      "text/plain": [
       "<IPython.core.display.HTML object>"
      ]
     },
     "metadata": {},
     "output_type": "display_data"
    },
    {
     "name": "stdout",
     "output_type": "stream",
     "text": [
      "Done computing zscores in 52.24055480957031 seconds\n"
     ]
    },
    {
     "name": "stderr",
     "output_type": "stream",
     "text": [
      "Sampling: [y_like]\n"
     ]
    },
    {
     "name": "stdout",
     "output_type": "stream",
     "text": [
      "Computing zscores for NM_0_0_estimate.pkl\n",
      "Normal\n",
      "slope_mu <class 'pcntoolkit.model.hbr.FixedParameterization'>\n",
      "intercept_mu <class 'pcntoolkit.model.hbr.NonCentralRandomFixedParameterization'>\n",
      "mu <class 'pcntoolkit.model.hbr.LinearParameterization'>\n",
      "slope_sigma <class 'pcntoolkit.model.hbr.FixedParameterization'>\n",
      "intercept_sigma <class 'pcntoolkit.model.hbr.FixedParameterization'>\n",
      "sigma <class 'pcntoolkit.model.hbr.LinearParameterization'>\n"
     ]
    },
    {
     "data": {
      "text/html": [
       "\n",
       "<style>\n",
       "    /* Turns off some styling */\n",
       "    progress {\n",
       "        /* gets rid of default border in Firefox and Opera. */\n",
       "        border: none;\n",
       "        /* Needs to be in here for Safari polyfill so background images work as expected. */\n",
       "        background-size: auto;\n",
       "    }\n",
       "    progress:not([value]), progress:not([value])::-webkit-progress-bar {\n",
       "        background: repeating-linear-gradient(45deg, #7e7e7e, #7e7e7e 10px, #5c5c5c 10px, #5c5c5c 20px);\n",
       "    }\n",
       "    .progress-bar-interrupted, .progress-bar-interrupted::-webkit-progress-bar {\n",
       "        background: #F44336;\n",
       "    }\n",
       "</style>\n"
      ],
      "text/plain": [
       "<IPython.core.display.HTML object>"
      ]
     },
     "metadata": {},
     "output_type": "display_data"
    },
    {
     "data": {
      "text/html": [
       "\n",
       "    <div>\n",
       "      <progress value='2000' class='' max='2000' style='width:300px; height:20px; vertical-align: middle;'></progress>\n",
       "      100.00% [2000/2000 00:02&lt;00:00]\n",
       "    </div>\n",
       "    "
      ],
      "text/plain": [
       "<IPython.core.display.HTML object>"
      ]
     },
     "metadata": {},
     "output_type": "display_data"
    },
    {
     "name": "stdout",
     "output_type": "stream",
     "text": [
      "Done computing zscores in 3.683958053588867 seconds\n"
     ]
    },
    {
     "name": "stderr",
     "output_type": "stream",
     "text": [
      "Sampling: [y_like]\n"
     ]
    },
    {
     "name": "stdout",
     "output_type": "stream",
     "text": [
      "Computing zscores for NM_0_0_estimate.pkl\n",
      "SHASHo\n",
      "slope_mu <class 'pcntoolkit.model.hbr.FixedParameterization'>\n",
      "intercept_mu <class 'pcntoolkit.model.hbr.NonCentralRandomFixedParameterization'>\n",
      "mu <class 'pcntoolkit.model.hbr.LinearParameterization'>\n",
      "slope_sigma <class 'pcntoolkit.model.hbr.FixedParameterization'>\n",
      "intercept_sigma <class 'pcntoolkit.model.hbr.FixedParameterization'>\n",
      "sigma <class 'pcntoolkit.model.hbr.LinearParameterization'>\n",
      "epsilon <class 'pcntoolkit.model.hbr.FixedParameterization'>\n",
      "delta <class 'pcntoolkit.model.hbr.FixedParameterization'>\n"
     ]
    },
    {
     "data": {
      "text/html": [
       "\n",
       "<style>\n",
       "    /* Turns off some styling */\n",
       "    progress {\n",
       "        /* gets rid of default border in Firefox and Opera. */\n",
       "        border: none;\n",
       "        /* Needs to be in here for Safari polyfill so background images work as expected. */\n",
       "        background-size: auto;\n",
       "    }\n",
       "    progress:not([value]), progress:not([value])::-webkit-progress-bar {\n",
       "        background: repeating-linear-gradient(45deg, #7e7e7e, #7e7e7e 10px, #5c5c5c 10px, #5c5c5c 20px);\n",
       "    }\n",
       "    .progress-bar-interrupted, .progress-bar-interrupted::-webkit-progress-bar {\n",
       "        background: #F44336;\n",
       "    }\n",
       "</style>\n"
      ],
      "text/plain": [
       "<IPython.core.display.HTML object>"
      ]
     },
     "metadata": {},
     "output_type": "display_data"
    },
    {
     "data": {
      "text/html": [
       "\n",
       "    <div>\n",
       "      <progress value='2000' class='' max='2000' style='width:300px; height:20px; vertical-align: middle;'></progress>\n",
       "      100.00% [2000/2000 00:03&lt;00:00]\n",
       "    </div>\n",
       "    "
      ],
      "text/plain": [
       "<IPython.core.display.HTML object>"
      ]
     },
     "metadata": {},
     "output_type": "display_data"
    },
    {
     "name": "stdout",
     "output_type": "stream",
     "text": [
      "Done computing zscores in 4.403488397598267 seconds\n"
     ]
    },
    {
     "name": "stderr",
     "output_type": "stream",
     "text": [
      "Sampling: [y_like]\n"
     ]
    },
    {
     "name": "stdout",
     "output_type": "stream",
     "text": [
      "Computing zscores for NM_0_0_estimate.pkl\n",
      "SHASHb\n",
      "slope_mu <class 'pcntoolkit.model.hbr.FixedParameterization'>\n",
      "intercept_mu <class 'pcntoolkit.model.hbr.NonCentralRandomFixedParameterization'>\n",
      "mu <class 'pcntoolkit.model.hbr.LinearParameterization'>\n",
      "slope_sigma <class 'pcntoolkit.model.hbr.FixedParameterization'>\n",
      "intercept_sigma <class 'pcntoolkit.model.hbr.FixedParameterization'>\n",
      "sigma <class 'pcntoolkit.model.hbr.LinearParameterization'>\n",
      "epsilon <class 'pcntoolkit.model.hbr.FixedParameterization'>\n",
      "delta <class 'pcntoolkit.model.hbr.FixedParameterization'>\n"
     ]
    },
    {
     "data": {
      "text/html": [
       "\n",
       "<style>\n",
       "    /* Turns off some styling */\n",
       "    progress {\n",
       "        /* gets rid of default border in Firefox and Opera. */\n",
       "        border: none;\n",
       "        /* Needs to be in here for Safari polyfill so background images work as expected. */\n",
       "        background-size: auto;\n",
       "    }\n",
       "    progress:not([value]), progress:not([value])::-webkit-progress-bar {\n",
       "        background: repeating-linear-gradient(45deg, #7e7e7e, #7e7e7e 10px, #5c5c5c 10px, #5c5c5c 20px);\n",
       "    }\n",
       "    .progress-bar-interrupted, .progress-bar-interrupted::-webkit-progress-bar {\n",
       "        background: #F44336;\n",
       "    }\n",
       "</style>\n"
      ],
      "text/plain": [
       "<IPython.core.display.HTML object>"
      ]
     },
     "metadata": {},
     "output_type": "display_data"
    },
    {
     "data": {
      "text/html": [
       "\n",
       "    <div>\n",
       "      <progress value='2000' class='' max='2000' style='width:300px; height:20px; vertical-align: middle;'></progress>\n",
       "      100.00% [2000/2000 00:03&lt;00:00]\n",
       "    </div>\n",
       "    "
      ],
      "text/plain": [
       "<IPython.core.display.HTML object>"
      ]
     },
     "metadata": {},
     "output_type": "display_data"
    },
    {
     "name": "stdout",
     "output_type": "stream",
     "text": [
      "Done computing zscores in 4.840356826782227 seconds\n",
      "Computing zscores for NM_0_0_estimate.pkl\n",
      "SHASHb\n",
      "slope_mu <class 'pcntoolkit.model.hbr.FixedParameterization'>\n",
      "intercept_mu <class 'pcntoolkit.model.hbr.NonCentralRandomFixedParameterization'>\n",
      "mu <class 'pcntoolkit.model.hbr.LinearParameterization'>\n",
      "slope_sigma <class 'pcntoolkit.model.hbr.FixedParameterization'>\n",
      "intercept_sigma <class 'pcntoolkit.model.hbr.FixedParameterization'>\n",
      "sigma <class 'pcntoolkit.model.hbr.LinearParameterization'>\n",
      "slope_epsilon <class 'pcntoolkit.model.hbr.FixedParameterization'>\n",
      "intercept_epsilon <class 'pcntoolkit.model.hbr.FixedParameterization'>\n",
      "epsilon <class 'pcntoolkit.model.hbr.LinearParameterization'>\n",
      "slope_delta <class 'pcntoolkit.model.hbr.FixedParameterization'>\n",
      "intercept_delta <class 'pcntoolkit.model.hbr.FixedParameterization'>\n",
      "delta <class 'pcntoolkit.model.hbr.LinearParameterization'>\n"
     ]
    },
    {
     "name": "stderr",
     "output_type": "stream",
     "text": [
      "Sampling: [y_like]\n"
     ]
    },
    {
     "data": {
      "text/html": [
       "\n",
       "<style>\n",
       "    /* Turns off some styling */\n",
       "    progress {\n",
       "        /* gets rid of default border in Firefox and Opera. */\n",
       "        border: none;\n",
       "        /* Needs to be in here for Safari polyfill so background images work as expected. */\n",
       "        background-size: auto;\n",
       "    }\n",
       "    progress:not([value]), progress:not([value])::-webkit-progress-bar {\n",
       "        background: repeating-linear-gradient(45deg, #7e7e7e, #7e7e7e 10px, #5c5c5c 10px, #5c5c5c 20px);\n",
       "    }\n",
       "    .progress-bar-interrupted, .progress-bar-interrupted::-webkit-progress-bar {\n",
       "        background: #F44336;\n",
       "    }\n",
       "</style>\n"
      ],
      "text/plain": [
       "<IPython.core.display.HTML object>"
      ]
     },
     "metadata": {},
     "output_type": "display_data"
    },
    {
     "data": {
      "text/html": [
       "\n",
       "    <div>\n",
       "      <progress value='2000' class='' max='2000' style='width:300px; height:20px; vertical-align: middle;'></progress>\n",
       "      100.00% [2000/2000 00:12&lt;00:00]\n",
       "    </div>\n",
       "    "
      ],
      "text/plain": [
       "<IPython.core.display.HTML object>"
      ]
     },
     "metadata": {},
     "output_type": "display_data"
    },
    {
     "name": "stdout",
     "output_type": "stream",
     "text": [
      "Done computing zscores in 39.45734262466431 seconds\n"
     ]
    },
    {
     "name": "stderr",
     "output_type": "stream",
     "text": [
      "Sampling: [y_like]\n"
     ]
    },
    {
     "name": "stdout",
     "output_type": "stream",
     "text": [
      "Computing zscores for NM_0_0_estimate.pkl\n",
      "Normal\n",
      "slope_mu <class 'pcntoolkit.model.hbr.FixedParameterization'>\n",
      "intercept_mu <class 'pcntoolkit.model.hbr.NonCentralRandomFixedParameterization'>\n",
      "mu <class 'pcntoolkit.model.hbr.LinearParameterization'>\n",
      "slope_sigma <class 'pcntoolkit.model.hbr.FixedParameterization'>\n",
      "intercept_sigma <class 'pcntoolkit.model.hbr.FixedParameterization'>\n",
      "sigma <class 'pcntoolkit.model.hbr.LinearParameterization'>\n"
     ]
    },
    {
     "data": {
      "text/html": [
       "\n",
       "<style>\n",
       "    /* Turns off some styling */\n",
       "    progress {\n",
       "        /* gets rid of default border in Firefox and Opera. */\n",
       "        border: none;\n",
       "        /* Needs to be in here for Safari polyfill so background images work as expected. */\n",
       "        background-size: auto;\n",
       "    }\n",
       "    progress:not([value]), progress:not([value])::-webkit-progress-bar {\n",
       "        background: repeating-linear-gradient(45deg, #7e7e7e, #7e7e7e 10px, #5c5c5c 10px, #5c5c5c 20px);\n",
       "    }\n",
       "    .progress-bar-interrupted, .progress-bar-interrupted::-webkit-progress-bar {\n",
       "        background: #F44336;\n",
       "    }\n",
       "</style>\n"
      ],
      "text/plain": [
       "<IPython.core.display.HTML object>"
      ]
     },
     "metadata": {},
     "output_type": "display_data"
    },
    {
     "data": {
      "text/html": [
       "\n",
       "    <div>\n",
       "      <progress value='2000' class='' max='2000' style='width:300px; height:20px; vertical-align: middle;'></progress>\n",
       "      100.00% [2000/2000 00:02&lt;00:00]\n",
       "    </div>\n",
       "    "
      ],
      "text/plain": [
       "<IPython.core.display.HTML object>"
      ]
     },
     "metadata": {},
     "output_type": "display_data"
    },
    {
     "name": "stdout",
     "output_type": "stream",
     "text": [
      "Done computing zscores in 3.4218862056732178 seconds\n",
      "Computing zscores for NM_0_0_estimate.pkl\n",
      "SHASHo\n",
      "slope_mu <class 'pcntoolkit.model.hbr.FixedParameterization'>\n",
      "intercept_mu <class 'pcntoolkit.model.hbr.NonCentralRandomFixedParameterization'>\n",
      "mu <class 'pcntoolkit.model.hbr.LinearParameterization'>\n",
      "slope_sigma <class 'pcntoolkit.model.hbr.FixedParameterization'>\n",
      "intercept_sigma <class 'pcntoolkit.model.hbr.FixedParameterization'>\n",
      "sigma <class 'pcntoolkit.model.hbr.LinearParameterization'>\n",
      "epsilon <class 'pcntoolkit.model.hbr.FixedParameterization'>\n",
      "delta <class 'pcntoolkit.model.hbr.FixedParameterization'>\n"
     ]
    },
    {
     "name": "stderr",
     "output_type": "stream",
     "text": [
      "Sampling: [y_like]\n"
     ]
    },
    {
     "data": {
      "text/html": [
       "\n",
       "<style>\n",
       "    /* Turns off some styling */\n",
       "    progress {\n",
       "        /* gets rid of default border in Firefox and Opera. */\n",
       "        border: none;\n",
       "        /* Needs to be in here for Safari polyfill so background images work as expected. */\n",
       "        background-size: auto;\n",
       "    }\n",
       "    progress:not([value]), progress:not([value])::-webkit-progress-bar {\n",
       "        background: repeating-linear-gradient(45deg, #7e7e7e, #7e7e7e 10px, #5c5c5c 10px, #5c5c5c 20px);\n",
       "    }\n",
       "    .progress-bar-interrupted, .progress-bar-interrupted::-webkit-progress-bar {\n",
       "        background: #F44336;\n",
       "    }\n",
       "</style>\n"
      ],
      "text/plain": [
       "<IPython.core.display.HTML object>"
      ]
     },
     "metadata": {},
     "output_type": "display_data"
    },
    {
     "data": {
      "text/html": [
       "\n",
       "    <div>\n",
       "      <progress value='2000' class='' max='2000' style='width:300px; height:20px; vertical-align: middle;'></progress>\n",
       "      100.00% [2000/2000 00:03&lt;00:00]\n",
       "    </div>\n",
       "    "
      ],
      "text/plain": [
       "<IPython.core.display.HTML object>"
      ]
     },
     "metadata": {},
     "output_type": "display_data"
    },
    {
     "name": "stdout",
     "output_type": "stream",
     "text": [
      "Done computing zscores in 4.475417137145996 seconds\n"
     ]
    },
    {
     "name": "stderr",
     "output_type": "stream",
     "text": [
      "Sampling: [y_like]\n"
     ]
    },
    {
     "name": "stdout",
     "output_type": "stream",
     "text": [
      "Computing zscores for NM_0_0_estimate.pkl\n",
      "SHASHb\n",
      "slope_mu <class 'pcntoolkit.model.hbr.FixedParameterization'>\n",
      "intercept_mu <class 'pcntoolkit.model.hbr.NonCentralRandomFixedParameterization'>\n",
      "mu <class 'pcntoolkit.model.hbr.LinearParameterization'>\n",
      "slope_sigma <class 'pcntoolkit.model.hbr.FixedParameterization'>\n",
      "intercept_sigma <class 'pcntoolkit.model.hbr.FixedParameterization'>\n",
      "sigma <class 'pcntoolkit.model.hbr.LinearParameterization'>\n",
      "epsilon <class 'pcntoolkit.model.hbr.FixedParameterization'>\n",
      "delta <class 'pcntoolkit.model.hbr.FixedParameterization'>\n"
     ]
    },
    {
     "data": {
      "text/html": [
       "\n",
       "<style>\n",
       "    /* Turns off some styling */\n",
       "    progress {\n",
       "        /* gets rid of default border in Firefox and Opera. */\n",
       "        border: none;\n",
       "        /* Needs to be in here for Safari polyfill so background images work as expected. */\n",
       "        background-size: auto;\n",
       "    }\n",
       "    progress:not([value]), progress:not([value])::-webkit-progress-bar {\n",
       "        background: repeating-linear-gradient(45deg, #7e7e7e, #7e7e7e 10px, #5c5c5c 10px, #5c5c5c 20px);\n",
       "    }\n",
       "    .progress-bar-interrupted, .progress-bar-interrupted::-webkit-progress-bar {\n",
       "        background: #F44336;\n",
       "    }\n",
       "</style>\n"
      ],
      "text/plain": [
       "<IPython.core.display.HTML object>"
      ]
     },
     "metadata": {},
     "output_type": "display_data"
    },
    {
     "data": {
      "text/html": [
       "\n",
       "    <div>\n",
       "      <progress value='2000' class='' max='2000' style='width:300px; height:20px; vertical-align: middle;'></progress>\n",
       "      100.00% [2000/2000 00:04&lt;00:00]\n",
       "    </div>\n",
       "    "
      ],
      "text/plain": [
       "<IPython.core.display.HTML object>"
      ]
     },
     "metadata": {},
     "output_type": "display_data"
    },
    {
     "name": "stdout",
     "output_type": "stream",
     "text": [
      "Done computing zscores in 5.956161975860596 seconds\n",
      "Computing zscores for NM_0_0_estimate.pkl\n",
      "SHASHb\n",
      "slope_mu <class 'pcntoolkit.model.hbr.FixedParameterization'>\n",
      "intercept_mu <class 'pcntoolkit.model.hbr.NonCentralRandomFixedParameterization'>\n",
      "mu <class 'pcntoolkit.model.hbr.LinearParameterization'>\n",
      "slope_sigma <class 'pcntoolkit.model.hbr.FixedParameterization'>\n",
      "intercept_sigma <class 'pcntoolkit.model.hbr.FixedParameterization'>\n",
      "sigma <class 'pcntoolkit.model.hbr.LinearParameterization'>\n",
      "slope_epsilon <class 'pcntoolkit.model.hbr.FixedParameterization'>\n",
      "intercept_epsilon <class 'pcntoolkit.model.hbr.FixedParameterization'>\n",
      "epsilon <class 'pcntoolkit.model.hbr.LinearParameterization'>\n",
      "slope_delta <class 'pcntoolkit.model.hbr.FixedParameterization'>\n",
      "intercept_delta <class 'pcntoolkit.model.hbr.FixedParameterization'>\n",
      "delta <class 'pcntoolkit.model.hbr.LinearParameterization'>\n"
     ]
    },
    {
     "name": "stderr",
     "output_type": "stream",
     "text": [
      "Sampling: [y_like]\n"
     ]
    },
    {
     "data": {
      "text/html": [
       "\n",
       "<style>\n",
       "    /* Turns off some styling */\n",
       "    progress {\n",
       "        /* gets rid of default border in Firefox and Opera. */\n",
       "        border: none;\n",
       "        /* Needs to be in here for Safari polyfill so background images work as expected. */\n",
       "        background-size: auto;\n",
       "    }\n",
       "    progress:not([value]), progress:not([value])::-webkit-progress-bar {\n",
       "        background: repeating-linear-gradient(45deg, #7e7e7e, #7e7e7e 10px, #5c5c5c 10px, #5c5c5c 20px);\n",
       "    }\n",
       "    .progress-bar-interrupted, .progress-bar-interrupted::-webkit-progress-bar {\n",
       "        background: #F44336;\n",
       "    }\n",
       "</style>\n"
      ],
      "text/plain": [
       "<IPython.core.display.HTML object>"
      ]
     },
     "metadata": {},
     "output_type": "display_data"
    },
    {
     "data": {
      "text/html": [
       "\n",
       "    <div>\n",
       "      <progress value='2000' class='' max='2000' style='width:300px; height:20px; vertical-align: middle;'></progress>\n",
       "      100.00% [2000/2000 00:12&lt;00:00]\n",
       "    </div>\n",
       "    "
      ],
      "text/plain": [
       "<IPython.core.display.HTML object>"
      ]
     },
     "metadata": {},
     "output_type": "display_data"
    },
    {
     "name": "stdout",
     "output_type": "stream",
     "text": [
      "Done computing zscores in 38.61351013183594 seconds\n"
     ]
    },
    {
     "name": "stderr",
     "output_type": "stream",
     "text": [
      "Sampling: [y_like]\n"
     ]
    },
    {
     "name": "stdout",
     "output_type": "stream",
     "text": [
      "Computing zscores for NM_0_0_estimate.pkl\n",
      "Normal\n",
      "slope_mu <class 'pcntoolkit.model.hbr.FixedParameterization'>\n",
      "intercept_mu <class 'pcntoolkit.model.hbr.NonCentralRandomFixedParameterization'>\n",
      "mu <class 'pcntoolkit.model.hbr.LinearParameterization'>\n",
      "slope_sigma <class 'pcntoolkit.model.hbr.FixedParameterization'>\n",
      "intercept_sigma <class 'pcntoolkit.model.hbr.FixedParameterization'>\n",
      "sigma <class 'pcntoolkit.model.hbr.LinearParameterization'>\n"
     ]
    },
    {
     "data": {
      "text/html": [
       "\n",
       "<style>\n",
       "    /* Turns off some styling */\n",
       "    progress {\n",
       "        /* gets rid of default border in Firefox and Opera. */\n",
       "        border: none;\n",
       "        /* Needs to be in here for Safari polyfill so background images work as expected. */\n",
       "        background-size: auto;\n",
       "    }\n",
       "    progress:not([value]), progress:not([value])::-webkit-progress-bar {\n",
       "        background: repeating-linear-gradient(45deg, #7e7e7e, #7e7e7e 10px, #5c5c5c 10px, #5c5c5c 20px);\n",
       "    }\n",
       "    .progress-bar-interrupted, .progress-bar-interrupted::-webkit-progress-bar {\n",
       "        background: #F44336;\n",
       "    }\n",
       "</style>\n"
      ],
      "text/plain": [
       "<IPython.core.display.HTML object>"
      ]
     },
     "metadata": {},
     "output_type": "display_data"
    },
    {
     "data": {
      "text/html": [
       "\n",
       "    <div>\n",
       "      <progress value='2000' class='' max='2000' style='width:300px; height:20px; vertical-align: middle;'></progress>\n",
       "      100.00% [2000/2000 00:01&lt;00:00]\n",
       "    </div>\n",
       "    "
      ],
      "text/plain": [
       "<IPython.core.display.HTML object>"
      ]
     },
     "metadata": {},
     "output_type": "display_data"
    },
    {
     "name": "stdout",
     "output_type": "stream",
     "text": [
      "Done computing zscores in 2.431121826171875 seconds\n",
      "Computing zscores for NM_0_0_estimate.pkl\n",
      "SHASHo\n",
      "slope_mu <class 'pcntoolkit.model.hbr.FixedParameterization'>\n",
      "intercept_mu <class 'pcntoolkit.model.hbr.NonCentralRandomFixedParameterization'>\n",
      "mu <class 'pcntoolkit.model.hbr.LinearParameterization'>\n",
      "slope_sigma <class 'pcntoolkit.model.hbr.FixedParameterization'>\n",
      "intercept_sigma <class 'pcntoolkit.model.hbr.FixedParameterization'>\n",
      "sigma <class 'pcntoolkit.model.hbr.LinearParameterization'>\n",
      "epsilon <class 'pcntoolkit.model.hbr.FixedParameterization'>\n",
      "delta <class 'pcntoolkit.model.hbr.FixedParameterization'>\n"
     ]
    },
    {
     "name": "stderr",
     "output_type": "stream",
     "text": [
      "Sampling: [y_like]\n"
     ]
    },
    {
     "data": {
      "text/html": [
       "\n",
       "<style>\n",
       "    /* Turns off some styling */\n",
       "    progress {\n",
       "        /* gets rid of default border in Firefox and Opera. */\n",
       "        border: none;\n",
       "        /* Needs to be in here for Safari polyfill so background images work as expected. */\n",
       "        background-size: auto;\n",
       "    }\n",
       "    progress:not([value]), progress:not([value])::-webkit-progress-bar {\n",
       "        background: repeating-linear-gradient(45deg, #7e7e7e, #7e7e7e 10px, #5c5c5c 10px, #5c5c5c 20px);\n",
       "    }\n",
       "    .progress-bar-interrupted, .progress-bar-interrupted::-webkit-progress-bar {\n",
       "        background: #F44336;\n",
       "    }\n",
       "</style>\n"
      ],
      "text/plain": [
       "<IPython.core.display.HTML object>"
      ]
     },
     "metadata": {},
     "output_type": "display_data"
    },
    {
     "data": {
      "text/html": [
       "\n",
       "    <div>\n",
       "      <progress value='2000' class='' max='2000' style='width:300px; height:20px; vertical-align: middle;'></progress>\n",
       "      100.00% [2000/2000 00:02&lt;00:00]\n",
       "    </div>\n",
       "    "
      ],
      "text/plain": [
       "<IPython.core.display.HTML object>"
      ]
     },
     "metadata": {},
     "output_type": "display_data"
    },
    {
     "name": "stdout",
     "output_type": "stream",
     "text": [
      "Done computing zscores in 3.6392316818237305 seconds\n",
      "Computing zscores for NM_0_0_estimate.pkl\n",
      "SHASHb\n",
      "slope_mu <class 'pcntoolkit.model.hbr.FixedParameterization'>\n",
      "intercept_mu <class 'pcntoolkit.model.hbr.NonCentralRandomFixedParameterization'>\n",
      "mu <class 'pcntoolkit.model.hbr.LinearParameterization'>\n",
      "slope_sigma <class 'pcntoolkit.model.hbr.FixedParameterization'>\n",
      "intercept_sigma <class 'pcntoolkit.model.hbr.FixedParameterization'>\n",
      "sigma <class 'pcntoolkit.model.hbr.LinearParameterization'>\n",
      "epsilon <class 'pcntoolkit.model.hbr.FixedParameterization'>\n",
      "delta <class 'pcntoolkit.model.hbr.FixedParameterization'>\n"
     ]
    },
    {
     "name": "stderr",
     "output_type": "stream",
     "text": [
      "Sampling: [y_like]\n"
     ]
    },
    {
     "data": {
      "text/html": [
       "\n",
       "<style>\n",
       "    /* Turns off some styling */\n",
       "    progress {\n",
       "        /* gets rid of default border in Firefox and Opera. */\n",
       "        border: none;\n",
       "        /* Needs to be in here for Safari polyfill so background images work as expected. */\n",
       "        background-size: auto;\n",
       "    }\n",
       "    progress:not([value]), progress:not([value])::-webkit-progress-bar {\n",
       "        background: repeating-linear-gradient(45deg, #7e7e7e, #7e7e7e 10px, #5c5c5c 10px, #5c5c5c 20px);\n",
       "    }\n",
       "    .progress-bar-interrupted, .progress-bar-interrupted::-webkit-progress-bar {\n",
       "        background: #F44336;\n",
       "    }\n",
       "</style>\n"
      ],
      "text/plain": [
       "<IPython.core.display.HTML object>"
      ]
     },
     "metadata": {},
     "output_type": "display_data"
    },
    {
     "data": {
      "text/html": [
       "\n",
       "    <div>\n",
       "      <progress value='2000' class='' max='2000' style='width:300px; height:20px; vertical-align: middle;'></progress>\n",
       "      100.00% [2000/2000 00:02&lt;00:00]\n",
       "    </div>\n",
       "    "
      ],
      "text/plain": [
       "<IPython.core.display.HTML object>"
      ]
     },
     "metadata": {},
     "output_type": "display_data"
    },
    {
     "name": "stdout",
     "output_type": "stream",
     "text": [
      "Done computing zscores in 4.700395107269287 seconds\n",
      "Computing zscores for NM_0_0_estimate.pkl\n",
      "SHASHb\n",
      "slope_mu <class 'pcntoolkit.model.hbr.FixedParameterization'>\n",
      "intercept_mu <class 'pcntoolkit.model.hbr.NonCentralRandomFixedParameterization'>\n",
      "mu <class 'pcntoolkit.model.hbr.LinearParameterization'>\n",
      "slope_sigma <class 'pcntoolkit.model.hbr.FixedParameterization'>\n",
      "intercept_sigma <class 'pcntoolkit.model.hbr.FixedParameterization'>\n",
      "sigma <class 'pcntoolkit.model.hbr.LinearParameterization'>\n",
      "slope_epsilon <class 'pcntoolkit.model.hbr.FixedParameterization'>\n",
      "intercept_epsilon <class 'pcntoolkit.model.hbr.FixedParameterization'>\n",
      "epsilon <class 'pcntoolkit.model.hbr.LinearParameterization'>\n",
      "slope_delta <class 'pcntoolkit.model.hbr.FixedParameterization'>\n",
      "intercept_delta <class 'pcntoolkit.model.hbr.FixedParameterization'>\n",
      "delta <class 'pcntoolkit.model.hbr.LinearParameterization'>\n"
     ]
    },
    {
     "name": "stderr",
     "output_type": "stream",
     "text": [
      "Sampling: [y_like]\n"
     ]
    },
    {
     "data": {
      "text/html": [
       "\n",
       "<style>\n",
       "    /* Turns off some styling */\n",
       "    progress {\n",
       "        /* gets rid of default border in Firefox and Opera. */\n",
       "        border: none;\n",
       "        /* Needs to be in here for Safari polyfill so background images work as expected. */\n",
       "        background-size: auto;\n",
       "    }\n",
       "    progress:not([value]), progress:not([value])::-webkit-progress-bar {\n",
       "        background: repeating-linear-gradient(45deg, #7e7e7e, #7e7e7e 10px, #5c5c5c 10px, #5c5c5c 20px);\n",
       "    }\n",
       "    .progress-bar-interrupted, .progress-bar-interrupted::-webkit-progress-bar {\n",
       "        background: #F44336;\n",
       "    }\n",
       "</style>\n"
      ],
      "text/plain": [
       "<IPython.core.display.HTML object>"
      ]
     },
     "metadata": {},
     "output_type": "display_data"
    },
    {
     "data": {
      "text/html": [
       "\n",
       "    <div>\n",
       "      <progress value='2000' class='' max='2000' style='width:300px; height:20px; vertical-align: middle;'></progress>\n",
       "      100.00% [2000/2000 00:10&lt;00:00]\n",
       "    </div>\n",
       "    "
      ],
      "text/plain": [
       "<IPython.core.display.HTML object>"
      ]
     },
     "metadata": {},
     "output_type": "display_data"
    },
    {
     "name": "stdout",
     "output_type": "stream",
     "text": [
      "Done computing zscores in 37.402716398239136 seconds\n"
     ]
    },
    {
     "name": "stderr",
     "output_type": "stream",
     "text": [
      "Sampling: [y_like]\n"
     ]
    },
    {
     "name": "stdout",
     "output_type": "stream",
     "text": [
      "Computing zscores for NM_0_0_estimate.pkl\n",
      "Normal\n",
      "slope_mu <class 'pcntoolkit.model.hbr.FixedParameterization'>\n",
      "intercept_mu <class 'pcntoolkit.model.hbr.NonCentralRandomFixedParameterization'>\n",
      "mu <class 'pcntoolkit.model.hbr.LinearParameterization'>\n",
      "slope_sigma <class 'pcntoolkit.model.hbr.FixedParameterization'>\n",
      "intercept_sigma <class 'pcntoolkit.model.hbr.FixedParameterization'>\n",
      "sigma <class 'pcntoolkit.model.hbr.LinearParameterization'>\n"
     ]
    },
    {
     "data": {
      "text/html": [
       "\n",
       "<style>\n",
       "    /* Turns off some styling */\n",
       "    progress {\n",
       "        /* gets rid of default border in Firefox and Opera. */\n",
       "        border: none;\n",
       "        /* Needs to be in here for Safari polyfill so background images work as expected. */\n",
       "        background-size: auto;\n",
       "    }\n",
       "    progress:not([value]), progress:not([value])::-webkit-progress-bar {\n",
       "        background: repeating-linear-gradient(45deg, #7e7e7e, #7e7e7e 10px, #5c5c5c 10px, #5c5c5c 20px);\n",
       "    }\n",
       "    .progress-bar-interrupted, .progress-bar-interrupted::-webkit-progress-bar {\n",
       "        background: #F44336;\n",
       "    }\n",
       "</style>\n"
      ],
      "text/plain": [
       "<IPython.core.display.HTML object>"
      ]
     },
     "metadata": {},
     "output_type": "display_data"
    },
    {
     "data": {
      "text/html": [
       "\n",
       "    <div>\n",
       "      <progress value='2000' class='' max='2000' style='width:300px; height:20px; vertical-align: middle;'></progress>\n",
       "      100.00% [2000/2000 00:01&lt;00:00]\n",
       "    </div>\n",
       "    "
      ],
      "text/plain": [
       "<IPython.core.display.HTML object>"
      ]
     },
     "metadata": {},
     "output_type": "display_data"
    },
    {
     "name": "stdout",
     "output_type": "stream",
     "text": [
      "Done computing zscores in 2.1274573802948 seconds\n",
      "Computing zscores for NM_0_0_estimate.pkl\n",
      "SHASHo\n",
      "slope_mu <class 'pcntoolkit.model.hbr.FixedParameterization'>\n",
      "intercept_mu <class 'pcntoolkit.model.hbr.NonCentralRandomFixedParameterization'>\n",
      "mu <class 'pcntoolkit.model.hbr.LinearParameterization'>\n",
      "slope_sigma <class 'pcntoolkit.model.hbr.FixedParameterization'>\n",
      "intercept_sigma <class 'pcntoolkit.model.hbr.FixedParameterization'>\n",
      "sigma <class 'pcntoolkit.model.hbr.LinearParameterization'>\n",
      "epsilon <class 'pcntoolkit.model.hbr.FixedParameterization'>\n",
      "delta <class 'pcntoolkit.model.hbr.FixedParameterization'>\n"
     ]
    },
    {
     "name": "stderr",
     "output_type": "stream",
     "text": [
      "Sampling: [y_like]\n"
     ]
    },
    {
     "data": {
      "text/html": [
       "\n",
       "<style>\n",
       "    /* Turns off some styling */\n",
       "    progress {\n",
       "        /* gets rid of default border in Firefox and Opera. */\n",
       "        border: none;\n",
       "        /* Needs to be in here for Safari polyfill so background images work as expected. */\n",
       "        background-size: auto;\n",
       "    }\n",
       "    progress:not([value]), progress:not([value])::-webkit-progress-bar {\n",
       "        background: repeating-linear-gradient(45deg, #7e7e7e, #7e7e7e 10px, #5c5c5c 10px, #5c5c5c 20px);\n",
       "    }\n",
       "    .progress-bar-interrupted, .progress-bar-interrupted::-webkit-progress-bar {\n",
       "        background: #F44336;\n",
       "    }\n",
       "</style>\n"
      ],
      "text/plain": [
       "<IPython.core.display.HTML object>"
      ]
     },
     "metadata": {},
     "output_type": "display_data"
    },
    {
     "data": {
      "text/html": [
       "\n",
       "    <div>\n",
       "      <progress value='2000' class='' max='2000' style='width:300px; height:20px; vertical-align: middle;'></progress>\n",
       "      100.00% [2000/2000 00:02&lt;00:00]\n",
       "    </div>\n",
       "    "
      ],
      "text/plain": [
       "<IPython.core.display.HTML object>"
      ]
     },
     "metadata": {},
     "output_type": "display_data"
    },
    {
     "name": "stdout",
     "output_type": "stream",
     "text": [
      "Done computing zscores in 3.7112538814544678 seconds\n",
      "Computing zscores for NM_0_0_estimate.pkl\n",
      "SHASHb\n",
      "slope_mu <class 'pcntoolkit.model.hbr.FixedParameterization'>\n",
      "intercept_mu <class 'pcntoolkit.model.hbr.NonCentralRandomFixedParameterization'>\n",
      "mu <class 'pcntoolkit.model.hbr.LinearParameterization'>\n",
      "slope_sigma <class 'pcntoolkit.model.hbr.FixedParameterization'>\n",
      "intercept_sigma <class 'pcntoolkit.model.hbr.FixedParameterization'>\n",
      "sigma <class 'pcntoolkit.model.hbr.LinearParameterization'>\n",
      "epsilon <class 'pcntoolkit.model.hbr.FixedParameterization'>\n",
      "delta <class 'pcntoolkit.model.hbr.FixedParameterization'>\n"
     ]
    },
    {
     "name": "stderr",
     "output_type": "stream",
     "text": [
      "Sampling: [y_like]\n"
     ]
    },
    {
     "data": {
      "text/html": [
       "\n",
       "<style>\n",
       "    /* Turns off some styling */\n",
       "    progress {\n",
       "        /* gets rid of default border in Firefox and Opera. */\n",
       "        border: none;\n",
       "        /* Needs to be in here for Safari polyfill so background images work as expected. */\n",
       "        background-size: auto;\n",
       "    }\n",
       "    progress:not([value]), progress:not([value])::-webkit-progress-bar {\n",
       "        background: repeating-linear-gradient(45deg, #7e7e7e, #7e7e7e 10px, #5c5c5c 10px, #5c5c5c 20px);\n",
       "    }\n",
       "    .progress-bar-interrupted, .progress-bar-interrupted::-webkit-progress-bar {\n",
       "        background: #F44336;\n",
       "    }\n",
       "</style>\n"
      ],
      "text/plain": [
       "<IPython.core.display.HTML object>"
      ]
     },
     "metadata": {},
     "output_type": "display_data"
    },
    {
     "data": {
      "text/html": [
       "\n",
       "    <div>\n",
       "      <progress value='2000' class='' max='2000' style='width:300px; height:20px; vertical-align: middle;'></progress>\n",
       "      100.00% [2000/2000 00:02&lt;00:00]\n",
       "    </div>\n",
       "    "
      ],
      "text/plain": [
       "<IPython.core.display.HTML object>"
      ]
     },
     "metadata": {},
     "output_type": "display_data"
    },
    {
     "name": "stdout",
     "output_type": "stream",
     "text": [
      "Done computing zscores in 4.471856117248535 seconds\n",
      "Computing zscores for NM_0_0_estimate.pkl\n",
      "SHASHb\n",
      "slope_mu <class 'pcntoolkit.model.hbr.FixedParameterization'>\n",
      "intercept_mu <class 'pcntoolkit.model.hbr.NonCentralRandomFixedParameterization'>\n",
      "mu <class 'pcntoolkit.model.hbr.LinearParameterization'>\n",
      "slope_sigma <class 'pcntoolkit.model.hbr.FixedParameterization'>\n",
      "intercept_sigma <class 'pcntoolkit.model.hbr.FixedParameterization'>\n",
      "sigma <class 'pcntoolkit.model.hbr.LinearParameterization'>\n",
      "slope_epsilon <class 'pcntoolkit.model.hbr.FixedParameterization'>\n",
      "intercept_epsilon <class 'pcntoolkit.model.hbr.FixedParameterization'>\n",
      "epsilon <class 'pcntoolkit.model.hbr.LinearParameterization'>\n",
      "slope_delta <class 'pcntoolkit.model.hbr.FixedParameterization'>\n",
      "intercept_delta <class 'pcntoolkit.model.hbr.FixedParameterization'>\n",
      "delta <class 'pcntoolkit.model.hbr.LinearParameterization'>\n"
     ]
    },
    {
     "name": "stderr",
     "output_type": "stream",
     "text": [
      "Sampling: [y_like]\n"
     ]
    },
    {
     "data": {
      "text/html": [
       "\n",
       "<style>\n",
       "    /* Turns off some styling */\n",
       "    progress {\n",
       "        /* gets rid of default border in Firefox and Opera. */\n",
       "        border: none;\n",
       "        /* Needs to be in here for Safari polyfill so background images work as expected. */\n",
       "        background-size: auto;\n",
       "    }\n",
       "    progress:not([value]), progress:not([value])::-webkit-progress-bar {\n",
       "        background: repeating-linear-gradient(45deg, #7e7e7e, #7e7e7e 10px, #5c5c5c 10px, #5c5c5c 20px);\n",
       "    }\n",
       "    .progress-bar-interrupted, .progress-bar-interrupted::-webkit-progress-bar {\n",
       "        background: #F44336;\n",
       "    }\n",
       "</style>\n"
      ],
      "text/plain": [
       "<IPython.core.display.HTML object>"
      ]
     },
     "metadata": {},
     "output_type": "display_data"
    },
    {
     "data": {
      "text/html": [
       "\n",
       "    <div>\n",
       "      <progress value='2000' class='' max='2000' style='width:300px; height:20px; vertical-align: middle;'></progress>\n",
       "      100.00% [2000/2000 00:10&lt;00:00]\n",
       "    </div>\n",
       "    "
      ],
      "text/plain": [
       "<IPython.core.display.HTML object>"
      ]
     },
     "metadata": {},
     "output_type": "display_data"
    },
    {
     "name": "stdout",
     "output_type": "stream",
     "text": [
      "Done computing zscores in 38.62492227554321 seconds\n"
     ]
    },
    {
     "name": "stderr",
     "output_type": "stream",
     "text": [
      "Sampling: [y_like]\n"
     ]
    },
    {
     "name": "stdout",
     "output_type": "stream",
     "text": [
      "Computing zscores for NM_0_0_estimate.pkl\n",
      "Normal\n",
      "slope_mu <class 'pcntoolkit.model.hbr.FixedParameterization'>\n",
      "intercept_mu <class 'pcntoolkit.model.hbr.NonCentralRandomFixedParameterization'>\n",
      "mu <class 'pcntoolkit.model.hbr.LinearParameterization'>\n",
      "slope_sigma <class 'pcntoolkit.model.hbr.FixedParameterization'>\n",
      "intercept_sigma <class 'pcntoolkit.model.hbr.FixedParameterization'>\n",
      "sigma <class 'pcntoolkit.model.hbr.LinearParameterization'>\n"
     ]
    },
    {
     "data": {
      "text/html": [
       "\n",
       "<style>\n",
       "    /* Turns off some styling */\n",
       "    progress {\n",
       "        /* gets rid of default border in Firefox and Opera. */\n",
       "        border: none;\n",
       "        /* Needs to be in here for Safari polyfill so background images work as expected. */\n",
       "        background-size: auto;\n",
       "    }\n",
       "    progress:not([value]), progress:not([value])::-webkit-progress-bar {\n",
       "        background: repeating-linear-gradient(45deg, #7e7e7e, #7e7e7e 10px, #5c5c5c 10px, #5c5c5c 20px);\n",
       "    }\n",
       "    .progress-bar-interrupted, .progress-bar-interrupted::-webkit-progress-bar {\n",
       "        background: #F44336;\n",
       "    }\n",
       "</style>\n"
      ],
      "text/plain": [
       "<IPython.core.display.HTML object>"
      ]
     },
     "metadata": {},
     "output_type": "display_data"
    },
    {
     "data": {
      "text/html": [
       "\n",
       "    <div>\n",
       "      <progress value='2000' class='' max='2000' style='width:300px; height:20px; vertical-align: middle;'></progress>\n",
       "      100.00% [2000/2000 00:01&lt;00:00]\n",
       "    </div>\n",
       "    "
      ],
      "text/plain": [
       "<IPython.core.display.HTML object>"
      ]
     },
     "metadata": {},
     "output_type": "display_data"
    },
    {
     "name": "stdout",
     "output_type": "stream",
     "text": [
      "Done computing zscores in 2.1023640632629395 seconds\n",
      "Computing zscores for NM_0_0_estimate.pkl\n",
      "SHASHo\n",
      "slope_mu <class 'pcntoolkit.model.hbr.FixedParameterization'>\n",
      "intercept_mu <class 'pcntoolkit.model.hbr.NonCentralRandomFixedParameterization'>\n",
      "mu <class 'pcntoolkit.model.hbr.LinearParameterization'>\n",
      "slope_sigma <class 'pcntoolkit.model.hbr.FixedParameterization'>\n",
      "intercept_sigma <class 'pcntoolkit.model.hbr.FixedParameterization'>\n",
      "sigma <class 'pcntoolkit.model.hbr.LinearParameterization'>\n",
      "epsilon <class 'pcntoolkit.model.hbr.FixedParameterization'>\n",
      "delta <class 'pcntoolkit.model.hbr.FixedParameterization'>\n"
     ]
    },
    {
     "name": "stderr",
     "output_type": "stream",
     "text": [
      "Sampling: [y_like]\n"
     ]
    },
    {
     "data": {
      "text/html": [
       "\n",
       "<style>\n",
       "    /* Turns off some styling */\n",
       "    progress {\n",
       "        /* gets rid of default border in Firefox and Opera. */\n",
       "        border: none;\n",
       "        /* Needs to be in here for Safari polyfill so background images work as expected. */\n",
       "        background-size: auto;\n",
       "    }\n",
       "    progress:not([value]), progress:not([value])::-webkit-progress-bar {\n",
       "        background: repeating-linear-gradient(45deg, #7e7e7e, #7e7e7e 10px, #5c5c5c 10px, #5c5c5c 20px);\n",
       "    }\n",
       "    .progress-bar-interrupted, .progress-bar-interrupted::-webkit-progress-bar {\n",
       "        background: #F44336;\n",
       "    }\n",
       "</style>\n"
      ],
      "text/plain": [
       "<IPython.core.display.HTML object>"
      ]
     },
     "metadata": {},
     "output_type": "display_data"
    },
    {
     "data": {
      "text/html": [
       "\n",
       "    <div>\n",
       "      <progress value='2000' class='' max='2000' style='width:300px; height:20px; vertical-align: middle;'></progress>\n",
       "      100.00% [2000/2000 00:02&lt;00:00]\n",
       "    </div>\n",
       "    "
      ],
      "text/plain": [
       "<IPython.core.display.HTML object>"
      ]
     },
     "metadata": {},
     "output_type": "display_data"
    },
    {
     "name": "stdout",
     "output_type": "stream",
     "text": [
      "Done computing zscores in 3.8501222133636475 seconds\n",
      "Computing zscores for NM_0_0_estimate.pkl\n",
      "SHASHb\n",
      "slope_mu <class 'pcntoolkit.model.hbr.FixedParameterization'>\n",
      "intercept_mu <class 'pcntoolkit.model.hbr.NonCentralRandomFixedParameterization'>\n",
      "mu <class 'pcntoolkit.model.hbr.LinearParameterization'>\n",
      "slope_sigma <class 'pcntoolkit.model.hbr.FixedParameterization'>\n",
      "intercept_sigma <class 'pcntoolkit.model.hbr.FixedParameterization'>\n",
      "sigma <class 'pcntoolkit.model.hbr.LinearParameterization'>\n",
      "epsilon <class 'pcntoolkit.model.hbr.FixedParameterization'>\n",
      "delta <class 'pcntoolkit.model.hbr.FixedParameterization'>\n"
     ]
    },
    {
     "name": "stderr",
     "output_type": "stream",
     "text": [
      "Sampling: [y_like]\n"
     ]
    },
    {
     "data": {
      "text/html": [
       "\n",
       "<style>\n",
       "    /* Turns off some styling */\n",
       "    progress {\n",
       "        /* gets rid of default border in Firefox and Opera. */\n",
       "        border: none;\n",
       "        /* Needs to be in here for Safari polyfill so background images work as expected. */\n",
       "        background-size: auto;\n",
       "    }\n",
       "    progress:not([value]), progress:not([value])::-webkit-progress-bar {\n",
       "        background: repeating-linear-gradient(45deg, #7e7e7e, #7e7e7e 10px, #5c5c5c 10px, #5c5c5c 20px);\n",
       "    }\n",
       "    .progress-bar-interrupted, .progress-bar-interrupted::-webkit-progress-bar {\n",
       "        background: #F44336;\n",
       "    }\n",
       "</style>\n"
      ],
      "text/plain": [
       "<IPython.core.display.HTML object>"
      ]
     },
     "metadata": {},
     "output_type": "display_data"
    },
    {
     "data": {
      "text/html": [
       "\n",
       "    <div>\n",
       "      <progress value='2000' class='' max='2000' style='width:300px; height:20px; vertical-align: middle;'></progress>\n",
       "      100.00% [2000/2000 00:02&lt;00:00]\n",
       "    </div>\n",
       "    "
      ],
      "text/plain": [
       "<IPython.core.display.HTML object>"
      ]
     },
     "metadata": {},
     "output_type": "display_data"
    },
    {
     "name": "stdout",
     "output_type": "stream",
     "text": [
      "Done computing zscores in 4.316140413284302 seconds\n",
      "Computing zscores for NM_0_0_estimate.pkl\n",
      "SHASHb\n",
      "slope_mu <class 'pcntoolkit.model.hbr.FixedParameterization'>\n",
      "intercept_mu <class 'pcntoolkit.model.hbr.NonCentralRandomFixedParameterization'>\n",
      "mu <class 'pcntoolkit.model.hbr.LinearParameterization'>\n",
      "slope_sigma <class 'pcntoolkit.model.hbr.FixedParameterization'>\n",
      "intercept_sigma <class 'pcntoolkit.model.hbr.FixedParameterization'>\n",
      "sigma <class 'pcntoolkit.model.hbr.LinearParameterization'>\n",
      "slope_epsilon <class 'pcntoolkit.model.hbr.FixedParameterization'>\n",
      "intercept_epsilon <class 'pcntoolkit.model.hbr.FixedParameterization'>\n",
      "epsilon <class 'pcntoolkit.model.hbr.LinearParameterization'>\n",
      "slope_delta <class 'pcntoolkit.model.hbr.FixedParameterization'>\n",
      "intercept_delta <class 'pcntoolkit.model.hbr.FixedParameterization'>\n",
      "delta <class 'pcntoolkit.model.hbr.LinearParameterization'>\n"
     ]
    },
    {
     "name": "stderr",
     "output_type": "stream",
     "text": [
      "Sampling: [y_like]\n"
     ]
    },
    {
     "data": {
      "text/html": [
       "\n",
       "<style>\n",
       "    /* Turns off some styling */\n",
       "    progress {\n",
       "        /* gets rid of default border in Firefox and Opera. */\n",
       "        border: none;\n",
       "        /* Needs to be in here for Safari polyfill so background images work as expected. */\n",
       "        background-size: auto;\n",
       "    }\n",
       "    progress:not([value]), progress:not([value])::-webkit-progress-bar {\n",
       "        background: repeating-linear-gradient(45deg, #7e7e7e, #7e7e7e 10px, #5c5c5c 10px, #5c5c5c 20px);\n",
       "    }\n",
       "    .progress-bar-interrupted, .progress-bar-interrupted::-webkit-progress-bar {\n",
       "        background: #F44336;\n",
       "    }\n",
       "</style>\n"
      ],
      "text/plain": [
       "<IPython.core.display.HTML object>"
      ]
     },
     "metadata": {},
     "output_type": "display_data"
    },
    {
     "data": {
      "text/html": [
       "\n",
       "    <div>\n",
       "      <progress value='2000' class='' max='2000' style='width:300px; height:20px; vertical-align: middle;'></progress>\n",
       "      100.00% [2000/2000 00:10&lt;00:00]\n",
       "    </div>\n",
       "    "
      ],
      "text/plain": [
       "<IPython.core.display.HTML object>"
      ]
     },
     "metadata": {},
     "output_type": "display_data"
    },
    {
     "name": "stdout",
     "output_type": "stream",
     "text": [
      "Done computing zscores in 38.56117486953735 seconds\n"
     ]
    },
    {
     "name": "stderr",
     "output_type": "stream",
     "text": [
      "Sampling: [y_like]\n"
     ]
    },
    {
     "name": "stdout",
     "output_type": "stream",
     "text": [
      "Computing zscores for NM_0_0_estimate.pkl\n",
      "Normal\n",
      "slope_mu <class 'pcntoolkit.model.hbr.FixedParameterization'>\n",
      "intercept_mu <class 'pcntoolkit.model.hbr.NonCentralRandomFixedParameterization'>\n",
      "mu <class 'pcntoolkit.model.hbr.LinearParameterization'>\n",
      "slope_sigma <class 'pcntoolkit.model.hbr.FixedParameterization'>\n",
      "intercept_sigma <class 'pcntoolkit.model.hbr.FixedParameterization'>\n",
      "sigma <class 'pcntoolkit.model.hbr.LinearParameterization'>\n"
     ]
    },
    {
     "data": {
      "text/html": [
       "\n",
       "<style>\n",
       "    /* Turns off some styling */\n",
       "    progress {\n",
       "        /* gets rid of default border in Firefox and Opera. */\n",
       "        border: none;\n",
       "        /* Needs to be in here for Safari polyfill so background images work as expected. */\n",
       "        background-size: auto;\n",
       "    }\n",
       "    progress:not([value]), progress:not([value])::-webkit-progress-bar {\n",
       "        background: repeating-linear-gradient(45deg, #7e7e7e, #7e7e7e 10px, #5c5c5c 10px, #5c5c5c 20px);\n",
       "    }\n",
       "    .progress-bar-interrupted, .progress-bar-interrupted::-webkit-progress-bar {\n",
       "        background: #F44336;\n",
       "    }\n",
       "</style>\n"
      ],
      "text/plain": [
       "<IPython.core.display.HTML object>"
      ]
     },
     "metadata": {},
     "output_type": "display_data"
    },
    {
     "data": {
      "text/html": [
       "\n",
       "    <div>\n",
       "      <progress value='2000' class='' max='2000' style='width:300px; height:20px; vertical-align: middle;'></progress>\n",
       "      100.00% [2000/2000 00:01&lt;00:00]\n",
       "    </div>\n",
       "    "
      ],
      "text/plain": [
       "<IPython.core.display.HTML object>"
      ]
     },
     "metadata": {},
     "output_type": "display_data"
    },
    {
     "name": "stdout",
     "output_type": "stream",
     "text": [
      "Done computing zscores in 2.192234516143799 seconds\n",
      "Computing zscores for NM_0_0_estimate.pkl\n",
      "SHASHo\n",
      "slope_mu <class 'pcntoolkit.model.hbr.FixedParameterization'>\n",
      "intercept_mu <class 'pcntoolkit.model.hbr.NonCentralRandomFixedParameterization'>\n",
      "mu <class 'pcntoolkit.model.hbr.LinearParameterization'>\n",
      "slope_sigma <class 'pcntoolkit.model.hbr.FixedParameterization'>\n",
      "intercept_sigma <class 'pcntoolkit.model.hbr.FixedParameterization'>\n",
      "sigma <class 'pcntoolkit.model.hbr.LinearParameterization'>\n",
      "epsilon <class 'pcntoolkit.model.hbr.FixedParameterization'>\n",
      "delta <class 'pcntoolkit.model.hbr.FixedParameterization'>\n"
     ]
    },
    {
     "name": "stderr",
     "output_type": "stream",
     "text": [
      "Sampling: [y_like]\n"
     ]
    },
    {
     "data": {
      "text/html": [
       "\n",
       "<style>\n",
       "    /* Turns off some styling */\n",
       "    progress {\n",
       "        /* gets rid of default border in Firefox and Opera. */\n",
       "        border: none;\n",
       "        /* Needs to be in here for Safari polyfill so background images work as expected. */\n",
       "        background-size: auto;\n",
       "    }\n",
       "    progress:not([value]), progress:not([value])::-webkit-progress-bar {\n",
       "        background: repeating-linear-gradient(45deg, #7e7e7e, #7e7e7e 10px, #5c5c5c 10px, #5c5c5c 20px);\n",
       "    }\n",
       "    .progress-bar-interrupted, .progress-bar-interrupted::-webkit-progress-bar {\n",
       "        background: #F44336;\n",
       "    }\n",
       "</style>\n"
      ],
      "text/plain": [
       "<IPython.core.display.HTML object>"
      ]
     },
     "metadata": {},
     "output_type": "display_data"
    },
    {
     "data": {
      "text/html": [
       "\n",
       "    <div>\n",
       "      <progress value='2000' class='' max='2000' style='width:300px; height:20px; vertical-align: middle;'></progress>\n",
       "      100.00% [2000/2000 00:02&lt;00:00]\n",
       "    </div>\n",
       "    "
      ],
      "text/plain": [
       "<IPython.core.display.HTML object>"
      ]
     },
     "metadata": {},
     "output_type": "display_data"
    },
    {
     "name": "stdout",
     "output_type": "stream",
     "text": [
      "Done computing zscores in 3.8458311557769775 seconds\n",
      "Computing zscores for NM_0_0_estimate.pkl\n",
      "SHASHb\n",
      "slope_mu <class 'pcntoolkit.model.hbr.FixedParameterization'>\n",
      "intercept_mu <class 'pcntoolkit.model.hbr.NonCentralRandomFixedParameterization'>\n",
      "mu <class 'pcntoolkit.model.hbr.LinearParameterization'>\n",
      "slope_sigma <class 'pcntoolkit.model.hbr.FixedParameterization'>\n",
      "intercept_sigma <class 'pcntoolkit.model.hbr.FixedParameterization'>\n",
      "sigma <class 'pcntoolkit.model.hbr.LinearParameterization'>\n",
      "epsilon <class 'pcntoolkit.model.hbr.FixedParameterization'>\n",
      "delta <class 'pcntoolkit.model.hbr.FixedParameterization'>\n"
     ]
    },
    {
     "name": "stderr",
     "output_type": "stream",
     "text": [
      "Sampling: [y_like]\n"
     ]
    },
    {
     "data": {
      "text/html": [
       "\n",
       "<style>\n",
       "    /* Turns off some styling */\n",
       "    progress {\n",
       "        /* gets rid of default border in Firefox and Opera. */\n",
       "        border: none;\n",
       "        /* Needs to be in here for Safari polyfill so background images work as expected. */\n",
       "        background-size: auto;\n",
       "    }\n",
       "    progress:not([value]), progress:not([value])::-webkit-progress-bar {\n",
       "        background: repeating-linear-gradient(45deg, #7e7e7e, #7e7e7e 10px, #5c5c5c 10px, #5c5c5c 20px);\n",
       "    }\n",
       "    .progress-bar-interrupted, .progress-bar-interrupted::-webkit-progress-bar {\n",
       "        background: #F44336;\n",
       "    }\n",
       "</style>\n"
      ],
      "text/plain": [
       "<IPython.core.display.HTML object>"
      ]
     },
     "metadata": {},
     "output_type": "display_data"
    },
    {
     "data": {
      "text/html": [
       "\n",
       "    <div>\n",
       "      <progress value='2000' class='' max='2000' style='width:300px; height:20px; vertical-align: middle;'></progress>\n",
       "      100.00% [2000/2000 00:02&lt;00:00]\n",
       "    </div>\n",
       "    "
      ],
      "text/plain": [
       "<IPython.core.display.HTML object>"
      ]
     },
     "metadata": {},
     "output_type": "display_data"
    },
    {
     "name": "stdout",
     "output_type": "stream",
     "text": [
      "Done computing zscores in 4.570505619049072 seconds\n",
      "Computing zscores for NM_0_0_estimate.pkl\n",
      "SHASHb\n",
      "slope_mu <class 'pcntoolkit.model.hbr.FixedParameterization'>\n",
      "intercept_mu <class 'pcntoolkit.model.hbr.NonCentralRandomFixedParameterization'>\n",
      "mu <class 'pcntoolkit.model.hbr.LinearParameterization'>\n",
      "slope_sigma <class 'pcntoolkit.model.hbr.FixedParameterization'>\n",
      "intercept_sigma <class 'pcntoolkit.model.hbr.FixedParameterization'>\n",
      "sigma <class 'pcntoolkit.model.hbr.LinearParameterization'>\n",
      "slope_epsilon <class 'pcntoolkit.model.hbr.FixedParameterization'>\n",
      "intercept_epsilon <class 'pcntoolkit.model.hbr.FixedParameterization'>\n",
      "epsilon <class 'pcntoolkit.model.hbr.LinearParameterization'>\n",
      "slope_delta <class 'pcntoolkit.model.hbr.FixedParameterization'>\n",
      "intercept_delta <class 'pcntoolkit.model.hbr.FixedParameterization'>\n",
      "delta <class 'pcntoolkit.model.hbr.LinearParameterization'>\n"
     ]
    },
    {
     "name": "stderr",
     "output_type": "stream",
     "text": [
      "Sampling: [y_like]\n"
     ]
    },
    {
     "data": {
      "text/html": [
       "\n",
       "<style>\n",
       "    /* Turns off some styling */\n",
       "    progress {\n",
       "        /* gets rid of default border in Firefox and Opera. */\n",
       "        border: none;\n",
       "        /* Needs to be in here for Safari polyfill so background images work as expected. */\n",
       "        background-size: auto;\n",
       "    }\n",
       "    progress:not([value]), progress:not([value])::-webkit-progress-bar {\n",
       "        background: repeating-linear-gradient(45deg, #7e7e7e, #7e7e7e 10px, #5c5c5c 10px, #5c5c5c 20px);\n",
       "    }\n",
       "    .progress-bar-interrupted, .progress-bar-interrupted::-webkit-progress-bar {\n",
       "        background: #F44336;\n",
       "    }\n",
       "</style>\n"
      ],
      "text/plain": [
       "<IPython.core.display.HTML object>"
      ]
     },
     "metadata": {},
     "output_type": "display_data"
    },
    {
     "data": {
      "text/html": [
       "\n",
       "    <div>\n",
       "      <progress value='2000' class='' max='2000' style='width:300px; height:20px; vertical-align: middle;'></progress>\n",
       "      100.00% [2000/2000 00:10&lt;00:00]\n",
       "    </div>\n",
       "    "
      ],
      "text/plain": [
       "<IPython.core.display.HTML object>"
      ]
     },
     "metadata": {},
     "output_type": "display_data"
    },
    {
     "name": "stdout",
     "output_type": "stream",
     "text": [
      "Done computing zscores in 37.846105337142944 seconds\n"
     ]
    },
    {
     "name": "stderr",
     "output_type": "stream",
     "text": [
      "Sampling: [y_like]\n"
     ]
    },
    {
     "name": "stdout",
     "output_type": "stream",
     "text": [
      "Computing zscores for NM_0_0_estimate.pkl\n",
      "Normal\n",
      "slope_mu <class 'pcntoolkit.model.hbr.FixedParameterization'>\n",
      "intercept_mu <class 'pcntoolkit.model.hbr.NonCentralRandomFixedParameterization'>\n",
      "mu <class 'pcntoolkit.model.hbr.LinearParameterization'>\n",
      "slope_sigma <class 'pcntoolkit.model.hbr.FixedParameterization'>\n",
      "intercept_sigma <class 'pcntoolkit.model.hbr.FixedParameterization'>\n",
      "sigma <class 'pcntoolkit.model.hbr.LinearParameterization'>\n"
     ]
    },
    {
     "data": {
      "text/html": [
       "\n",
       "<style>\n",
       "    /* Turns off some styling */\n",
       "    progress {\n",
       "        /* gets rid of default border in Firefox and Opera. */\n",
       "        border: none;\n",
       "        /* Needs to be in here for Safari polyfill so background images work as expected. */\n",
       "        background-size: auto;\n",
       "    }\n",
       "    progress:not([value]), progress:not([value])::-webkit-progress-bar {\n",
       "        background: repeating-linear-gradient(45deg, #7e7e7e, #7e7e7e 10px, #5c5c5c 10px, #5c5c5c 20px);\n",
       "    }\n",
       "    .progress-bar-interrupted, .progress-bar-interrupted::-webkit-progress-bar {\n",
       "        background: #F44336;\n",
       "    }\n",
       "</style>\n"
      ],
      "text/plain": [
       "<IPython.core.display.HTML object>"
      ]
     },
     "metadata": {},
     "output_type": "display_data"
    },
    {
     "data": {
      "text/html": [
       "\n",
       "    <div>\n",
       "      <progress value='2000' class='' max='2000' style='width:300px; height:20px; vertical-align: middle;'></progress>\n",
       "      100.00% [2000/2000 00:01&lt;00:00]\n",
       "    </div>\n",
       "    "
      ],
      "text/plain": [
       "<IPython.core.display.HTML object>"
      ]
     },
     "metadata": {},
     "output_type": "display_data"
    },
    {
     "name": "stdout",
     "output_type": "stream",
     "text": [
      "Done computing zscores in 2.091790199279785 seconds\n"
     ]
    },
    {
     "name": "stderr",
     "output_type": "stream",
     "text": [
      "Sampling: [y_like]\n"
     ]
    },
    {
     "name": "stdout",
     "output_type": "stream",
     "text": [
      "Computing zscores for NM_0_0_estimate.pkl\n",
      "SHASHo\n",
      "slope_mu <class 'pcntoolkit.model.hbr.FixedParameterization'>\n",
      "intercept_mu <class 'pcntoolkit.model.hbr.NonCentralRandomFixedParameterization'>\n",
      "mu <class 'pcntoolkit.model.hbr.LinearParameterization'>\n",
      "slope_sigma <class 'pcntoolkit.model.hbr.FixedParameterization'>\n",
      "intercept_sigma <class 'pcntoolkit.model.hbr.FixedParameterization'>\n",
      "sigma <class 'pcntoolkit.model.hbr.LinearParameterization'>\n",
      "epsilon <class 'pcntoolkit.model.hbr.FixedParameterization'>\n",
      "delta <class 'pcntoolkit.model.hbr.FixedParameterization'>\n"
     ]
    },
    {
     "data": {
      "text/html": [
       "\n",
       "<style>\n",
       "    /* Turns off some styling */\n",
       "    progress {\n",
       "        /* gets rid of default border in Firefox and Opera. */\n",
       "        border: none;\n",
       "        /* Needs to be in here for Safari polyfill so background images work as expected. */\n",
       "        background-size: auto;\n",
       "    }\n",
       "    progress:not([value]), progress:not([value])::-webkit-progress-bar {\n",
       "        background: repeating-linear-gradient(45deg, #7e7e7e, #7e7e7e 10px, #5c5c5c 10px, #5c5c5c 20px);\n",
       "    }\n",
       "    .progress-bar-interrupted, .progress-bar-interrupted::-webkit-progress-bar {\n",
       "        background: #F44336;\n",
       "    }\n",
       "</style>\n"
      ],
      "text/plain": [
       "<IPython.core.display.HTML object>"
      ]
     },
     "metadata": {},
     "output_type": "display_data"
    },
    {
     "data": {
      "text/html": [
       "\n",
       "    <div>\n",
       "      <progress value='2000' class='' max='2000' style='width:300px; height:20px; vertical-align: middle;'></progress>\n",
       "      100.00% [2000/2000 00:02&lt;00:00]\n",
       "    </div>\n",
       "    "
      ],
      "text/plain": [
       "<IPython.core.display.HTML object>"
      ]
     },
     "metadata": {},
     "output_type": "display_data"
    },
    {
     "name": "stdout",
     "output_type": "stream",
     "text": [
      "Done computing zscores in 3.6050117015838623 seconds\n"
     ]
    },
    {
     "name": "stderr",
     "output_type": "stream",
     "text": [
      "Sampling: [y_like]\n"
     ]
    },
    {
     "name": "stdout",
     "output_type": "stream",
     "text": [
      "Computing zscores for NM_0_0_estimate.pkl\n",
      "SHASHb\n",
      "slope_mu <class 'pcntoolkit.model.hbr.FixedParameterization'>\n",
      "intercept_mu <class 'pcntoolkit.model.hbr.NonCentralRandomFixedParameterization'>\n",
      "mu <class 'pcntoolkit.model.hbr.LinearParameterization'>\n",
      "slope_sigma <class 'pcntoolkit.model.hbr.FixedParameterization'>\n",
      "intercept_sigma <class 'pcntoolkit.model.hbr.FixedParameterization'>\n",
      "sigma <class 'pcntoolkit.model.hbr.LinearParameterization'>\n",
      "epsilon <class 'pcntoolkit.model.hbr.FixedParameterization'>\n",
      "delta <class 'pcntoolkit.model.hbr.FixedParameterization'>\n"
     ]
    },
    {
     "data": {
      "text/html": [
       "\n",
       "<style>\n",
       "    /* Turns off some styling */\n",
       "    progress {\n",
       "        /* gets rid of default border in Firefox and Opera. */\n",
       "        border: none;\n",
       "        /* Needs to be in here for Safari polyfill so background images work as expected. */\n",
       "        background-size: auto;\n",
       "    }\n",
       "    progress:not([value]), progress:not([value])::-webkit-progress-bar {\n",
       "        background: repeating-linear-gradient(45deg, #7e7e7e, #7e7e7e 10px, #5c5c5c 10px, #5c5c5c 20px);\n",
       "    }\n",
       "    .progress-bar-interrupted, .progress-bar-interrupted::-webkit-progress-bar {\n",
       "        background: #F44336;\n",
       "    }\n",
       "</style>\n"
      ],
      "text/plain": [
       "<IPython.core.display.HTML object>"
      ]
     },
     "metadata": {},
     "output_type": "display_data"
    },
    {
     "data": {
      "text/html": [
       "\n",
       "    <div>\n",
       "      <progress value='2000' class='' max='2000' style='width:300px; height:20px; vertical-align: middle;'></progress>\n",
       "      100.00% [2000/2000 00:02&lt;00:00]\n",
       "    </div>\n",
       "    "
      ],
      "text/plain": [
       "<IPython.core.display.HTML object>"
      ]
     },
     "metadata": {},
     "output_type": "display_data"
    },
    {
     "name": "stdout",
     "output_type": "stream",
     "text": [
      "Done computing zscores in 4.30362343788147 seconds\n",
      "Computing zscores for NM_0_0_estimate.pkl\n",
      "SHASHb\n",
      "slope_mu <class 'pcntoolkit.model.hbr.FixedParameterization'>\n",
      "intercept_mu <class 'pcntoolkit.model.hbr.NonCentralRandomFixedParameterization'>\n",
      "mu <class 'pcntoolkit.model.hbr.LinearParameterization'>\n",
      "slope_sigma <class 'pcntoolkit.model.hbr.FixedParameterization'>\n",
      "intercept_sigma <class 'pcntoolkit.model.hbr.FixedParameterization'>\n",
      "sigma <class 'pcntoolkit.model.hbr.LinearParameterization'>\n",
      "slope_epsilon <class 'pcntoolkit.model.hbr.FixedParameterization'>\n",
      "intercept_epsilon <class 'pcntoolkit.model.hbr.FixedParameterization'>\n",
      "epsilon <class 'pcntoolkit.model.hbr.LinearParameterization'>\n",
      "slope_delta <class 'pcntoolkit.model.hbr.FixedParameterization'>\n",
      "intercept_delta <class 'pcntoolkit.model.hbr.FixedParameterization'>\n",
      "delta <class 'pcntoolkit.model.hbr.LinearParameterization'>\n"
     ]
    },
    {
     "name": "stderr",
     "output_type": "stream",
     "text": [
      "Sampling: [y_like]\n"
     ]
    },
    {
     "data": {
      "text/html": [
       "\n",
       "<style>\n",
       "    /* Turns off some styling */\n",
       "    progress {\n",
       "        /* gets rid of default border in Firefox and Opera. */\n",
       "        border: none;\n",
       "        /* Needs to be in here for Safari polyfill so background images work as expected. */\n",
       "        background-size: auto;\n",
       "    }\n",
       "    progress:not([value]), progress:not([value])::-webkit-progress-bar {\n",
       "        background: repeating-linear-gradient(45deg, #7e7e7e, #7e7e7e 10px, #5c5c5c 10px, #5c5c5c 20px);\n",
       "    }\n",
       "    .progress-bar-interrupted, .progress-bar-interrupted::-webkit-progress-bar {\n",
       "        background: #F44336;\n",
       "    }\n",
       "</style>\n"
      ],
      "text/plain": [
       "<IPython.core.display.HTML object>"
      ]
     },
     "metadata": {},
     "output_type": "display_data"
    },
    {
     "data": {
      "text/html": [
       "\n",
       "    <div>\n",
       "      <progress value='2000' class='' max='2000' style='width:300px; height:20px; vertical-align: middle;'></progress>\n",
       "      100.00% [2000/2000 00:10&lt;00:00]\n",
       "    </div>\n",
       "    "
      ],
      "text/plain": [
       "<IPython.core.display.HTML object>"
      ]
     },
     "metadata": {},
     "output_type": "display_data"
    },
    {
     "name": "stdout",
     "output_type": "stream",
     "text": [
      "Done computing zscores in 40.017914056777954 seconds\n"
     ]
    },
    {
     "name": "stderr",
     "output_type": "stream",
     "text": [
      "Sampling: [y_like]\n"
     ]
    },
    {
     "name": "stdout",
     "output_type": "stream",
     "text": [
      "Computing zscores for NM_0_0_estimate.pkl\n",
      "Normal\n",
      "slope_mu <class 'pcntoolkit.model.hbr.FixedParameterization'>\n",
      "intercept_mu <class 'pcntoolkit.model.hbr.NonCentralRandomFixedParameterization'>\n",
      "mu <class 'pcntoolkit.model.hbr.LinearParameterization'>\n",
      "slope_sigma <class 'pcntoolkit.model.hbr.FixedParameterization'>\n",
      "intercept_sigma <class 'pcntoolkit.model.hbr.FixedParameterization'>\n",
      "sigma <class 'pcntoolkit.model.hbr.LinearParameterization'>\n"
     ]
    },
    {
     "data": {
      "text/html": [
       "\n",
       "<style>\n",
       "    /* Turns off some styling */\n",
       "    progress {\n",
       "        /* gets rid of default border in Firefox and Opera. */\n",
       "        border: none;\n",
       "        /* Needs to be in here for Safari polyfill so background images work as expected. */\n",
       "        background-size: auto;\n",
       "    }\n",
       "    progress:not([value]), progress:not([value])::-webkit-progress-bar {\n",
       "        background: repeating-linear-gradient(45deg, #7e7e7e, #7e7e7e 10px, #5c5c5c 10px, #5c5c5c 20px);\n",
       "    }\n",
       "    .progress-bar-interrupted, .progress-bar-interrupted::-webkit-progress-bar {\n",
       "        background: #F44336;\n",
       "    }\n",
       "</style>\n"
      ],
      "text/plain": [
       "<IPython.core.display.HTML object>"
      ]
     },
     "metadata": {},
     "output_type": "display_data"
    },
    {
     "data": {
      "text/html": [
       "\n",
       "    <div>\n",
       "      <progress value='2000' class='' max='2000' style='width:300px; height:20px; vertical-align: middle;'></progress>\n",
       "      100.00% [2000/2000 00:01&lt;00:00]\n",
       "    </div>\n",
       "    "
      ],
      "text/plain": [
       "<IPython.core.display.HTML object>"
      ]
     },
     "metadata": {},
     "output_type": "display_data"
    },
    {
     "name": "stdout",
     "output_type": "stream",
     "text": [
      "Done computing zscores in 2.010416030883789 seconds\n"
     ]
    },
    {
     "name": "stderr",
     "output_type": "stream",
     "text": [
      "Sampling: [y_like]\n"
     ]
    },
    {
     "name": "stdout",
     "output_type": "stream",
     "text": [
      "Computing zscores for NM_0_0_estimate.pkl\n",
      "SHASHo\n",
      "slope_mu <class 'pcntoolkit.model.hbr.FixedParameterization'>\n",
      "intercept_mu <class 'pcntoolkit.model.hbr.NonCentralRandomFixedParameterization'>\n",
      "mu <class 'pcntoolkit.model.hbr.LinearParameterization'>\n",
      "slope_sigma <class 'pcntoolkit.model.hbr.FixedParameterization'>\n",
      "intercept_sigma <class 'pcntoolkit.model.hbr.FixedParameterization'>\n",
      "sigma <class 'pcntoolkit.model.hbr.LinearParameterization'>\n",
      "epsilon <class 'pcntoolkit.model.hbr.FixedParameterization'>\n",
      "delta <class 'pcntoolkit.model.hbr.FixedParameterization'>\n"
     ]
    },
    {
     "data": {
      "text/html": [
       "\n",
       "<style>\n",
       "    /* Turns off some styling */\n",
       "    progress {\n",
       "        /* gets rid of default border in Firefox and Opera. */\n",
       "        border: none;\n",
       "        /* Needs to be in here for Safari polyfill so background images work as expected. */\n",
       "        background-size: auto;\n",
       "    }\n",
       "    progress:not([value]), progress:not([value])::-webkit-progress-bar {\n",
       "        background: repeating-linear-gradient(45deg, #7e7e7e, #7e7e7e 10px, #5c5c5c 10px, #5c5c5c 20px);\n",
       "    }\n",
       "    .progress-bar-interrupted, .progress-bar-interrupted::-webkit-progress-bar {\n",
       "        background: #F44336;\n",
       "    }\n",
       "</style>\n"
      ],
      "text/plain": [
       "<IPython.core.display.HTML object>"
      ]
     },
     "metadata": {},
     "output_type": "display_data"
    },
    {
     "data": {
      "text/html": [
       "\n",
       "    <div>\n",
       "      <progress value='2000' class='' max='2000' style='width:300px; height:20px; vertical-align: middle;'></progress>\n",
       "      100.00% [2000/2000 00:02&lt;00:00]\n",
       "    </div>\n",
       "    "
      ],
      "text/plain": [
       "<IPython.core.display.HTML object>"
      ]
     },
     "metadata": {},
     "output_type": "display_data"
    },
    {
     "name": "stdout",
     "output_type": "stream",
     "text": [
      "Done computing zscores in 3.596844434738159 seconds\n"
     ]
    },
    {
     "name": "stderr",
     "output_type": "stream",
     "text": [
      "Sampling: [y_like]\n"
     ]
    },
    {
     "name": "stdout",
     "output_type": "stream",
     "text": [
      "Computing zscores for NM_0_0_estimate.pkl\n",
      "SHASHb\n",
      "slope_mu <class 'pcntoolkit.model.hbr.FixedParameterization'>\n",
      "intercept_mu <class 'pcntoolkit.model.hbr.NonCentralRandomFixedParameterization'>\n",
      "mu <class 'pcntoolkit.model.hbr.LinearParameterization'>\n",
      "slope_sigma <class 'pcntoolkit.model.hbr.FixedParameterization'>\n",
      "intercept_sigma <class 'pcntoolkit.model.hbr.FixedParameterization'>\n",
      "sigma <class 'pcntoolkit.model.hbr.LinearParameterization'>\n",
      "epsilon <class 'pcntoolkit.model.hbr.FixedParameterization'>\n",
      "delta <class 'pcntoolkit.model.hbr.FixedParameterization'>\n"
     ]
    },
    {
     "data": {
      "text/html": [
       "\n",
       "<style>\n",
       "    /* Turns off some styling */\n",
       "    progress {\n",
       "        /* gets rid of default border in Firefox and Opera. */\n",
       "        border: none;\n",
       "        /* Needs to be in here for Safari polyfill so background images work as expected. */\n",
       "        background-size: auto;\n",
       "    }\n",
       "    progress:not([value]), progress:not([value])::-webkit-progress-bar {\n",
       "        background: repeating-linear-gradient(45deg, #7e7e7e, #7e7e7e 10px, #5c5c5c 10px, #5c5c5c 20px);\n",
       "    }\n",
       "    .progress-bar-interrupted, .progress-bar-interrupted::-webkit-progress-bar {\n",
       "        background: #F44336;\n",
       "    }\n",
       "</style>\n"
      ],
      "text/plain": [
       "<IPython.core.display.HTML object>"
      ]
     },
     "metadata": {},
     "output_type": "display_data"
    },
    {
     "data": {
      "text/html": [
       "\n",
       "    <div>\n",
       "      <progress value='2000' class='' max='2000' style='width:300px; height:20px; vertical-align: middle;'></progress>\n",
       "      100.00% [2000/2000 00:02&lt;00:00]\n",
       "    </div>\n",
       "    "
      ],
      "text/plain": [
       "<IPython.core.display.HTML object>"
      ]
     },
     "metadata": {},
     "output_type": "display_data"
    },
    {
     "name": "stdout",
     "output_type": "stream",
     "text": [
      "Done computing zscores in 4.303322792053223 seconds\n",
      "Computing zscores for NM_0_0_estimate.pkl\n",
      "SHASHb\n",
      "slope_mu <class 'pcntoolkit.model.hbr.FixedParameterization'>\n",
      "intercept_mu <class 'pcntoolkit.model.hbr.NonCentralRandomFixedParameterization'>\n",
      "mu <class 'pcntoolkit.model.hbr.LinearParameterization'>\n",
      "slope_sigma <class 'pcntoolkit.model.hbr.FixedParameterization'>\n",
      "intercept_sigma <class 'pcntoolkit.model.hbr.FixedParameterization'>\n",
      "sigma <class 'pcntoolkit.model.hbr.LinearParameterization'>\n",
      "slope_epsilon <class 'pcntoolkit.model.hbr.FixedParameterization'>\n",
      "intercept_epsilon <class 'pcntoolkit.model.hbr.FixedParameterization'>\n",
      "epsilon <class 'pcntoolkit.model.hbr.LinearParameterization'>\n",
      "slope_delta <class 'pcntoolkit.model.hbr.FixedParameterization'>\n",
      "intercept_delta <class 'pcntoolkit.model.hbr.FixedParameterization'>\n",
      "delta <class 'pcntoolkit.model.hbr.LinearParameterization'>\n"
     ]
    },
    {
     "name": "stderr",
     "output_type": "stream",
     "text": [
      "Sampling: [y_like]\n"
     ]
    },
    {
     "data": {
      "text/html": [
       "\n",
       "<style>\n",
       "    /* Turns off some styling */\n",
       "    progress {\n",
       "        /* gets rid of default border in Firefox and Opera. */\n",
       "        border: none;\n",
       "        /* Needs to be in here for Safari polyfill so background images work as expected. */\n",
       "        background-size: auto;\n",
       "    }\n",
       "    progress:not([value]), progress:not([value])::-webkit-progress-bar {\n",
       "        background: repeating-linear-gradient(45deg, #7e7e7e, #7e7e7e 10px, #5c5c5c 10px, #5c5c5c 20px);\n",
       "    }\n",
       "    .progress-bar-interrupted, .progress-bar-interrupted::-webkit-progress-bar {\n",
       "        background: #F44336;\n",
       "    }\n",
       "</style>\n"
      ],
      "text/plain": [
       "<IPython.core.display.HTML object>"
      ]
     },
     "metadata": {},
     "output_type": "display_data"
    },
    {
     "data": {
      "text/html": [
       "\n",
       "    <div>\n",
       "      <progress value='2000' class='' max='2000' style='width:300px; height:20px; vertical-align: middle;'></progress>\n",
       "      100.00% [2000/2000 00:11&lt;00:00]\n",
       "    </div>\n",
       "    "
      ],
      "text/plain": [
       "<IPython.core.display.HTML object>"
      ]
     },
     "metadata": {},
     "output_type": "display_data"
    },
    {
     "name": "stdout",
     "output_type": "stream",
     "text": [
      "Done computing zscores in 38.160531520843506 seconds\n"
     ]
    },
    {
     "name": "stderr",
     "output_type": "stream",
     "text": [
      "Sampling: [y_like]\n"
     ]
    },
    {
     "name": "stdout",
     "output_type": "stream",
     "text": [
      "Computing zscores for NM_0_0_estimate.pkl\n",
      "Normal\n",
      "slope_mu <class 'pcntoolkit.model.hbr.FixedParameterization'>\n",
      "intercept_mu <class 'pcntoolkit.model.hbr.NonCentralRandomFixedParameterization'>\n",
      "mu <class 'pcntoolkit.model.hbr.LinearParameterization'>\n",
      "slope_sigma <class 'pcntoolkit.model.hbr.FixedParameterization'>\n",
      "intercept_sigma <class 'pcntoolkit.model.hbr.FixedParameterization'>\n",
      "sigma <class 'pcntoolkit.model.hbr.LinearParameterization'>\n"
     ]
    },
    {
     "data": {
      "text/html": [
       "\n",
       "<style>\n",
       "    /* Turns off some styling */\n",
       "    progress {\n",
       "        /* gets rid of default border in Firefox and Opera. */\n",
       "        border: none;\n",
       "        /* Needs to be in here for Safari polyfill so background images work as expected. */\n",
       "        background-size: auto;\n",
       "    }\n",
       "    progress:not([value]), progress:not([value])::-webkit-progress-bar {\n",
       "        background: repeating-linear-gradient(45deg, #7e7e7e, #7e7e7e 10px, #5c5c5c 10px, #5c5c5c 20px);\n",
       "    }\n",
       "    .progress-bar-interrupted, .progress-bar-interrupted::-webkit-progress-bar {\n",
       "        background: #F44336;\n",
       "    }\n",
       "</style>\n"
      ],
      "text/plain": [
       "<IPython.core.display.HTML object>"
      ]
     },
     "metadata": {},
     "output_type": "display_data"
    },
    {
     "data": {
      "text/html": [
       "\n",
       "    <div>\n",
       "      <progress value='2000' class='' max='2000' style='width:300px; height:20px; vertical-align: middle;'></progress>\n",
       "      100.00% [2000/2000 00:01&lt;00:00]\n",
       "    </div>\n",
       "    "
      ],
      "text/plain": [
       "<IPython.core.display.HTML object>"
      ]
     },
     "metadata": {},
     "output_type": "display_data"
    },
    {
     "name": "stdout",
     "output_type": "stream",
     "text": [
      "Done computing zscores in 2.076202630996704 seconds\n"
     ]
    },
    {
     "name": "stderr",
     "output_type": "stream",
     "text": [
      "Sampling: [y_like]\n"
     ]
    },
    {
     "name": "stdout",
     "output_type": "stream",
     "text": [
      "Computing zscores for NM_0_0_estimate.pkl\n",
      "SHASHo\n",
      "slope_mu <class 'pcntoolkit.model.hbr.FixedParameterization'>\n",
      "intercept_mu <class 'pcntoolkit.model.hbr.NonCentralRandomFixedParameterization'>\n",
      "mu <class 'pcntoolkit.model.hbr.LinearParameterization'>\n",
      "slope_sigma <class 'pcntoolkit.model.hbr.FixedParameterization'>\n",
      "intercept_sigma <class 'pcntoolkit.model.hbr.FixedParameterization'>\n",
      "sigma <class 'pcntoolkit.model.hbr.LinearParameterization'>\n",
      "epsilon <class 'pcntoolkit.model.hbr.FixedParameterization'>\n",
      "delta <class 'pcntoolkit.model.hbr.FixedParameterization'>\n"
     ]
    },
    {
     "data": {
      "text/html": [
       "\n",
       "<style>\n",
       "    /* Turns off some styling */\n",
       "    progress {\n",
       "        /* gets rid of default border in Firefox and Opera. */\n",
       "        border: none;\n",
       "        /* Needs to be in here for Safari polyfill so background images work as expected. */\n",
       "        background-size: auto;\n",
       "    }\n",
       "    progress:not([value]), progress:not([value])::-webkit-progress-bar {\n",
       "        background: repeating-linear-gradient(45deg, #7e7e7e, #7e7e7e 10px, #5c5c5c 10px, #5c5c5c 20px);\n",
       "    }\n",
       "    .progress-bar-interrupted, .progress-bar-interrupted::-webkit-progress-bar {\n",
       "        background: #F44336;\n",
       "    }\n",
       "</style>\n"
      ],
      "text/plain": [
       "<IPython.core.display.HTML object>"
      ]
     },
     "metadata": {},
     "output_type": "display_data"
    },
    {
     "data": {
      "text/html": [
       "\n",
       "    <div>\n",
       "      <progress value='2000' class='' max='2000' style='width:300px; height:20px; vertical-align: middle;'></progress>\n",
       "      100.00% [2000/2000 00:02&lt;00:00]\n",
       "    </div>\n",
       "    "
      ],
      "text/plain": [
       "<IPython.core.display.HTML object>"
      ]
     },
     "metadata": {},
     "output_type": "display_data"
    },
    {
     "name": "stdout",
     "output_type": "stream",
     "text": [
      "Done computing zscores in 3.713826894760132 seconds\n"
     ]
    },
    {
     "name": "stderr",
     "output_type": "stream",
     "text": [
      "Sampling: [y_like]\n"
     ]
    },
    {
     "name": "stdout",
     "output_type": "stream",
     "text": [
      "Computing zscores for NM_0_0_estimate.pkl\n",
      "SHASHb\n",
      "slope_mu <class 'pcntoolkit.model.hbr.FixedParameterization'>\n",
      "intercept_mu <class 'pcntoolkit.model.hbr.NonCentralRandomFixedParameterization'>\n",
      "mu <class 'pcntoolkit.model.hbr.LinearParameterization'>\n",
      "slope_sigma <class 'pcntoolkit.model.hbr.FixedParameterization'>\n",
      "intercept_sigma <class 'pcntoolkit.model.hbr.FixedParameterization'>\n",
      "sigma <class 'pcntoolkit.model.hbr.LinearParameterization'>\n",
      "epsilon <class 'pcntoolkit.model.hbr.FixedParameterization'>\n",
      "delta <class 'pcntoolkit.model.hbr.FixedParameterization'>\n"
     ]
    },
    {
     "data": {
      "text/html": [
       "\n",
       "<style>\n",
       "    /* Turns off some styling */\n",
       "    progress {\n",
       "        /* gets rid of default border in Firefox and Opera. */\n",
       "        border: none;\n",
       "        /* Needs to be in here for Safari polyfill so background images work as expected. */\n",
       "        background-size: auto;\n",
       "    }\n",
       "    progress:not([value]), progress:not([value])::-webkit-progress-bar {\n",
       "        background: repeating-linear-gradient(45deg, #7e7e7e, #7e7e7e 10px, #5c5c5c 10px, #5c5c5c 20px);\n",
       "    }\n",
       "    .progress-bar-interrupted, .progress-bar-interrupted::-webkit-progress-bar {\n",
       "        background: #F44336;\n",
       "    }\n",
       "</style>\n"
      ],
      "text/plain": [
       "<IPython.core.display.HTML object>"
      ]
     },
     "metadata": {},
     "output_type": "display_data"
    },
    {
     "data": {
      "text/html": [
       "\n",
       "    <div>\n",
       "      <progress value='2000' class='' max='2000' style='width:300px; height:20px; vertical-align: middle;'></progress>\n",
       "      100.00% [2000/2000 00:02&lt;00:00]\n",
       "    </div>\n",
       "    "
      ],
      "text/plain": [
       "<IPython.core.display.HTML object>"
      ]
     },
     "metadata": {},
     "output_type": "display_data"
    },
    {
     "name": "stdout",
     "output_type": "stream",
     "text": [
      "Done computing zscores in 4.588760614395142 seconds\n",
      "Computing zscores for NM_0_0_estimate.pkl\n",
      "SHASHb\n",
      "slope_mu <class 'pcntoolkit.model.hbr.FixedParameterization'>\n",
      "intercept_mu <class 'pcntoolkit.model.hbr.NonCentralRandomFixedParameterization'>\n",
      "mu <class 'pcntoolkit.model.hbr.LinearParameterization'>\n",
      "slope_sigma <class 'pcntoolkit.model.hbr.FixedParameterization'>\n",
      "intercept_sigma <class 'pcntoolkit.model.hbr.FixedParameterization'>\n",
      "sigma <class 'pcntoolkit.model.hbr.LinearParameterization'>\n",
      "slope_epsilon <class 'pcntoolkit.model.hbr.FixedParameterization'>\n",
      "intercept_epsilon <class 'pcntoolkit.model.hbr.FixedParameterization'>\n",
      "epsilon <class 'pcntoolkit.model.hbr.LinearParameterization'>\n",
      "slope_delta <class 'pcntoolkit.model.hbr.FixedParameterization'>\n",
      "intercept_delta <class 'pcntoolkit.model.hbr.FixedParameterization'>\n",
      "delta <class 'pcntoolkit.model.hbr.LinearParameterization'>\n"
     ]
    },
    {
     "name": "stderr",
     "output_type": "stream",
     "text": [
      "Sampling: [y_like]\n"
     ]
    },
    {
     "data": {
      "text/html": [
       "\n",
       "<style>\n",
       "    /* Turns off some styling */\n",
       "    progress {\n",
       "        /* gets rid of default border in Firefox and Opera. */\n",
       "        border: none;\n",
       "        /* Needs to be in here for Safari polyfill so background images work as expected. */\n",
       "        background-size: auto;\n",
       "    }\n",
       "    progress:not([value]), progress:not([value])::-webkit-progress-bar {\n",
       "        background: repeating-linear-gradient(45deg, #7e7e7e, #7e7e7e 10px, #5c5c5c 10px, #5c5c5c 20px);\n",
       "    }\n",
       "    .progress-bar-interrupted, .progress-bar-interrupted::-webkit-progress-bar {\n",
       "        background: #F44336;\n",
       "    }\n",
       "</style>\n"
      ],
      "text/plain": [
       "<IPython.core.display.HTML object>"
      ]
     },
     "metadata": {},
     "output_type": "display_data"
    },
    {
     "data": {
      "text/html": [
       "\n",
       "    <div>\n",
       "      <progress value='2000' class='' max='2000' style='width:300px; height:20px; vertical-align: middle;'></progress>\n",
       "      100.00% [2000/2000 00:11&lt;00:00]\n",
       "    </div>\n",
       "    "
      ],
      "text/plain": [
       "<IPython.core.display.HTML object>"
      ]
     },
     "metadata": {},
     "output_type": "display_data"
    },
    {
     "name": "stdout",
     "output_type": "stream",
     "text": [
      "Done computing zscores in 36.33106970787048 seconds\n"
     ]
    },
    {
     "name": "stderr",
     "output_type": "stream",
     "text": [
      "Sampling: [y_like]\n"
     ]
    },
    {
     "name": "stdout",
     "output_type": "stream",
     "text": [
      "Computing zscores for NM_0_0_estimate.pkl\n",
      "Normal\n",
      "slope_mu <class 'pcntoolkit.model.hbr.FixedParameterization'>\n",
      "intercept_mu <class 'pcntoolkit.model.hbr.NonCentralRandomFixedParameterization'>\n",
      "mu <class 'pcntoolkit.model.hbr.LinearParameterization'>\n",
      "slope_sigma <class 'pcntoolkit.model.hbr.FixedParameterization'>\n",
      "intercept_sigma <class 'pcntoolkit.model.hbr.FixedParameterization'>\n",
      "sigma <class 'pcntoolkit.model.hbr.LinearParameterization'>\n"
     ]
    },
    {
     "data": {
      "text/html": [
       "\n",
       "<style>\n",
       "    /* Turns off some styling */\n",
       "    progress {\n",
       "        /* gets rid of default border in Firefox and Opera. */\n",
       "        border: none;\n",
       "        /* Needs to be in here for Safari polyfill so background images work as expected. */\n",
       "        background-size: auto;\n",
       "    }\n",
       "    progress:not([value]), progress:not([value])::-webkit-progress-bar {\n",
       "        background: repeating-linear-gradient(45deg, #7e7e7e, #7e7e7e 10px, #5c5c5c 10px, #5c5c5c 20px);\n",
       "    }\n",
       "    .progress-bar-interrupted, .progress-bar-interrupted::-webkit-progress-bar {\n",
       "        background: #F44336;\n",
       "    }\n",
       "</style>\n"
      ],
      "text/plain": [
       "<IPython.core.display.HTML object>"
      ]
     },
     "metadata": {},
     "output_type": "display_data"
    },
    {
     "data": {
      "text/html": [
       "\n",
       "    <div>\n",
       "      <progress value='2000' class='' max='2000' style='width:300px; height:20px; vertical-align: middle;'></progress>\n",
       "      100.00% [2000/2000 00:01&lt;00:00]\n",
       "    </div>\n",
       "    "
      ],
      "text/plain": [
       "<IPython.core.display.HTML object>"
      ]
     },
     "metadata": {},
     "output_type": "display_data"
    },
    {
     "name": "stdout",
     "output_type": "stream",
     "text": [
      "Done computing zscores in 2.120929002761841 seconds\n",
      "Computing zscores for NM_0_0_estimate.pkl\n",
      "SHASHo\n",
      "slope_mu <class 'pcntoolkit.model.hbr.FixedParameterization'>\n",
      "intercept_mu <class 'pcntoolkit.model.hbr.NonCentralRandomFixedParameterization'>\n",
      "mu <class 'pcntoolkit.model.hbr.LinearParameterization'>\n",
      "slope_sigma <class 'pcntoolkit.model.hbr.FixedParameterization'>\n",
      "intercept_sigma <class 'pcntoolkit.model.hbr.FixedParameterization'>\n",
      "sigma <class 'pcntoolkit.model.hbr.LinearParameterization'>\n",
      "epsilon <class 'pcntoolkit.model.hbr.FixedParameterization'>\n",
      "delta <class 'pcntoolkit.model.hbr.FixedParameterization'>\n"
     ]
    },
    {
     "name": "stderr",
     "output_type": "stream",
     "text": [
      "Sampling: [y_like]\n"
     ]
    },
    {
     "data": {
      "text/html": [
       "\n",
       "<style>\n",
       "    /* Turns off some styling */\n",
       "    progress {\n",
       "        /* gets rid of default border in Firefox and Opera. */\n",
       "        border: none;\n",
       "        /* Needs to be in here for Safari polyfill so background images work as expected. */\n",
       "        background-size: auto;\n",
       "    }\n",
       "    progress:not([value]), progress:not([value])::-webkit-progress-bar {\n",
       "        background: repeating-linear-gradient(45deg, #7e7e7e, #7e7e7e 10px, #5c5c5c 10px, #5c5c5c 20px);\n",
       "    }\n",
       "    .progress-bar-interrupted, .progress-bar-interrupted::-webkit-progress-bar {\n",
       "        background: #F44336;\n",
       "    }\n",
       "</style>\n"
      ],
      "text/plain": [
       "<IPython.core.display.HTML object>"
      ]
     },
     "metadata": {},
     "output_type": "display_data"
    },
    {
     "data": {
      "text/html": [
       "\n",
       "    <div>\n",
       "      <progress value='2000' class='' max='2000' style='width:300px; height:20px; vertical-align: middle;'></progress>\n",
       "      100.00% [2000/2000 00:02&lt;00:00]\n",
       "    </div>\n",
       "    "
      ],
      "text/plain": [
       "<IPython.core.display.HTML object>"
      ]
     },
     "metadata": {},
     "output_type": "display_data"
    },
    {
     "name": "stdout",
     "output_type": "stream",
     "text": [
      "Done computing zscores in 3.8807084560394287 seconds\n",
      "Computing zscores for NM_0_0_estimate.pkl\n",
      "SHASHb\n",
      "slope_mu <class 'pcntoolkit.model.hbr.FixedParameterization'>\n",
      "intercept_mu <class 'pcntoolkit.model.hbr.NonCentralRandomFixedParameterization'>\n",
      "mu <class 'pcntoolkit.model.hbr.LinearParameterization'>\n",
      "slope_sigma <class 'pcntoolkit.model.hbr.FixedParameterization'>\n",
      "intercept_sigma <class 'pcntoolkit.model.hbr.FixedParameterization'>\n",
      "sigma <class 'pcntoolkit.model.hbr.LinearParameterization'>\n",
      "epsilon <class 'pcntoolkit.model.hbr.FixedParameterization'>\n",
      "delta <class 'pcntoolkit.model.hbr.FixedParameterization'>\n"
     ]
    },
    {
     "name": "stderr",
     "output_type": "stream",
     "text": [
      "Sampling: [y_like]\n"
     ]
    },
    {
     "data": {
      "text/html": [
       "\n",
       "<style>\n",
       "    /* Turns off some styling */\n",
       "    progress {\n",
       "        /* gets rid of default border in Firefox and Opera. */\n",
       "        border: none;\n",
       "        /* Needs to be in here for Safari polyfill so background images work as expected. */\n",
       "        background-size: auto;\n",
       "    }\n",
       "    progress:not([value]), progress:not([value])::-webkit-progress-bar {\n",
       "        background: repeating-linear-gradient(45deg, #7e7e7e, #7e7e7e 10px, #5c5c5c 10px, #5c5c5c 20px);\n",
       "    }\n",
       "    .progress-bar-interrupted, .progress-bar-interrupted::-webkit-progress-bar {\n",
       "        background: #F44336;\n",
       "    }\n",
       "</style>\n"
      ],
      "text/plain": [
       "<IPython.core.display.HTML object>"
      ]
     },
     "metadata": {},
     "output_type": "display_data"
    },
    {
     "data": {
      "text/html": [
       "\n",
       "    <div>\n",
       "      <progress value='2000' class='' max='2000' style='width:300px; height:20px; vertical-align: middle;'></progress>\n",
       "      100.00% [2000/2000 00:02&lt;00:00]\n",
       "    </div>\n",
       "    "
      ],
      "text/plain": [
       "<IPython.core.display.HTML object>"
      ]
     },
     "metadata": {},
     "output_type": "display_data"
    },
    {
     "name": "stdout",
     "output_type": "stream",
     "text": [
      "Done computing zscores in 4.524973154067993 seconds\n",
      "Computing zscores for NM_0_0_estimate.pkl\n",
      "SHASHb\n",
      "slope_mu <class 'pcntoolkit.model.hbr.FixedParameterization'>\n",
      "intercept_mu <class 'pcntoolkit.model.hbr.NonCentralRandomFixedParameterization'>\n",
      "mu <class 'pcntoolkit.model.hbr.LinearParameterization'>\n",
      "slope_sigma <class 'pcntoolkit.model.hbr.FixedParameterization'>\n",
      "intercept_sigma <class 'pcntoolkit.model.hbr.FixedParameterization'>\n",
      "sigma <class 'pcntoolkit.model.hbr.LinearParameterization'>\n",
      "slope_epsilon <class 'pcntoolkit.model.hbr.FixedParameterization'>\n",
      "intercept_epsilon <class 'pcntoolkit.model.hbr.FixedParameterization'>\n",
      "epsilon <class 'pcntoolkit.model.hbr.LinearParameterization'>\n",
      "slope_delta <class 'pcntoolkit.model.hbr.FixedParameterization'>\n",
      "intercept_delta <class 'pcntoolkit.model.hbr.FixedParameterization'>\n",
      "delta <class 'pcntoolkit.model.hbr.LinearParameterization'>\n"
     ]
    },
    {
     "name": "stderr",
     "output_type": "stream",
     "text": [
      "Sampling: [y_like]\n"
     ]
    },
    {
     "data": {
      "text/html": [
       "\n",
       "<style>\n",
       "    /* Turns off some styling */\n",
       "    progress {\n",
       "        /* gets rid of default border in Firefox and Opera. */\n",
       "        border: none;\n",
       "        /* Needs to be in here for Safari polyfill so background images work as expected. */\n",
       "        background-size: auto;\n",
       "    }\n",
       "    progress:not([value]), progress:not([value])::-webkit-progress-bar {\n",
       "        background: repeating-linear-gradient(45deg, #7e7e7e, #7e7e7e 10px, #5c5c5c 10px, #5c5c5c 20px);\n",
       "    }\n",
       "    .progress-bar-interrupted, .progress-bar-interrupted::-webkit-progress-bar {\n",
       "        background: #F44336;\n",
       "    }\n",
       "</style>\n"
      ],
      "text/plain": [
       "<IPython.core.display.HTML object>"
      ]
     },
     "metadata": {},
     "output_type": "display_data"
    },
    {
     "data": {
      "text/html": [
       "\n",
       "    <div>\n",
       "      <progress value='2000' class='' max='2000' style='width:300px; height:20px; vertical-align: middle;'></progress>\n",
       "      100.00% [2000/2000 00:11&lt;00:00]\n",
       "    </div>\n",
       "    "
      ],
      "text/plain": [
       "<IPython.core.display.HTML object>"
      ]
     },
     "metadata": {},
     "output_type": "display_data"
    },
    {
     "name": "stdout",
     "output_type": "stream",
     "text": [
      "Done computing zscores in 36.957414388656616 seconds\n",
      "Computing zscores for NM_0_0_estimate.pkl\n",
      "Normal\n",
      "slope_mu <class 'pcntoolkit.model.hbr.FixedParameterization'>\n",
      "intercept_mu <class 'pcntoolkit.model.hbr.NonCentralRandomFixedParameterization'>\n",
      "mu <class 'pcntoolkit.model.hbr.LinearParameterization'>\n",
      "slope_sigma <class 'pcntoolkit.model.hbr.FixedParameterization'>\n",
      "intercept_sigma <class 'pcntoolkit.model.hbr.FixedParameterization'>\n",
      "sigma <class 'pcntoolkit.model.hbr.LinearParameterization'>\n"
     ]
    },
    {
     "name": "stderr",
     "output_type": "stream",
     "text": [
      "Sampling: [y_like]\n"
     ]
    },
    {
     "data": {
      "text/html": [
       "\n",
       "<style>\n",
       "    /* Turns off some styling */\n",
       "    progress {\n",
       "        /* gets rid of default border in Firefox and Opera. */\n",
       "        border: none;\n",
       "        /* Needs to be in here for Safari polyfill so background images work as expected. */\n",
       "        background-size: auto;\n",
       "    }\n",
       "    progress:not([value]), progress:not([value])::-webkit-progress-bar {\n",
       "        background: repeating-linear-gradient(45deg, #7e7e7e, #7e7e7e 10px, #5c5c5c 10px, #5c5c5c 20px);\n",
       "    }\n",
       "    .progress-bar-interrupted, .progress-bar-interrupted::-webkit-progress-bar {\n",
       "        background: #F44336;\n",
       "    }\n",
       "</style>\n"
      ],
      "text/plain": [
       "<IPython.core.display.HTML object>"
      ]
     },
     "metadata": {},
     "output_type": "display_data"
    },
    {
     "data": {
      "text/html": [
       "\n",
       "    <div>\n",
       "      <progress value='2000' class='' max='2000' style='width:300px; height:20px; vertical-align: middle;'></progress>\n",
       "      100.00% [2000/2000 00:01&lt;00:00]\n",
       "    </div>\n",
       "    "
      ],
      "text/plain": [
       "<IPython.core.display.HTML object>"
      ]
     },
     "metadata": {},
     "output_type": "display_data"
    },
    {
     "name": "stdout",
     "output_type": "stream",
     "text": [
      "Done computing zscores in 2.5574212074279785 seconds\n",
      "Computing zscores for NM_0_0_estimate.pkl\n",
      "SHASHo\n",
      "slope_mu <class 'pcntoolkit.model.hbr.FixedParameterization'>\n",
      "intercept_mu <class 'pcntoolkit.model.hbr.NonCentralRandomFixedParameterization'>\n",
      "mu <class 'pcntoolkit.model.hbr.LinearParameterization'>\n",
      "slope_sigma <class 'pcntoolkit.model.hbr.FixedParameterization'>\n",
      "intercept_sigma <class 'pcntoolkit.model.hbr.FixedParameterization'>\n",
      "sigma <class 'pcntoolkit.model.hbr.LinearParameterization'>\n",
      "epsilon <class 'pcntoolkit.model.hbr.FixedParameterization'>\n",
      "delta <class 'pcntoolkit.model.hbr.FixedParameterization'>\n"
     ]
    },
    {
     "name": "stderr",
     "output_type": "stream",
     "text": [
      "Sampling: [y_like]\n"
     ]
    },
    {
     "data": {
      "text/html": [
       "\n",
       "<style>\n",
       "    /* Turns off some styling */\n",
       "    progress {\n",
       "        /* gets rid of default border in Firefox and Opera. */\n",
       "        border: none;\n",
       "        /* Needs to be in here for Safari polyfill so background images work as expected. */\n",
       "        background-size: auto;\n",
       "    }\n",
       "    progress:not([value]), progress:not([value])::-webkit-progress-bar {\n",
       "        background: repeating-linear-gradient(45deg, #7e7e7e, #7e7e7e 10px, #5c5c5c 10px, #5c5c5c 20px);\n",
       "    }\n",
       "    .progress-bar-interrupted, .progress-bar-interrupted::-webkit-progress-bar {\n",
       "        background: #F44336;\n",
       "    }\n",
       "</style>\n"
      ],
      "text/plain": [
       "<IPython.core.display.HTML object>"
      ]
     },
     "metadata": {},
     "output_type": "display_data"
    },
    {
     "data": {
      "text/html": [
       "\n",
       "    <div>\n",
       "      <progress value='2000' class='' max='2000' style='width:300px; height:20px; vertical-align: middle;'></progress>\n",
       "      100.00% [2000/2000 00:02&lt;00:00]\n",
       "    </div>\n",
       "    "
      ],
      "text/plain": [
       "<IPython.core.display.HTML object>"
      ]
     },
     "metadata": {},
     "output_type": "display_data"
    },
    {
     "name": "stdout",
     "output_type": "stream",
     "text": [
      "Done computing zscores in 3.829745292663574 seconds\n",
      "Computing zscores for NM_0_0_estimate.pkl\n",
      "SHASHb\n",
      "slope_mu <class 'pcntoolkit.model.hbr.FixedParameterization'>\n",
      "intercept_mu <class 'pcntoolkit.model.hbr.NonCentralRandomFixedParameterization'>\n",
      "mu <class 'pcntoolkit.model.hbr.LinearParameterization'>\n",
      "slope_sigma <class 'pcntoolkit.model.hbr.FixedParameterization'>\n",
      "intercept_sigma <class 'pcntoolkit.model.hbr.FixedParameterization'>\n",
      "sigma <class 'pcntoolkit.model.hbr.LinearParameterization'>\n",
      "epsilon <class 'pcntoolkit.model.hbr.FixedParameterization'>\n",
      "delta <class 'pcntoolkit.model.hbr.FixedParameterization'>\n"
     ]
    },
    {
     "name": "stderr",
     "output_type": "stream",
     "text": [
      "Sampling: [y_like]\n"
     ]
    },
    {
     "data": {
      "text/html": [
       "\n",
       "<style>\n",
       "    /* Turns off some styling */\n",
       "    progress {\n",
       "        /* gets rid of default border in Firefox and Opera. */\n",
       "        border: none;\n",
       "        /* Needs to be in here for Safari polyfill so background images work as expected. */\n",
       "        background-size: auto;\n",
       "    }\n",
       "    progress:not([value]), progress:not([value])::-webkit-progress-bar {\n",
       "        background: repeating-linear-gradient(45deg, #7e7e7e, #7e7e7e 10px, #5c5c5c 10px, #5c5c5c 20px);\n",
       "    }\n",
       "    .progress-bar-interrupted, .progress-bar-interrupted::-webkit-progress-bar {\n",
       "        background: #F44336;\n",
       "    }\n",
       "</style>\n"
      ],
      "text/plain": [
       "<IPython.core.display.HTML object>"
      ]
     },
     "metadata": {},
     "output_type": "display_data"
    },
    {
     "data": {
      "text/html": [
       "\n",
       "    <div>\n",
       "      <progress value='2000' class='' max='2000' style='width:300px; height:20px; vertical-align: middle;'></progress>\n",
       "      100.00% [2000/2000 00:02&lt;00:00]\n",
       "    </div>\n",
       "    "
      ],
      "text/plain": [
       "<IPython.core.display.HTML object>"
      ]
     },
     "metadata": {},
     "output_type": "display_data"
    },
    {
     "name": "stdout",
     "output_type": "stream",
     "text": [
      "Done computing zscores in 4.543754577636719 seconds\n",
      "Computing zscores for NM_0_0_estimate.pkl\n",
      "SHASHb\n",
      "slope_mu <class 'pcntoolkit.model.hbr.FixedParameterization'>\n",
      "intercept_mu <class 'pcntoolkit.model.hbr.NonCentralRandomFixedParameterization'>\n",
      "mu <class 'pcntoolkit.model.hbr.LinearParameterization'>\n",
      "slope_sigma <class 'pcntoolkit.model.hbr.FixedParameterization'>\n",
      "intercept_sigma <class 'pcntoolkit.model.hbr.FixedParameterization'>\n",
      "sigma <class 'pcntoolkit.model.hbr.LinearParameterization'>\n",
      "slope_epsilon <class 'pcntoolkit.model.hbr.FixedParameterization'>\n",
      "intercept_epsilon <class 'pcntoolkit.model.hbr.FixedParameterization'>\n",
      "epsilon <class 'pcntoolkit.model.hbr.LinearParameterization'>\n",
      "slope_delta <class 'pcntoolkit.model.hbr.FixedParameterization'>\n",
      "intercept_delta <class 'pcntoolkit.model.hbr.FixedParameterization'>\n",
      "delta <class 'pcntoolkit.model.hbr.LinearParameterization'>\n"
     ]
    },
    {
     "name": "stderr",
     "output_type": "stream",
     "text": [
      "Sampling: [y_like]\n"
     ]
    },
    {
     "data": {
      "text/html": [
       "\n",
       "<style>\n",
       "    /* Turns off some styling */\n",
       "    progress {\n",
       "        /* gets rid of default border in Firefox and Opera. */\n",
       "        border: none;\n",
       "        /* Needs to be in here for Safari polyfill so background images work as expected. */\n",
       "        background-size: auto;\n",
       "    }\n",
       "    progress:not([value]), progress:not([value])::-webkit-progress-bar {\n",
       "        background: repeating-linear-gradient(45deg, #7e7e7e, #7e7e7e 10px, #5c5c5c 10px, #5c5c5c 20px);\n",
       "    }\n",
       "    .progress-bar-interrupted, .progress-bar-interrupted::-webkit-progress-bar {\n",
       "        background: #F44336;\n",
       "    }\n",
       "</style>\n"
      ],
      "text/plain": [
       "<IPython.core.display.HTML object>"
      ]
     },
     "metadata": {},
     "output_type": "display_data"
    },
    {
     "data": {
      "text/html": [
       "\n",
       "    <div>\n",
       "      <progress value='2000' class='' max='2000' style='width:300px; height:20px; vertical-align: middle;'></progress>\n",
       "      100.00% [2000/2000 00:10&lt;00:00]\n",
       "    </div>\n",
       "    "
      ],
      "text/plain": [
       "<IPython.core.display.HTML object>"
      ]
     },
     "metadata": {},
     "output_type": "display_data"
    },
    {
     "name": "stdout",
     "output_type": "stream",
     "text": [
      "Done computing zscores in 40.095048666000366 seconds\n"
     ]
    },
    {
     "name": "stderr",
     "output_type": "stream",
     "text": [
      "Sampling: [y_like]\n"
     ]
    },
    {
     "name": "stdout",
     "output_type": "stream",
     "text": [
      "Computing zscores for NM_0_0_estimate.pkl\n",
      "Normal\n",
      "slope_mu <class 'pcntoolkit.model.hbr.FixedParameterization'>\n",
      "intercept_mu <class 'pcntoolkit.model.hbr.NonCentralRandomFixedParameterization'>\n",
      "mu <class 'pcntoolkit.model.hbr.LinearParameterization'>\n",
      "slope_sigma <class 'pcntoolkit.model.hbr.FixedParameterization'>\n",
      "intercept_sigma <class 'pcntoolkit.model.hbr.FixedParameterization'>\n",
      "sigma <class 'pcntoolkit.model.hbr.LinearParameterization'>\n"
     ]
    },
    {
     "data": {
      "text/html": [
       "\n",
       "<style>\n",
       "    /* Turns off some styling */\n",
       "    progress {\n",
       "        /* gets rid of default border in Firefox and Opera. */\n",
       "        border: none;\n",
       "        /* Needs to be in here for Safari polyfill so background images work as expected. */\n",
       "        background-size: auto;\n",
       "    }\n",
       "    progress:not([value]), progress:not([value])::-webkit-progress-bar {\n",
       "        background: repeating-linear-gradient(45deg, #7e7e7e, #7e7e7e 10px, #5c5c5c 10px, #5c5c5c 20px);\n",
       "    }\n",
       "    .progress-bar-interrupted, .progress-bar-interrupted::-webkit-progress-bar {\n",
       "        background: #F44336;\n",
       "    }\n",
       "</style>\n"
      ],
      "text/plain": [
       "<IPython.core.display.HTML object>"
      ]
     },
     "metadata": {},
     "output_type": "display_data"
    },
    {
     "data": {
      "text/html": [
       "\n",
       "    <div>\n",
       "      <progress value='2000' class='' max='2000' style='width:300px; height:20px; vertical-align: middle;'></progress>\n",
       "      100.00% [2000/2000 00:01&lt;00:00]\n",
       "    </div>\n",
       "    "
      ],
      "text/plain": [
       "<IPython.core.display.HTML object>"
      ]
     },
     "metadata": {},
     "output_type": "display_data"
    },
    {
     "name": "stdout",
     "output_type": "stream",
     "text": [
      "Done computing zscores in 2.0291097164154053 seconds\n"
     ]
    },
    {
     "name": "stderr",
     "output_type": "stream",
     "text": [
      "Sampling: [y_like]\n"
     ]
    },
    {
     "name": "stdout",
     "output_type": "stream",
     "text": [
      "Computing zscores for NM_0_0_estimate.pkl\n",
      "SHASHo\n",
      "slope_mu <class 'pcntoolkit.model.hbr.FixedParameterization'>\n",
      "intercept_mu <class 'pcntoolkit.model.hbr.NonCentralRandomFixedParameterization'>\n",
      "mu <class 'pcntoolkit.model.hbr.LinearParameterization'>\n",
      "slope_sigma <class 'pcntoolkit.model.hbr.FixedParameterization'>\n",
      "intercept_sigma <class 'pcntoolkit.model.hbr.FixedParameterization'>\n",
      "sigma <class 'pcntoolkit.model.hbr.LinearParameterization'>\n",
      "epsilon <class 'pcntoolkit.model.hbr.FixedParameterization'>\n",
      "delta <class 'pcntoolkit.model.hbr.FixedParameterization'>\n"
     ]
    },
    {
     "data": {
      "text/html": [
       "\n",
       "<style>\n",
       "    /* Turns off some styling */\n",
       "    progress {\n",
       "        /* gets rid of default border in Firefox and Opera. */\n",
       "        border: none;\n",
       "        /* Needs to be in here for Safari polyfill so background images work as expected. */\n",
       "        background-size: auto;\n",
       "    }\n",
       "    progress:not([value]), progress:not([value])::-webkit-progress-bar {\n",
       "        background: repeating-linear-gradient(45deg, #7e7e7e, #7e7e7e 10px, #5c5c5c 10px, #5c5c5c 20px);\n",
       "    }\n",
       "    .progress-bar-interrupted, .progress-bar-interrupted::-webkit-progress-bar {\n",
       "        background: #F44336;\n",
       "    }\n",
       "</style>\n"
      ],
      "text/plain": [
       "<IPython.core.display.HTML object>"
      ]
     },
     "metadata": {},
     "output_type": "display_data"
    },
    {
     "data": {
      "text/html": [
       "\n",
       "    <div>\n",
       "      <progress value='2000' class='' max='2000' style='width:300px; height:20px; vertical-align: middle;'></progress>\n",
       "      100.00% [2000/2000 00:02&lt;00:00]\n",
       "    </div>\n",
       "    "
      ],
      "text/plain": [
       "<IPython.core.display.HTML object>"
      ]
     },
     "metadata": {},
     "output_type": "display_data"
    },
    {
     "name": "stdout",
     "output_type": "stream",
     "text": [
      "Done computing zscores in 3.680109739303589 seconds\n",
      "Computing zscores for NM_0_0_estimate.pkl\n",
      "SHASHb\n",
      "slope_mu <class 'pcntoolkit.model.hbr.FixedParameterization'>\n",
      "intercept_mu <class 'pcntoolkit.model.hbr.NonCentralRandomFixedParameterization'>\n",
      "mu <class 'pcntoolkit.model.hbr.LinearParameterization'>\n",
      "slope_sigma <class 'pcntoolkit.model.hbr.FixedParameterization'>\n",
      "intercept_sigma <class 'pcntoolkit.model.hbr.FixedParameterization'>\n",
      "sigma <class 'pcntoolkit.model.hbr.LinearParameterization'>\n",
      "epsilon <class 'pcntoolkit.model.hbr.FixedParameterization'>\n",
      "delta <class 'pcntoolkit.model.hbr.FixedParameterization'>\n"
     ]
    },
    {
     "name": "stderr",
     "output_type": "stream",
     "text": [
      "Sampling: [y_like]\n"
     ]
    },
    {
     "data": {
      "text/html": [
       "\n",
       "<style>\n",
       "    /* Turns off some styling */\n",
       "    progress {\n",
       "        /* gets rid of default border in Firefox and Opera. */\n",
       "        border: none;\n",
       "        /* Needs to be in here for Safari polyfill so background images work as expected. */\n",
       "        background-size: auto;\n",
       "    }\n",
       "    progress:not([value]), progress:not([value])::-webkit-progress-bar {\n",
       "        background: repeating-linear-gradient(45deg, #7e7e7e, #7e7e7e 10px, #5c5c5c 10px, #5c5c5c 20px);\n",
       "    }\n",
       "    .progress-bar-interrupted, .progress-bar-interrupted::-webkit-progress-bar {\n",
       "        background: #F44336;\n",
       "    }\n",
       "</style>\n"
      ],
      "text/plain": [
       "<IPython.core.display.HTML object>"
      ]
     },
     "metadata": {},
     "output_type": "display_data"
    },
    {
     "data": {
      "text/html": [
       "\n",
       "    <div>\n",
       "      <progress value='2000' class='' max='2000' style='width:300px; height:20px; vertical-align: middle;'></progress>\n",
       "      100.00% [2000/2000 00:02&lt;00:00]\n",
       "    </div>\n",
       "    "
      ],
      "text/plain": [
       "<IPython.core.display.HTML object>"
      ]
     },
     "metadata": {},
     "output_type": "display_data"
    },
    {
     "name": "stdout",
     "output_type": "stream",
     "text": [
      "Done computing zscores in 4.2985780239105225 seconds\n",
      "Computing zscores for NM_0_0_estimate.pkl\n",
      "SHASHb\n",
      "slope_mu <class 'pcntoolkit.model.hbr.FixedParameterization'>\n",
      "intercept_mu <class 'pcntoolkit.model.hbr.NonCentralRandomFixedParameterization'>\n",
      "mu <class 'pcntoolkit.model.hbr.LinearParameterization'>\n",
      "slope_sigma <class 'pcntoolkit.model.hbr.FixedParameterization'>\n",
      "intercept_sigma <class 'pcntoolkit.model.hbr.FixedParameterization'>\n",
      "sigma <class 'pcntoolkit.model.hbr.LinearParameterization'>\n",
      "slope_epsilon <class 'pcntoolkit.model.hbr.FixedParameterization'>\n",
      "intercept_epsilon <class 'pcntoolkit.model.hbr.FixedParameterization'>\n",
      "epsilon <class 'pcntoolkit.model.hbr.LinearParameterization'>\n",
      "slope_delta <class 'pcntoolkit.model.hbr.FixedParameterization'>\n",
      "intercept_delta <class 'pcntoolkit.model.hbr.FixedParameterization'>\n",
      "delta <class 'pcntoolkit.model.hbr.LinearParameterization'>\n"
     ]
    },
    {
     "name": "stderr",
     "output_type": "stream",
     "text": [
      "Sampling: [y_like]\n"
     ]
    },
    {
     "data": {
      "text/html": [
       "\n",
       "<style>\n",
       "    /* Turns off some styling */\n",
       "    progress {\n",
       "        /* gets rid of default border in Firefox and Opera. */\n",
       "        border: none;\n",
       "        /* Needs to be in here for Safari polyfill so background images work as expected. */\n",
       "        background-size: auto;\n",
       "    }\n",
       "    progress:not([value]), progress:not([value])::-webkit-progress-bar {\n",
       "        background: repeating-linear-gradient(45deg, #7e7e7e, #7e7e7e 10px, #5c5c5c 10px, #5c5c5c 20px);\n",
       "    }\n",
       "    .progress-bar-interrupted, .progress-bar-interrupted::-webkit-progress-bar {\n",
       "        background: #F44336;\n",
       "    }\n",
       "</style>\n"
      ],
      "text/plain": [
       "<IPython.core.display.HTML object>"
      ]
     },
     "metadata": {},
     "output_type": "display_data"
    },
    {
     "data": {
      "text/html": [
       "\n",
       "    <div>\n",
       "      <progress value='2000' class='' max='2000' style='width:300px; height:20px; vertical-align: middle;'></progress>\n",
       "      100.00% [2000/2000 00:10&lt;00:00]\n",
       "    </div>\n",
       "    "
      ],
      "text/plain": [
       "<IPython.core.display.HTML object>"
      ]
     },
     "metadata": {},
     "output_type": "display_data"
    },
    {
     "name": "stdout",
     "output_type": "stream",
     "text": [
      "Done computing zscores in 39.596271991729736 seconds\n"
     ]
    },
    {
     "name": "stderr",
     "output_type": "stream",
     "text": [
      "Sampling: [y_like]\n"
     ]
    },
    {
     "name": "stdout",
     "output_type": "stream",
     "text": [
      "Computing zscores for NM_0_0_estimate.pkl\n",
      "Normal\n",
      "slope_mu <class 'pcntoolkit.model.hbr.FixedParameterization'>\n",
      "intercept_mu <class 'pcntoolkit.model.hbr.NonCentralRandomFixedParameterization'>\n",
      "mu <class 'pcntoolkit.model.hbr.LinearParameterization'>\n",
      "slope_sigma <class 'pcntoolkit.model.hbr.FixedParameterization'>\n",
      "intercept_sigma <class 'pcntoolkit.model.hbr.FixedParameterization'>\n",
      "sigma <class 'pcntoolkit.model.hbr.LinearParameterization'>\n"
     ]
    },
    {
     "data": {
      "text/html": [
       "\n",
       "<style>\n",
       "    /* Turns off some styling */\n",
       "    progress {\n",
       "        /* gets rid of default border in Firefox and Opera. */\n",
       "        border: none;\n",
       "        /* Needs to be in here for Safari polyfill so background images work as expected. */\n",
       "        background-size: auto;\n",
       "    }\n",
       "    progress:not([value]), progress:not([value])::-webkit-progress-bar {\n",
       "        background: repeating-linear-gradient(45deg, #7e7e7e, #7e7e7e 10px, #5c5c5c 10px, #5c5c5c 20px);\n",
       "    }\n",
       "    .progress-bar-interrupted, .progress-bar-interrupted::-webkit-progress-bar {\n",
       "        background: #F44336;\n",
       "    }\n",
       "</style>\n"
      ],
      "text/plain": [
       "<IPython.core.display.HTML object>"
      ]
     },
     "metadata": {},
     "output_type": "display_data"
    },
    {
     "data": {
      "text/html": [
       "\n",
       "    <div>\n",
       "      <progress value='2000' class='' max='2000' style='width:300px; height:20px; vertical-align: middle;'></progress>\n",
       "      100.00% [2000/2000 00:01&lt;00:00]\n",
       "    </div>\n",
       "    "
      ],
      "text/plain": [
       "<IPython.core.display.HTML object>"
      ]
     },
     "metadata": {},
     "output_type": "display_data"
    },
    {
     "name": "stdout",
     "output_type": "stream",
     "text": [
      "Done computing zscores in 2.0300474166870117 seconds\n"
     ]
    },
    {
     "name": "stderr",
     "output_type": "stream",
     "text": [
      "Sampling: [y_like]\n"
     ]
    },
    {
     "name": "stdout",
     "output_type": "stream",
     "text": [
      "Computing zscores for NM_0_0_estimate.pkl\n",
      "SHASHo\n",
      "slope_mu <class 'pcntoolkit.model.hbr.FixedParameterization'>\n",
      "intercept_mu <class 'pcntoolkit.model.hbr.NonCentralRandomFixedParameterization'>\n",
      "mu <class 'pcntoolkit.model.hbr.LinearParameterization'>\n",
      "slope_sigma <class 'pcntoolkit.model.hbr.FixedParameterization'>\n",
      "intercept_sigma <class 'pcntoolkit.model.hbr.FixedParameterization'>\n",
      "sigma <class 'pcntoolkit.model.hbr.LinearParameterization'>\n",
      "epsilon <class 'pcntoolkit.model.hbr.FixedParameterization'>\n",
      "delta <class 'pcntoolkit.model.hbr.FixedParameterization'>\n"
     ]
    },
    {
     "data": {
      "text/html": [
       "\n",
       "<style>\n",
       "    /* Turns off some styling */\n",
       "    progress {\n",
       "        /* gets rid of default border in Firefox and Opera. */\n",
       "        border: none;\n",
       "        /* Needs to be in here for Safari polyfill so background images work as expected. */\n",
       "        background-size: auto;\n",
       "    }\n",
       "    progress:not([value]), progress:not([value])::-webkit-progress-bar {\n",
       "        background: repeating-linear-gradient(45deg, #7e7e7e, #7e7e7e 10px, #5c5c5c 10px, #5c5c5c 20px);\n",
       "    }\n",
       "    .progress-bar-interrupted, .progress-bar-interrupted::-webkit-progress-bar {\n",
       "        background: #F44336;\n",
       "    }\n",
       "</style>\n"
      ],
      "text/plain": [
       "<IPython.core.display.HTML object>"
      ]
     },
     "metadata": {},
     "output_type": "display_data"
    },
    {
     "data": {
      "text/html": [
       "\n",
       "    <div>\n",
       "      <progress value='2000' class='' max='2000' style='width:300px; height:20px; vertical-align: middle;'></progress>\n",
       "      100.00% [2000/2000 00:02&lt;00:00]\n",
       "    </div>\n",
       "    "
      ],
      "text/plain": [
       "<IPython.core.display.HTML object>"
      ]
     },
     "metadata": {},
     "output_type": "display_data"
    },
    {
     "name": "stdout",
     "output_type": "stream",
     "text": [
      "Done computing zscores in 3.619744300842285 seconds\n"
     ]
    },
    {
     "name": "stderr",
     "output_type": "stream",
     "text": [
      "Sampling: [y_like]\n"
     ]
    },
    {
     "name": "stdout",
     "output_type": "stream",
     "text": [
      "Computing zscores for NM_0_0_estimate.pkl\n",
      "SHASHb\n",
      "slope_mu <class 'pcntoolkit.model.hbr.FixedParameterization'>\n",
      "intercept_mu <class 'pcntoolkit.model.hbr.NonCentralRandomFixedParameterization'>\n",
      "mu <class 'pcntoolkit.model.hbr.LinearParameterization'>\n",
      "slope_sigma <class 'pcntoolkit.model.hbr.FixedParameterization'>\n",
      "intercept_sigma <class 'pcntoolkit.model.hbr.FixedParameterization'>\n",
      "sigma <class 'pcntoolkit.model.hbr.LinearParameterization'>\n",
      "epsilon <class 'pcntoolkit.model.hbr.FixedParameterization'>\n",
      "delta <class 'pcntoolkit.model.hbr.FixedParameterization'>\n"
     ]
    },
    {
     "data": {
      "text/html": [
       "\n",
       "<style>\n",
       "    /* Turns off some styling */\n",
       "    progress {\n",
       "        /* gets rid of default border in Firefox and Opera. */\n",
       "        border: none;\n",
       "        /* Needs to be in here for Safari polyfill so background images work as expected. */\n",
       "        background-size: auto;\n",
       "    }\n",
       "    progress:not([value]), progress:not([value])::-webkit-progress-bar {\n",
       "        background: repeating-linear-gradient(45deg, #7e7e7e, #7e7e7e 10px, #5c5c5c 10px, #5c5c5c 20px);\n",
       "    }\n",
       "    .progress-bar-interrupted, .progress-bar-interrupted::-webkit-progress-bar {\n",
       "        background: #F44336;\n",
       "    }\n",
       "</style>\n"
      ],
      "text/plain": [
       "<IPython.core.display.HTML object>"
      ]
     },
     "metadata": {},
     "output_type": "display_data"
    },
    {
     "data": {
      "text/html": [
       "\n",
       "    <div>\n",
       "      <progress value='2000' class='' max='2000' style='width:300px; height:20px; vertical-align: middle;'></progress>\n",
       "      100.00% [2000/2000 00:02&lt;00:00]\n",
       "    </div>\n",
       "    "
      ],
      "text/plain": [
       "<IPython.core.display.HTML object>"
      ]
     },
     "metadata": {},
     "output_type": "display_data"
    },
    {
     "name": "stdout",
     "output_type": "stream",
     "text": [
      "Done computing zscores in 4.425573110580444 seconds\n",
      "Computing zscores for NM_0_0_estimate.pkl\n",
      "SHASHb\n",
      "slope_mu <class 'pcntoolkit.model.hbr.FixedParameterization'>\n",
      "intercept_mu <class 'pcntoolkit.model.hbr.NonCentralRandomFixedParameterization'>\n",
      "mu <class 'pcntoolkit.model.hbr.LinearParameterization'>\n",
      "slope_sigma <class 'pcntoolkit.model.hbr.FixedParameterization'>\n",
      "intercept_sigma <class 'pcntoolkit.model.hbr.FixedParameterization'>\n",
      "sigma <class 'pcntoolkit.model.hbr.LinearParameterization'>\n",
      "slope_epsilon <class 'pcntoolkit.model.hbr.FixedParameterization'>\n",
      "intercept_epsilon <class 'pcntoolkit.model.hbr.FixedParameterization'>\n",
      "epsilon <class 'pcntoolkit.model.hbr.LinearParameterization'>\n",
      "slope_delta <class 'pcntoolkit.model.hbr.FixedParameterization'>\n",
      "intercept_delta <class 'pcntoolkit.model.hbr.FixedParameterization'>\n",
      "delta <class 'pcntoolkit.model.hbr.LinearParameterization'>\n"
     ]
    },
    {
     "name": "stderr",
     "output_type": "stream",
     "text": [
      "Sampling: [y_like]\n"
     ]
    },
    {
     "data": {
      "text/html": [
       "\n",
       "<style>\n",
       "    /* Turns off some styling */\n",
       "    progress {\n",
       "        /* gets rid of default border in Firefox and Opera. */\n",
       "        border: none;\n",
       "        /* Needs to be in here for Safari polyfill so background images work as expected. */\n",
       "        background-size: auto;\n",
       "    }\n",
       "    progress:not([value]), progress:not([value])::-webkit-progress-bar {\n",
       "        background: repeating-linear-gradient(45deg, #7e7e7e, #7e7e7e 10px, #5c5c5c 10px, #5c5c5c 20px);\n",
       "    }\n",
       "    .progress-bar-interrupted, .progress-bar-interrupted::-webkit-progress-bar {\n",
       "        background: #F44336;\n",
       "    }\n",
       "</style>\n"
      ],
      "text/plain": [
       "<IPython.core.display.HTML object>"
      ]
     },
     "metadata": {},
     "output_type": "display_data"
    },
    {
     "data": {
      "text/html": [
       "\n",
       "    <div>\n",
       "      <progress value='2000' class='' max='2000' style='width:300px; height:20px; vertical-align: middle;'></progress>\n",
       "      100.00% [2000/2000 00:11&lt;00:00]\n",
       "    </div>\n",
       "    "
      ],
      "text/plain": [
       "<IPython.core.display.HTML object>"
      ]
     },
     "metadata": {},
     "output_type": "display_data"
    },
    {
     "name": "stdout",
     "output_type": "stream",
     "text": [
      "Done computing zscores in 37.272326707839966 seconds\n"
     ]
    },
    {
     "name": "stderr",
     "output_type": "stream",
     "text": [
      "Sampling: [y_like]\n"
     ]
    },
    {
     "name": "stdout",
     "output_type": "stream",
     "text": [
      "Computing zscores for NM_0_0_estimate.pkl\n",
      "Normal\n",
      "slope_mu <class 'pcntoolkit.model.hbr.FixedParameterization'>\n",
      "intercept_mu <class 'pcntoolkit.model.hbr.NonCentralRandomFixedParameterization'>\n",
      "mu <class 'pcntoolkit.model.hbr.LinearParameterization'>\n",
      "slope_sigma <class 'pcntoolkit.model.hbr.FixedParameterization'>\n",
      "intercept_sigma <class 'pcntoolkit.model.hbr.FixedParameterization'>\n",
      "sigma <class 'pcntoolkit.model.hbr.LinearParameterization'>\n"
     ]
    },
    {
     "data": {
      "text/html": [
       "\n",
       "<style>\n",
       "    /* Turns off some styling */\n",
       "    progress {\n",
       "        /* gets rid of default border in Firefox and Opera. */\n",
       "        border: none;\n",
       "        /* Needs to be in here for Safari polyfill so background images work as expected. */\n",
       "        background-size: auto;\n",
       "    }\n",
       "    progress:not([value]), progress:not([value])::-webkit-progress-bar {\n",
       "        background: repeating-linear-gradient(45deg, #7e7e7e, #7e7e7e 10px, #5c5c5c 10px, #5c5c5c 20px);\n",
       "    }\n",
       "    .progress-bar-interrupted, .progress-bar-interrupted::-webkit-progress-bar {\n",
       "        background: #F44336;\n",
       "    }\n",
       "</style>\n"
      ],
      "text/plain": [
       "<IPython.core.display.HTML object>"
      ]
     },
     "metadata": {},
     "output_type": "display_data"
    },
    {
     "data": {
      "text/html": [
       "\n",
       "    <div>\n",
       "      <progress value='2000' class='' max='2000' style='width:300px; height:20px; vertical-align: middle;'></progress>\n",
       "      100.00% [2000/2000 00:01&lt;00:00]\n",
       "    </div>\n",
       "    "
      ],
      "text/plain": [
       "<IPython.core.display.HTML object>"
      ]
     },
     "metadata": {},
     "output_type": "display_data"
    },
    {
     "name": "stdout",
     "output_type": "stream",
     "text": [
      "Done computing zscores in 2.162261962890625 seconds\n"
     ]
    },
    {
     "name": "stderr",
     "output_type": "stream",
     "text": [
      "Sampling: [y_like]\n"
     ]
    },
    {
     "name": "stdout",
     "output_type": "stream",
     "text": [
      "Computing zscores for NM_0_0_estimate.pkl\n",
      "SHASHo\n",
      "slope_mu <class 'pcntoolkit.model.hbr.FixedParameterization'>\n",
      "intercept_mu <class 'pcntoolkit.model.hbr.NonCentralRandomFixedParameterization'>\n",
      "mu <class 'pcntoolkit.model.hbr.LinearParameterization'>\n",
      "slope_sigma <class 'pcntoolkit.model.hbr.FixedParameterization'>\n",
      "intercept_sigma <class 'pcntoolkit.model.hbr.FixedParameterization'>\n",
      "sigma <class 'pcntoolkit.model.hbr.LinearParameterization'>\n",
      "epsilon <class 'pcntoolkit.model.hbr.FixedParameterization'>\n",
      "delta <class 'pcntoolkit.model.hbr.FixedParameterization'>\n"
     ]
    },
    {
     "data": {
      "text/html": [
       "\n",
       "<style>\n",
       "    /* Turns off some styling */\n",
       "    progress {\n",
       "        /* gets rid of default border in Firefox and Opera. */\n",
       "        border: none;\n",
       "        /* Needs to be in here for Safari polyfill so background images work as expected. */\n",
       "        background-size: auto;\n",
       "    }\n",
       "    progress:not([value]), progress:not([value])::-webkit-progress-bar {\n",
       "        background: repeating-linear-gradient(45deg, #7e7e7e, #7e7e7e 10px, #5c5c5c 10px, #5c5c5c 20px);\n",
       "    }\n",
       "    .progress-bar-interrupted, .progress-bar-interrupted::-webkit-progress-bar {\n",
       "        background: #F44336;\n",
       "    }\n",
       "</style>\n"
      ],
      "text/plain": [
       "<IPython.core.display.HTML object>"
      ]
     },
     "metadata": {},
     "output_type": "display_data"
    },
    {
     "data": {
      "text/html": [
       "\n",
       "    <div>\n",
       "      <progress value='2000' class='' max='2000' style='width:300px; height:20px; vertical-align: middle;'></progress>\n",
       "      100.00% [2000/2000 00:02&lt;00:00]\n",
       "    </div>\n",
       "    "
      ],
      "text/plain": [
       "<IPython.core.display.HTML object>"
      ]
     },
     "metadata": {},
     "output_type": "display_data"
    },
    {
     "name": "stdout",
     "output_type": "stream",
     "text": [
      "Done computing zscores in 3.6844680309295654 seconds\n"
     ]
    },
    {
     "name": "stderr",
     "output_type": "stream",
     "text": [
      "Sampling: [y_like]\n"
     ]
    },
    {
     "name": "stdout",
     "output_type": "stream",
     "text": [
      "Computing zscores for NM_0_0_estimate.pkl\n",
      "SHASHb\n",
      "slope_mu <class 'pcntoolkit.model.hbr.FixedParameterization'>\n",
      "intercept_mu <class 'pcntoolkit.model.hbr.NonCentralRandomFixedParameterization'>\n",
      "mu <class 'pcntoolkit.model.hbr.LinearParameterization'>\n",
      "slope_sigma <class 'pcntoolkit.model.hbr.FixedParameterization'>\n",
      "intercept_sigma <class 'pcntoolkit.model.hbr.FixedParameterization'>\n",
      "sigma <class 'pcntoolkit.model.hbr.LinearParameterization'>\n",
      "epsilon <class 'pcntoolkit.model.hbr.FixedParameterization'>\n",
      "delta <class 'pcntoolkit.model.hbr.FixedParameterization'>\n"
     ]
    },
    {
     "data": {
      "text/html": [
       "\n",
       "<style>\n",
       "    /* Turns off some styling */\n",
       "    progress {\n",
       "        /* gets rid of default border in Firefox and Opera. */\n",
       "        border: none;\n",
       "        /* Needs to be in here for Safari polyfill so background images work as expected. */\n",
       "        background-size: auto;\n",
       "    }\n",
       "    progress:not([value]), progress:not([value])::-webkit-progress-bar {\n",
       "        background: repeating-linear-gradient(45deg, #7e7e7e, #7e7e7e 10px, #5c5c5c 10px, #5c5c5c 20px);\n",
       "    }\n",
       "    .progress-bar-interrupted, .progress-bar-interrupted::-webkit-progress-bar {\n",
       "        background: #F44336;\n",
       "    }\n",
       "</style>\n"
      ],
      "text/plain": [
       "<IPython.core.display.HTML object>"
      ]
     },
     "metadata": {},
     "output_type": "display_data"
    },
    {
     "data": {
      "text/html": [
       "\n",
       "    <div>\n",
       "      <progress value='2000' class='' max='2000' style='width:300px; height:20px; vertical-align: middle;'></progress>\n",
       "      100.00% [2000/2000 00:02&lt;00:00]\n",
       "    </div>\n",
       "    "
      ],
      "text/plain": [
       "<IPython.core.display.HTML object>"
      ]
     },
     "metadata": {},
     "output_type": "display_data"
    },
    {
     "name": "stdout",
     "output_type": "stream",
     "text": [
      "Done computing zscores in 4.369227886199951 seconds\n",
      "Computing zscores for NM_0_0_estimate.pkl\n",
      "SHASHb\n",
      "slope_mu <class 'pcntoolkit.model.hbr.FixedParameterization'>\n",
      "intercept_mu <class 'pcntoolkit.model.hbr.NonCentralRandomFixedParameterization'>\n",
      "mu <class 'pcntoolkit.model.hbr.LinearParameterization'>\n",
      "slope_sigma <class 'pcntoolkit.model.hbr.FixedParameterization'>\n",
      "intercept_sigma <class 'pcntoolkit.model.hbr.FixedParameterization'>\n",
      "sigma <class 'pcntoolkit.model.hbr.LinearParameterization'>\n",
      "slope_epsilon <class 'pcntoolkit.model.hbr.FixedParameterization'>\n",
      "intercept_epsilon <class 'pcntoolkit.model.hbr.FixedParameterization'>\n",
      "epsilon <class 'pcntoolkit.model.hbr.LinearParameterization'>\n",
      "slope_delta <class 'pcntoolkit.model.hbr.FixedParameterization'>\n",
      "intercept_delta <class 'pcntoolkit.model.hbr.FixedParameterization'>\n",
      "delta <class 'pcntoolkit.model.hbr.LinearParameterization'>\n"
     ]
    },
    {
     "name": "stderr",
     "output_type": "stream",
     "text": [
      "Sampling: [y_like]\n"
     ]
    },
    {
     "data": {
      "text/html": [
       "\n",
       "<style>\n",
       "    /* Turns off some styling */\n",
       "    progress {\n",
       "        /* gets rid of default border in Firefox and Opera. */\n",
       "        border: none;\n",
       "        /* Needs to be in here for Safari polyfill so background images work as expected. */\n",
       "        background-size: auto;\n",
       "    }\n",
       "    progress:not([value]), progress:not([value])::-webkit-progress-bar {\n",
       "        background: repeating-linear-gradient(45deg, #7e7e7e, #7e7e7e 10px, #5c5c5c 10px, #5c5c5c 20px);\n",
       "    }\n",
       "    .progress-bar-interrupted, .progress-bar-interrupted::-webkit-progress-bar {\n",
       "        background: #F44336;\n",
       "    }\n",
       "</style>\n"
      ],
      "text/plain": [
       "<IPython.core.display.HTML object>"
      ]
     },
     "metadata": {},
     "output_type": "display_data"
    },
    {
     "data": {
      "text/html": [
       "\n",
       "    <div>\n",
       "      <progress value='2000' class='' max='2000' style='width:300px; height:20px; vertical-align: middle;'></progress>\n",
       "      100.00% [2000/2000 00:11&lt;00:00]\n",
       "    </div>\n",
       "    "
      ],
      "text/plain": [
       "<IPython.core.display.HTML object>"
      ]
     },
     "metadata": {},
     "output_type": "display_data"
    },
    {
     "name": "stdout",
     "output_type": "stream",
     "text": [
      "Done computing zscores in 39.310582399368286 seconds\n"
     ]
    },
    {
     "name": "stderr",
     "output_type": "stream",
     "text": [
      "Sampling: [y_like]\n"
     ]
    },
    {
     "name": "stdout",
     "output_type": "stream",
     "text": [
      "Computing zscores for NM_0_0_estimate.pkl\n",
      "Normal\n",
      "slope_mu <class 'pcntoolkit.model.hbr.FixedParameterization'>\n",
      "intercept_mu <class 'pcntoolkit.model.hbr.NonCentralRandomFixedParameterization'>\n",
      "mu <class 'pcntoolkit.model.hbr.LinearParameterization'>\n",
      "slope_sigma <class 'pcntoolkit.model.hbr.FixedParameterization'>\n",
      "intercept_sigma <class 'pcntoolkit.model.hbr.FixedParameterization'>\n",
      "sigma <class 'pcntoolkit.model.hbr.LinearParameterization'>\n"
     ]
    },
    {
     "data": {
      "text/html": [
       "\n",
       "<style>\n",
       "    /* Turns off some styling */\n",
       "    progress {\n",
       "        /* gets rid of default border in Firefox and Opera. */\n",
       "        border: none;\n",
       "        /* Needs to be in here for Safari polyfill so background images work as expected. */\n",
       "        background-size: auto;\n",
       "    }\n",
       "    progress:not([value]), progress:not([value])::-webkit-progress-bar {\n",
       "        background: repeating-linear-gradient(45deg, #7e7e7e, #7e7e7e 10px, #5c5c5c 10px, #5c5c5c 20px);\n",
       "    }\n",
       "    .progress-bar-interrupted, .progress-bar-interrupted::-webkit-progress-bar {\n",
       "        background: #F44336;\n",
       "    }\n",
       "</style>\n"
      ],
      "text/plain": [
       "<IPython.core.display.HTML object>"
      ]
     },
     "metadata": {},
     "output_type": "display_data"
    },
    {
     "data": {
      "text/html": [
       "\n",
       "    <div>\n",
       "      <progress value='2000' class='' max='2000' style='width:300px; height:20px; vertical-align: middle;'></progress>\n",
       "      100.00% [2000/2000 00:01&lt;00:00]\n",
       "    </div>\n",
       "    "
      ],
      "text/plain": [
       "<IPython.core.display.HTML object>"
      ]
     },
     "metadata": {},
     "output_type": "display_data"
    },
    {
     "name": "stdout",
     "output_type": "stream",
     "text": [
      "Done computing zscores in 2.05145263671875 seconds\n"
     ]
    },
    {
     "name": "stderr",
     "output_type": "stream",
     "text": [
      "Sampling: [y_like]\n"
     ]
    },
    {
     "name": "stdout",
     "output_type": "stream",
     "text": [
      "Computing zscores for NM_0_0_estimate.pkl\n",
      "SHASHo\n",
      "slope_mu <class 'pcntoolkit.model.hbr.FixedParameterization'>\n",
      "intercept_mu <class 'pcntoolkit.model.hbr.NonCentralRandomFixedParameterization'>\n",
      "mu <class 'pcntoolkit.model.hbr.LinearParameterization'>\n",
      "slope_sigma <class 'pcntoolkit.model.hbr.FixedParameterization'>\n",
      "intercept_sigma <class 'pcntoolkit.model.hbr.FixedParameterization'>\n",
      "sigma <class 'pcntoolkit.model.hbr.LinearParameterization'>\n",
      "epsilon <class 'pcntoolkit.model.hbr.FixedParameterization'>\n",
      "delta <class 'pcntoolkit.model.hbr.FixedParameterization'>\n"
     ]
    },
    {
     "data": {
      "text/html": [
       "\n",
       "<style>\n",
       "    /* Turns off some styling */\n",
       "    progress {\n",
       "        /* gets rid of default border in Firefox and Opera. */\n",
       "        border: none;\n",
       "        /* Needs to be in here for Safari polyfill so background images work as expected. */\n",
       "        background-size: auto;\n",
       "    }\n",
       "    progress:not([value]), progress:not([value])::-webkit-progress-bar {\n",
       "        background: repeating-linear-gradient(45deg, #7e7e7e, #7e7e7e 10px, #5c5c5c 10px, #5c5c5c 20px);\n",
       "    }\n",
       "    .progress-bar-interrupted, .progress-bar-interrupted::-webkit-progress-bar {\n",
       "        background: #F44336;\n",
       "    }\n",
       "</style>\n"
      ],
      "text/plain": [
       "<IPython.core.display.HTML object>"
      ]
     },
     "metadata": {},
     "output_type": "display_data"
    },
    {
     "data": {
      "text/html": [
       "\n",
       "    <div>\n",
       "      <progress value='2000' class='' max='2000' style='width:300px; height:20px; vertical-align: middle;'></progress>\n",
       "      100.00% [2000/2000 00:02&lt;00:00]\n",
       "    </div>\n",
       "    "
      ],
      "text/plain": [
       "<IPython.core.display.HTML object>"
      ]
     },
     "metadata": {},
     "output_type": "display_data"
    },
    {
     "name": "stdout",
     "output_type": "stream",
     "text": [
      "Done computing zscores in 3.6942873001098633 seconds\n",
      "Computing zscores for NM_0_0_estimate.pkl\n",
      "SHASHb\n",
      "slope_mu <class 'pcntoolkit.model.hbr.FixedParameterization'>\n",
      "intercept_mu <class 'pcntoolkit.model.hbr.NonCentralRandomFixedParameterization'>\n",
      "mu <class 'pcntoolkit.model.hbr.LinearParameterization'>\n",
      "slope_sigma <class 'pcntoolkit.model.hbr.FixedParameterization'>\n",
      "intercept_sigma <class 'pcntoolkit.model.hbr.FixedParameterization'>\n",
      "sigma <class 'pcntoolkit.model.hbr.LinearParameterization'>\n",
      "epsilon <class 'pcntoolkit.model.hbr.FixedParameterization'>\n",
      "delta <class 'pcntoolkit.model.hbr.FixedParameterization'>\n"
     ]
    },
    {
     "name": "stderr",
     "output_type": "stream",
     "text": [
      "Sampling: [y_like]\n"
     ]
    },
    {
     "data": {
      "text/html": [
       "\n",
       "<style>\n",
       "    /* Turns off some styling */\n",
       "    progress {\n",
       "        /* gets rid of default border in Firefox and Opera. */\n",
       "        border: none;\n",
       "        /* Needs to be in here for Safari polyfill so background images work as expected. */\n",
       "        background-size: auto;\n",
       "    }\n",
       "    progress:not([value]), progress:not([value])::-webkit-progress-bar {\n",
       "        background: repeating-linear-gradient(45deg, #7e7e7e, #7e7e7e 10px, #5c5c5c 10px, #5c5c5c 20px);\n",
       "    }\n",
       "    .progress-bar-interrupted, .progress-bar-interrupted::-webkit-progress-bar {\n",
       "        background: #F44336;\n",
       "    }\n",
       "</style>\n"
      ],
      "text/plain": [
       "<IPython.core.display.HTML object>"
      ]
     },
     "metadata": {},
     "output_type": "display_data"
    },
    {
     "data": {
      "text/html": [
       "\n",
       "    <div>\n",
       "      <progress value='2000' class='' max='2000' style='width:300px; height:20px; vertical-align: middle;'></progress>\n",
       "      100.00% [2000/2000 00:02&lt;00:00]\n",
       "    </div>\n",
       "    "
      ],
      "text/plain": [
       "<IPython.core.display.HTML object>"
      ]
     },
     "metadata": {},
     "output_type": "display_data"
    },
    {
     "name": "stdout",
     "output_type": "stream",
     "text": [
      "Done computing zscores in 4.443136930465698 seconds\n",
      "Computing zscores for NM_0_0_estimate.pkl\n",
      "SHASHb\n",
      "slope_mu <class 'pcntoolkit.model.hbr.FixedParameterization'>\n",
      "intercept_mu <class 'pcntoolkit.model.hbr.NonCentralRandomFixedParameterization'>\n",
      "mu <class 'pcntoolkit.model.hbr.LinearParameterization'>\n",
      "slope_sigma <class 'pcntoolkit.model.hbr.FixedParameterization'>\n",
      "intercept_sigma <class 'pcntoolkit.model.hbr.FixedParameterization'>\n",
      "sigma <class 'pcntoolkit.model.hbr.LinearParameterization'>\n",
      "slope_epsilon <class 'pcntoolkit.model.hbr.FixedParameterization'>\n",
      "intercept_epsilon <class 'pcntoolkit.model.hbr.FixedParameterization'>\n",
      "epsilon <class 'pcntoolkit.model.hbr.LinearParameterization'>\n",
      "slope_delta <class 'pcntoolkit.model.hbr.FixedParameterization'>\n",
      "intercept_delta <class 'pcntoolkit.model.hbr.FixedParameterization'>\n",
      "delta <class 'pcntoolkit.model.hbr.LinearParameterization'>\n"
     ]
    },
    {
     "name": "stderr",
     "output_type": "stream",
     "text": [
      "Sampling: [y_like]\n"
     ]
    },
    {
     "data": {
      "text/html": [
       "\n",
       "<style>\n",
       "    /* Turns off some styling */\n",
       "    progress {\n",
       "        /* gets rid of default border in Firefox and Opera. */\n",
       "        border: none;\n",
       "        /* Needs to be in here for Safari polyfill so background images work as expected. */\n",
       "        background-size: auto;\n",
       "    }\n",
       "    progress:not([value]), progress:not([value])::-webkit-progress-bar {\n",
       "        background: repeating-linear-gradient(45deg, #7e7e7e, #7e7e7e 10px, #5c5c5c 10px, #5c5c5c 20px);\n",
       "    }\n",
       "    .progress-bar-interrupted, .progress-bar-interrupted::-webkit-progress-bar {\n",
       "        background: #F44336;\n",
       "    }\n",
       "</style>\n"
      ],
      "text/plain": [
       "<IPython.core.display.HTML object>"
      ]
     },
     "metadata": {},
     "output_type": "display_data"
    },
    {
     "data": {
      "text/html": [
       "\n",
       "    <div>\n",
       "      <progress value='2000' class='' max='2000' style='width:300px; height:20px; vertical-align: middle;'></progress>\n",
       "      100.00% [2000/2000 00:10&lt;00:00]\n",
       "    </div>\n",
       "    "
      ],
      "text/plain": [
       "<IPython.core.display.HTML object>"
      ]
     },
     "metadata": {},
     "output_type": "display_data"
    },
    {
     "name": "stdout",
     "output_type": "stream",
     "text": [
      "Done computing zscores in 38.162081480026245 seconds\n"
     ]
    },
    {
     "name": "stderr",
     "output_type": "stream",
     "text": [
      "Sampling: [y_like]\n"
     ]
    },
    {
     "name": "stdout",
     "output_type": "stream",
     "text": [
      "Computing zscores for NM_0_0_estimate.pkl\n",
      "Normal\n",
      "slope_mu <class 'pcntoolkit.model.hbr.FixedParameterization'>\n",
      "intercept_mu <class 'pcntoolkit.model.hbr.NonCentralRandomFixedParameterization'>\n",
      "mu <class 'pcntoolkit.model.hbr.LinearParameterization'>\n",
      "slope_sigma <class 'pcntoolkit.model.hbr.FixedParameterization'>\n",
      "intercept_sigma <class 'pcntoolkit.model.hbr.FixedParameterization'>\n",
      "sigma <class 'pcntoolkit.model.hbr.LinearParameterization'>\n"
     ]
    },
    {
     "data": {
      "text/html": [
       "\n",
       "<style>\n",
       "    /* Turns off some styling */\n",
       "    progress {\n",
       "        /* gets rid of default border in Firefox and Opera. */\n",
       "        border: none;\n",
       "        /* Needs to be in here for Safari polyfill so background images work as expected. */\n",
       "        background-size: auto;\n",
       "    }\n",
       "    progress:not([value]), progress:not([value])::-webkit-progress-bar {\n",
       "        background: repeating-linear-gradient(45deg, #7e7e7e, #7e7e7e 10px, #5c5c5c 10px, #5c5c5c 20px);\n",
       "    }\n",
       "    .progress-bar-interrupted, .progress-bar-interrupted::-webkit-progress-bar {\n",
       "        background: #F44336;\n",
       "    }\n",
       "</style>\n"
      ],
      "text/plain": [
       "<IPython.core.display.HTML object>"
      ]
     },
     "metadata": {},
     "output_type": "display_data"
    },
    {
     "data": {
      "text/html": [
       "\n",
       "    <div>\n",
       "      <progress value='2000' class='' max='2000' style='width:300px; height:20px; vertical-align: middle;'></progress>\n",
       "      100.00% [2000/2000 00:01&lt;00:00]\n",
       "    </div>\n",
       "    "
      ],
      "text/plain": [
       "<IPython.core.display.HTML object>"
      ]
     },
     "metadata": {},
     "output_type": "display_data"
    },
    {
     "name": "stdout",
     "output_type": "stream",
     "text": [
      "Done computing zscores in 2.0461602210998535 seconds\n",
      "Computing zscores for NM_0_0_estimate.pkl\n",
      "SHASHo\n",
      "slope_mu <class 'pcntoolkit.model.hbr.FixedParameterization'>\n",
      "intercept_mu <class 'pcntoolkit.model.hbr.NonCentralRandomFixedParameterization'>\n",
      "mu <class 'pcntoolkit.model.hbr.LinearParameterization'>\n",
      "slope_sigma <class 'pcntoolkit.model.hbr.FixedParameterization'>\n",
      "intercept_sigma <class 'pcntoolkit.model.hbr.FixedParameterization'>\n",
      "sigma <class 'pcntoolkit.model.hbr.LinearParameterization'>\n",
      "epsilon <class 'pcntoolkit.model.hbr.FixedParameterization'>\n",
      "delta <class 'pcntoolkit.model.hbr.FixedParameterization'>\n"
     ]
    },
    {
     "name": "stderr",
     "output_type": "stream",
     "text": [
      "Sampling: [y_like]\n"
     ]
    },
    {
     "data": {
      "text/html": [
       "\n",
       "<style>\n",
       "    /* Turns off some styling */\n",
       "    progress {\n",
       "        /* gets rid of default border in Firefox and Opera. */\n",
       "        border: none;\n",
       "        /* Needs to be in here for Safari polyfill so background images work as expected. */\n",
       "        background-size: auto;\n",
       "    }\n",
       "    progress:not([value]), progress:not([value])::-webkit-progress-bar {\n",
       "        background: repeating-linear-gradient(45deg, #7e7e7e, #7e7e7e 10px, #5c5c5c 10px, #5c5c5c 20px);\n",
       "    }\n",
       "    .progress-bar-interrupted, .progress-bar-interrupted::-webkit-progress-bar {\n",
       "        background: #F44336;\n",
       "    }\n",
       "</style>\n"
      ],
      "text/plain": [
       "<IPython.core.display.HTML object>"
      ]
     },
     "metadata": {},
     "output_type": "display_data"
    },
    {
     "data": {
      "text/html": [
       "\n",
       "    <div>\n",
       "      <progress value='2000' class='' max='2000' style='width:300px; height:20px; vertical-align: middle;'></progress>\n",
       "      100.00% [2000/2000 00:02&lt;00:00]\n",
       "    </div>\n",
       "    "
      ],
      "text/plain": [
       "<IPython.core.display.HTML object>"
      ]
     },
     "metadata": {},
     "output_type": "display_data"
    },
    {
     "name": "stdout",
     "output_type": "stream",
     "text": [
      "Done computing zscores in 3.7299795150756836 seconds\n",
      "Computing zscores for NM_0_0_estimate.pkl\n",
      "SHASHb\n",
      "slope_mu <class 'pcntoolkit.model.hbr.FixedParameterization'>\n",
      "intercept_mu <class 'pcntoolkit.model.hbr.NonCentralRandomFixedParameterization'>\n",
      "mu <class 'pcntoolkit.model.hbr.LinearParameterization'>\n",
      "slope_sigma <class 'pcntoolkit.model.hbr.FixedParameterization'>\n",
      "intercept_sigma <class 'pcntoolkit.model.hbr.FixedParameterization'>\n",
      "sigma <class 'pcntoolkit.model.hbr.LinearParameterization'>\n",
      "epsilon <class 'pcntoolkit.model.hbr.FixedParameterization'>\n",
      "delta <class 'pcntoolkit.model.hbr.FixedParameterization'>\n"
     ]
    },
    {
     "name": "stderr",
     "output_type": "stream",
     "text": [
      "Sampling: [y_like]\n"
     ]
    },
    {
     "data": {
      "text/html": [
       "\n",
       "<style>\n",
       "    /* Turns off some styling */\n",
       "    progress {\n",
       "        /* gets rid of default border in Firefox and Opera. */\n",
       "        border: none;\n",
       "        /* Needs to be in here for Safari polyfill so background images work as expected. */\n",
       "        background-size: auto;\n",
       "    }\n",
       "    progress:not([value]), progress:not([value])::-webkit-progress-bar {\n",
       "        background: repeating-linear-gradient(45deg, #7e7e7e, #7e7e7e 10px, #5c5c5c 10px, #5c5c5c 20px);\n",
       "    }\n",
       "    .progress-bar-interrupted, .progress-bar-interrupted::-webkit-progress-bar {\n",
       "        background: #F44336;\n",
       "    }\n",
       "</style>\n"
      ],
      "text/plain": [
       "<IPython.core.display.HTML object>"
      ]
     },
     "metadata": {},
     "output_type": "display_data"
    },
    {
     "data": {
      "text/html": [
       "\n",
       "    <div>\n",
       "      <progress value='2000' class='' max='2000' style='width:300px; height:20px; vertical-align: middle;'></progress>\n",
       "      100.00% [2000/2000 00:02&lt;00:00]\n",
       "    </div>\n",
       "    "
      ],
      "text/plain": [
       "<IPython.core.display.HTML object>"
      ]
     },
     "metadata": {},
     "output_type": "display_data"
    },
    {
     "name": "stdout",
     "output_type": "stream",
     "text": [
      "Done computing zscores in 4.55007791519165 seconds\n",
      "Computing zscores for NM_0_0_estimate.pkl\n",
      "SHASHb\n",
      "slope_mu <class 'pcntoolkit.model.hbr.FixedParameterization'>\n",
      "intercept_mu <class 'pcntoolkit.model.hbr.NonCentralRandomFixedParameterization'>\n",
      "mu <class 'pcntoolkit.model.hbr.LinearParameterization'>\n",
      "slope_sigma <class 'pcntoolkit.model.hbr.FixedParameterization'>\n",
      "intercept_sigma <class 'pcntoolkit.model.hbr.FixedParameterization'>\n",
      "sigma <class 'pcntoolkit.model.hbr.LinearParameterization'>\n",
      "slope_epsilon <class 'pcntoolkit.model.hbr.FixedParameterization'>\n",
      "intercept_epsilon <class 'pcntoolkit.model.hbr.FixedParameterization'>\n",
      "epsilon <class 'pcntoolkit.model.hbr.LinearParameterization'>\n",
      "slope_delta <class 'pcntoolkit.model.hbr.FixedParameterization'>\n",
      "intercept_delta <class 'pcntoolkit.model.hbr.FixedParameterization'>\n",
      "delta <class 'pcntoolkit.model.hbr.LinearParameterization'>\n"
     ]
    },
    {
     "name": "stderr",
     "output_type": "stream",
     "text": [
      "Sampling: [y_like]\n"
     ]
    },
    {
     "data": {
      "text/html": [
       "\n",
       "<style>\n",
       "    /* Turns off some styling */\n",
       "    progress {\n",
       "        /* gets rid of default border in Firefox and Opera. */\n",
       "        border: none;\n",
       "        /* Needs to be in here for Safari polyfill so background images work as expected. */\n",
       "        background-size: auto;\n",
       "    }\n",
       "    progress:not([value]), progress:not([value])::-webkit-progress-bar {\n",
       "        background: repeating-linear-gradient(45deg, #7e7e7e, #7e7e7e 10px, #5c5c5c 10px, #5c5c5c 20px);\n",
       "    }\n",
       "    .progress-bar-interrupted, .progress-bar-interrupted::-webkit-progress-bar {\n",
       "        background: #F44336;\n",
       "    }\n",
       "</style>\n"
      ],
      "text/plain": [
       "<IPython.core.display.HTML object>"
      ]
     },
     "metadata": {},
     "output_type": "display_data"
    },
    {
     "data": {
      "text/html": [
       "\n",
       "    <div>\n",
       "      <progress value='2000' class='' max='2000' style='width:300px; height:20px; vertical-align: middle;'></progress>\n",
       "      100.00% [2000/2000 00:11&lt;00:00]\n",
       "    </div>\n",
       "    "
      ],
      "text/plain": [
       "<IPython.core.display.HTML object>"
      ]
     },
     "metadata": {},
     "output_type": "display_data"
    },
    {
     "name": "stdout",
     "output_type": "stream",
     "text": [
      "Done computing zscores in 36.10978627204895 seconds\n"
     ]
    },
    {
     "name": "stderr",
     "output_type": "stream",
     "text": [
      "Sampling: [y_like]\n"
     ]
    },
    {
     "name": "stdout",
     "output_type": "stream",
     "text": [
      "Computing zscores for NM_0_0_estimate.pkl\n",
      "Normal\n",
      "slope_mu <class 'pcntoolkit.model.hbr.FixedParameterization'>\n",
      "intercept_mu <class 'pcntoolkit.model.hbr.NonCentralRandomFixedParameterization'>\n",
      "mu <class 'pcntoolkit.model.hbr.LinearParameterization'>\n",
      "slope_sigma <class 'pcntoolkit.model.hbr.FixedParameterization'>\n",
      "intercept_sigma <class 'pcntoolkit.model.hbr.FixedParameterization'>\n",
      "sigma <class 'pcntoolkit.model.hbr.LinearParameterization'>\n"
     ]
    },
    {
     "data": {
      "text/html": [
       "\n",
       "<style>\n",
       "    /* Turns off some styling */\n",
       "    progress {\n",
       "        /* gets rid of default border in Firefox and Opera. */\n",
       "        border: none;\n",
       "        /* Needs to be in here for Safari polyfill so background images work as expected. */\n",
       "        background-size: auto;\n",
       "    }\n",
       "    progress:not([value]), progress:not([value])::-webkit-progress-bar {\n",
       "        background: repeating-linear-gradient(45deg, #7e7e7e, #7e7e7e 10px, #5c5c5c 10px, #5c5c5c 20px);\n",
       "    }\n",
       "    .progress-bar-interrupted, .progress-bar-interrupted::-webkit-progress-bar {\n",
       "        background: #F44336;\n",
       "    }\n",
       "</style>\n"
      ],
      "text/plain": [
       "<IPython.core.display.HTML object>"
      ]
     },
     "metadata": {},
     "output_type": "display_data"
    },
    {
     "data": {
      "text/html": [
       "\n",
       "    <div>\n",
       "      <progress value='2000' class='' max='2000' style='width:300px; height:20px; vertical-align: middle;'></progress>\n",
       "      100.00% [2000/2000 00:01&lt;00:00]\n",
       "    </div>\n",
       "    "
      ],
      "text/plain": [
       "<IPython.core.display.HTML object>"
      ]
     },
     "metadata": {},
     "output_type": "display_data"
    },
    {
     "name": "stdout",
     "output_type": "stream",
     "text": [
      "Done computing zscores in 2.2072722911834717 seconds\n",
      "Computing zscores for NM_0_0_estimate.pkl\n",
      "SHASHo\n",
      "slope_mu <class 'pcntoolkit.model.hbr.FixedParameterization'>\n",
      "intercept_mu <class 'pcntoolkit.model.hbr.NonCentralRandomFixedParameterization'>\n",
      "mu <class 'pcntoolkit.model.hbr.LinearParameterization'>\n",
      "slope_sigma <class 'pcntoolkit.model.hbr.FixedParameterization'>\n",
      "intercept_sigma <class 'pcntoolkit.model.hbr.FixedParameterization'>\n",
      "sigma <class 'pcntoolkit.model.hbr.LinearParameterization'>\n",
      "epsilon <class 'pcntoolkit.model.hbr.FixedParameterization'>\n",
      "delta <class 'pcntoolkit.model.hbr.FixedParameterization'>\n"
     ]
    },
    {
     "name": "stderr",
     "output_type": "stream",
     "text": [
      "Sampling: [y_like]\n"
     ]
    },
    {
     "data": {
      "text/html": [
       "\n",
       "<style>\n",
       "    /* Turns off some styling */\n",
       "    progress {\n",
       "        /* gets rid of default border in Firefox and Opera. */\n",
       "        border: none;\n",
       "        /* Needs to be in here for Safari polyfill so background images work as expected. */\n",
       "        background-size: auto;\n",
       "    }\n",
       "    progress:not([value]), progress:not([value])::-webkit-progress-bar {\n",
       "        background: repeating-linear-gradient(45deg, #7e7e7e, #7e7e7e 10px, #5c5c5c 10px, #5c5c5c 20px);\n",
       "    }\n",
       "    .progress-bar-interrupted, .progress-bar-interrupted::-webkit-progress-bar {\n",
       "        background: #F44336;\n",
       "    }\n",
       "</style>\n"
      ],
      "text/plain": [
       "<IPython.core.display.HTML object>"
      ]
     },
     "metadata": {},
     "output_type": "display_data"
    },
    {
     "data": {
      "text/html": [
       "\n",
       "    <div>\n",
       "      <progress value='2000' class='' max='2000' style='width:300px; height:20px; vertical-align: middle;'></progress>\n",
       "      100.00% [2000/2000 00:02&lt;00:00]\n",
       "    </div>\n",
       "    "
      ],
      "text/plain": [
       "<IPython.core.display.HTML object>"
      ]
     },
     "metadata": {},
     "output_type": "display_data"
    },
    {
     "name": "stdout",
     "output_type": "stream",
     "text": [
      "Done computing zscores in 3.816411018371582 seconds\n",
      "Computing zscores for NM_0_0_estimate.pkl\n",
      "SHASHb\n",
      "slope_mu <class 'pcntoolkit.model.hbr.FixedParameterization'>\n",
      "intercept_mu <class 'pcntoolkit.model.hbr.NonCentralRandomFixedParameterization'>\n",
      "mu <class 'pcntoolkit.model.hbr.LinearParameterization'>\n",
      "slope_sigma <class 'pcntoolkit.model.hbr.FixedParameterization'>\n",
      "intercept_sigma <class 'pcntoolkit.model.hbr.FixedParameterization'>\n",
      "sigma <class 'pcntoolkit.model.hbr.LinearParameterization'>\n",
      "epsilon <class 'pcntoolkit.model.hbr.FixedParameterization'>\n",
      "delta <class 'pcntoolkit.model.hbr.FixedParameterization'>\n"
     ]
    },
    {
     "name": "stderr",
     "output_type": "stream",
     "text": [
      "Sampling: [y_like]\n"
     ]
    },
    {
     "data": {
      "text/html": [
       "\n",
       "<style>\n",
       "    /* Turns off some styling */\n",
       "    progress {\n",
       "        /* gets rid of default border in Firefox and Opera. */\n",
       "        border: none;\n",
       "        /* Needs to be in here for Safari polyfill so background images work as expected. */\n",
       "        background-size: auto;\n",
       "    }\n",
       "    progress:not([value]), progress:not([value])::-webkit-progress-bar {\n",
       "        background: repeating-linear-gradient(45deg, #7e7e7e, #7e7e7e 10px, #5c5c5c 10px, #5c5c5c 20px);\n",
       "    }\n",
       "    .progress-bar-interrupted, .progress-bar-interrupted::-webkit-progress-bar {\n",
       "        background: #F44336;\n",
       "    }\n",
       "</style>\n"
      ],
      "text/plain": [
       "<IPython.core.display.HTML object>"
      ]
     },
     "metadata": {},
     "output_type": "display_data"
    },
    {
     "data": {
      "text/html": [
       "\n",
       "    <div>\n",
       "      <progress value='2000' class='' max='2000' style='width:300px; height:20px; vertical-align: middle;'></progress>\n",
       "      100.00% [2000/2000 00:02&lt;00:00]\n",
       "    </div>\n",
       "    "
      ],
      "text/plain": [
       "<IPython.core.display.HTML object>"
      ]
     },
     "metadata": {},
     "output_type": "display_data"
    },
    {
     "name": "stdout",
     "output_type": "stream",
     "text": [
      "Done computing zscores in 4.460118055343628 seconds\n",
      "Computing zscores for NM_0_0_estimate.pkl\n",
      "SHASHb\n",
      "slope_mu <class 'pcntoolkit.model.hbr.FixedParameterization'>\n",
      "intercept_mu <class 'pcntoolkit.model.hbr.NonCentralRandomFixedParameterization'>\n",
      "mu <class 'pcntoolkit.model.hbr.LinearParameterization'>\n",
      "slope_sigma <class 'pcntoolkit.model.hbr.FixedParameterization'>\n",
      "intercept_sigma <class 'pcntoolkit.model.hbr.FixedParameterization'>\n",
      "sigma <class 'pcntoolkit.model.hbr.LinearParameterization'>\n",
      "slope_epsilon <class 'pcntoolkit.model.hbr.FixedParameterization'>\n",
      "intercept_epsilon <class 'pcntoolkit.model.hbr.FixedParameterization'>\n",
      "epsilon <class 'pcntoolkit.model.hbr.LinearParameterization'>\n",
      "slope_delta <class 'pcntoolkit.model.hbr.FixedParameterization'>\n",
      "intercept_delta <class 'pcntoolkit.model.hbr.FixedParameterization'>\n",
      "delta <class 'pcntoolkit.model.hbr.LinearParameterization'>\n"
     ]
    },
    {
     "name": "stderr",
     "output_type": "stream",
     "text": [
      "Sampling: [y_like]\n"
     ]
    },
    {
     "data": {
      "text/html": [
       "\n",
       "<style>\n",
       "    /* Turns off some styling */\n",
       "    progress {\n",
       "        /* gets rid of default border in Firefox and Opera. */\n",
       "        border: none;\n",
       "        /* Needs to be in here for Safari polyfill so background images work as expected. */\n",
       "        background-size: auto;\n",
       "    }\n",
       "    progress:not([value]), progress:not([value])::-webkit-progress-bar {\n",
       "        background: repeating-linear-gradient(45deg, #7e7e7e, #7e7e7e 10px, #5c5c5c 10px, #5c5c5c 20px);\n",
       "    }\n",
       "    .progress-bar-interrupted, .progress-bar-interrupted::-webkit-progress-bar {\n",
       "        background: #F44336;\n",
       "    }\n",
       "</style>\n"
      ],
      "text/plain": [
       "<IPython.core.display.HTML object>"
      ]
     },
     "metadata": {},
     "output_type": "display_data"
    },
    {
     "data": {
      "text/html": [
       "\n",
       "    <div>\n",
       "      <progress value='2000' class='' max='2000' style='width:300px; height:20px; vertical-align: middle;'></progress>\n",
       "      100.00% [2000/2000 00:11&lt;00:00]\n",
       "    </div>\n",
       "    "
      ],
      "text/plain": [
       "<IPython.core.display.HTML object>"
      ]
     },
     "metadata": {},
     "output_type": "display_data"
    },
    {
     "name": "stdout",
     "output_type": "stream",
     "text": [
      "Done computing zscores in 37.39972400665283 seconds\n"
     ]
    },
    {
     "name": "stderr",
     "output_type": "stream",
     "text": [
      "Sampling: [y_like]\n"
     ]
    },
    {
     "name": "stdout",
     "output_type": "stream",
     "text": [
      "Computing zscores for NM_0_0_estimate.pkl\n",
      "Normal\n",
      "slope_mu <class 'pcntoolkit.model.hbr.FixedParameterization'>\n",
      "intercept_mu <class 'pcntoolkit.model.hbr.NonCentralRandomFixedParameterization'>\n",
      "mu <class 'pcntoolkit.model.hbr.LinearParameterization'>\n",
      "slope_sigma <class 'pcntoolkit.model.hbr.FixedParameterization'>\n",
      "intercept_sigma <class 'pcntoolkit.model.hbr.FixedParameterization'>\n",
      "sigma <class 'pcntoolkit.model.hbr.LinearParameterization'>\n"
     ]
    },
    {
     "data": {
      "text/html": [
       "\n",
       "<style>\n",
       "    /* Turns off some styling */\n",
       "    progress {\n",
       "        /* gets rid of default border in Firefox and Opera. */\n",
       "        border: none;\n",
       "        /* Needs to be in here for Safari polyfill so background images work as expected. */\n",
       "        background-size: auto;\n",
       "    }\n",
       "    progress:not([value]), progress:not([value])::-webkit-progress-bar {\n",
       "        background: repeating-linear-gradient(45deg, #7e7e7e, #7e7e7e 10px, #5c5c5c 10px, #5c5c5c 20px);\n",
       "    }\n",
       "    .progress-bar-interrupted, .progress-bar-interrupted::-webkit-progress-bar {\n",
       "        background: #F44336;\n",
       "    }\n",
       "</style>\n"
      ],
      "text/plain": [
       "<IPython.core.display.HTML object>"
      ]
     },
     "metadata": {},
     "output_type": "display_data"
    },
    {
     "data": {
      "text/html": [
       "\n",
       "    <div>\n",
       "      <progress value='2000' class='' max='2000' style='width:300px; height:20px; vertical-align: middle;'></progress>\n",
       "      100.00% [2000/2000 00:01&lt;00:00]\n",
       "    </div>\n",
       "    "
      ],
      "text/plain": [
       "<IPython.core.display.HTML object>"
      ]
     },
     "metadata": {},
     "output_type": "display_data"
    },
    {
     "name": "stdout",
     "output_type": "stream",
     "text": [
      "Done computing zscores in 2.1905133724212646 seconds\n",
      "Computing zscores for NM_0_0_estimate.pkl\n",
      "SHASHo\n",
      "slope_mu <class 'pcntoolkit.model.hbr.FixedParameterization'>\n",
      "intercept_mu <class 'pcntoolkit.model.hbr.NonCentralRandomFixedParameterization'>\n",
      "mu <class 'pcntoolkit.model.hbr.LinearParameterization'>\n",
      "slope_sigma <class 'pcntoolkit.model.hbr.FixedParameterization'>\n",
      "intercept_sigma <class 'pcntoolkit.model.hbr.FixedParameterization'>\n",
      "sigma <class 'pcntoolkit.model.hbr.LinearParameterization'>\n",
      "epsilon <class 'pcntoolkit.model.hbr.FixedParameterization'>\n",
      "delta <class 'pcntoolkit.model.hbr.FixedParameterization'>\n"
     ]
    },
    {
     "name": "stderr",
     "output_type": "stream",
     "text": [
      "Sampling: [y_like]\n"
     ]
    },
    {
     "data": {
      "text/html": [
       "\n",
       "<style>\n",
       "    /* Turns off some styling */\n",
       "    progress {\n",
       "        /* gets rid of default border in Firefox and Opera. */\n",
       "        border: none;\n",
       "        /* Needs to be in here for Safari polyfill so background images work as expected. */\n",
       "        background-size: auto;\n",
       "    }\n",
       "    progress:not([value]), progress:not([value])::-webkit-progress-bar {\n",
       "        background: repeating-linear-gradient(45deg, #7e7e7e, #7e7e7e 10px, #5c5c5c 10px, #5c5c5c 20px);\n",
       "    }\n",
       "    .progress-bar-interrupted, .progress-bar-interrupted::-webkit-progress-bar {\n",
       "        background: #F44336;\n",
       "    }\n",
       "</style>\n"
      ],
      "text/plain": [
       "<IPython.core.display.HTML object>"
      ]
     },
     "metadata": {},
     "output_type": "display_data"
    },
    {
     "data": {
      "text/html": [
       "\n",
       "    <div>\n",
       "      <progress value='2000' class='' max='2000' style='width:300px; height:20px; vertical-align: middle;'></progress>\n",
       "      100.00% [2000/2000 00:02&lt;00:00]\n",
       "    </div>\n",
       "    "
      ],
      "text/plain": [
       "<IPython.core.display.HTML object>"
      ]
     },
     "metadata": {},
     "output_type": "display_data"
    },
    {
     "name": "stdout",
     "output_type": "stream",
     "text": [
      "Done computing zscores in 3.8061952590942383 seconds\n",
      "Computing zscores for NM_0_0_estimate.pkl\n",
      "SHASHb\n",
      "slope_mu <class 'pcntoolkit.model.hbr.FixedParameterization'>\n",
      "intercept_mu <class 'pcntoolkit.model.hbr.NonCentralRandomFixedParameterization'>\n",
      "mu <class 'pcntoolkit.model.hbr.LinearParameterization'>\n",
      "slope_sigma <class 'pcntoolkit.model.hbr.FixedParameterization'>\n",
      "intercept_sigma <class 'pcntoolkit.model.hbr.FixedParameterization'>\n",
      "sigma <class 'pcntoolkit.model.hbr.LinearParameterization'>\n",
      "epsilon <class 'pcntoolkit.model.hbr.FixedParameterization'>\n",
      "delta <class 'pcntoolkit.model.hbr.FixedParameterization'>\n"
     ]
    },
    {
     "name": "stderr",
     "output_type": "stream",
     "text": [
      "Sampling: [y_like]\n"
     ]
    },
    {
     "data": {
      "text/html": [
       "\n",
       "<style>\n",
       "    /* Turns off some styling */\n",
       "    progress {\n",
       "        /* gets rid of default border in Firefox and Opera. */\n",
       "        border: none;\n",
       "        /* Needs to be in here for Safari polyfill so background images work as expected. */\n",
       "        background-size: auto;\n",
       "    }\n",
       "    progress:not([value]), progress:not([value])::-webkit-progress-bar {\n",
       "        background: repeating-linear-gradient(45deg, #7e7e7e, #7e7e7e 10px, #5c5c5c 10px, #5c5c5c 20px);\n",
       "    }\n",
       "    .progress-bar-interrupted, .progress-bar-interrupted::-webkit-progress-bar {\n",
       "        background: #F44336;\n",
       "    }\n",
       "</style>\n"
      ],
      "text/plain": [
       "<IPython.core.display.HTML object>"
      ]
     },
     "metadata": {},
     "output_type": "display_data"
    },
    {
     "data": {
      "text/html": [
       "\n",
       "    <div>\n",
       "      <progress value='2000' class='' max='2000' style='width:300px; height:20px; vertical-align: middle;'></progress>\n",
       "      100.00% [2000/2000 00:02&lt;00:00]\n",
       "    </div>\n",
       "    "
      ],
      "text/plain": [
       "<IPython.core.display.HTML object>"
      ]
     },
     "metadata": {},
     "output_type": "display_data"
    },
    {
     "name": "stdout",
     "output_type": "stream",
     "text": [
      "Done computing zscores in 4.466032266616821 seconds\n",
      "Computing zscores for NM_0_0_estimate.pkl\n",
      "SHASHb\n",
      "slope_mu <class 'pcntoolkit.model.hbr.FixedParameterization'>\n",
      "intercept_mu <class 'pcntoolkit.model.hbr.NonCentralRandomFixedParameterization'>\n",
      "mu <class 'pcntoolkit.model.hbr.LinearParameterization'>\n",
      "slope_sigma <class 'pcntoolkit.model.hbr.FixedParameterization'>\n",
      "intercept_sigma <class 'pcntoolkit.model.hbr.FixedParameterization'>\n",
      "sigma <class 'pcntoolkit.model.hbr.LinearParameterization'>\n",
      "slope_epsilon <class 'pcntoolkit.model.hbr.FixedParameterization'>\n",
      "intercept_epsilon <class 'pcntoolkit.model.hbr.FixedParameterization'>\n",
      "epsilon <class 'pcntoolkit.model.hbr.LinearParameterization'>\n",
      "slope_delta <class 'pcntoolkit.model.hbr.FixedParameterization'>\n",
      "intercept_delta <class 'pcntoolkit.model.hbr.FixedParameterization'>\n",
      "delta <class 'pcntoolkit.model.hbr.LinearParameterization'>\n"
     ]
    },
    {
     "name": "stderr",
     "output_type": "stream",
     "text": [
      "Sampling: [y_like]\n"
     ]
    },
    {
     "data": {
      "text/html": [
       "\n",
       "<style>\n",
       "    /* Turns off some styling */\n",
       "    progress {\n",
       "        /* gets rid of default border in Firefox and Opera. */\n",
       "        border: none;\n",
       "        /* Needs to be in here for Safari polyfill so background images work as expected. */\n",
       "        background-size: auto;\n",
       "    }\n",
       "    progress:not([value]), progress:not([value])::-webkit-progress-bar {\n",
       "        background: repeating-linear-gradient(45deg, #7e7e7e, #7e7e7e 10px, #5c5c5c 10px, #5c5c5c 20px);\n",
       "    }\n",
       "    .progress-bar-interrupted, .progress-bar-interrupted::-webkit-progress-bar {\n",
       "        background: #F44336;\n",
       "    }\n",
       "</style>\n"
      ],
      "text/plain": [
       "<IPython.core.display.HTML object>"
      ]
     },
     "metadata": {},
     "output_type": "display_data"
    },
    {
     "data": {
      "text/html": [
       "\n",
       "    <div>\n",
       "      <progress value='2000' class='' max='2000' style='width:300px; height:20px; vertical-align: middle;'></progress>\n",
       "      100.00% [2000/2000 00:10&lt;00:00]\n",
       "    </div>\n",
       "    "
      ],
      "text/plain": [
       "<IPython.core.display.HTML object>"
      ]
     },
     "metadata": {},
     "output_type": "display_data"
    },
    {
     "name": "stdout",
     "output_type": "stream",
     "text": [
      "Done computing zscores in 39.06909155845642 seconds\n"
     ]
    },
    {
     "name": "stderr",
     "output_type": "stream",
     "text": [
      "Sampling: [y_like]\n"
     ]
    },
    {
     "name": "stdout",
     "output_type": "stream",
     "text": [
      "Computing zscores for NM_0_0_estimate.pkl\n",
      "Normal\n",
      "slope_mu <class 'pcntoolkit.model.hbr.FixedParameterization'>\n",
      "intercept_mu <class 'pcntoolkit.model.hbr.NonCentralRandomFixedParameterization'>\n",
      "mu <class 'pcntoolkit.model.hbr.LinearParameterization'>\n",
      "slope_sigma <class 'pcntoolkit.model.hbr.FixedParameterization'>\n",
      "intercept_sigma <class 'pcntoolkit.model.hbr.FixedParameterization'>\n",
      "sigma <class 'pcntoolkit.model.hbr.LinearParameterization'>\n"
     ]
    },
    {
     "data": {
      "text/html": [
       "\n",
       "<style>\n",
       "    /* Turns off some styling */\n",
       "    progress {\n",
       "        /* gets rid of default border in Firefox and Opera. */\n",
       "        border: none;\n",
       "        /* Needs to be in here for Safari polyfill so background images work as expected. */\n",
       "        background-size: auto;\n",
       "    }\n",
       "    progress:not([value]), progress:not([value])::-webkit-progress-bar {\n",
       "        background: repeating-linear-gradient(45deg, #7e7e7e, #7e7e7e 10px, #5c5c5c 10px, #5c5c5c 20px);\n",
       "    }\n",
       "    .progress-bar-interrupted, .progress-bar-interrupted::-webkit-progress-bar {\n",
       "        background: #F44336;\n",
       "    }\n",
       "</style>\n"
      ],
      "text/plain": [
       "<IPython.core.display.HTML object>"
      ]
     },
     "metadata": {},
     "output_type": "display_data"
    },
    {
     "data": {
      "text/html": [
       "\n",
       "    <div>\n",
       "      <progress value='2000' class='' max='2000' style='width:300px; height:20px; vertical-align: middle;'></progress>\n",
       "      100.00% [2000/2000 00:01&lt;00:00]\n",
       "    </div>\n",
       "    "
      ],
      "text/plain": [
       "<IPython.core.display.HTML object>"
      ]
     },
     "metadata": {},
     "output_type": "display_data"
    },
    {
     "name": "stdout",
     "output_type": "stream",
     "text": [
      "Done computing zscores in 2.22568941116333 seconds\n"
     ]
    },
    {
     "name": "stderr",
     "output_type": "stream",
     "text": [
      "Sampling: [y_like]\n"
     ]
    },
    {
     "name": "stdout",
     "output_type": "stream",
     "text": [
      "Computing zscores for NM_0_0_estimate.pkl\n",
      "SHASHo\n",
      "slope_mu <class 'pcntoolkit.model.hbr.FixedParameterization'>\n",
      "intercept_mu <class 'pcntoolkit.model.hbr.NonCentralRandomFixedParameterization'>\n",
      "mu <class 'pcntoolkit.model.hbr.LinearParameterization'>\n",
      "slope_sigma <class 'pcntoolkit.model.hbr.FixedParameterization'>\n",
      "intercept_sigma <class 'pcntoolkit.model.hbr.FixedParameterization'>\n",
      "sigma <class 'pcntoolkit.model.hbr.LinearParameterization'>\n",
      "epsilon <class 'pcntoolkit.model.hbr.FixedParameterization'>\n",
      "delta <class 'pcntoolkit.model.hbr.FixedParameterization'>\n"
     ]
    },
    {
     "data": {
      "text/html": [
       "\n",
       "<style>\n",
       "    /* Turns off some styling */\n",
       "    progress {\n",
       "        /* gets rid of default border in Firefox and Opera. */\n",
       "        border: none;\n",
       "        /* Needs to be in here for Safari polyfill so background images work as expected. */\n",
       "        background-size: auto;\n",
       "    }\n",
       "    progress:not([value]), progress:not([value])::-webkit-progress-bar {\n",
       "        background: repeating-linear-gradient(45deg, #7e7e7e, #7e7e7e 10px, #5c5c5c 10px, #5c5c5c 20px);\n",
       "    }\n",
       "    .progress-bar-interrupted, .progress-bar-interrupted::-webkit-progress-bar {\n",
       "        background: #F44336;\n",
       "    }\n",
       "</style>\n"
      ],
      "text/plain": [
       "<IPython.core.display.HTML object>"
      ]
     },
     "metadata": {},
     "output_type": "display_data"
    },
    {
     "data": {
      "text/html": [
       "\n",
       "    <div>\n",
       "      <progress value='2000' class='' max='2000' style='width:300px; height:20px; vertical-align: middle;'></progress>\n",
       "      100.00% [2000/2000 00:02&lt;00:00]\n",
       "    </div>\n",
       "    "
      ],
      "text/plain": [
       "<IPython.core.display.HTML object>"
      ]
     },
     "metadata": {},
     "output_type": "display_data"
    },
    {
     "name": "stdout",
     "output_type": "stream",
     "text": [
      "Done computing zscores in 3.6861233711242676 seconds\n",
      "Computing zscores for NM_0_0_estimate.pkl\n",
      "SHASHb\n",
      "slope_mu <class 'pcntoolkit.model.hbr.FixedParameterization'>\n",
      "intercept_mu <class 'pcntoolkit.model.hbr.NonCentralRandomFixedParameterization'>\n",
      "mu <class 'pcntoolkit.model.hbr.LinearParameterization'>\n",
      "slope_sigma <class 'pcntoolkit.model.hbr.FixedParameterization'>\n",
      "intercept_sigma <class 'pcntoolkit.model.hbr.FixedParameterization'>\n",
      "sigma <class 'pcntoolkit.model.hbr.LinearParameterization'>\n",
      "epsilon <class 'pcntoolkit.model.hbr.FixedParameterization'>\n",
      "delta <class 'pcntoolkit.model.hbr.FixedParameterization'>\n"
     ]
    },
    {
     "name": "stderr",
     "output_type": "stream",
     "text": [
      "Sampling: [y_like]\n"
     ]
    },
    {
     "data": {
      "text/html": [
       "\n",
       "<style>\n",
       "    /* Turns off some styling */\n",
       "    progress {\n",
       "        /* gets rid of default border in Firefox and Opera. */\n",
       "        border: none;\n",
       "        /* Needs to be in here for Safari polyfill so background images work as expected. */\n",
       "        background-size: auto;\n",
       "    }\n",
       "    progress:not([value]), progress:not([value])::-webkit-progress-bar {\n",
       "        background: repeating-linear-gradient(45deg, #7e7e7e, #7e7e7e 10px, #5c5c5c 10px, #5c5c5c 20px);\n",
       "    }\n",
       "    .progress-bar-interrupted, .progress-bar-interrupted::-webkit-progress-bar {\n",
       "        background: #F44336;\n",
       "    }\n",
       "</style>\n"
      ],
      "text/plain": [
       "<IPython.core.display.HTML object>"
      ]
     },
     "metadata": {},
     "output_type": "display_data"
    },
    {
     "data": {
      "text/html": [
       "\n",
       "    <div>\n",
       "      <progress value='2000' class='' max='2000' style='width:300px; height:20px; vertical-align: middle;'></progress>\n",
       "      100.00% [2000/2000 00:02&lt;00:00]\n",
       "    </div>\n",
       "    "
      ],
      "text/plain": [
       "<IPython.core.display.HTML object>"
      ]
     },
     "metadata": {},
     "output_type": "display_data"
    },
    {
     "name": "stdout",
     "output_type": "stream",
     "text": [
      "Done computing zscores in 4.23643946647644 seconds\n",
      "Computing zscores for NM_0_0_estimate.pkl\n",
      "SHASHb\n",
      "slope_mu <class 'pcntoolkit.model.hbr.FixedParameterization'>\n",
      "intercept_mu <class 'pcntoolkit.model.hbr.NonCentralRandomFixedParameterization'>\n",
      "mu <class 'pcntoolkit.model.hbr.LinearParameterization'>\n",
      "slope_sigma <class 'pcntoolkit.model.hbr.FixedParameterization'>\n",
      "intercept_sigma <class 'pcntoolkit.model.hbr.FixedParameterization'>\n",
      "sigma <class 'pcntoolkit.model.hbr.LinearParameterization'>\n",
      "slope_epsilon <class 'pcntoolkit.model.hbr.FixedParameterization'>\n",
      "intercept_epsilon <class 'pcntoolkit.model.hbr.FixedParameterization'>\n",
      "epsilon <class 'pcntoolkit.model.hbr.LinearParameterization'>\n",
      "slope_delta <class 'pcntoolkit.model.hbr.FixedParameterization'>\n",
      "intercept_delta <class 'pcntoolkit.model.hbr.FixedParameterization'>\n",
      "delta <class 'pcntoolkit.model.hbr.LinearParameterization'>\n"
     ]
    },
    {
     "name": "stderr",
     "output_type": "stream",
     "text": [
      "Sampling: [y_like]\n"
     ]
    },
    {
     "data": {
      "text/html": [
       "\n",
       "<style>\n",
       "    /* Turns off some styling */\n",
       "    progress {\n",
       "        /* gets rid of default border in Firefox and Opera. */\n",
       "        border: none;\n",
       "        /* Needs to be in here for Safari polyfill so background images work as expected. */\n",
       "        background-size: auto;\n",
       "    }\n",
       "    progress:not([value]), progress:not([value])::-webkit-progress-bar {\n",
       "        background: repeating-linear-gradient(45deg, #7e7e7e, #7e7e7e 10px, #5c5c5c 10px, #5c5c5c 20px);\n",
       "    }\n",
       "    .progress-bar-interrupted, .progress-bar-interrupted::-webkit-progress-bar {\n",
       "        background: #F44336;\n",
       "    }\n",
       "</style>\n"
      ],
      "text/plain": [
       "<IPython.core.display.HTML object>"
      ]
     },
     "metadata": {},
     "output_type": "display_data"
    },
    {
     "data": {
      "text/html": [
       "\n",
       "    <div>\n",
       "      <progress value='2000' class='' max='2000' style='width:300px; height:20px; vertical-align: middle;'></progress>\n",
       "      100.00% [2000/2000 00:10&lt;00:00]\n",
       "    </div>\n",
       "    "
      ],
      "text/plain": [
       "<IPython.core.display.HTML object>"
      ]
     },
     "metadata": {},
     "output_type": "display_data"
    },
    {
     "name": "stdout",
     "output_type": "stream",
     "text": [
      "Done computing zscores in 38.825828075408936 seconds\n"
     ]
    },
    {
     "name": "stderr",
     "output_type": "stream",
     "text": [
      "Sampling: [y_like]\n"
     ]
    },
    {
     "name": "stdout",
     "output_type": "stream",
     "text": [
      "Computing zscores for NM_0_0_estimate.pkl\n",
      "Normal\n",
      "slope_mu <class 'pcntoolkit.model.hbr.FixedParameterization'>\n",
      "intercept_mu <class 'pcntoolkit.model.hbr.NonCentralRandomFixedParameterization'>\n",
      "mu <class 'pcntoolkit.model.hbr.LinearParameterization'>\n",
      "slope_sigma <class 'pcntoolkit.model.hbr.FixedParameterization'>\n",
      "intercept_sigma <class 'pcntoolkit.model.hbr.FixedParameterization'>\n",
      "sigma <class 'pcntoolkit.model.hbr.LinearParameterization'>\n"
     ]
    },
    {
     "data": {
      "text/html": [
       "\n",
       "<style>\n",
       "    /* Turns off some styling */\n",
       "    progress {\n",
       "        /* gets rid of default border in Firefox and Opera. */\n",
       "        border: none;\n",
       "        /* Needs to be in here for Safari polyfill so background images work as expected. */\n",
       "        background-size: auto;\n",
       "    }\n",
       "    progress:not([value]), progress:not([value])::-webkit-progress-bar {\n",
       "        background: repeating-linear-gradient(45deg, #7e7e7e, #7e7e7e 10px, #5c5c5c 10px, #5c5c5c 20px);\n",
       "    }\n",
       "    .progress-bar-interrupted, .progress-bar-interrupted::-webkit-progress-bar {\n",
       "        background: #F44336;\n",
       "    }\n",
       "</style>\n"
      ],
      "text/plain": [
       "<IPython.core.display.HTML object>"
      ]
     },
     "metadata": {},
     "output_type": "display_data"
    },
    {
     "data": {
      "text/html": [
       "\n",
       "    <div>\n",
       "      <progress value='2000' class='' max='2000' style='width:300px; height:20px; vertical-align: middle;'></progress>\n",
       "      100.00% [2000/2000 00:01&lt;00:00]\n",
       "    </div>\n",
       "    "
      ],
      "text/plain": [
       "<IPython.core.display.HTML object>"
      ]
     },
     "metadata": {},
     "output_type": "display_data"
    },
    {
     "name": "stdout",
     "output_type": "stream",
     "text": [
      "Done computing zscores in 2.1400959491729736 seconds\n",
      "Computing zscores for NM_0_0_estimate.pkl\n",
      "SHASHo\n",
      "slope_mu <class 'pcntoolkit.model.hbr.FixedParameterization'>\n",
      "intercept_mu <class 'pcntoolkit.model.hbr.NonCentralRandomFixedParameterization'>\n",
      "mu <class 'pcntoolkit.model.hbr.LinearParameterization'>\n",
      "slope_sigma <class 'pcntoolkit.model.hbr.FixedParameterization'>\n",
      "intercept_sigma <class 'pcntoolkit.model.hbr.FixedParameterization'>\n",
      "sigma <class 'pcntoolkit.model.hbr.LinearParameterization'>\n",
      "epsilon <class 'pcntoolkit.model.hbr.FixedParameterization'>\n",
      "delta <class 'pcntoolkit.model.hbr.FixedParameterization'>\n"
     ]
    },
    {
     "name": "stderr",
     "output_type": "stream",
     "text": [
      "Sampling: [y_like]\n"
     ]
    },
    {
     "data": {
      "text/html": [
       "\n",
       "<style>\n",
       "    /* Turns off some styling */\n",
       "    progress {\n",
       "        /* gets rid of default border in Firefox and Opera. */\n",
       "        border: none;\n",
       "        /* Needs to be in here for Safari polyfill so background images work as expected. */\n",
       "        background-size: auto;\n",
       "    }\n",
       "    progress:not([value]), progress:not([value])::-webkit-progress-bar {\n",
       "        background: repeating-linear-gradient(45deg, #7e7e7e, #7e7e7e 10px, #5c5c5c 10px, #5c5c5c 20px);\n",
       "    }\n",
       "    .progress-bar-interrupted, .progress-bar-interrupted::-webkit-progress-bar {\n",
       "        background: #F44336;\n",
       "    }\n",
       "</style>\n"
      ],
      "text/plain": [
       "<IPython.core.display.HTML object>"
      ]
     },
     "metadata": {},
     "output_type": "display_data"
    },
    {
     "data": {
      "text/html": [
       "\n",
       "    <div>\n",
       "      <progress value='2000' class='' max='2000' style='width:300px; height:20px; vertical-align: middle;'></progress>\n",
       "      100.00% [2000/2000 00:02&lt;00:00]\n",
       "    </div>\n",
       "    "
      ],
      "text/plain": [
       "<IPython.core.display.HTML object>"
      ]
     },
     "metadata": {},
     "output_type": "display_data"
    },
    {
     "name": "stdout",
     "output_type": "stream",
     "text": [
      "Done computing zscores in 3.85151743888855 seconds\n",
      "Computing zscores for NM_0_0_estimate.pkl\n",
      "SHASHb\n",
      "slope_mu <class 'pcntoolkit.model.hbr.FixedParameterization'>\n",
      "intercept_mu <class 'pcntoolkit.model.hbr.NonCentralRandomFixedParameterization'>\n",
      "mu <class 'pcntoolkit.model.hbr.LinearParameterization'>\n",
      "slope_sigma <class 'pcntoolkit.model.hbr.FixedParameterization'>\n",
      "intercept_sigma <class 'pcntoolkit.model.hbr.FixedParameterization'>\n",
      "sigma <class 'pcntoolkit.model.hbr.LinearParameterization'>\n",
      "epsilon <class 'pcntoolkit.model.hbr.FixedParameterization'>\n",
      "delta <class 'pcntoolkit.model.hbr.FixedParameterization'>\n"
     ]
    },
    {
     "name": "stderr",
     "output_type": "stream",
     "text": [
      "Sampling: [y_like]\n"
     ]
    },
    {
     "data": {
      "text/html": [
       "\n",
       "<style>\n",
       "    /* Turns off some styling */\n",
       "    progress {\n",
       "        /* gets rid of default border in Firefox and Opera. */\n",
       "        border: none;\n",
       "        /* Needs to be in here for Safari polyfill so background images work as expected. */\n",
       "        background-size: auto;\n",
       "    }\n",
       "    progress:not([value]), progress:not([value])::-webkit-progress-bar {\n",
       "        background: repeating-linear-gradient(45deg, #7e7e7e, #7e7e7e 10px, #5c5c5c 10px, #5c5c5c 20px);\n",
       "    }\n",
       "    .progress-bar-interrupted, .progress-bar-interrupted::-webkit-progress-bar {\n",
       "        background: #F44336;\n",
       "    }\n",
       "</style>\n"
      ],
      "text/plain": [
       "<IPython.core.display.HTML object>"
      ]
     },
     "metadata": {},
     "output_type": "display_data"
    },
    {
     "data": {
      "text/html": [
       "\n",
       "    <div>\n",
       "      <progress value='2000' class='' max='2000' style='width:300px; height:20px; vertical-align: middle;'></progress>\n",
       "      100.00% [2000/2000 00:02&lt;00:00]\n",
       "    </div>\n",
       "    "
      ],
      "text/plain": [
       "<IPython.core.display.HTML object>"
      ]
     },
     "metadata": {},
     "output_type": "display_data"
    },
    {
     "name": "stdout",
     "output_type": "stream",
     "text": [
      "Done computing zscores in 4.350874185562134 seconds\n",
      "Computing zscores for NM_0_0_estimate.pkl\n",
      "SHASHb\n",
      "slope_mu <class 'pcntoolkit.model.hbr.FixedParameterization'>\n",
      "intercept_mu <class 'pcntoolkit.model.hbr.NonCentralRandomFixedParameterization'>\n",
      "mu <class 'pcntoolkit.model.hbr.LinearParameterization'>\n",
      "slope_sigma <class 'pcntoolkit.model.hbr.FixedParameterization'>\n",
      "intercept_sigma <class 'pcntoolkit.model.hbr.FixedParameterization'>\n",
      "sigma <class 'pcntoolkit.model.hbr.LinearParameterization'>\n",
      "slope_epsilon <class 'pcntoolkit.model.hbr.FixedParameterization'>\n",
      "intercept_epsilon <class 'pcntoolkit.model.hbr.FixedParameterization'>\n",
      "epsilon <class 'pcntoolkit.model.hbr.LinearParameterization'>\n",
      "slope_delta <class 'pcntoolkit.model.hbr.FixedParameterization'>\n",
      "intercept_delta <class 'pcntoolkit.model.hbr.FixedParameterization'>\n",
      "delta <class 'pcntoolkit.model.hbr.LinearParameterization'>\n"
     ]
    },
    {
     "name": "stderr",
     "output_type": "stream",
     "text": [
      "Sampling: [y_like]\n"
     ]
    },
    {
     "data": {
      "text/html": [
       "\n",
       "<style>\n",
       "    /* Turns off some styling */\n",
       "    progress {\n",
       "        /* gets rid of default border in Firefox and Opera. */\n",
       "        border: none;\n",
       "        /* Needs to be in here for Safari polyfill so background images work as expected. */\n",
       "        background-size: auto;\n",
       "    }\n",
       "    progress:not([value]), progress:not([value])::-webkit-progress-bar {\n",
       "        background: repeating-linear-gradient(45deg, #7e7e7e, #7e7e7e 10px, #5c5c5c 10px, #5c5c5c 20px);\n",
       "    }\n",
       "    .progress-bar-interrupted, .progress-bar-interrupted::-webkit-progress-bar {\n",
       "        background: #F44336;\n",
       "    }\n",
       "</style>\n"
      ],
      "text/plain": [
       "<IPython.core.display.HTML object>"
      ]
     },
     "metadata": {},
     "output_type": "display_data"
    },
    {
     "data": {
      "text/html": [
       "\n",
       "    <div>\n",
       "      <progress value='2000' class='' max='2000' style='width:300px; height:20px; vertical-align: middle;'></progress>\n",
       "      100.00% [2000/2000 00:10&lt;00:00]\n",
       "    </div>\n",
       "    "
      ],
      "text/plain": [
       "<IPython.core.display.HTML object>"
      ]
     },
     "metadata": {},
     "output_type": "display_data"
    },
    {
     "name": "stdout",
     "output_type": "stream",
     "text": [
      "Done computing zscores in 38.19994521141052 seconds\n"
     ]
    },
    {
     "name": "stderr",
     "output_type": "stream",
     "text": [
      "Sampling: [y_like]\n"
     ]
    },
    {
     "name": "stdout",
     "output_type": "stream",
     "text": [
      "Computing zscores for NM_0_0_estimate.pkl\n",
      "Normal\n",
      "slope_mu <class 'pcntoolkit.model.hbr.FixedParameterization'>\n",
      "intercept_mu <class 'pcntoolkit.model.hbr.NonCentralRandomFixedParameterization'>\n",
      "mu <class 'pcntoolkit.model.hbr.LinearParameterization'>\n",
      "slope_sigma <class 'pcntoolkit.model.hbr.FixedParameterization'>\n",
      "intercept_sigma <class 'pcntoolkit.model.hbr.FixedParameterization'>\n",
      "sigma <class 'pcntoolkit.model.hbr.LinearParameterization'>\n"
     ]
    },
    {
     "data": {
      "text/html": [
       "\n",
       "<style>\n",
       "    /* Turns off some styling */\n",
       "    progress {\n",
       "        /* gets rid of default border in Firefox and Opera. */\n",
       "        border: none;\n",
       "        /* Needs to be in here for Safari polyfill so background images work as expected. */\n",
       "        background-size: auto;\n",
       "    }\n",
       "    progress:not([value]), progress:not([value])::-webkit-progress-bar {\n",
       "        background: repeating-linear-gradient(45deg, #7e7e7e, #7e7e7e 10px, #5c5c5c 10px, #5c5c5c 20px);\n",
       "    }\n",
       "    .progress-bar-interrupted, .progress-bar-interrupted::-webkit-progress-bar {\n",
       "        background: #F44336;\n",
       "    }\n",
       "</style>\n"
      ],
      "text/plain": [
       "<IPython.core.display.HTML object>"
      ]
     },
     "metadata": {},
     "output_type": "display_data"
    },
    {
     "data": {
      "text/html": [
       "\n",
       "    <div>\n",
       "      <progress value='2000' class='' max='2000' style='width:300px; height:20px; vertical-align: middle;'></progress>\n",
       "      100.00% [2000/2000 00:01&lt;00:00]\n",
       "    </div>\n",
       "    "
      ],
      "text/plain": [
       "<IPython.core.display.HTML object>"
      ]
     },
     "metadata": {},
     "output_type": "display_data"
    },
    {
     "name": "stdout",
     "output_type": "stream",
     "text": [
      "Done computing zscores in 2.0733413696289062 seconds\n",
      "Computing zscores for NM_0_0_estimate.pkl\n",
      "SHASHo\n",
      "slope_mu <class 'pcntoolkit.model.hbr.FixedParameterization'>\n",
      "intercept_mu <class 'pcntoolkit.model.hbr.NonCentralRandomFixedParameterization'>\n",
      "mu <class 'pcntoolkit.model.hbr.LinearParameterization'>\n",
      "slope_sigma <class 'pcntoolkit.model.hbr.FixedParameterization'>\n",
      "intercept_sigma <class 'pcntoolkit.model.hbr.FixedParameterization'>\n",
      "sigma <class 'pcntoolkit.model.hbr.LinearParameterization'>\n",
      "epsilon <class 'pcntoolkit.model.hbr.FixedParameterization'>\n",
      "delta <class 'pcntoolkit.model.hbr.FixedParameterization'>\n"
     ]
    },
    {
     "name": "stderr",
     "output_type": "stream",
     "text": [
      "Sampling: [y_like]\n"
     ]
    },
    {
     "data": {
      "text/html": [
       "\n",
       "<style>\n",
       "    /* Turns off some styling */\n",
       "    progress {\n",
       "        /* gets rid of default border in Firefox and Opera. */\n",
       "        border: none;\n",
       "        /* Needs to be in here for Safari polyfill so background images work as expected. */\n",
       "        background-size: auto;\n",
       "    }\n",
       "    progress:not([value]), progress:not([value])::-webkit-progress-bar {\n",
       "        background: repeating-linear-gradient(45deg, #7e7e7e, #7e7e7e 10px, #5c5c5c 10px, #5c5c5c 20px);\n",
       "    }\n",
       "    .progress-bar-interrupted, .progress-bar-interrupted::-webkit-progress-bar {\n",
       "        background: #F44336;\n",
       "    }\n",
       "</style>\n"
      ],
      "text/plain": [
       "<IPython.core.display.HTML object>"
      ]
     },
     "metadata": {},
     "output_type": "display_data"
    },
    {
     "data": {
      "text/html": [
       "\n",
       "    <div>\n",
       "      <progress value='2000' class='' max='2000' style='width:300px; height:20px; vertical-align: middle;'></progress>\n",
       "      100.00% [2000/2000 00:02&lt;00:00]\n",
       "    </div>\n",
       "    "
      ],
      "text/plain": [
       "<IPython.core.display.HTML object>"
      ]
     },
     "metadata": {},
     "output_type": "display_data"
    },
    {
     "name": "stdout",
     "output_type": "stream",
     "text": [
      "Done computing zscores in 3.677107572555542 seconds\n"
     ]
    },
    {
     "name": "stderr",
     "output_type": "stream",
     "text": [
      "Sampling: [y_like]\n"
     ]
    },
    {
     "name": "stdout",
     "output_type": "stream",
     "text": [
      "Computing zscores for NM_0_0_estimate.pkl\n",
      "SHASHb\n",
      "slope_mu <class 'pcntoolkit.model.hbr.FixedParameterization'>\n",
      "intercept_mu <class 'pcntoolkit.model.hbr.NonCentralRandomFixedParameterization'>\n",
      "mu <class 'pcntoolkit.model.hbr.LinearParameterization'>\n",
      "slope_sigma <class 'pcntoolkit.model.hbr.FixedParameterization'>\n",
      "intercept_sigma <class 'pcntoolkit.model.hbr.FixedParameterization'>\n",
      "sigma <class 'pcntoolkit.model.hbr.LinearParameterization'>\n",
      "epsilon <class 'pcntoolkit.model.hbr.FixedParameterization'>\n",
      "delta <class 'pcntoolkit.model.hbr.FixedParameterization'>\n"
     ]
    },
    {
     "data": {
      "text/html": [
       "\n",
       "<style>\n",
       "    /* Turns off some styling */\n",
       "    progress {\n",
       "        /* gets rid of default border in Firefox and Opera. */\n",
       "        border: none;\n",
       "        /* Needs to be in here for Safari polyfill so background images work as expected. */\n",
       "        background-size: auto;\n",
       "    }\n",
       "    progress:not([value]), progress:not([value])::-webkit-progress-bar {\n",
       "        background: repeating-linear-gradient(45deg, #7e7e7e, #7e7e7e 10px, #5c5c5c 10px, #5c5c5c 20px);\n",
       "    }\n",
       "    .progress-bar-interrupted, .progress-bar-interrupted::-webkit-progress-bar {\n",
       "        background: #F44336;\n",
       "    }\n",
       "</style>\n"
      ],
      "text/plain": [
       "<IPython.core.display.HTML object>"
      ]
     },
     "metadata": {},
     "output_type": "display_data"
    },
    {
     "data": {
      "text/html": [
       "\n",
       "    <div>\n",
       "      <progress value='2000' class='' max='2000' style='width:300px; height:20px; vertical-align: middle;'></progress>\n",
       "      100.00% [2000/2000 00:02&lt;00:00]\n",
       "    </div>\n",
       "    "
      ],
      "text/plain": [
       "<IPython.core.display.HTML object>"
      ]
     },
     "metadata": {},
     "output_type": "display_data"
    },
    {
     "name": "stdout",
     "output_type": "stream",
     "text": [
      "Done computing zscores in 4.380053281784058 seconds\n",
      "Computing zscores for NM_0_0_estimate.pkl\n",
      "SHASHb\n",
      "slope_mu <class 'pcntoolkit.model.hbr.FixedParameterization'>\n",
      "intercept_mu <class 'pcntoolkit.model.hbr.NonCentralRandomFixedParameterization'>\n",
      "mu <class 'pcntoolkit.model.hbr.LinearParameterization'>\n",
      "slope_sigma <class 'pcntoolkit.model.hbr.FixedParameterization'>\n",
      "intercept_sigma <class 'pcntoolkit.model.hbr.FixedParameterization'>\n",
      "sigma <class 'pcntoolkit.model.hbr.LinearParameterization'>\n",
      "slope_epsilon <class 'pcntoolkit.model.hbr.FixedParameterization'>\n",
      "intercept_epsilon <class 'pcntoolkit.model.hbr.FixedParameterization'>\n",
      "epsilon <class 'pcntoolkit.model.hbr.LinearParameterization'>\n",
      "slope_delta <class 'pcntoolkit.model.hbr.FixedParameterization'>\n",
      "intercept_delta <class 'pcntoolkit.model.hbr.FixedParameterization'>\n",
      "delta <class 'pcntoolkit.model.hbr.LinearParameterization'>\n"
     ]
    },
    {
     "name": "stderr",
     "output_type": "stream",
     "text": [
      "Sampling: [y_like]\n"
     ]
    },
    {
     "data": {
      "text/html": [
       "\n",
       "<style>\n",
       "    /* Turns off some styling */\n",
       "    progress {\n",
       "        /* gets rid of default border in Firefox and Opera. */\n",
       "        border: none;\n",
       "        /* Needs to be in here for Safari polyfill so background images work as expected. */\n",
       "        background-size: auto;\n",
       "    }\n",
       "    progress:not([value]), progress:not([value])::-webkit-progress-bar {\n",
       "        background: repeating-linear-gradient(45deg, #7e7e7e, #7e7e7e 10px, #5c5c5c 10px, #5c5c5c 20px);\n",
       "    }\n",
       "    .progress-bar-interrupted, .progress-bar-interrupted::-webkit-progress-bar {\n",
       "        background: #F44336;\n",
       "    }\n",
       "</style>\n"
      ],
      "text/plain": [
       "<IPython.core.display.HTML object>"
      ]
     },
     "metadata": {},
     "output_type": "display_data"
    },
    {
     "data": {
      "text/html": [
       "\n",
       "    <div>\n",
       "      <progress value='2000' class='' max='2000' style='width:300px; height:20px; vertical-align: middle;'></progress>\n",
       "      100.00% [2000/2000 00:11&lt;00:00]\n",
       "    </div>\n",
       "    "
      ],
      "text/plain": [
       "<IPython.core.display.HTML object>"
      ]
     },
     "metadata": {},
     "output_type": "display_data"
    },
    {
     "name": "stdout",
     "output_type": "stream",
     "text": [
      "Done computing zscores in 39.55966138839722 seconds\n"
     ]
    },
    {
     "name": "stderr",
     "output_type": "stream",
     "text": [
      "Sampling: [y_like]\n"
     ]
    },
    {
     "name": "stdout",
     "output_type": "stream",
     "text": [
      "Computing zscores for NM_0_0_estimate.pkl\n",
      "Normal\n",
      "slope_mu <class 'pcntoolkit.model.hbr.FixedParameterization'>\n",
      "intercept_mu <class 'pcntoolkit.model.hbr.NonCentralRandomFixedParameterization'>\n",
      "mu <class 'pcntoolkit.model.hbr.LinearParameterization'>\n",
      "slope_sigma <class 'pcntoolkit.model.hbr.FixedParameterization'>\n",
      "intercept_sigma <class 'pcntoolkit.model.hbr.FixedParameterization'>\n",
      "sigma <class 'pcntoolkit.model.hbr.LinearParameterization'>\n"
     ]
    },
    {
     "data": {
      "text/html": [
       "\n",
       "<style>\n",
       "    /* Turns off some styling */\n",
       "    progress {\n",
       "        /* gets rid of default border in Firefox and Opera. */\n",
       "        border: none;\n",
       "        /* Needs to be in here for Safari polyfill so background images work as expected. */\n",
       "        background-size: auto;\n",
       "    }\n",
       "    progress:not([value]), progress:not([value])::-webkit-progress-bar {\n",
       "        background: repeating-linear-gradient(45deg, #7e7e7e, #7e7e7e 10px, #5c5c5c 10px, #5c5c5c 20px);\n",
       "    }\n",
       "    .progress-bar-interrupted, .progress-bar-interrupted::-webkit-progress-bar {\n",
       "        background: #F44336;\n",
       "    }\n",
       "</style>\n"
      ],
      "text/plain": [
       "<IPython.core.display.HTML object>"
      ]
     },
     "metadata": {},
     "output_type": "display_data"
    },
    {
     "data": {
      "text/html": [
       "\n",
       "    <div>\n",
       "      <progress value='2000' class='' max='2000' style='width:300px; height:20px; vertical-align: middle;'></progress>\n",
       "      100.00% [2000/2000 00:01&lt;00:00]\n",
       "    </div>\n",
       "    "
      ],
      "text/plain": [
       "<IPython.core.display.HTML object>"
      ]
     },
     "metadata": {},
     "output_type": "display_data"
    },
    {
     "name": "stdout",
     "output_type": "stream",
     "text": [
      "Done computing zscores in 2.0839316844940186 seconds\n"
     ]
    },
    {
     "name": "stderr",
     "output_type": "stream",
     "text": [
      "Sampling: [y_like]\n"
     ]
    },
    {
     "name": "stdout",
     "output_type": "stream",
     "text": [
      "Computing zscores for NM_0_0_estimate.pkl\n",
      "SHASHo\n",
      "slope_mu <class 'pcntoolkit.model.hbr.FixedParameterization'>\n",
      "intercept_mu <class 'pcntoolkit.model.hbr.NonCentralRandomFixedParameterization'>\n",
      "mu <class 'pcntoolkit.model.hbr.LinearParameterization'>\n",
      "slope_sigma <class 'pcntoolkit.model.hbr.FixedParameterization'>\n",
      "intercept_sigma <class 'pcntoolkit.model.hbr.FixedParameterization'>\n",
      "sigma <class 'pcntoolkit.model.hbr.LinearParameterization'>\n",
      "epsilon <class 'pcntoolkit.model.hbr.FixedParameterization'>\n",
      "delta <class 'pcntoolkit.model.hbr.FixedParameterization'>\n"
     ]
    },
    {
     "data": {
      "text/html": [
       "\n",
       "<style>\n",
       "    /* Turns off some styling */\n",
       "    progress {\n",
       "        /* gets rid of default border in Firefox and Opera. */\n",
       "        border: none;\n",
       "        /* Needs to be in here for Safari polyfill so background images work as expected. */\n",
       "        background-size: auto;\n",
       "    }\n",
       "    progress:not([value]), progress:not([value])::-webkit-progress-bar {\n",
       "        background: repeating-linear-gradient(45deg, #7e7e7e, #7e7e7e 10px, #5c5c5c 10px, #5c5c5c 20px);\n",
       "    }\n",
       "    .progress-bar-interrupted, .progress-bar-interrupted::-webkit-progress-bar {\n",
       "        background: #F44336;\n",
       "    }\n",
       "</style>\n"
      ],
      "text/plain": [
       "<IPython.core.display.HTML object>"
      ]
     },
     "metadata": {},
     "output_type": "display_data"
    },
    {
     "data": {
      "text/html": [
       "\n",
       "    <div>\n",
       "      <progress value='2000' class='' max='2000' style='width:300px; height:20px; vertical-align: middle;'></progress>\n",
       "      100.00% [2000/2000 00:02&lt;00:00]\n",
       "    </div>\n",
       "    "
      ],
      "text/plain": [
       "<IPython.core.display.HTML object>"
      ]
     },
     "metadata": {},
     "output_type": "display_data"
    },
    {
     "name": "stdout",
     "output_type": "stream",
     "text": [
      "Done computing zscores in 3.7597904205322266 seconds\n",
      "Computing zscores for NM_0_0_estimate.pkl\n",
      "SHASHb\n",
      "slope_mu <class 'pcntoolkit.model.hbr.FixedParameterization'>\n",
      "intercept_mu <class 'pcntoolkit.model.hbr.NonCentralRandomFixedParameterization'>\n",
      "mu <class 'pcntoolkit.model.hbr.LinearParameterization'>\n",
      "slope_sigma <class 'pcntoolkit.model.hbr.FixedParameterization'>\n",
      "intercept_sigma <class 'pcntoolkit.model.hbr.FixedParameterization'>\n",
      "sigma <class 'pcntoolkit.model.hbr.LinearParameterization'>\n",
      "epsilon <class 'pcntoolkit.model.hbr.FixedParameterization'>\n",
      "delta <class 'pcntoolkit.model.hbr.FixedParameterization'>\n"
     ]
    },
    {
     "name": "stderr",
     "output_type": "stream",
     "text": [
      "Sampling: [y_like]\n"
     ]
    },
    {
     "data": {
      "text/html": [
       "\n",
       "<style>\n",
       "    /* Turns off some styling */\n",
       "    progress {\n",
       "        /* gets rid of default border in Firefox and Opera. */\n",
       "        border: none;\n",
       "        /* Needs to be in here for Safari polyfill so background images work as expected. */\n",
       "        background-size: auto;\n",
       "    }\n",
       "    progress:not([value]), progress:not([value])::-webkit-progress-bar {\n",
       "        background: repeating-linear-gradient(45deg, #7e7e7e, #7e7e7e 10px, #5c5c5c 10px, #5c5c5c 20px);\n",
       "    }\n",
       "    .progress-bar-interrupted, .progress-bar-interrupted::-webkit-progress-bar {\n",
       "        background: #F44336;\n",
       "    }\n",
       "</style>\n"
      ],
      "text/plain": [
       "<IPython.core.display.HTML object>"
      ]
     },
     "metadata": {},
     "output_type": "display_data"
    },
    {
     "data": {
      "text/html": [
       "\n",
       "    <div>\n",
       "      <progress value='2000' class='' max='2000' style='width:300px; height:20px; vertical-align: middle;'></progress>\n",
       "      100.00% [2000/2000 00:03&lt;00:00]\n",
       "    </div>\n",
       "    "
      ],
      "text/plain": [
       "<IPython.core.display.HTML object>"
      ]
     },
     "metadata": {},
     "output_type": "display_data"
    },
    {
     "name": "stdout",
     "output_type": "stream",
     "text": [
      "Done computing zscores in 4.708199739456177 seconds\n",
      "Computing zscores for NM_0_0_estimate.pkl\n",
      "SHASHb\n",
      "slope_mu <class 'pcntoolkit.model.hbr.FixedParameterization'>\n",
      "intercept_mu <class 'pcntoolkit.model.hbr.NonCentralRandomFixedParameterization'>\n",
      "mu <class 'pcntoolkit.model.hbr.LinearParameterization'>\n",
      "slope_sigma <class 'pcntoolkit.model.hbr.FixedParameterization'>\n",
      "intercept_sigma <class 'pcntoolkit.model.hbr.FixedParameterization'>\n",
      "sigma <class 'pcntoolkit.model.hbr.LinearParameterization'>\n",
      "slope_epsilon <class 'pcntoolkit.model.hbr.FixedParameterization'>\n",
      "intercept_epsilon <class 'pcntoolkit.model.hbr.FixedParameterization'>\n",
      "epsilon <class 'pcntoolkit.model.hbr.LinearParameterization'>\n",
      "slope_delta <class 'pcntoolkit.model.hbr.FixedParameterization'>\n",
      "intercept_delta <class 'pcntoolkit.model.hbr.FixedParameterization'>\n",
      "delta <class 'pcntoolkit.model.hbr.LinearParameterization'>\n"
     ]
    },
    {
     "name": "stderr",
     "output_type": "stream",
     "text": [
      "Sampling: [y_like]\n"
     ]
    },
    {
     "data": {
      "text/html": [
       "\n",
       "<style>\n",
       "    /* Turns off some styling */\n",
       "    progress {\n",
       "        /* gets rid of default border in Firefox and Opera. */\n",
       "        border: none;\n",
       "        /* Needs to be in here for Safari polyfill so background images work as expected. */\n",
       "        background-size: auto;\n",
       "    }\n",
       "    progress:not([value]), progress:not([value])::-webkit-progress-bar {\n",
       "        background: repeating-linear-gradient(45deg, #7e7e7e, #7e7e7e 10px, #5c5c5c 10px, #5c5c5c 20px);\n",
       "    }\n",
       "    .progress-bar-interrupted, .progress-bar-interrupted::-webkit-progress-bar {\n",
       "        background: #F44336;\n",
       "    }\n",
       "</style>\n"
      ],
      "text/plain": [
       "<IPython.core.display.HTML object>"
      ]
     },
     "metadata": {},
     "output_type": "display_data"
    },
    {
     "data": {
      "text/html": [
       "\n",
       "    <div>\n",
       "      <progress value='2000' class='' max='2000' style='width:300px; height:20px; vertical-align: middle;'></progress>\n",
       "      100.00% [2000/2000 00:10&lt;00:00]\n",
       "    </div>\n",
       "    "
      ],
      "text/plain": [
       "<IPython.core.display.HTML object>"
      ]
     },
     "metadata": {},
     "output_type": "display_data"
    },
    {
     "name": "stdout",
     "output_type": "stream",
     "text": [
      "Done computing zscores in 37.96470022201538 seconds\n"
     ]
    },
    {
     "name": "stderr",
     "output_type": "stream",
     "text": [
      "Sampling: [y_like]\n"
     ]
    },
    {
     "name": "stdout",
     "output_type": "stream",
     "text": [
      "Computing zscores for NM_0_0_estimate.pkl\n",
      "Normal\n",
      "slope_mu <class 'pcntoolkit.model.hbr.FixedParameterization'>\n",
      "intercept_mu <class 'pcntoolkit.model.hbr.NonCentralRandomFixedParameterization'>\n",
      "mu <class 'pcntoolkit.model.hbr.LinearParameterization'>\n",
      "slope_sigma <class 'pcntoolkit.model.hbr.FixedParameterization'>\n",
      "intercept_sigma <class 'pcntoolkit.model.hbr.FixedParameterization'>\n",
      "sigma <class 'pcntoolkit.model.hbr.LinearParameterization'>\n"
     ]
    },
    {
     "data": {
      "text/html": [
       "\n",
       "<style>\n",
       "    /* Turns off some styling */\n",
       "    progress {\n",
       "        /* gets rid of default border in Firefox and Opera. */\n",
       "        border: none;\n",
       "        /* Needs to be in here for Safari polyfill so background images work as expected. */\n",
       "        background-size: auto;\n",
       "    }\n",
       "    progress:not([value]), progress:not([value])::-webkit-progress-bar {\n",
       "        background: repeating-linear-gradient(45deg, #7e7e7e, #7e7e7e 10px, #5c5c5c 10px, #5c5c5c 20px);\n",
       "    }\n",
       "    .progress-bar-interrupted, .progress-bar-interrupted::-webkit-progress-bar {\n",
       "        background: #F44336;\n",
       "    }\n",
       "</style>\n"
      ],
      "text/plain": [
       "<IPython.core.display.HTML object>"
      ]
     },
     "metadata": {},
     "output_type": "display_data"
    },
    {
     "data": {
      "text/html": [
       "\n",
       "    <div>\n",
       "      <progress value='2000' class='' max='2000' style='width:300px; height:20px; vertical-align: middle;'></progress>\n",
       "      100.00% [2000/2000 00:01&lt;00:00]\n",
       "    </div>\n",
       "    "
      ],
      "text/plain": [
       "<IPython.core.display.HTML object>"
      ]
     },
     "metadata": {},
     "output_type": "display_data"
    },
    {
     "name": "stdout",
     "output_type": "stream",
     "text": [
      "Done computing zscores in 2.140079975128174 seconds\n",
      "Computing zscores for NM_0_0_estimate.pkl\n",
      "SHASHo\n",
      "slope_mu <class 'pcntoolkit.model.hbr.FixedParameterization'>\n",
      "intercept_mu <class 'pcntoolkit.model.hbr.NonCentralRandomFixedParameterization'>\n",
      "mu <class 'pcntoolkit.model.hbr.LinearParameterization'>\n",
      "slope_sigma <class 'pcntoolkit.model.hbr.FixedParameterization'>\n",
      "intercept_sigma <class 'pcntoolkit.model.hbr.FixedParameterization'>\n",
      "sigma <class 'pcntoolkit.model.hbr.LinearParameterization'>\n",
      "epsilon <class 'pcntoolkit.model.hbr.FixedParameterization'>\n",
      "delta <class 'pcntoolkit.model.hbr.FixedParameterization'>\n"
     ]
    },
    {
     "name": "stderr",
     "output_type": "stream",
     "text": [
      "Sampling: [y_like]\n"
     ]
    },
    {
     "data": {
      "text/html": [
       "\n",
       "<style>\n",
       "    /* Turns off some styling */\n",
       "    progress {\n",
       "        /* gets rid of default border in Firefox and Opera. */\n",
       "        border: none;\n",
       "        /* Needs to be in here for Safari polyfill so background images work as expected. */\n",
       "        background-size: auto;\n",
       "    }\n",
       "    progress:not([value]), progress:not([value])::-webkit-progress-bar {\n",
       "        background: repeating-linear-gradient(45deg, #7e7e7e, #7e7e7e 10px, #5c5c5c 10px, #5c5c5c 20px);\n",
       "    }\n",
       "    .progress-bar-interrupted, .progress-bar-interrupted::-webkit-progress-bar {\n",
       "        background: #F44336;\n",
       "    }\n",
       "</style>\n"
      ],
      "text/plain": [
       "<IPython.core.display.HTML object>"
      ]
     },
     "metadata": {},
     "output_type": "display_data"
    },
    {
     "data": {
      "text/html": [
       "\n",
       "    <div>\n",
       "      <progress value='2000' class='' max='2000' style='width:300px; height:20px; vertical-align: middle;'></progress>\n",
       "      100.00% [2000/2000 00:02&lt;00:00]\n",
       "    </div>\n",
       "    "
      ],
      "text/plain": [
       "<IPython.core.display.HTML object>"
      ]
     },
     "metadata": {},
     "output_type": "display_data"
    },
    {
     "name": "stdout",
     "output_type": "stream",
     "text": [
      "Done computing zscores in 3.888362407684326 seconds\n",
      "Computing zscores for NM_0_0_estimate.pkl\n",
      "SHASHb\n",
      "slope_mu <class 'pcntoolkit.model.hbr.FixedParameterization'>\n",
      "intercept_mu <class 'pcntoolkit.model.hbr.NonCentralRandomFixedParameterization'>\n",
      "mu <class 'pcntoolkit.model.hbr.LinearParameterization'>\n",
      "slope_sigma <class 'pcntoolkit.model.hbr.FixedParameterization'>\n",
      "intercept_sigma <class 'pcntoolkit.model.hbr.FixedParameterization'>\n",
      "sigma <class 'pcntoolkit.model.hbr.LinearParameterization'>\n",
      "epsilon <class 'pcntoolkit.model.hbr.FixedParameterization'>\n",
      "delta <class 'pcntoolkit.model.hbr.FixedParameterization'>\n"
     ]
    },
    {
     "name": "stderr",
     "output_type": "stream",
     "text": [
      "Sampling: [y_like]\n"
     ]
    },
    {
     "data": {
      "text/html": [
       "\n",
       "<style>\n",
       "    /* Turns off some styling */\n",
       "    progress {\n",
       "        /* gets rid of default border in Firefox and Opera. */\n",
       "        border: none;\n",
       "        /* Needs to be in here for Safari polyfill so background images work as expected. */\n",
       "        background-size: auto;\n",
       "    }\n",
       "    progress:not([value]), progress:not([value])::-webkit-progress-bar {\n",
       "        background: repeating-linear-gradient(45deg, #7e7e7e, #7e7e7e 10px, #5c5c5c 10px, #5c5c5c 20px);\n",
       "    }\n",
       "    .progress-bar-interrupted, .progress-bar-interrupted::-webkit-progress-bar {\n",
       "        background: #F44336;\n",
       "    }\n",
       "</style>\n"
      ],
      "text/plain": [
       "<IPython.core.display.HTML object>"
      ]
     },
     "metadata": {},
     "output_type": "display_data"
    },
    {
     "data": {
      "text/html": [
       "\n",
       "    <div>\n",
       "      <progress value='2000' class='' max='2000' style='width:300px; height:20px; vertical-align: middle;'></progress>\n",
       "      100.00% [2000/2000 00:03&lt;00:00]\n",
       "    </div>\n",
       "    "
      ],
      "text/plain": [
       "<IPython.core.display.HTML object>"
      ]
     },
     "metadata": {},
     "output_type": "display_data"
    },
    {
     "name": "stdout",
     "output_type": "stream",
     "text": [
      "Done computing zscores in 4.7676918506622314 seconds\n",
      "Computing zscores for NM_0_0_estimate.pkl\n",
      "SHASHb\n",
      "slope_mu <class 'pcntoolkit.model.hbr.FixedParameterization'>\n",
      "intercept_mu <class 'pcntoolkit.model.hbr.NonCentralRandomFixedParameterization'>\n",
      "mu <class 'pcntoolkit.model.hbr.LinearParameterization'>\n",
      "slope_sigma <class 'pcntoolkit.model.hbr.FixedParameterization'>\n",
      "intercept_sigma <class 'pcntoolkit.model.hbr.FixedParameterization'>\n",
      "sigma <class 'pcntoolkit.model.hbr.LinearParameterization'>\n",
      "slope_epsilon <class 'pcntoolkit.model.hbr.FixedParameterization'>\n",
      "intercept_epsilon <class 'pcntoolkit.model.hbr.FixedParameterization'>\n",
      "epsilon <class 'pcntoolkit.model.hbr.LinearParameterization'>\n",
      "slope_delta <class 'pcntoolkit.model.hbr.FixedParameterization'>\n",
      "intercept_delta <class 'pcntoolkit.model.hbr.FixedParameterization'>\n",
      "delta <class 'pcntoolkit.model.hbr.LinearParameterization'>\n"
     ]
    },
    {
     "name": "stderr",
     "output_type": "stream",
     "text": [
      "Sampling: [y_like]\n"
     ]
    },
    {
     "data": {
      "text/html": [
       "\n",
       "<style>\n",
       "    /* Turns off some styling */\n",
       "    progress {\n",
       "        /* gets rid of default border in Firefox and Opera. */\n",
       "        border: none;\n",
       "        /* Needs to be in here for Safari polyfill so background images work as expected. */\n",
       "        background-size: auto;\n",
       "    }\n",
       "    progress:not([value]), progress:not([value])::-webkit-progress-bar {\n",
       "        background: repeating-linear-gradient(45deg, #7e7e7e, #7e7e7e 10px, #5c5c5c 10px, #5c5c5c 20px);\n",
       "    }\n",
       "    .progress-bar-interrupted, .progress-bar-interrupted::-webkit-progress-bar {\n",
       "        background: #F44336;\n",
       "    }\n",
       "</style>\n"
      ],
      "text/plain": [
       "<IPython.core.display.HTML object>"
      ]
     },
     "metadata": {},
     "output_type": "display_data"
    },
    {
     "data": {
      "text/html": [
       "\n",
       "    <div>\n",
       "      <progress value='2000' class='' max='2000' style='width:300px; height:20px; vertical-align: middle;'></progress>\n",
       "      100.00% [2000/2000 00:11&lt;00:00]\n",
       "    </div>\n",
       "    "
      ],
      "text/plain": [
       "<IPython.core.display.HTML object>"
      ]
     },
     "metadata": {},
     "output_type": "display_data"
    },
    {
     "name": "stdout",
     "output_type": "stream",
     "text": [
      "Done computing zscores in 37.233722448349 seconds\n"
     ]
    },
    {
     "name": "stderr",
     "output_type": "stream",
     "text": [
      "Sampling: [y_like]\n"
     ]
    },
    {
     "name": "stdout",
     "output_type": "stream",
     "text": [
      "Computing zscores for NM_0_0_estimate.pkl\n",
      "Normal\n",
      "slope_mu <class 'pcntoolkit.model.hbr.FixedParameterization'>\n",
      "intercept_mu <class 'pcntoolkit.model.hbr.NonCentralRandomFixedParameterization'>\n",
      "mu <class 'pcntoolkit.model.hbr.LinearParameterization'>\n",
      "slope_sigma <class 'pcntoolkit.model.hbr.FixedParameterization'>\n",
      "intercept_sigma <class 'pcntoolkit.model.hbr.FixedParameterization'>\n",
      "sigma <class 'pcntoolkit.model.hbr.LinearParameterization'>\n"
     ]
    },
    {
     "data": {
      "text/html": [
       "\n",
       "<style>\n",
       "    /* Turns off some styling */\n",
       "    progress {\n",
       "        /* gets rid of default border in Firefox and Opera. */\n",
       "        border: none;\n",
       "        /* Needs to be in here for Safari polyfill so background images work as expected. */\n",
       "        background-size: auto;\n",
       "    }\n",
       "    progress:not([value]), progress:not([value])::-webkit-progress-bar {\n",
       "        background: repeating-linear-gradient(45deg, #7e7e7e, #7e7e7e 10px, #5c5c5c 10px, #5c5c5c 20px);\n",
       "    }\n",
       "    .progress-bar-interrupted, .progress-bar-interrupted::-webkit-progress-bar {\n",
       "        background: #F44336;\n",
       "    }\n",
       "</style>\n"
      ],
      "text/plain": [
       "<IPython.core.display.HTML object>"
      ]
     },
     "metadata": {},
     "output_type": "display_data"
    },
    {
     "data": {
      "text/html": [
       "\n",
       "    <div>\n",
       "      <progress value='2000' class='' max='2000' style='width:300px; height:20px; vertical-align: middle;'></progress>\n",
       "      100.00% [2000/2000 00:01&lt;00:00]\n",
       "    </div>\n",
       "    "
      ],
      "text/plain": [
       "<IPython.core.display.HTML object>"
      ]
     },
     "metadata": {},
     "output_type": "display_data"
    },
    {
     "name": "stdout",
     "output_type": "stream",
     "text": [
      "Done computing zscores in 2.283745527267456 seconds\n",
      "Computing zscores for NM_0_0_estimate.pkl\n",
      "SHASHo\n",
      "slope_mu <class 'pcntoolkit.model.hbr.FixedParameterization'>\n",
      "intercept_mu <class 'pcntoolkit.model.hbr.NonCentralRandomFixedParameterization'>\n",
      "mu <class 'pcntoolkit.model.hbr.LinearParameterization'>\n",
      "slope_sigma <class 'pcntoolkit.model.hbr.FixedParameterization'>\n",
      "intercept_sigma <class 'pcntoolkit.model.hbr.FixedParameterization'>\n",
      "sigma <class 'pcntoolkit.model.hbr.LinearParameterization'>\n",
      "epsilon <class 'pcntoolkit.model.hbr.FixedParameterization'>\n",
      "delta <class 'pcntoolkit.model.hbr.FixedParameterization'>\n"
     ]
    },
    {
     "name": "stderr",
     "output_type": "stream",
     "text": [
      "Sampling: [y_like]\n"
     ]
    },
    {
     "data": {
      "text/html": [
       "\n",
       "<style>\n",
       "    /* Turns off some styling */\n",
       "    progress {\n",
       "        /* gets rid of default border in Firefox and Opera. */\n",
       "        border: none;\n",
       "        /* Needs to be in here for Safari polyfill so background images work as expected. */\n",
       "        background-size: auto;\n",
       "    }\n",
       "    progress:not([value]), progress:not([value])::-webkit-progress-bar {\n",
       "        background: repeating-linear-gradient(45deg, #7e7e7e, #7e7e7e 10px, #5c5c5c 10px, #5c5c5c 20px);\n",
       "    }\n",
       "    .progress-bar-interrupted, .progress-bar-interrupted::-webkit-progress-bar {\n",
       "        background: #F44336;\n",
       "    }\n",
       "</style>\n"
      ],
      "text/plain": [
       "<IPython.core.display.HTML object>"
      ]
     },
     "metadata": {},
     "output_type": "display_data"
    },
    {
     "data": {
      "text/html": [
       "\n",
       "    <div>\n",
       "      <progress value='2000' class='' max='2000' style='width:300px; height:20px; vertical-align: middle;'></progress>\n",
       "      100.00% [2000/2000 00:02&lt;00:00]\n",
       "    </div>\n",
       "    "
      ],
      "text/plain": [
       "<IPython.core.display.HTML object>"
      ]
     },
     "metadata": {},
     "output_type": "display_data"
    },
    {
     "name": "stdout",
     "output_type": "stream",
     "text": [
      "Done computing zscores in 4.143406867980957 seconds\n"
     ]
    },
    {
     "name": "stderr",
     "output_type": "stream",
     "text": [
      "Sampling: [y_like]\n"
     ]
    },
    {
     "name": "stdout",
     "output_type": "stream",
     "text": [
      "Computing zscores for NM_0_0_estimate.pkl\n",
      "SHASHb\n",
      "slope_mu <class 'pcntoolkit.model.hbr.FixedParameterization'>\n",
      "intercept_mu <class 'pcntoolkit.model.hbr.NonCentralRandomFixedParameterization'>\n",
      "mu <class 'pcntoolkit.model.hbr.LinearParameterization'>\n",
      "slope_sigma <class 'pcntoolkit.model.hbr.FixedParameterization'>\n",
      "intercept_sigma <class 'pcntoolkit.model.hbr.FixedParameterization'>\n",
      "sigma <class 'pcntoolkit.model.hbr.LinearParameterization'>\n",
      "epsilon <class 'pcntoolkit.model.hbr.FixedParameterization'>\n",
      "delta <class 'pcntoolkit.model.hbr.FixedParameterization'>\n"
     ]
    },
    {
     "data": {
      "text/html": [
       "\n",
       "<style>\n",
       "    /* Turns off some styling */\n",
       "    progress {\n",
       "        /* gets rid of default border in Firefox and Opera. */\n",
       "        border: none;\n",
       "        /* Needs to be in here for Safari polyfill so background images work as expected. */\n",
       "        background-size: auto;\n",
       "    }\n",
       "    progress:not([value]), progress:not([value])::-webkit-progress-bar {\n",
       "        background: repeating-linear-gradient(45deg, #7e7e7e, #7e7e7e 10px, #5c5c5c 10px, #5c5c5c 20px);\n",
       "    }\n",
       "    .progress-bar-interrupted, .progress-bar-interrupted::-webkit-progress-bar {\n",
       "        background: #F44336;\n",
       "    }\n",
       "</style>\n"
      ],
      "text/plain": [
       "<IPython.core.display.HTML object>"
      ]
     },
     "metadata": {},
     "output_type": "display_data"
    },
    {
     "data": {
      "text/html": [
       "\n",
       "    <div>\n",
       "      <progress value='2000' class='' max='2000' style='width:300px; height:20px; vertical-align: middle;'></progress>\n",
       "      100.00% [2000/2000 00:03&lt;00:00]\n",
       "    </div>\n",
       "    "
      ],
      "text/plain": [
       "<IPython.core.display.HTML object>"
      ]
     },
     "metadata": {},
     "output_type": "display_data"
    },
    {
     "name": "stdout",
     "output_type": "stream",
     "text": [
      "Done computing zscores in 4.612409830093384 seconds\n",
      "Computing zscores for NM_0_0_estimate.pkl\n",
      "SHASHb\n",
      "slope_mu <class 'pcntoolkit.model.hbr.FixedParameterization'>\n",
      "intercept_mu <class 'pcntoolkit.model.hbr.NonCentralRandomFixedParameterization'>\n",
      "mu <class 'pcntoolkit.model.hbr.LinearParameterization'>\n",
      "slope_sigma <class 'pcntoolkit.model.hbr.FixedParameterization'>\n",
      "intercept_sigma <class 'pcntoolkit.model.hbr.FixedParameterization'>\n",
      "sigma <class 'pcntoolkit.model.hbr.LinearParameterization'>\n",
      "slope_epsilon <class 'pcntoolkit.model.hbr.FixedParameterization'>\n",
      "intercept_epsilon <class 'pcntoolkit.model.hbr.FixedParameterization'>\n",
      "epsilon <class 'pcntoolkit.model.hbr.LinearParameterization'>\n",
      "slope_delta <class 'pcntoolkit.model.hbr.FixedParameterization'>\n",
      "intercept_delta <class 'pcntoolkit.model.hbr.FixedParameterization'>\n",
      "delta <class 'pcntoolkit.model.hbr.LinearParameterization'>\n"
     ]
    },
    {
     "name": "stderr",
     "output_type": "stream",
     "text": [
      "Sampling: [y_like]\n"
     ]
    },
    {
     "data": {
      "text/html": [
       "\n",
       "<style>\n",
       "    /* Turns off some styling */\n",
       "    progress {\n",
       "        /* gets rid of default border in Firefox and Opera. */\n",
       "        border: none;\n",
       "        /* Needs to be in here for Safari polyfill so background images work as expected. */\n",
       "        background-size: auto;\n",
       "    }\n",
       "    progress:not([value]), progress:not([value])::-webkit-progress-bar {\n",
       "        background: repeating-linear-gradient(45deg, #7e7e7e, #7e7e7e 10px, #5c5c5c 10px, #5c5c5c 20px);\n",
       "    }\n",
       "    .progress-bar-interrupted, .progress-bar-interrupted::-webkit-progress-bar {\n",
       "        background: #F44336;\n",
       "    }\n",
       "</style>\n"
      ],
      "text/plain": [
       "<IPython.core.display.HTML object>"
      ]
     },
     "metadata": {},
     "output_type": "display_data"
    },
    {
     "data": {
      "text/html": [
       "\n",
       "    <div>\n",
       "      <progress value='2000' class='' max='2000' style='width:300px; height:20px; vertical-align: middle;'></progress>\n",
       "      100.00% [2000/2000 00:11&lt;00:00]\n",
       "    </div>\n",
       "    "
      ],
      "text/plain": [
       "<IPython.core.display.HTML object>"
      ]
     },
     "metadata": {},
     "output_type": "display_data"
    },
    {
     "name": "stdout",
     "output_type": "stream",
     "text": [
      "Done computing zscores in 38.12117028236389 seconds\n"
     ]
    },
    {
     "name": "stderr",
     "output_type": "stream",
     "text": [
      "Sampling: [y_like]\n"
     ]
    },
    {
     "name": "stdout",
     "output_type": "stream",
     "text": [
      "Computing zscores for NM_0_0_estimate.pkl\n",
      "Normal\n",
      "slope_mu <class 'pcntoolkit.model.hbr.FixedParameterization'>\n",
      "intercept_mu <class 'pcntoolkit.model.hbr.NonCentralRandomFixedParameterization'>\n",
      "mu <class 'pcntoolkit.model.hbr.LinearParameterization'>\n",
      "slope_sigma <class 'pcntoolkit.model.hbr.FixedParameterization'>\n",
      "intercept_sigma <class 'pcntoolkit.model.hbr.FixedParameterization'>\n",
      "sigma <class 'pcntoolkit.model.hbr.LinearParameterization'>\n"
     ]
    },
    {
     "data": {
      "text/html": [
       "\n",
       "<style>\n",
       "    /* Turns off some styling */\n",
       "    progress {\n",
       "        /* gets rid of default border in Firefox and Opera. */\n",
       "        border: none;\n",
       "        /* Needs to be in here for Safari polyfill so background images work as expected. */\n",
       "        background-size: auto;\n",
       "    }\n",
       "    progress:not([value]), progress:not([value])::-webkit-progress-bar {\n",
       "        background: repeating-linear-gradient(45deg, #7e7e7e, #7e7e7e 10px, #5c5c5c 10px, #5c5c5c 20px);\n",
       "    }\n",
       "    .progress-bar-interrupted, .progress-bar-interrupted::-webkit-progress-bar {\n",
       "        background: #F44336;\n",
       "    }\n",
       "</style>\n"
      ],
      "text/plain": [
       "<IPython.core.display.HTML object>"
      ]
     },
     "metadata": {},
     "output_type": "display_data"
    },
    {
     "data": {
      "text/html": [
       "\n",
       "    <div>\n",
       "      <progress value='2000' class='' max='2000' style='width:300px; height:20px; vertical-align: middle;'></progress>\n",
       "      100.00% [2000/2000 00:01&lt;00:00]\n",
       "    </div>\n",
       "    "
      ],
      "text/plain": [
       "<IPython.core.display.HTML object>"
      ]
     },
     "metadata": {},
     "output_type": "display_data"
    },
    {
     "name": "stdout",
     "output_type": "stream",
     "text": [
      "Done computing zscores in 2.324415445327759 seconds\n"
     ]
    },
    {
     "name": "stderr",
     "output_type": "stream",
     "text": [
      "Sampling: [y_like]\n"
     ]
    },
    {
     "name": "stdout",
     "output_type": "stream",
     "text": [
      "Computing zscores for NM_0_0_estimate.pkl\n",
      "SHASHo\n",
      "slope_mu <class 'pcntoolkit.model.hbr.FixedParameterization'>\n",
      "intercept_mu <class 'pcntoolkit.model.hbr.NonCentralRandomFixedParameterization'>\n",
      "mu <class 'pcntoolkit.model.hbr.LinearParameterization'>\n",
      "slope_sigma <class 'pcntoolkit.model.hbr.FixedParameterization'>\n",
      "intercept_sigma <class 'pcntoolkit.model.hbr.FixedParameterization'>\n",
      "sigma <class 'pcntoolkit.model.hbr.LinearParameterization'>\n",
      "epsilon <class 'pcntoolkit.model.hbr.FixedParameterization'>\n",
      "delta <class 'pcntoolkit.model.hbr.FixedParameterization'>\n"
     ]
    },
    {
     "data": {
      "text/html": [
       "\n",
       "<style>\n",
       "    /* Turns off some styling */\n",
       "    progress {\n",
       "        /* gets rid of default border in Firefox and Opera. */\n",
       "        border: none;\n",
       "        /* Needs to be in here for Safari polyfill so background images work as expected. */\n",
       "        background-size: auto;\n",
       "    }\n",
       "    progress:not([value]), progress:not([value])::-webkit-progress-bar {\n",
       "        background: repeating-linear-gradient(45deg, #7e7e7e, #7e7e7e 10px, #5c5c5c 10px, #5c5c5c 20px);\n",
       "    }\n",
       "    .progress-bar-interrupted, .progress-bar-interrupted::-webkit-progress-bar {\n",
       "        background: #F44336;\n",
       "    }\n",
       "</style>\n"
      ],
      "text/plain": [
       "<IPython.core.display.HTML object>"
      ]
     },
     "metadata": {},
     "output_type": "display_data"
    },
    {
     "data": {
      "text/html": [
       "\n",
       "    <div>\n",
       "      <progress value='2000' class='' max='2000' style='width:300px; height:20px; vertical-align: middle;'></progress>\n",
       "      100.00% [2000/2000 00:02&lt;00:00]\n",
       "    </div>\n",
       "    "
      ],
      "text/plain": [
       "<IPython.core.display.HTML object>"
      ]
     },
     "metadata": {},
     "output_type": "display_data"
    },
    {
     "name": "stdout",
     "output_type": "stream",
     "text": [
      "Done computing zscores in 3.9501171112060547 seconds\n",
      "Computing zscores for NM_0_0_estimate.pkl\n",
      "SHASHb\n",
      "slope_mu <class 'pcntoolkit.model.hbr.FixedParameterization'>\n",
      "intercept_mu <class 'pcntoolkit.model.hbr.NonCentralRandomFixedParameterization'>\n",
      "mu <class 'pcntoolkit.model.hbr.LinearParameterization'>\n",
      "slope_sigma <class 'pcntoolkit.model.hbr.FixedParameterization'>\n",
      "intercept_sigma <class 'pcntoolkit.model.hbr.FixedParameterization'>\n",
      "sigma <class 'pcntoolkit.model.hbr.LinearParameterization'>\n",
      "epsilon <class 'pcntoolkit.model.hbr.FixedParameterization'>\n",
      "delta <class 'pcntoolkit.model.hbr.FixedParameterization'>\n"
     ]
    },
    {
     "name": "stderr",
     "output_type": "stream",
     "text": [
      "Sampling: [y_like]\n"
     ]
    },
    {
     "data": {
      "text/html": [
       "\n",
       "<style>\n",
       "    /* Turns off some styling */\n",
       "    progress {\n",
       "        /* gets rid of default border in Firefox and Opera. */\n",
       "        border: none;\n",
       "        /* Needs to be in here for Safari polyfill so background images work as expected. */\n",
       "        background-size: auto;\n",
       "    }\n",
       "    progress:not([value]), progress:not([value])::-webkit-progress-bar {\n",
       "        background: repeating-linear-gradient(45deg, #7e7e7e, #7e7e7e 10px, #5c5c5c 10px, #5c5c5c 20px);\n",
       "    }\n",
       "    .progress-bar-interrupted, .progress-bar-interrupted::-webkit-progress-bar {\n",
       "        background: #F44336;\n",
       "    }\n",
       "</style>\n"
      ],
      "text/plain": [
       "<IPython.core.display.HTML object>"
      ]
     },
     "metadata": {},
     "output_type": "display_data"
    },
    {
     "data": {
      "text/html": [
       "\n",
       "    <div>\n",
       "      <progress value='2000' class='' max='2000' style='width:300px; height:20px; vertical-align: middle;'></progress>\n",
       "      100.00% [2000/2000 00:02&lt;00:00]\n",
       "    </div>\n",
       "    "
      ],
      "text/plain": [
       "<IPython.core.display.HTML object>"
      ]
     },
     "metadata": {},
     "output_type": "display_data"
    },
    {
     "name": "stdout",
     "output_type": "stream",
     "text": [
      "Done computing zscores in 4.619997501373291 seconds\n",
      "Computing zscores for NM_0_0_estimate.pkl\n",
      "SHASHb\n",
      "slope_mu <class 'pcntoolkit.model.hbr.FixedParameterization'>\n",
      "intercept_mu <class 'pcntoolkit.model.hbr.NonCentralRandomFixedParameterization'>\n",
      "mu <class 'pcntoolkit.model.hbr.LinearParameterization'>\n",
      "slope_sigma <class 'pcntoolkit.model.hbr.FixedParameterization'>\n",
      "intercept_sigma <class 'pcntoolkit.model.hbr.FixedParameterization'>\n",
      "sigma <class 'pcntoolkit.model.hbr.LinearParameterization'>\n",
      "slope_epsilon <class 'pcntoolkit.model.hbr.FixedParameterization'>\n",
      "intercept_epsilon <class 'pcntoolkit.model.hbr.FixedParameterization'>\n",
      "epsilon <class 'pcntoolkit.model.hbr.LinearParameterization'>\n",
      "slope_delta <class 'pcntoolkit.model.hbr.FixedParameterization'>\n",
      "intercept_delta <class 'pcntoolkit.model.hbr.FixedParameterization'>\n",
      "delta <class 'pcntoolkit.model.hbr.LinearParameterization'>\n"
     ]
    },
    {
     "name": "stderr",
     "output_type": "stream",
     "text": [
      "Sampling: [y_like]\n"
     ]
    },
    {
     "data": {
      "text/html": [
       "\n",
       "<style>\n",
       "    /* Turns off some styling */\n",
       "    progress {\n",
       "        /* gets rid of default border in Firefox and Opera. */\n",
       "        border: none;\n",
       "        /* Needs to be in here for Safari polyfill so background images work as expected. */\n",
       "        background-size: auto;\n",
       "    }\n",
       "    progress:not([value]), progress:not([value])::-webkit-progress-bar {\n",
       "        background: repeating-linear-gradient(45deg, #7e7e7e, #7e7e7e 10px, #5c5c5c 10px, #5c5c5c 20px);\n",
       "    }\n",
       "    .progress-bar-interrupted, .progress-bar-interrupted::-webkit-progress-bar {\n",
       "        background: #F44336;\n",
       "    }\n",
       "</style>\n"
      ],
      "text/plain": [
       "<IPython.core.display.HTML object>"
      ]
     },
     "metadata": {},
     "output_type": "display_data"
    },
    {
     "data": {
      "text/html": [
       "\n",
       "    <div>\n",
       "      <progress value='2000' class='' max='2000' style='width:300px; height:20px; vertical-align: middle;'></progress>\n",
       "      100.00% [2000/2000 00:11&lt;00:00]\n",
       "    </div>\n",
       "    "
      ],
      "text/plain": [
       "<IPython.core.display.HTML object>"
      ]
     },
     "metadata": {},
     "output_type": "display_data"
    },
    {
     "name": "stdout",
     "output_type": "stream",
     "text": [
      "Done computing zscores in 40.78118538856506 seconds\n"
     ]
    },
    {
     "name": "stderr",
     "output_type": "stream",
     "text": [
      "Sampling: [y_like]\n"
     ]
    },
    {
     "name": "stdout",
     "output_type": "stream",
     "text": [
      "Computing zscores for NM_0_0_estimate.pkl\n",
      "Normal\n",
      "slope_mu <class 'pcntoolkit.model.hbr.FixedParameterization'>\n",
      "intercept_mu <class 'pcntoolkit.model.hbr.NonCentralRandomFixedParameterization'>\n",
      "mu <class 'pcntoolkit.model.hbr.LinearParameterization'>\n",
      "slope_sigma <class 'pcntoolkit.model.hbr.FixedParameterization'>\n",
      "intercept_sigma <class 'pcntoolkit.model.hbr.FixedParameterization'>\n",
      "sigma <class 'pcntoolkit.model.hbr.LinearParameterization'>\n"
     ]
    },
    {
     "data": {
      "text/html": [
       "\n",
       "<style>\n",
       "    /* Turns off some styling */\n",
       "    progress {\n",
       "        /* gets rid of default border in Firefox and Opera. */\n",
       "        border: none;\n",
       "        /* Needs to be in here for Safari polyfill so background images work as expected. */\n",
       "        background-size: auto;\n",
       "    }\n",
       "    progress:not([value]), progress:not([value])::-webkit-progress-bar {\n",
       "        background: repeating-linear-gradient(45deg, #7e7e7e, #7e7e7e 10px, #5c5c5c 10px, #5c5c5c 20px);\n",
       "    }\n",
       "    .progress-bar-interrupted, .progress-bar-interrupted::-webkit-progress-bar {\n",
       "        background: #F44336;\n",
       "    }\n",
       "</style>\n"
      ],
      "text/plain": [
       "<IPython.core.display.HTML object>"
      ]
     },
     "metadata": {},
     "output_type": "display_data"
    },
    {
     "data": {
      "text/html": [
       "\n",
       "    <div>\n",
       "      <progress value='2000' class='' max='2000' style='width:300px; height:20px; vertical-align: middle;'></progress>\n",
       "      100.00% [2000/2000 00:01&lt;00:00]\n",
       "    </div>\n",
       "    "
      ],
      "text/plain": [
       "<IPython.core.display.HTML object>"
      ]
     },
     "metadata": {},
     "output_type": "display_data"
    },
    {
     "name": "stdout",
     "output_type": "stream",
     "text": [
      "Done computing zscores in 2.24043607711792 seconds\n"
     ]
    },
    {
     "name": "stderr",
     "output_type": "stream",
     "text": [
      "Sampling: [y_like]\n"
     ]
    },
    {
     "name": "stdout",
     "output_type": "stream",
     "text": [
      "Computing zscores for NM_0_0_estimate.pkl\n",
      "SHASHo\n",
      "slope_mu <class 'pcntoolkit.model.hbr.FixedParameterization'>\n",
      "intercept_mu <class 'pcntoolkit.model.hbr.NonCentralRandomFixedParameterization'>\n",
      "mu <class 'pcntoolkit.model.hbr.LinearParameterization'>\n",
      "slope_sigma <class 'pcntoolkit.model.hbr.FixedParameterization'>\n",
      "intercept_sigma <class 'pcntoolkit.model.hbr.FixedParameterization'>\n",
      "sigma <class 'pcntoolkit.model.hbr.LinearParameterization'>\n",
      "epsilon <class 'pcntoolkit.model.hbr.FixedParameterization'>\n",
      "delta <class 'pcntoolkit.model.hbr.FixedParameterization'>\n"
     ]
    },
    {
     "data": {
      "text/html": [
       "\n",
       "<style>\n",
       "    /* Turns off some styling */\n",
       "    progress {\n",
       "        /* gets rid of default border in Firefox and Opera. */\n",
       "        border: none;\n",
       "        /* Needs to be in here for Safari polyfill so background images work as expected. */\n",
       "        background-size: auto;\n",
       "    }\n",
       "    progress:not([value]), progress:not([value])::-webkit-progress-bar {\n",
       "        background: repeating-linear-gradient(45deg, #7e7e7e, #7e7e7e 10px, #5c5c5c 10px, #5c5c5c 20px);\n",
       "    }\n",
       "    .progress-bar-interrupted, .progress-bar-interrupted::-webkit-progress-bar {\n",
       "        background: #F44336;\n",
       "    }\n",
       "</style>\n"
      ],
      "text/plain": [
       "<IPython.core.display.HTML object>"
      ]
     },
     "metadata": {},
     "output_type": "display_data"
    },
    {
     "data": {
      "text/html": [
       "\n",
       "    <div>\n",
       "      <progress value='2000' class='' max='2000' style='width:300px; height:20px; vertical-align: middle;'></progress>\n",
       "      100.00% [2000/2000 00:02&lt;00:00]\n",
       "    </div>\n",
       "    "
      ],
      "text/plain": [
       "<IPython.core.display.HTML object>"
      ]
     },
     "metadata": {},
     "output_type": "display_data"
    },
    {
     "name": "stdout",
     "output_type": "stream",
     "text": [
      "Done computing zscores in 3.7984018325805664 seconds\n",
      "Computing zscores for NM_0_0_estimate.pkl\n",
      "SHASHb\n",
      "slope_mu <class 'pcntoolkit.model.hbr.FixedParameterization'>\n",
      "intercept_mu <class 'pcntoolkit.model.hbr.NonCentralRandomFixedParameterization'>\n",
      "mu <class 'pcntoolkit.model.hbr.LinearParameterization'>\n",
      "slope_sigma <class 'pcntoolkit.model.hbr.FixedParameterization'>\n",
      "intercept_sigma <class 'pcntoolkit.model.hbr.FixedParameterization'>\n",
      "sigma <class 'pcntoolkit.model.hbr.LinearParameterization'>\n",
      "epsilon <class 'pcntoolkit.model.hbr.FixedParameterization'>\n",
      "delta <class 'pcntoolkit.model.hbr.FixedParameterization'>\n"
     ]
    },
    {
     "name": "stderr",
     "output_type": "stream",
     "text": [
      "Sampling: [y_like]\n"
     ]
    },
    {
     "data": {
      "text/html": [
       "\n",
       "<style>\n",
       "    /* Turns off some styling */\n",
       "    progress {\n",
       "        /* gets rid of default border in Firefox and Opera. */\n",
       "        border: none;\n",
       "        /* Needs to be in here for Safari polyfill so background images work as expected. */\n",
       "        background-size: auto;\n",
       "    }\n",
       "    progress:not([value]), progress:not([value])::-webkit-progress-bar {\n",
       "        background: repeating-linear-gradient(45deg, #7e7e7e, #7e7e7e 10px, #5c5c5c 10px, #5c5c5c 20px);\n",
       "    }\n",
       "    .progress-bar-interrupted, .progress-bar-interrupted::-webkit-progress-bar {\n",
       "        background: #F44336;\n",
       "    }\n",
       "</style>\n"
      ],
      "text/plain": [
       "<IPython.core.display.HTML object>"
      ]
     },
     "metadata": {},
     "output_type": "display_data"
    },
    {
     "data": {
      "text/html": [
       "\n",
       "    <div>\n",
       "      <progress value='2000' class='' max='2000' style='width:300px; height:20px; vertical-align: middle;'></progress>\n",
       "      100.00% [2000/2000 00:02&lt;00:00]\n",
       "    </div>\n",
       "    "
      ],
      "text/plain": [
       "<IPython.core.display.HTML object>"
      ]
     },
     "metadata": {},
     "output_type": "display_data"
    },
    {
     "name": "stdout",
     "output_type": "stream",
     "text": [
      "Done computing zscores in 4.491414785385132 seconds\n",
      "Computing zscores for NM_0_0_estimate.pkl\n",
      "SHASHb\n",
      "slope_mu <class 'pcntoolkit.model.hbr.FixedParameterization'>\n",
      "intercept_mu <class 'pcntoolkit.model.hbr.NonCentralRandomFixedParameterization'>\n",
      "mu <class 'pcntoolkit.model.hbr.LinearParameterization'>\n",
      "slope_sigma <class 'pcntoolkit.model.hbr.FixedParameterization'>\n",
      "intercept_sigma <class 'pcntoolkit.model.hbr.FixedParameterization'>\n",
      "sigma <class 'pcntoolkit.model.hbr.LinearParameterization'>\n",
      "slope_epsilon <class 'pcntoolkit.model.hbr.FixedParameterization'>\n",
      "intercept_epsilon <class 'pcntoolkit.model.hbr.FixedParameterization'>\n",
      "epsilon <class 'pcntoolkit.model.hbr.LinearParameterization'>\n",
      "slope_delta <class 'pcntoolkit.model.hbr.FixedParameterization'>\n",
      "intercept_delta <class 'pcntoolkit.model.hbr.FixedParameterization'>\n",
      "delta <class 'pcntoolkit.model.hbr.LinearParameterization'>\n"
     ]
    },
    {
     "name": "stderr",
     "output_type": "stream",
     "text": [
      "Sampling: [y_like]\n"
     ]
    },
    {
     "data": {
      "text/html": [
       "\n",
       "<style>\n",
       "    /* Turns off some styling */\n",
       "    progress {\n",
       "        /* gets rid of default border in Firefox and Opera. */\n",
       "        border: none;\n",
       "        /* Needs to be in here for Safari polyfill so background images work as expected. */\n",
       "        background-size: auto;\n",
       "    }\n",
       "    progress:not([value]), progress:not([value])::-webkit-progress-bar {\n",
       "        background: repeating-linear-gradient(45deg, #7e7e7e, #7e7e7e 10px, #5c5c5c 10px, #5c5c5c 20px);\n",
       "    }\n",
       "    .progress-bar-interrupted, .progress-bar-interrupted::-webkit-progress-bar {\n",
       "        background: #F44336;\n",
       "    }\n",
       "</style>\n"
      ],
      "text/plain": [
       "<IPython.core.display.HTML object>"
      ]
     },
     "metadata": {},
     "output_type": "display_data"
    },
    {
     "data": {
      "text/html": [
       "\n",
       "    <div>\n",
       "      <progress value='2000' class='' max='2000' style='width:300px; height:20px; vertical-align: middle;'></progress>\n",
       "      100.00% [2000/2000 00:11&lt;00:00]\n",
       "    </div>\n",
       "    "
      ],
      "text/plain": [
       "<IPython.core.display.HTML object>"
      ]
     },
     "metadata": {},
     "output_type": "display_data"
    },
    {
     "name": "stdout",
     "output_type": "stream",
     "text": [
      "Done computing zscores in 40.38518214225769 seconds\n"
     ]
    },
    {
     "name": "stderr",
     "output_type": "stream",
     "text": [
      "Sampling: [y_like]\n"
     ]
    },
    {
     "name": "stdout",
     "output_type": "stream",
     "text": [
      "Computing zscores for NM_0_0_estimate.pkl\n",
      "Normal\n",
      "slope_mu <class 'pcntoolkit.model.hbr.FixedParameterization'>\n",
      "intercept_mu <class 'pcntoolkit.model.hbr.NonCentralRandomFixedParameterization'>\n",
      "mu <class 'pcntoolkit.model.hbr.LinearParameterization'>\n",
      "slope_sigma <class 'pcntoolkit.model.hbr.FixedParameterization'>\n",
      "intercept_sigma <class 'pcntoolkit.model.hbr.FixedParameterization'>\n",
      "sigma <class 'pcntoolkit.model.hbr.LinearParameterization'>\n"
     ]
    },
    {
     "data": {
      "text/html": [
       "\n",
       "<style>\n",
       "    /* Turns off some styling */\n",
       "    progress {\n",
       "        /* gets rid of default border in Firefox and Opera. */\n",
       "        border: none;\n",
       "        /* Needs to be in here for Safari polyfill so background images work as expected. */\n",
       "        background-size: auto;\n",
       "    }\n",
       "    progress:not([value]), progress:not([value])::-webkit-progress-bar {\n",
       "        background: repeating-linear-gradient(45deg, #7e7e7e, #7e7e7e 10px, #5c5c5c 10px, #5c5c5c 20px);\n",
       "    }\n",
       "    .progress-bar-interrupted, .progress-bar-interrupted::-webkit-progress-bar {\n",
       "        background: #F44336;\n",
       "    }\n",
       "</style>\n"
      ],
      "text/plain": [
       "<IPython.core.display.HTML object>"
      ]
     },
     "metadata": {},
     "output_type": "display_data"
    },
    {
     "data": {
      "text/html": [
       "\n",
       "    <div>\n",
       "      <progress value='2000' class='' max='2000' style='width:300px; height:20px; vertical-align: middle;'></progress>\n",
       "      100.00% [2000/2000 00:01&lt;00:00]\n",
       "    </div>\n",
       "    "
      ],
      "text/plain": [
       "<IPython.core.display.HTML object>"
      ]
     },
     "metadata": {},
     "output_type": "display_data"
    },
    {
     "name": "stdout",
     "output_type": "stream",
     "text": [
      "Done computing zscores in 2.2303199768066406 seconds\n",
      "Computing zscores for NM_0_0_estimate.pkl\n",
      "SHASHo\n",
      "slope_mu <class 'pcntoolkit.model.hbr.FixedParameterization'>\n",
      "intercept_mu <class 'pcntoolkit.model.hbr.NonCentralRandomFixedParameterization'>\n",
      "mu <class 'pcntoolkit.model.hbr.LinearParameterization'>\n",
      "slope_sigma <class 'pcntoolkit.model.hbr.FixedParameterization'>\n",
      "intercept_sigma <class 'pcntoolkit.model.hbr.FixedParameterization'>\n",
      "sigma <class 'pcntoolkit.model.hbr.LinearParameterization'>\n",
      "epsilon <class 'pcntoolkit.model.hbr.FixedParameterization'>\n",
      "delta <class 'pcntoolkit.model.hbr.FixedParameterization'>\n"
     ]
    },
    {
     "name": "stderr",
     "output_type": "stream",
     "text": [
      "Sampling: [y_like]\n"
     ]
    },
    {
     "data": {
      "text/html": [
       "\n",
       "<style>\n",
       "    /* Turns off some styling */\n",
       "    progress {\n",
       "        /* gets rid of default border in Firefox and Opera. */\n",
       "        border: none;\n",
       "        /* Needs to be in here for Safari polyfill so background images work as expected. */\n",
       "        background-size: auto;\n",
       "    }\n",
       "    progress:not([value]), progress:not([value])::-webkit-progress-bar {\n",
       "        background: repeating-linear-gradient(45deg, #7e7e7e, #7e7e7e 10px, #5c5c5c 10px, #5c5c5c 20px);\n",
       "    }\n",
       "    .progress-bar-interrupted, .progress-bar-interrupted::-webkit-progress-bar {\n",
       "        background: #F44336;\n",
       "    }\n",
       "</style>\n"
      ],
      "text/plain": [
       "<IPython.core.display.HTML object>"
      ]
     },
     "metadata": {},
     "output_type": "display_data"
    },
    {
     "data": {
      "text/html": [
       "\n",
       "    <div>\n",
       "      <progress value='2000' class='' max='2000' style='width:300px; height:20px; vertical-align: middle;'></progress>\n",
       "      100.00% [2000/2000 00:02&lt;00:00]\n",
       "    </div>\n",
       "    "
      ],
      "text/plain": [
       "<IPython.core.display.HTML object>"
      ]
     },
     "metadata": {},
     "output_type": "display_data"
    },
    {
     "name": "stdout",
     "output_type": "stream",
     "text": [
      "Done computing zscores in 3.706324815750122 seconds\n"
     ]
    },
    {
     "name": "stderr",
     "output_type": "stream",
     "text": [
      "Sampling: [y_like]\n"
     ]
    },
    {
     "name": "stdout",
     "output_type": "stream",
     "text": [
      "Computing zscores for NM_0_0_estimate.pkl\n",
      "SHASHb\n",
      "slope_mu <class 'pcntoolkit.model.hbr.FixedParameterization'>\n",
      "intercept_mu <class 'pcntoolkit.model.hbr.NonCentralRandomFixedParameterization'>\n",
      "mu <class 'pcntoolkit.model.hbr.LinearParameterization'>\n",
      "slope_sigma <class 'pcntoolkit.model.hbr.FixedParameterization'>\n",
      "intercept_sigma <class 'pcntoolkit.model.hbr.FixedParameterization'>\n",
      "sigma <class 'pcntoolkit.model.hbr.LinearParameterization'>\n",
      "epsilon <class 'pcntoolkit.model.hbr.FixedParameterization'>\n",
      "delta <class 'pcntoolkit.model.hbr.FixedParameterization'>\n"
     ]
    },
    {
     "data": {
      "text/html": [
       "\n",
       "<style>\n",
       "    /* Turns off some styling */\n",
       "    progress {\n",
       "        /* gets rid of default border in Firefox and Opera. */\n",
       "        border: none;\n",
       "        /* Needs to be in here for Safari polyfill so background images work as expected. */\n",
       "        background-size: auto;\n",
       "    }\n",
       "    progress:not([value]), progress:not([value])::-webkit-progress-bar {\n",
       "        background: repeating-linear-gradient(45deg, #7e7e7e, #7e7e7e 10px, #5c5c5c 10px, #5c5c5c 20px);\n",
       "    }\n",
       "    .progress-bar-interrupted, .progress-bar-interrupted::-webkit-progress-bar {\n",
       "        background: #F44336;\n",
       "    }\n",
       "</style>\n"
      ],
      "text/plain": [
       "<IPython.core.display.HTML object>"
      ]
     },
     "metadata": {},
     "output_type": "display_data"
    },
    {
     "data": {
      "text/html": [
       "\n",
       "    <div>\n",
       "      <progress value='2000' class='' max='2000' style='width:300px; height:20px; vertical-align: middle;'></progress>\n",
       "      100.00% [2000/2000 00:03&lt;00:00]\n",
       "    </div>\n",
       "    "
      ],
      "text/plain": [
       "<IPython.core.display.HTML object>"
      ]
     },
     "metadata": {},
     "output_type": "display_data"
    },
    {
     "name": "stdout",
     "output_type": "stream",
     "text": [
      "Done computing zscores in 4.570855617523193 seconds\n",
      "Computing zscores for NM_0_0_estimate.pkl\n",
      "SHASHb\n",
      "slope_mu <class 'pcntoolkit.model.hbr.FixedParameterization'>\n",
      "intercept_mu <class 'pcntoolkit.model.hbr.NonCentralRandomFixedParameterization'>\n",
      "mu <class 'pcntoolkit.model.hbr.LinearParameterization'>\n",
      "slope_sigma <class 'pcntoolkit.model.hbr.FixedParameterization'>\n",
      "intercept_sigma <class 'pcntoolkit.model.hbr.FixedParameterization'>\n",
      "sigma <class 'pcntoolkit.model.hbr.LinearParameterization'>\n",
      "slope_epsilon <class 'pcntoolkit.model.hbr.FixedParameterization'>\n",
      "intercept_epsilon <class 'pcntoolkit.model.hbr.FixedParameterization'>\n",
      "epsilon <class 'pcntoolkit.model.hbr.LinearParameterization'>\n",
      "slope_delta <class 'pcntoolkit.model.hbr.FixedParameterization'>\n",
      "intercept_delta <class 'pcntoolkit.model.hbr.FixedParameterization'>\n",
      "delta <class 'pcntoolkit.model.hbr.LinearParameterization'>\n"
     ]
    },
    {
     "name": "stderr",
     "output_type": "stream",
     "text": [
      "Sampling: [y_like]\n"
     ]
    },
    {
     "data": {
      "text/html": [
       "\n",
       "<style>\n",
       "    /* Turns off some styling */\n",
       "    progress {\n",
       "        /* gets rid of default border in Firefox and Opera. */\n",
       "        border: none;\n",
       "        /* Needs to be in here for Safari polyfill so background images work as expected. */\n",
       "        background-size: auto;\n",
       "    }\n",
       "    progress:not([value]), progress:not([value])::-webkit-progress-bar {\n",
       "        background: repeating-linear-gradient(45deg, #7e7e7e, #7e7e7e 10px, #5c5c5c 10px, #5c5c5c 20px);\n",
       "    }\n",
       "    .progress-bar-interrupted, .progress-bar-interrupted::-webkit-progress-bar {\n",
       "        background: #F44336;\n",
       "    }\n",
       "</style>\n"
      ],
      "text/plain": [
       "<IPython.core.display.HTML object>"
      ]
     },
     "metadata": {},
     "output_type": "display_data"
    },
    {
     "data": {
      "text/html": [
       "\n",
       "    <div>\n",
       "      <progress value='2000' class='' max='2000' style='width:300px; height:20px; vertical-align: middle;'></progress>\n",
       "      100.00% [2000/2000 00:11&lt;00:00]\n",
       "    </div>\n",
       "    "
      ],
      "text/plain": [
       "<IPython.core.display.HTML object>"
      ]
     },
     "metadata": {},
     "output_type": "display_data"
    },
    {
     "name": "stdout",
     "output_type": "stream",
     "text": [
      "Done computing zscores in 38.49320650100708 seconds\n"
     ]
    },
    {
     "name": "stderr",
     "output_type": "stream",
     "text": [
      "Sampling: [y_like]\n"
     ]
    },
    {
     "name": "stdout",
     "output_type": "stream",
     "text": [
      "Computing zscores for NM_0_0_estimate.pkl\n",
      "Normal\n",
      "slope_mu <class 'pcntoolkit.model.hbr.FixedParameterization'>\n",
      "intercept_mu <class 'pcntoolkit.model.hbr.NonCentralRandomFixedParameterization'>\n",
      "mu <class 'pcntoolkit.model.hbr.LinearParameterization'>\n",
      "slope_sigma <class 'pcntoolkit.model.hbr.FixedParameterization'>\n",
      "intercept_sigma <class 'pcntoolkit.model.hbr.FixedParameterization'>\n",
      "sigma <class 'pcntoolkit.model.hbr.LinearParameterization'>\n"
     ]
    },
    {
     "data": {
      "text/html": [
       "\n",
       "<style>\n",
       "    /* Turns off some styling */\n",
       "    progress {\n",
       "        /* gets rid of default border in Firefox and Opera. */\n",
       "        border: none;\n",
       "        /* Needs to be in here for Safari polyfill so background images work as expected. */\n",
       "        background-size: auto;\n",
       "    }\n",
       "    progress:not([value]), progress:not([value])::-webkit-progress-bar {\n",
       "        background: repeating-linear-gradient(45deg, #7e7e7e, #7e7e7e 10px, #5c5c5c 10px, #5c5c5c 20px);\n",
       "    }\n",
       "    .progress-bar-interrupted, .progress-bar-interrupted::-webkit-progress-bar {\n",
       "        background: #F44336;\n",
       "    }\n",
       "</style>\n"
      ],
      "text/plain": [
       "<IPython.core.display.HTML object>"
      ]
     },
     "metadata": {},
     "output_type": "display_data"
    },
    {
     "data": {
      "text/html": [
       "\n",
       "    <div>\n",
       "      <progress value='2000' class='' max='2000' style='width:300px; height:20px; vertical-align: middle;'></progress>\n",
       "      100.00% [2000/2000 00:01&lt;00:00]\n",
       "    </div>\n",
       "    "
      ],
      "text/plain": [
       "<IPython.core.display.HTML object>"
      ]
     },
     "metadata": {},
     "output_type": "display_data"
    },
    {
     "name": "stdout",
     "output_type": "stream",
     "text": [
      "Done computing zscores in 2.1834540367126465 seconds\n",
      "Computing zscores for NM_0_0_estimate.pkl\n",
      "SHASHo\n",
      "slope_mu <class 'pcntoolkit.model.hbr.FixedParameterization'>\n",
      "intercept_mu <class 'pcntoolkit.model.hbr.NonCentralRandomFixedParameterization'>\n",
      "mu <class 'pcntoolkit.model.hbr.LinearParameterization'>\n",
      "slope_sigma <class 'pcntoolkit.model.hbr.FixedParameterization'>\n",
      "intercept_sigma <class 'pcntoolkit.model.hbr.FixedParameterization'>\n",
      "sigma <class 'pcntoolkit.model.hbr.LinearParameterization'>\n",
      "epsilon <class 'pcntoolkit.model.hbr.FixedParameterization'>\n",
      "delta <class 'pcntoolkit.model.hbr.FixedParameterization'>\n"
     ]
    },
    {
     "name": "stderr",
     "output_type": "stream",
     "text": [
      "Sampling: [y_like]\n"
     ]
    },
    {
     "data": {
      "text/html": [
       "\n",
       "<style>\n",
       "    /* Turns off some styling */\n",
       "    progress {\n",
       "        /* gets rid of default border in Firefox and Opera. */\n",
       "        border: none;\n",
       "        /* Needs to be in here for Safari polyfill so background images work as expected. */\n",
       "        background-size: auto;\n",
       "    }\n",
       "    progress:not([value]), progress:not([value])::-webkit-progress-bar {\n",
       "        background: repeating-linear-gradient(45deg, #7e7e7e, #7e7e7e 10px, #5c5c5c 10px, #5c5c5c 20px);\n",
       "    }\n",
       "    .progress-bar-interrupted, .progress-bar-interrupted::-webkit-progress-bar {\n",
       "        background: #F44336;\n",
       "    }\n",
       "</style>\n"
      ],
      "text/plain": [
       "<IPython.core.display.HTML object>"
      ]
     },
     "metadata": {},
     "output_type": "display_data"
    },
    {
     "data": {
      "text/html": [
       "\n",
       "    <div>\n",
       "      <progress value='2000' class='' max='2000' style='width:300px; height:20px; vertical-align: middle;'></progress>\n",
       "      100.00% [2000/2000 00:02&lt;00:00]\n",
       "    </div>\n",
       "    "
      ],
      "text/plain": [
       "<IPython.core.display.HTML object>"
      ]
     },
     "metadata": {},
     "output_type": "display_data"
    },
    {
     "name": "stdout",
     "output_type": "stream",
     "text": [
      "Done computing zscores in 3.771627426147461 seconds\n",
      "Computing zscores for NM_0_0_estimate.pkl\n",
      "SHASHb\n",
      "slope_mu <class 'pcntoolkit.model.hbr.FixedParameterization'>\n",
      "intercept_mu <class 'pcntoolkit.model.hbr.NonCentralRandomFixedParameterization'>\n",
      "mu <class 'pcntoolkit.model.hbr.LinearParameterization'>\n",
      "slope_sigma <class 'pcntoolkit.model.hbr.FixedParameterization'>\n",
      "intercept_sigma <class 'pcntoolkit.model.hbr.FixedParameterization'>\n",
      "sigma <class 'pcntoolkit.model.hbr.LinearParameterization'>\n",
      "epsilon <class 'pcntoolkit.model.hbr.FixedParameterization'>\n",
      "delta <class 'pcntoolkit.model.hbr.FixedParameterization'>\n"
     ]
    },
    {
     "name": "stderr",
     "output_type": "stream",
     "text": [
      "Sampling: [y_like]\n"
     ]
    },
    {
     "data": {
      "text/html": [
       "\n",
       "<style>\n",
       "    /* Turns off some styling */\n",
       "    progress {\n",
       "        /* gets rid of default border in Firefox and Opera. */\n",
       "        border: none;\n",
       "        /* Needs to be in here for Safari polyfill so background images work as expected. */\n",
       "        background-size: auto;\n",
       "    }\n",
       "    progress:not([value]), progress:not([value])::-webkit-progress-bar {\n",
       "        background: repeating-linear-gradient(45deg, #7e7e7e, #7e7e7e 10px, #5c5c5c 10px, #5c5c5c 20px);\n",
       "    }\n",
       "    .progress-bar-interrupted, .progress-bar-interrupted::-webkit-progress-bar {\n",
       "        background: #F44336;\n",
       "    }\n",
       "</style>\n"
      ],
      "text/plain": [
       "<IPython.core.display.HTML object>"
      ]
     },
     "metadata": {},
     "output_type": "display_data"
    },
    {
     "data": {
      "text/html": [
       "\n",
       "    <div>\n",
       "      <progress value='2000' class='' max='2000' style='width:300px; height:20px; vertical-align: middle;'></progress>\n",
       "      100.00% [2000/2000 00:02&lt;00:00]\n",
       "    </div>\n",
       "    "
      ],
      "text/plain": [
       "<IPython.core.display.HTML object>"
      ]
     },
     "metadata": {},
     "output_type": "display_data"
    },
    {
     "name": "stdout",
     "output_type": "stream",
     "text": [
      "Done computing zscores in 4.490521430969238 seconds\n",
      "Computing zscores for NM_0_0_estimate.pkl\n",
      "SHASHb\n",
      "slope_mu <class 'pcntoolkit.model.hbr.FixedParameterization'>\n",
      "intercept_mu <class 'pcntoolkit.model.hbr.NonCentralRandomFixedParameterization'>\n",
      "mu <class 'pcntoolkit.model.hbr.LinearParameterization'>\n",
      "slope_sigma <class 'pcntoolkit.model.hbr.FixedParameterization'>\n",
      "intercept_sigma <class 'pcntoolkit.model.hbr.FixedParameterization'>\n",
      "sigma <class 'pcntoolkit.model.hbr.LinearParameterization'>\n",
      "slope_epsilon <class 'pcntoolkit.model.hbr.FixedParameterization'>\n",
      "intercept_epsilon <class 'pcntoolkit.model.hbr.FixedParameterization'>\n",
      "epsilon <class 'pcntoolkit.model.hbr.LinearParameterization'>\n",
      "slope_delta <class 'pcntoolkit.model.hbr.FixedParameterization'>\n",
      "intercept_delta <class 'pcntoolkit.model.hbr.FixedParameterization'>\n",
      "delta <class 'pcntoolkit.model.hbr.LinearParameterization'>\n"
     ]
    },
    {
     "name": "stderr",
     "output_type": "stream",
     "text": [
      "Sampling: [y_like]\n"
     ]
    },
    {
     "data": {
      "text/html": [
       "\n",
       "<style>\n",
       "    /* Turns off some styling */\n",
       "    progress {\n",
       "        /* gets rid of default border in Firefox and Opera. */\n",
       "        border: none;\n",
       "        /* Needs to be in here for Safari polyfill so background images work as expected. */\n",
       "        background-size: auto;\n",
       "    }\n",
       "    progress:not([value]), progress:not([value])::-webkit-progress-bar {\n",
       "        background: repeating-linear-gradient(45deg, #7e7e7e, #7e7e7e 10px, #5c5c5c 10px, #5c5c5c 20px);\n",
       "    }\n",
       "    .progress-bar-interrupted, .progress-bar-interrupted::-webkit-progress-bar {\n",
       "        background: #F44336;\n",
       "    }\n",
       "</style>\n"
      ],
      "text/plain": [
       "<IPython.core.display.HTML object>"
      ]
     },
     "metadata": {},
     "output_type": "display_data"
    },
    {
     "data": {
      "text/html": [
       "\n",
       "    <div>\n",
       "      <progress value='2000' class='' max='2000' style='width:300px; height:20px; vertical-align: middle;'></progress>\n",
       "      100.00% [2000/2000 00:11&lt;00:00]\n",
       "    </div>\n",
       "    "
      ],
      "text/plain": [
       "<IPython.core.display.HTML object>"
      ]
     },
     "metadata": {},
     "output_type": "display_data"
    },
    {
     "name": "stdout",
     "output_type": "stream",
     "text": [
      "Done computing zscores in 39.6591579914093 seconds\n"
     ]
    },
    {
     "name": "stderr",
     "output_type": "stream",
     "text": [
      "Sampling: [y_like]\n"
     ]
    },
    {
     "name": "stdout",
     "output_type": "stream",
     "text": [
      "Computing zscores for NM_0_0_estimate.pkl\n",
      "Normal\n",
      "slope_mu <class 'pcntoolkit.model.hbr.FixedParameterization'>\n",
      "intercept_mu <class 'pcntoolkit.model.hbr.NonCentralRandomFixedParameterization'>\n",
      "mu <class 'pcntoolkit.model.hbr.LinearParameterization'>\n",
      "slope_sigma <class 'pcntoolkit.model.hbr.FixedParameterization'>\n",
      "intercept_sigma <class 'pcntoolkit.model.hbr.FixedParameterization'>\n",
      "sigma <class 'pcntoolkit.model.hbr.LinearParameterization'>\n"
     ]
    },
    {
     "data": {
      "text/html": [
       "\n",
       "<style>\n",
       "    /* Turns off some styling */\n",
       "    progress {\n",
       "        /* gets rid of default border in Firefox and Opera. */\n",
       "        border: none;\n",
       "        /* Needs to be in here for Safari polyfill so background images work as expected. */\n",
       "        background-size: auto;\n",
       "    }\n",
       "    progress:not([value]), progress:not([value])::-webkit-progress-bar {\n",
       "        background: repeating-linear-gradient(45deg, #7e7e7e, #7e7e7e 10px, #5c5c5c 10px, #5c5c5c 20px);\n",
       "    }\n",
       "    .progress-bar-interrupted, .progress-bar-interrupted::-webkit-progress-bar {\n",
       "        background: #F44336;\n",
       "    }\n",
       "</style>\n"
      ],
      "text/plain": [
       "<IPython.core.display.HTML object>"
      ]
     },
     "metadata": {},
     "output_type": "display_data"
    },
    {
     "data": {
      "text/html": [
       "\n",
       "    <div>\n",
       "      <progress value='2000' class='' max='2000' style='width:300px; height:20px; vertical-align: middle;'></progress>\n",
       "      100.00% [2000/2000 00:01&lt;00:00]\n",
       "    </div>\n",
       "    "
      ],
      "text/plain": [
       "<IPython.core.display.HTML object>"
      ]
     },
     "metadata": {},
     "output_type": "display_data"
    },
    {
     "name": "stdout",
     "output_type": "stream",
     "text": [
      "Done computing zscores in 2.1289029121398926 seconds\n",
      "Computing zscores for NM_0_0_estimate.pkl\n",
      "SHASHo\n",
      "slope_mu <class 'pcntoolkit.model.hbr.FixedParameterization'>\n",
      "intercept_mu <class 'pcntoolkit.model.hbr.NonCentralRandomFixedParameterization'>\n",
      "mu <class 'pcntoolkit.model.hbr.LinearParameterization'>\n",
      "slope_sigma <class 'pcntoolkit.model.hbr.FixedParameterization'>\n",
      "intercept_sigma <class 'pcntoolkit.model.hbr.FixedParameterization'>\n",
      "sigma <class 'pcntoolkit.model.hbr.LinearParameterization'>\n",
      "epsilon <class 'pcntoolkit.model.hbr.FixedParameterization'>\n",
      "delta <class 'pcntoolkit.model.hbr.FixedParameterization'>\n"
     ]
    },
    {
     "name": "stderr",
     "output_type": "stream",
     "text": [
      "Sampling: [y_like]\n"
     ]
    },
    {
     "data": {
      "text/html": [
       "\n",
       "<style>\n",
       "    /* Turns off some styling */\n",
       "    progress {\n",
       "        /* gets rid of default border in Firefox and Opera. */\n",
       "        border: none;\n",
       "        /* Needs to be in here for Safari polyfill so background images work as expected. */\n",
       "        background-size: auto;\n",
       "    }\n",
       "    progress:not([value]), progress:not([value])::-webkit-progress-bar {\n",
       "        background: repeating-linear-gradient(45deg, #7e7e7e, #7e7e7e 10px, #5c5c5c 10px, #5c5c5c 20px);\n",
       "    }\n",
       "    .progress-bar-interrupted, .progress-bar-interrupted::-webkit-progress-bar {\n",
       "        background: #F44336;\n",
       "    }\n",
       "</style>\n"
      ],
      "text/plain": [
       "<IPython.core.display.HTML object>"
      ]
     },
     "metadata": {},
     "output_type": "display_data"
    },
    {
     "data": {
      "text/html": [
       "\n",
       "    <div>\n",
       "      <progress value='2000' class='' max='2000' style='width:300px; height:20px; vertical-align: middle;'></progress>\n",
       "      100.00% [2000/2000 00:02&lt;00:00]\n",
       "    </div>\n",
       "    "
      ],
      "text/plain": [
       "<IPython.core.display.HTML object>"
      ]
     },
     "metadata": {},
     "output_type": "display_data"
    },
    {
     "name": "stdout",
     "output_type": "stream",
     "text": [
      "Done computing zscores in 3.880833625793457 seconds\n",
      "Computing zscores for NM_0_0_estimate.pkl\n",
      "SHASHb\n",
      "slope_mu <class 'pcntoolkit.model.hbr.FixedParameterization'>\n",
      "intercept_mu <class 'pcntoolkit.model.hbr.NonCentralRandomFixedParameterization'>\n",
      "mu <class 'pcntoolkit.model.hbr.LinearParameterization'>\n",
      "slope_sigma <class 'pcntoolkit.model.hbr.FixedParameterization'>\n",
      "intercept_sigma <class 'pcntoolkit.model.hbr.FixedParameterization'>\n",
      "sigma <class 'pcntoolkit.model.hbr.LinearParameterization'>\n",
      "epsilon <class 'pcntoolkit.model.hbr.FixedParameterization'>\n",
      "delta <class 'pcntoolkit.model.hbr.FixedParameterization'>\n"
     ]
    },
    {
     "name": "stderr",
     "output_type": "stream",
     "text": [
      "Sampling: [y_like]\n"
     ]
    },
    {
     "data": {
      "text/html": [
       "\n",
       "<style>\n",
       "    /* Turns off some styling */\n",
       "    progress {\n",
       "        /* gets rid of default border in Firefox and Opera. */\n",
       "        border: none;\n",
       "        /* Needs to be in here for Safari polyfill so background images work as expected. */\n",
       "        background-size: auto;\n",
       "    }\n",
       "    progress:not([value]), progress:not([value])::-webkit-progress-bar {\n",
       "        background: repeating-linear-gradient(45deg, #7e7e7e, #7e7e7e 10px, #5c5c5c 10px, #5c5c5c 20px);\n",
       "    }\n",
       "    .progress-bar-interrupted, .progress-bar-interrupted::-webkit-progress-bar {\n",
       "        background: #F44336;\n",
       "    }\n",
       "</style>\n"
      ],
      "text/plain": [
       "<IPython.core.display.HTML object>"
      ]
     },
     "metadata": {},
     "output_type": "display_data"
    },
    {
     "data": {
      "text/html": [
       "\n",
       "    <div>\n",
       "      <progress value='2000' class='' max='2000' style='width:300px; height:20px; vertical-align: middle;'></progress>\n",
       "      100.00% [2000/2000 00:03&lt;00:00]\n",
       "    </div>\n",
       "    "
      ],
      "text/plain": [
       "<IPython.core.display.HTML object>"
      ]
     },
     "metadata": {},
     "output_type": "display_data"
    },
    {
     "name": "stdout",
     "output_type": "stream",
     "text": [
      "Done computing zscores in 4.685511827468872 seconds\n",
      "Computing zscores for NM_0_0_estimate.pkl\n",
      "SHASHb\n",
      "slope_mu <class 'pcntoolkit.model.hbr.FixedParameterization'>\n",
      "intercept_mu <class 'pcntoolkit.model.hbr.NonCentralRandomFixedParameterization'>\n",
      "mu <class 'pcntoolkit.model.hbr.LinearParameterization'>\n",
      "slope_sigma <class 'pcntoolkit.model.hbr.FixedParameterization'>\n",
      "intercept_sigma <class 'pcntoolkit.model.hbr.FixedParameterization'>\n",
      "sigma <class 'pcntoolkit.model.hbr.LinearParameterization'>\n",
      "slope_epsilon <class 'pcntoolkit.model.hbr.FixedParameterization'>\n",
      "intercept_epsilon <class 'pcntoolkit.model.hbr.FixedParameterization'>\n",
      "epsilon <class 'pcntoolkit.model.hbr.LinearParameterization'>\n",
      "slope_delta <class 'pcntoolkit.model.hbr.FixedParameterization'>\n",
      "intercept_delta <class 'pcntoolkit.model.hbr.FixedParameterization'>\n",
      "delta <class 'pcntoolkit.model.hbr.LinearParameterization'>\n"
     ]
    },
    {
     "name": "stderr",
     "output_type": "stream",
     "text": [
      "Sampling: [y_like]\n"
     ]
    },
    {
     "data": {
      "text/html": [
       "\n",
       "<style>\n",
       "    /* Turns off some styling */\n",
       "    progress {\n",
       "        /* gets rid of default border in Firefox and Opera. */\n",
       "        border: none;\n",
       "        /* Needs to be in here for Safari polyfill so background images work as expected. */\n",
       "        background-size: auto;\n",
       "    }\n",
       "    progress:not([value]), progress:not([value])::-webkit-progress-bar {\n",
       "        background: repeating-linear-gradient(45deg, #7e7e7e, #7e7e7e 10px, #5c5c5c 10px, #5c5c5c 20px);\n",
       "    }\n",
       "    .progress-bar-interrupted, .progress-bar-interrupted::-webkit-progress-bar {\n",
       "        background: #F44336;\n",
       "    }\n",
       "</style>\n"
      ],
      "text/plain": [
       "<IPython.core.display.HTML object>"
      ]
     },
     "metadata": {},
     "output_type": "display_data"
    },
    {
     "data": {
      "text/html": [
       "\n",
       "    <div>\n",
       "      <progress value='2000' class='' max='2000' style='width:300px; height:20px; vertical-align: middle;'></progress>\n",
       "      100.00% [2000/2000 00:11&lt;00:00]\n",
       "    </div>\n",
       "    "
      ],
      "text/plain": [
       "<IPython.core.display.HTML object>"
      ]
     },
     "metadata": {},
     "output_type": "display_data"
    },
    {
     "name": "stdout",
     "output_type": "stream",
     "text": [
      "Done computing zscores in 38.46696162223816 seconds\n"
     ]
    },
    {
     "name": "stderr",
     "output_type": "stream",
     "text": [
      "Sampling: [y_like]\n"
     ]
    },
    {
     "name": "stdout",
     "output_type": "stream",
     "text": [
      "Computing zscores for NM_0_0_estimate.pkl\n",
      "Normal\n",
      "slope_mu <class 'pcntoolkit.model.hbr.FixedParameterization'>\n",
      "intercept_mu <class 'pcntoolkit.model.hbr.NonCentralRandomFixedParameterization'>\n",
      "mu <class 'pcntoolkit.model.hbr.LinearParameterization'>\n",
      "slope_sigma <class 'pcntoolkit.model.hbr.FixedParameterization'>\n",
      "intercept_sigma <class 'pcntoolkit.model.hbr.FixedParameterization'>\n",
      "sigma <class 'pcntoolkit.model.hbr.LinearParameterization'>\n"
     ]
    },
    {
     "data": {
      "text/html": [
       "\n",
       "<style>\n",
       "    /* Turns off some styling */\n",
       "    progress {\n",
       "        /* gets rid of default border in Firefox and Opera. */\n",
       "        border: none;\n",
       "        /* Needs to be in here for Safari polyfill so background images work as expected. */\n",
       "        background-size: auto;\n",
       "    }\n",
       "    progress:not([value]), progress:not([value])::-webkit-progress-bar {\n",
       "        background: repeating-linear-gradient(45deg, #7e7e7e, #7e7e7e 10px, #5c5c5c 10px, #5c5c5c 20px);\n",
       "    }\n",
       "    .progress-bar-interrupted, .progress-bar-interrupted::-webkit-progress-bar {\n",
       "        background: #F44336;\n",
       "    }\n",
       "</style>\n"
      ],
      "text/plain": [
       "<IPython.core.display.HTML object>"
      ]
     },
     "metadata": {},
     "output_type": "display_data"
    },
    {
     "data": {
      "text/html": [
       "\n",
       "    <div>\n",
       "      <progress value='2000' class='' max='2000' style='width:300px; height:20px; vertical-align: middle;'></progress>\n",
       "      100.00% [2000/2000 00:01&lt;00:00]\n",
       "    </div>\n",
       "    "
      ],
      "text/plain": [
       "<IPython.core.display.HTML object>"
      ]
     },
     "metadata": {},
     "output_type": "display_data"
    },
    {
     "name": "stdout",
     "output_type": "stream",
     "text": [
      "Done computing zscores in 2.200636863708496 seconds\n",
      "Computing zscores for NM_0_0_estimate.pkl\n",
      "SHASHo\n",
      "slope_mu <class 'pcntoolkit.model.hbr.FixedParameterization'>\n",
      "intercept_mu <class 'pcntoolkit.model.hbr.NonCentralRandomFixedParameterization'>\n",
      "mu <class 'pcntoolkit.model.hbr.LinearParameterization'>\n",
      "slope_sigma <class 'pcntoolkit.model.hbr.FixedParameterization'>\n",
      "intercept_sigma <class 'pcntoolkit.model.hbr.FixedParameterization'>\n",
      "sigma <class 'pcntoolkit.model.hbr.LinearParameterization'>\n",
      "epsilon <class 'pcntoolkit.model.hbr.FixedParameterization'>\n",
      "delta <class 'pcntoolkit.model.hbr.FixedParameterization'>\n"
     ]
    },
    {
     "name": "stderr",
     "output_type": "stream",
     "text": [
      "Sampling: [y_like]\n"
     ]
    },
    {
     "data": {
      "text/html": [
       "\n",
       "<style>\n",
       "    /* Turns off some styling */\n",
       "    progress {\n",
       "        /* gets rid of default border in Firefox and Opera. */\n",
       "        border: none;\n",
       "        /* Needs to be in here for Safari polyfill so background images work as expected. */\n",
       "        background-size: auto;\n",
       "    }\n",
       "    progress:not([value]), progress:not([value])::-webkit-progress-bar {\n",
       "        background: repeating-linear-gradient(45deg, #7e7e7e, #7e7e7e 10px, #5c5c5c 10px, #5c5c5c 20px);\n",
       "    }\n",
       "    .progress-bar-interrupted, .progress-bar-interrupted::-webkit-progress-bar {\n",
       "        background: #F44336;\n",
       "    }\n",
       "</style>\n"
      ],
      "text/plain": [
       "<IPython.core.display.HTML object>"
      ]
     },
     "metadata": {},
     "output_type": "display_data"
    },
    {
     "data": {
      "text/html": [
       "\n",
       "    <div>\n",
       "      <progress value='2000' class='' max='2000' style='width:300px; height:20px; vertical-align: middle;'></progress>\n",
       "      100.00% [2000/2000 00:02&lt;00:00]\n",
       "    </div>\n",
       "    "
      ],
      "text/plain": [
       "<IPython.core.display.HTML object>"
      ]
     },
     "metadata": {},
     "output_type": "display_data"
    },
    {
     "name": "stdout",
     "output_type": "stream",
     "text": [
      "Done computing zscores in 3.9794836044311523 seconds\n",
      "Computing zscores for NM_0_0_estimate.pkl\n",
      "SHASHb\n",
      "slope_mu <class 'pcntoolkit.model.hbr.FixedParameterization'>\n",
      "intercept_mu <class 'pcntoolkit.model.hbr.NonCentralRandomFixedParameterization'>\n",
      "mu <class 'pcntoolkit.model.hbr.LinearParameterization'>\n",
      "slope_sigma <class 'pcntoolkit.model.hbr.FixedParameterization'>\n",
      "intercept_sigma <class 'pcntoolkit.model.hbr.FixedParameterization'>\n",
      "sigma <class 'pcntoolkit.model.hbr.LinearParameterization'>\n",
      "epsilon <class 'pcntoolkit.model.hbr.FixedParameterization'>\n",
      "delta <class 'pcntoolkit.model.hbr.FixedParameterization'>\n"
     ]
    },
    {
     "name": "stderr",
     "output_type": "stream",
     "text": [
      "Sampling: [y_like]\n"
     ]
    },
    {
     "data": {
      "text/html": [
       "\n",
       "<style>\n",
       "    /* Turns off some styling */\n",
       "    progress {\n",
       "        /* gets rid of default border in Firefox and Opera. */\n",
       "        border: none;\n",
       "        /* Needs to be in here for Safari polyfill so background images work as expected. */\n",
       "        background-size: auto;\n",
       "    }\n",
       "    progress:not([value]), progress:not([value])::-webkit-progress-bar {\n",
       "        background: repeating-linear-gradient(45deg, #7e7e7e, #7e7e7e 10px, #5c5c5c 10px, #5c5c5c 20px);\n",
       "    }\n",
       "    .progress-bar-interrupted, .progress-bar-interrupted::-webkit-progress-bar {\n",
       "        background: #F44336;\n",
       "    }\n",
       "</style>\n"
      ],
      "text/plain": [
       "<IPython.core.display.HTML object>"
      ]
     },
     "metadata": {},
     "output_type": "display_data"
    },
    {
     "data": {
      "text/html": [
       "\n",
       "    <div>\n",
       "      <progress value='2000' class='' max='2000' style='width:300px; height:20px; vertical-align: middle;'></progress>\n",
       "      100.00% [2000/2000 00:03&lt;00:00]\n",
       "    </div>\n",
       "    "
      ],
      "text/plain": [
       "<IPython.core.display.HTML object>"
      ]
     },
     "metadata": {},
     "output_type": "display_data"
    },
    {
     "name": "stdout",
     "output_type": "stream",
     "text": [
      "Done computing zscores in 4.69776463508606 seconds\n",
      "Computing zscores for NM_0_0_estimate.pkl\n",
      "SHASHb\n",
      "slope_mu <class 'pcntoolkit.model.hbr.FixedParameterization'>\n",
      "intercept_mu <class 'pcntoolkit.model.hbr.NonCentralRandomFixedParameterization'>\n",
      "mu <class 'pcntoolkit.model.hbr.LinearParameterization'>\n",
      "slope_sigma <class 'pcntoolkit.model.hbr.FixedParameterization'>\n",
      "intercept_sigma <class 'pcntoolkit.model.hbr.FixedParameterization'>\n",
      "sigma <class 'pcntoolkit.model.hbr.LinearParameterization'>\n",
      "slope_epsilon <class 'pcntoolkit.model.hbr.FixedParameterization'>\n",
      "intercept_epsilon <class 'pcntoolkit.model.hbr.FixedParameterization'>\n",
      "epsilon <class 'pcntoolkit.model.hbr.LinearParameterization'>\n",
      "slope_delta <class 'pcntoolkit.model.hbr.FixedParameterization'>\n",
      "intercept_delta <class 'pcntoolkit.model.hbr.FixedParameterization'>\n",
      "delta <class 'pcntoolkit.model.hbr.LinearParameterization'>\n"
     ]
    },
    {
     "name": "stderr",
     "output_type": "stream",
     "text": [
      "Sampling: [y_like]\n"
     ]
    },
    {
     "data": {
      "text/html": [
       "\n",
       "<style>\n",
       "    /* Turns off some styling */\n",
       "    progress {\n",
       "        /* gets rid of default border in Firefox and Opera. */\n",
       "        border: none;\n",
       "        /* Needs to be in here for Safari polyfill so background images work as expected. */\n",
       "        background-size: auto;\n",
       "    }\n",
       "    progress:not([value]), progress:not([value])::-webkit-progress-bar {\n",
       "        background: repeating-linear-gradient(45deg, #7e7e7e, #7e7e7e 10px, #5c5c5c 10px, #5c5c5c 20px);\n",
       "    }\n",
       "    .progress-bar-interrupted, .progress-bar-interrupted::-webkit-progress-bar {\n",
       "        background: #F44336;\n",
       "    }\n",
       "</style>\n"
      ],
      "text/plain": [
       "<IPython.core.display.HTML object>"
      ]
     },
     "metadata": {},
     "output_type": "display_data"
    },
    {
     "data": {
      "text/html": [
       "\n",
       "    <div>\n",
       "      <progress value='2000' class='' max='2000' style='width:300px; height:20px; vertical-align: middle;'></progress>\n",
       "      100.00% [2000/2000 00:11&lt;00:00]\n",
       "    </div>\n",
       "    "
      ],
      "text/plain": [
       "<IPython.core.display.HTML object>"
      ]
     },
     "metadata": {},
     "output_type": "display_data"
    },
    {
     "name": "stdout",
     "output_type": "stream",
     "text": [
      "Done computing zscores in 37.04241418838501 seconds\n"
     ]
    },
    {
     "name": "stderr",
     "output_type": "stream",
     "text": [
      "Sampling: [y_like]\n"
     ]
    },
    {
     "name": "stdout",
     "output_type": "stream",
     "text": [
      "Computing zscores for NM_0_0_estimate.pkl\n",
      "Normal\n",
      "slope_mu <class 'pcntoolkit.model.hbr.FixedParameterization'>\n",
      "intercept_mu <class 'pcntoolkit.model.hbr.NonCentralRandomFixedParameterization'>\n",
      "mu <class 'pcntoolkit.model.hbr.LinearParameterization'>\n",
      "slope_sigma <class 'pcntoolkit.model.hbr.FixedParameterization'>\n",
      "intercept_sigma <class 'pcntoolkit.model.hbr.FixedParameterization'>\n",
      "sigma <class 'pcntoolkit.model.hbr.LinearParameterization'>\n"
     ]
    },
    {
     "data": {
      "text/html": [
       "\n",
       "<style>\n",
       "    /* Turns off some styling */\n",
       "    progress {\n",
       "        /* gets rid of default border in Firefox and Opera. */\n",
       "        border: none;\n",
       "        /* Needs to be in here for Safari polyfill so background images work as expected. */\n",
       "        background-size: auto;\n",
       "    }\n",
       "    progress:not([value]), progress:not([value])::-webkit-progress-bar {\n",
       "        background: repeating-linear-gradient(45deg, #7e7e7e, #7e7e7e 10px, #5c5c5c 10px, #5c5c5c 20px);\n",
       "    }\n",
       "    .progress-bar-interrupted, .progress-bar-interrupted::-webkit-progress-bar {\n",
       "        background: #F44336;\n",
       "    }\n",
       "</style>\n"
      ],
      "text/plain": [
       "<IPython.core.display.HTML object>"
      ]
     },
     "metadata": {},
     "output_type": "display_data"
    },
    {
     "data": {
      "text/html": [
       "\n",
       "    <div>\n",
       "      <progress value='2000' class='' max='2000' style='width:300px; height:20px; vertical-align: middle;'></progress>\n",
       "      100.00% [2000/2000 00:01&lt;00:00]\n",
       "    </div>\n",
       "    "
      ],
      "text/plain": [
       "<IPython.core.display.HTML object>"
      ]
     },
     "metadata": {},
     "output_type": "display_data"
    },
    {
     "name": "stdout",
     "output_type": "stream",
     "text": [
      "Done computing zscores in 2.2779791355133057 seconds\n",
      "Computing zscores for NM_0_0_estimate.pkl\n",
      "SHASHo\n",
      "slope_mu <class 'pcntoolkit.model.hbr.FixedParameterization'>\n",
      "intercept_mu <class 'pcntoolkit.model.hbr.NonCentralRandomFixedParameterization'>\n",
      "mu <class 'pcntoolkit.model.hbr.LinearParameterization'>\n",
      "slope_sigma <class 'pcntoolkit.model.hbr.FixedParameterization'>\n",
      "intercept_sigma <class 'pcntoolkit.model.hbr.FixedParameterization'>\n",
      "sigma <class 'pcntoolkit.model.hbr.LinearParameterization'>\n",
      "epsilon <class 'pcntoolkit.model.hbr.FixedParameterization'>\n",
      "delta <class 'pcntoolkit.model.hbr.FixedParameterization'>\n"
     ]
    },
    {
     "name": "stderr",
     "output_type": "stream",
     "text": [
      "Sampling: [y_like]\n"
     ]
    },
    {
     "data": {
      "text/html": [
       "\n",
       "<style>\n",
       "    /* Turns off some styling */\n",
       "    progress {\n",
       "        /* gets rid of default border in Firefox and Opera. */\n",
       "        border: none;\n",
       "        /* Needs to be in here for Safari polyfill so background images work as expected. */\n",
       "        background-size: auto;\n",
       "    }\n",
       "    progress:not([value]), progress:not([value])::-webkit-progress-bar {\n",
       "        background: repeating-linear-gradient(45deg, #7e7e7e, #7e7e7e 10px, #5c5c5c 10px, #5c5c5c 20px);\n",
       "    }\n",
       "    .progress-bar-interrupted, .progress-bar-interrupted::-webkit-progress-bar {\n",
       "        background: #F44336;\n",
       "    }\n",
       "</style>\n"
      ],
      "text/plain": [
       "<IPython.core.display.HTML object>"
      ]
     },
     "metadata": {},
     "output_type": "display_data"
    },
    {
     "data": {
      "text/html": [
       "\n",
       "    <div>\n",
       "      <progress value='2000' class='' max='2000' style='width:300px; height:20px; vertical-align: middle;'></progress>\n",
       "      100.00% [2000/2000 00:02&lt;00:00]\n",
       "    </div>\n",
       "    "
      ],
      "text/plain": [
       "<IPython.core.display.HTML object>"
      ]
     },
     "metadata": {},
     "output_type": "display_data"
    },
    {
     "name": "stdout",
     "output_type": "stream",
     "text": [
      "Done computing zscores in 3.852487087249756 seconds\n"
     ]
    },
    {
     "name": "stderr",
     "output_type": "stream",
     "text": [
      "Sampling: [y_like]\n"
     ]
    },
    {
     "name": "stdout",
     "output_type": "stream",
     "text": [
      "Computing zscores for NM_0_0_estimate.pkl\n",
      "SHASHb\n",
      "slope_mu <class 'pcntoolkit.model.hbr.FixedParameterization'>\n",
      "intercept_mu <class 'pcntoolkit.model.hbr.NonCentralRandomFixedParameterization'>\n",
      "mu <class 'pcntoolkit.model.hbr.LinearParameterization'>\n",
      "slope_sigma <class 'pcntoolkit.model.hbr.FixedParameterization'>\n",
      "intercept_sigma <class 'pcntoolkit.model.hbr.FixedParameterization'>\n",
      "sigma <class 'pcntoolkit.model.hbr.LinearParameterization'>\n",
      "epsilon <class 'pcntoolkit.model.hbr.FixedParameterization'>\n",
      "delta <class 'pcntoolkit.model.hbr.FixedParameterization'>\n"
     ]
    },
    {
     "data": {
      "text/html": [
       "\n",
       "<style>\n",
       "    /* Turns off some styling */\n",
       "    progress {\n",
       "        /* gets rid of default border in Firefox and Opera. */\n",
       "        border: none;\n",
       "        /* Needs to be in here for Safari polyfill so background images work as expected. */\n",
       "        background-size: auto;\n",
       "    }\n",
       "    progress:not([value]), progress:not([value])::-webkit-progress-bar {\n",
       "        background: repeating-linear-gradient(45deg, #7e7e7e, #7e7e7e 10px, #5c5c5c 10px, #5c5c5c 20px);\n",
       "    }\n",
       "    .progress-bar-interrupted, .progress-bar-interrupted::-webkit-progress-bar {\n",
       "        background: #F44336;\n",
       "    }\n",
       "</style>\n"
      ],
      "text/plain": [
       "<IPython.core.display.HTML object>"
      ]
     },
     "metadata": {},
     "output_type": "display_data"
    },
    {
     "data": {
      "text/html": [
       "\n",
       "    <div>\n",
       "      <progress value='2000' class='' max='2000' style='width:300px; height:20px; vertical-align: middle;'></progress>\n",
       "      100.00% [2000/2000 00:02&lt;00:00]\n",
       "    </div>\n",
       "    "
      ],
      "text/plain": [
       "<IPython.core.display.HTML object>"
      ]
     },
     "metadata": {},
     "output_type": "display_data"
    },
    {
     "name": "stdout",
     "output_type": "stream",
     "text": [
      "Done computing zscores in 4.6070990562438965 seconds\n",
      "Computing zscores for NM_0_0_estimate.pkl\n",
      "SHASHb\n",
      "slope_mu <class 'pcntoolkit.model.hbr.FixedParameterization'>\n",
      "intercept_mu <class 'pcntoolkit.model.hbr.NonCentralRandomFixedParameterization'>\n",
      "mu <class 'pcntoolkit.model.hbr.LinearParameterization'>\n",
      "slope_sigma <class 'pcntoolkit.model.hbr.FixedParameterization'>\n",
      "intercept_sigma <class 'pcntoolkit.model.hbr.FixedParameterization'>\n",
      "sigma <class 'pcntoolkit.model.hbr.LinearParameterization'>\n",
      "slope_epsilon <class 'pcntoolkit.model.hbr.FixedParameterization'>\n",
      "intercept_epsilon <class 'pcntoolkit.model.hbr.FixedParameterization'>\n",
      "epsilon <class 'pcntoolkit.model.hbr.LinearParameterization'>\n",
      "slope_delta <class 'pcntoolkit.model.hbr.FixedParameterization'>\n",
      "intercept_delta <class 'pcntoolkit.model.hbr.FixedParameterization'>\n",
      "delta <class 'pcntoolkit.model.hbr.LinearParameterization'>\n"
     ]
    },
    {
     "name": "stderr",
     "output_type": "stream",
     "text": [
      "Sampling: [y_like]\n"
     ]
    },
    {
     "data": {
      "text/html": [
       "\n",
       "<style>\n",
       "    /* Turns off some styling */\n",
       "    progress {\n",
       "        /* gets rid of default border in Firefox and Opera. */\n",
       "        border: none;\n",
       "        /* Needs to be in here for Safari polyfill so background images work as expected. */\n",
       "        background-size: auto;\n",
       "    }\n",
       "    progress:not([value]), progress:not([value])::-webkit-progress-bar {\n",
       "        background: repeating-linear-gradient(45deg, #7e7e7e, #7e7e7e 10px, #5c5c5c 10px, #5c5c5c 20px);\n",
       "    }\n",
       "    .progress-bar-interrupted, .progress-bar-interrupted::-webkit-progress-bar {\n",
       "        background: #F44336;\n",
       "    }\n",
       "</style>\n"
      ],
      "text/plain": [
       "<IPython.core.display.HTML object>"
      ]
     },
     "metadata": {},
     "output_type": "display_data"
    },
    {
     "data": {
      "text/html": [
       "\n",
       "    <div>\n",
       "      <progress value='2000' class='' max='2000' style='width:300px; height:20px; vertical-align: middle;'></progress>\n",
       "      100.00% [2000/2000 00:11&lt;00:00]\n",
       "    </div>\n",
       "    "
      ],
      "text/plain": [
       "<IPython.core.display.HTML object>"
      ]
     },
     "metadata": {},
     "output_type": "display_data"
    },
    {
     "name": "stdout",
     "output_type": "stream",
     "text": [
      "Done computing zscores in 38.37460446357727 seconds\n"
     ]
    },
    {
     "name": "stderr",
     "output_type": "stream",
     "text": [
      "Sampling: [y_like]\n"
     ]
    },
    {
     "name": "stdout",
     "output_type": "stream",
     "text": [
      "Computing zscores for NM_0_0_estimate.pkl\n",
      "Normal\n",
      "slope_mu <class 'pcntoolkit.model.hbr.FixedParameterization'>\n",
      "intercept_mu <class 'pcntoolkit.model.hbr.NonCentralRandomFixedParameterization'>\n",
      "mu <class 'pcntoolkit.model.hbr.LinearParameterization'>\n",
      "slope_sigma <class 'pcntoolkit.model.hbr.FixedParameterization'>\n",
      "intercept_sigma <class 'pcntoolkit.model.hbr.FixedParameterization'>\n",
      "sigma <class 'pcntoolkit.model.hbr.LinearParameterization'>\n"
     ]
    },
    {
     "data": {
      "text/html": [
       "\n",
       "<style>\n",
       "    /* Turns off some styling */\n",
       "    progress {\n",
       "        /* gets rid of default border in Firefox and Opera. */\n",
       "        border: none;\n",
       "        /* Needs to be in here for Safari polyfill so background images work as expected. */\n",
       "        background-size: auto;\n",
       "    }\n",
       "    progress:not([value]), progress:not([value])::-webkit-progress-bar {\n",
       "        background: repeating-linear-gradient(45deg, #7e7e7e, #7e7e7e 10px, #5c5c5c 10px, #5c5c5c 20px);\n",
       "    }\n",
       "    .progress-bar-interrupted, .progress-bar-interrupted::-webkit-progress-bar {\n",
       "        background: #F44336;\n",
       "    }\n",
       "</style>\n"
      ],
      "text/plain": [
       "<IPython.core.display.HTML object>"
      ]
     },
     "metadata": {},
     "output_type": "display_data"
    },
    {
     "data": {
      "text/html": [
       "\n",
       "    <div>\n",
       "      <progress value='2000' class='' max='2000' style='width:300px; height:20px; vertical-align: middle;'></progress>\n",
       "      100.00% [2000/2000 00:01&lt;00:00]\n",
       "    </div>\n",
       "    "
      ],
      "text/plain": [
       "<IPython.core.display.HTML object>"
      ]
     },
     "metadata": {},
     "output_type": "display_data"
    },
    {
     "name": "stdout",
     "output_type": "stream",
     "text": [
      "Done computing zscores in 2.3159596920013428 seconds\n",
      "Computing zscores for NM_0_0_estimate.pkl\n",
      "SHASHo\n",
      "slope_mu <class 'pcntoolkit.model.hbr.FixedParameterization'>\n",
      "intercept_mu <class 'pcntoolkit.model.hbr.NonCentralRandomFixedParameterization'>\n",
      "mu <class 'pcntoolkit.model.hbr.LinearParameterization'>\n",
      "slope_sigma <class 'pcntoolkit.model.hbr.FixedParameterization'>\n",
      "intercept_sigma <class 'pcntoolkit.model.hbr.FixedParameterization'>\n",
      "sigma <class 'pcntoolkit.model.hbr.LinearParameterization'>\n",
      "epsilon <class 'pcntoolkit.model.hbr.FixedParameterization'>\n",
      "delta <class 'pcntoolkit.model.hbr.FixedParameterization'>\n"
     ]
    },
    {
     "name": "stderr",
     "output_type": "stream",
     "text": [
      "Sampling: [y_like]\n"
     ]
    },
    {
     "data": {
      "text/html": [
       "\n",
       "<style>\n",
       "    /* Turns off some styling */\n",
       "    progress {\n",
       "        /* gets rid of default border in Firefox and Opera. */\n",
       "        border: none;\n",
       "        /* Needs to be in here for Safari polyfill so background images work as expected. */\n",
       "        background-size: auto;\n",
       "    }\n",
       "    progress:not([value]), progress:not([value])::-webkit-progress-bar {\n",
       "        background: repeating-linear-gradient(45deg, #7e7e7e, #7e7e7e 10px, #5c5c5c 10px, #5c5c5c 20px);\n",
       "    }\n",
       "    .progress-bar-interrupted, .progress-bar-interrupted::-webkit-progress-bar {\n",
       "        background: #F44336;\n",
       "    }\n",
       "</style>\n"
      ],
      "text/plain": [
       "<IPython.core.display.HTML object>"
      ]
     },
     "metadata": {},
     "output_type": "display_data"
    },
    {
     "data": {
      "text/html": [
       "\n",
       "    <div>\n",
       "      <progress value='2000' class='' max='2000' style='width:300px; height:20px; vertical-align: middle;'></progress>\n",
       "      100.00% [2000/2000 00:02&lt;00:00]\n",
       "    </div>\n",
       "    "
      ],
      "text/plain": [
       "<IPython.core.display.HTML object>"
      ]
     },
     "metadata": {},
     "output_type": "display_data"
    },
    {
     "name": "stdout",
     "output_type": "stream",
     "text": [
      "Done computing zscores in 3.98833966255188 seconds\n",
      "Computing zscores for NM_0_0_estimate.pkl\n",
      "SHASHb\n",
      "slope_mu <class 'pcntoolkit.model.hbr.FixedParameterization'>\n",
      "intercept_mu <class 'pcntoolkit.model.hbr.NonCentralRandomFixedParameterization'>\n",
      "mu <class 'pcntoolkit.model.hbr.LinearParameterization'>\n",
      "slope_sigma <class 'pcntoolkit.model.hbr.FixedParameterization'>\n",
      "intercept_sigma <class 'pcntoolkit.model.hbr.FixedParameterization'>\n",
      "sigma <class 'pcntoolkit.model.hbr.LinearParameterization'>\n",
      "epsilon <class 'pcntoolkit.model.hbr.FixedParameterization'>\n",
      "delta <class 'pcntoolkit.model.hbr.FixedParameterization'>\n"
     ]
    },
    {
     "name": "stderr",
     "output_type": "stream",
     "text": [
      "Sampling: [y_like]\n"
     ]
    },
    {
     "data": {
      "text/html": [
       "\n",
       "<style>\n",
       "    /* Turns off some styling */\n",
       "    progress {\n",
       "        /* gets rid of default border in Firefox and Opera. */\n",
       "        border: none;\n",
       "        /* Needs to be in here for Safari polyfill so background images work as expected. */\n",
       "        background-size: auto;\n",
       "    }\n",
       "    progress:not([value]), progress:not([value])::-webkit-progress-bar {\n",
       "        background: repeating-linear-gradient(45deg, #7e7e7e, #7e7e7e 10px, #5c5c5c 10px, #5c5c5c 20px);\n",
       "    }\n",
       "    .progress-bar-interrupted, .progress-bar-interrupted::-webkit-progress-bar {\n",
       "        background: #F44336;\n",
       "    }\n",
       "</style>\n"
      ],
      "text/plain": [
       "<IPython.core.display.HTML object>"
      ]
     },
     "metadata": {},
     "output_type": "display_data"
    },
    {
     "data": {
      "text/html": [
       "\n",
       "    <div>\n",
       "      <progress value='2000' class='' max='2000' style='width:300px; height:20px; vertical-align: middle;'></progress>\n",
       "      100.00% [2000/2000 00:02&lt;00:00]\n",
       "    </div>\n",
       "    "
      ],
      "text/plain": [
       "<IPython.core.display.HTML object>"
      ]
     },
     "metadata": {},
     "output_type": "display_data"
    },
    {
     "name": "stdout",
     "output_type": "stream",
     "text": [
      "Done computing zscores in 4.4578680992126465 seconds\n",
      "Computing zscores for NM_0_0_estimate.pkl\n",
      "SHASHb\n",
      "slope_mu <class 'pcntoolkit.model.hbr.FixedParameterization'>\n",
      "intercept_mu <class 'pcntoolkit.model.hbr.NonCentralRandomFixedParameterization'>\n",
      "mu <class 'pcntoolkit.model.hbr.LinearParameterization'>\n",
      "slope_sigma <class 'pcntoolkit.model.hbr.FixedParameterization'>\n",
      "intercept_sigma <class 'pcntoolkit.model.hbr.FixedParameterization'>\n",
      "sigma <class 'pcntoolkit.model.hbr.LinearParameterization'>\n",
      "slope_epsilon <class 'pcntoolkit.model.hbr.FixedParameterization'>\n",
      "intercept_epsilon <class 'pcntoolkit.model.hbr.FixedParameterization'>\n",
      "epsilon <class 'pcntoolkit.model.hbr.LinearParameterization'>\n",
      "slope_delta <class 'pcntoolkit.model.hbr.FixedParameterization'>\n",
      "intercept_delta <class 'pcntoolkit.model.hbr.FixedParameterization'>\n",
      "delta <class 'pcntoolkit.model.hbr.LinearParameterization'>\n"
     ]
    },
    {
     "name": "stderr",
     "output_type": "stream",
     "text": [
      "Sampling: [y_like]\n"
     ]
    },
    {
     "data": {
      "text/html": [
       "\n",
       "<style>\n",
       "    /* Turns off some styling */\n",
       "    progress {\n",
       "        /* gets rid of default border in Firefox and Opera. */\n",
       "        border: none;\n",
       "        /* Needs to be in here for Safari polyfill so background images work as expected. */\n",
       "        background-size: auto;\n",
       "    }\n",
       "    progress:not([value]), progress:not([value])::-webkit-progress-bar {\n",
       "        background: repeating-linear-gradient(45deg, #7e7e7e, #7e7e7e 10px, #5c5c5c 10px, #5c5c5c 20px);\n",
       "    }\n",
       "    .progress-bar-interrupted, .progress-bar-interrupted::-webkit-progress-bar {\n",
       "        background: #F44336;\n",
       "    }\n",
       "</style>\n"
      ],
      "text/plain": [
       "<IPython.core.display.HTML object>"
      ]
     },
     "metadata": {},
     "output_type": "display_data"
    },
    {
     "data": {
      "text/html": [
       "\n",
       "    <div>\n",
       "      <progress value='2000' class='' max='2000' style='width:300px; height:20px; vertical-align: middle;'></progress>\n",
       "      100.00% [2000/2000 00:11&lt;00:00]\n",
       "    </div>\n",
       "    "
      ],
      "text/plain": [
       "<IPython.core.display.HTML object>"
      ]
     },
     "metadata": {},
     "output_type": "display_data"
    },
    {
     "name": "stdout",
     "output_type": "stream",
     "text": [
      "Done computing zscores in 40.380047082901 seconds\n"
     ]
    },
    {
     "name": "stderr",
     "output_type": "stream",
     "text": [
      "Sampling: [y_like]\n"
     ]
    },
    {
     "name": "stdout",
     "output_type": "stream",
     "text": [
      "Computing zscores for NM_0_0_estimate.pkl\n",
      "Normal\n",
      "slope_mu <class 'pcntoolkit.model.hbr.FixedParameterization'>\n",
      "intercept_mu <class 'pcntoolkit.model.hbr.NonCentralRandomFixedParameterization'>\n",
      "mu <class 'pcntoolkit.model.hbr.LinearParameterization'>\n",
      "slope_sigma <class 'pcntoolkit.model.hbr.FixedParameterization'>\n",
      "intercept_sigma <class 'pcntoolkit.model.hbr.FixedParameterization'>\n",
      "sigma <class 'pcntoolkit.model.hbr.LinearParameterization'>\n"
     ]
    },
    {
     "data": {
      "text/html": [
       "\n",
       "<style>\n",
       "    /* Turns off some styling */\n",
       "    progress {\n",
       "        /* gets rid of default border in Firefox and Opera. */\n",
       "        border: none;\n",
       "        /* Needs to be in here for Safari polyfill so background images work as expected. */\n",
       "        background-size: auto;\n",
       "    }\n",
       "    progress:not([value]), progress:not([value])::-webkit-progress-bar {\n",
       "        background: repeating-linear-gradient(45deg, #7e7e7e, #7e7e7e 10px, #5c5c5c 10px, #5c5c5c 20px);\n",
       "    }\n",
       "    .progress-bar-interrupted, .progress-bar-interrupted::-webkit-progress-bar {\n",
       "        background: #F44336;\n",
       "    }\n",
       "</style>\n"
      ],
      "text/plain": [
       "<IPython.core.display.HTML object>"
      ]
     },
     "metadata": {},
     "output_type": "display_data"
    },
    {
     "data": {
      "text/html": [
       "\n",
       "    <div>\n",
       "      <progress value='2000' class='' max='2000' style='width:300px; height:20px; vertical-align: middle;'></progress>\n",
       "      100.00% [2000/2000 00:01&lt;00:00]\n",
       "    </div>\n",
       "    "
      ],
      "text/plain": [
       "<IPython.core.display.HTML object>"
      ]
     },
     "metadata": {},
     "output_type": "display_data"
    },
    {
     "name": "stdout",
     "output_type": "stream",
     "text": [
      "Done computing zscores in 2.1605095863342285 seconds\n",
      "Computing zscores for NM_0_0_estimate.pkl\n",
      "SHASHo\n",
      "slope_mu <class 'pcntoolkit.model.hbr.FixedParameterization'>\n",
      "intercept_mu <class 'pcntoolkit.model.hbr.NonCentralRandomFixedParameterization'>\n",
      "mu <class 'pcntoolkit.model.hbr.LinearParameterization'>\n",
      "slope_sigma <class 'pcntoolkit.model.hbr.FixedParameterization'>\n",
      "intercept_sigma <class 'pcntoolkit.model.hbr.FixedParameterization'>\n",
      "sigma <class 'pcntoolkit.model.hbr.LinearParameterization'>\n",
      "epsilon <class 'pcntoolkit.model.hbr.FixedParameterization'>\n",
      "delta <class 'pcntoolkit.model.hbr.FixedParameterization'>\n"
     ]
    },
    {
     "name": "stderr",
     "output_type": "stream",
     "text": [
      "Sampling: [y_like]\n"
     ]
    },
    {
     "data": {
      "text/html": [
       "\n",
       "<style>\n",
       "    /* Turns off some styling */\n",
       "    progress {\n",
       "        /* gets rid of default border in Firefox and Opera. */\n",
       "        border: none;\n",
       "        /* Needs to be in here for Safari polyfill so background images work as expected. */\n",
       "        background-size: auto;\n",
       "    }\n",
       "    progress:not([value]), progress:not([value])::-webkit-progress-bar {\n",
       "        background: repeating-linear-gradient(45deg, #7e7e7e, #7e7e7e 10px, #5c5c5c 10px, #5c5c5c 20px);\n",
       "    }\n",
       "    .progress-bar-interrupted, .progress-bar-interrupted::-webkit-progress-bar {\n",
       "        background: #F44336;\n",
       "    }\n",
       "</style>\n"
      ],
      "text/plain": [
       "<IPython.core.display.HTML object>"
      ]
     },
     "metadata": {},
     "output_type": "display_data"
    },
    {
     "data": {
      "text/html": [
       "\n",
       "    <div>\n",
       "      <progress value='2000' class='' max='2000' style='width:300px; height:20px; vertical-align: middle;'></progress>\n",
       "      100.00% [2000/2000 00:02&lt;00:00]\n",
       "    </div>\n",
       "    "
      ],
      "text/plain": [
       "<IPython.core.display.HTML object>"
      ]
     },
     "metadata": {},
     "output_type": "display_data"
    },
    {
     "name": "stdout",
     "output_type": "stream",
     "text": [
      "Done computing zscores in 3.974522590637207 seconds\n"
     ]
    },
    {
     "name": "stderr",
     "output_type": "stream",
     "text": [
      "Sampling: [y_like]\n"
     ]
    },
    {
     "name": "stdout",
     "output_type": "stream",
     "text": [
      "Computing zscores for NM_0_0_estimate.pkl\n",
      "SHASHb\n",
      "slope_mu <class 'pcntoolkit.model.hbr.FixedParameterization'>\n",
      "intercept_mu <class 'pcntoolkit.model.hbr.NonCentralRandomFixedParameterization'>\n",
      "mu <class 'pcntoolkit.model.hbr.LinearParameterization'>\n",
      "slope_sigma <class 'pcntoolkit.model.hbr.FixedParameterization'>\n",
      "intercept_sigma <class 'pcntoolkit.model.hbr.FixedParameterization'>\n",
      "sigma <class 'pcntoolkit.model.hbr.LinearParameterization'>\n",
      "epsilon <class 'pcntoolkit.model.hbr.FixedParameterization'>\n",
      "delta <class 'pcntoolkit.model.hbr.FixedParameterization'>\n"
     ]
    },
    {
     "data": {
      "text/html": [
       "\n",
       "<style>\n",
       "    /* Turns off some styling */\n",
       "    progress {\n",
       "        /* gets rid of default border in Firefox and Opera. */\n",
       "        border: none;\n",
       "        /* Needs to be in here for Safari polyfill so background images work as expected. */\n",
       "        background-size: auto;\n",
       "    }\n",
       "    progress:not([value]), progress:not([value])::-webkit-progress-bar {\n",
       "        background: repeating-linear-gradient(45deg, #7e7e7e, #7e7e7e 10px, #5c5c5c 10px, #5c5c5c 20px);\n",
       "    }\n",
       "    .progress-bar-interrupted, .progress-bar-interrupted::-webkit-progress-bar {\n",
       "        background: #F44336;\n",
       "    }\n",
       "</style>\n"
      ],
      "text/plain": [
       "<IPython.core.display.HTML object>"
      ]
     },
     "metadata": {},
     "output_type": "display_data"
    },
    {
     "data": {
      "text/html": [
       "\n",
       "    <div>\n",
       "      <progress value='2000' class='' max='2000' style='width:300px; height:20px; vertical-align: middle;'></progress>\n",
       "      100.00% [2000/2000 00:02&lt;00:00]\n",
       "    </div>\n",
       "    "
      ],
      "text/plain": [
       "<IPython.core.display.HTML object>"
      ]
     },
     "metadata": {},
     "output_type": "display_data"
    },
    {
     "name": "stdout",
     "output_type": "stream",
     "text": [
      "Done computing zscores in 4.507922410964966 seconds\n",
      "Computing zscores for NM_0_0_estimate.pkl\n",
      "SHASHb\n",
      "slope_mu <class 'pcntoolkit.model.hbr.FixedParameterization'>\n",
      "intercept_mu <class 'pcntoolkit.model.hbr.NonCentralRandomFixedParameterization'>\n",
      "mu <class 'pcntoolkit.model.hbr.LinearParameterization'>\n",
      "slope_sigma <class 'pcntoolkit.model.hbr.FixedParameterization'>\n",
      "intercept_sigma <class 'pcntoolkit.model.hbr.FixedParameterization'>\n",
      "sigma <class 'pcntoolkit.model.hbr.LinearParameterization'>\n",
      "slope_epsilon <class 'pcntoolkit.model.hbr.FixedParameterization'>\n",
      "intercept_epsilon <class 'pcntoolkit.model.hbr.FixedParameterization'>\n",
      "epsilon <class 'pcntoolkit.model.hbr.LinearParameterization'>\n",
      "slope_delta <class 'pcntoolkit.model.hbr.FixedParameterization'>\n",
      "intercept_delta <class 'pcntoolkit.model.hbr.FixedParameterization'>\n",
      "delta <class 'pcntoolkit.model.hbr.LinearParameterization'>\n"
     ]
    },
    {
     "name": "stderr",
     "output_type": "stream",
     "text": [
      "Sampling: [y_like]\n"
     ]
    },
    {
     "data": {
      "text/html": [
       "\n",
       "<style>\n",
       "    /* Turns off some styling */\n",
       "    progress {\n",
       "        /* gets rid of default border in Firefox and Opera. */\n",
       "        border: none;\n",
       "        /* Needs to be in here for Safari polyfill so background images work as expected. */\n",
       "        background-size: auto;\n",
       "    }\n",
       "    progress:not([value]), progress:not([value])::-webkit-progress-bar {\n",
       "        background: repeating-linear-gradient(45deg, #7e7e7e, #7e7e7e 10px, #5c5c5c 10px, #5c5c5c 20px);\n",
       "    }\n",
       "    .progress-bar-interrupted, .progress-bar-interrupted::-webkit-progress-bar {\n",
       "        background: #F44336;\n",
       "    }\n",
       "</style>\n"
      ],
      "text/plain": [
       "<IPython.core.display.HTML object>"
      ]
     },
     "metadata": {},
     "output_type": "display_data"
    },
    {
     "data": {
      "text/html": [
       "\n",
       "    <div>\n",
       "      <progress value='2000' class='' max='2000' style='width:300px; height:20px; vertical-align: middle;'></progress>\n",
       "      100.00% [2000/2000 00:11&lt;00:00]\n",
       "    </div>\n",
       "    "
      ],
      "text/plain": [
       "<IPython.core.display.HTML object>"
      ]
     },
     "metadata": {},
     "output_type": "display_data"
    },
    {
     "name": "stdout",
     "output_type": "stream",
     "text": [
      "Done computing zscores in 40.37693381309509 seconds\n"
     ]
    },
    {
     "name": "stderr",
     "output_type": "stream",
     "text": [
      "Sampling: [y_like]\n"
     ]
    },
    {
     "name": "stdout",
     "output_type": "stream",
     "text": [
      "Computing zscores for NM_0_0_estimate.pkl\n",
      "Normal\n",
      "slope_mu <class 'pcntoolkit.model.hbr.FixedParameterization'>\n",
      "intercept_mu <class 'pcntoolkit.model.hbr.NonCentralRandomFixedParameterization'>\n",
      "mu <class 'pcntoolkit.model.hbr.LinearParameterization'>\n",
      "slope_sigma <class 'pcntoolkit.model.hbr.FixedParameterization'>\n",
      "intercept_sigma <class 'pcntoolkit.model.hbr.FixedParameterization'>\n",
      "sigma <class 'pcntoolkit.model.hbr.LinearParameterization'>\n"
     ]
    },
    {
     "data": {
      "text/html": [
       "\n",
       "<style>\n",
       "    /* Turns off some styling */\n",
       "    progress {\n",
       "        /* gets rid of default border in Firefox and Opera. */\n",
       "        border: none;\n",
       "        /* Needs to be in here for Safari polyfill so background images work as expected. */\n",
       "        background-size: auto;\n",
       "    }\n",
       "    progress:not([value]), progress:not([value])::-webkit-progress-bar {\n",
       "        background: repeating-linear-gradient(45deg, #7e7e7e, #7e7e7e 10px, #5c5c5c 10px, #5c5c5c 20px);\n",
       "    }\n",
       "    .progress-bar-interrupted, .progress-bar-interrupted::-webkit-progress-bar {\n",
       "        background: #F44336;\n",
       "    }\n",
       "</style>\n"
      ],
      "text/plain": [
       "<IPython.core.display.HTML object>"
      ]
     },
     "metadata": {},
     "output_type": "display_data"
    },
    {
     "data": {
      "text/html": [
       "\n",
       "    <div>\n",
       "      <progress value='2000' class='' max='2000' style='width:300px; height:20px; vertical-align: middle;'></progress>\n",
       "      100.00% [2000/2000 00:01&lt;00:00]\n",
       "    </div>\n",
       "    "
      ],
      "text/plain": [
       "<IPython.core.display.HTML object>"
      ]
     },
     "metadata": {},
     "output_type": "display_data"
    },
    {
     "name": "stdout",
     "output_type": "stream",
     "text": [
      "Done computing zscores in 2.156946897506714 seconds\n",
      "Computing zscores for NM_0_0_estimate.pkl\n",
      "SHASHo\n",
      "slope_mu <class 'pcntoolkit.model.hbr.FixedParameterization'>\n",
      "intercept_mu <class 'pcntoolkit.model.hbr.NonCentralRandomFixedParameterization'>\n",
      "mu <class 'pcntoolkit.model.hbr.LinearParameterization'>\n",
      "slope_sigma <class 'pcntoolkit.model.hbr.FixedParameterization'>\n",
      "intercept_sigma <class 'pcntoolkit.model.hbr.FixedParameterization'>\n",
      "sigma <class 'pcntoolkit.model.hbr.LinearParameterization'>\n",
      "epsilon <class 'pcntoolkit.model.hbr.FixedParameterization'>\n",
      "delta <class 'pcntoolkit.model.hbr.FixedParameterization'>\n"
     ]
    },
    {
     "name": "stderr",
     "output_type": "stream",
     "text": [
      "Sampling: [y_like]\n"
     ]
    },
    {
     "data": {
      "text/html": [
       "\n",
       "<style>\n",
       "    /* Turns off some styling */\n",
       "    progress {\n",
       "        /* gets rid of default border in Firefox and Opera. */\n",
       "        border: none;\n",
       "        /* Needs to be in here for Safari polyfill so background images work as expected. */\n",
       "        background-size: auto;\n",
       "    }\n",
       "    progress:not([value]), progress:not([value])::-webkit-progress-bar {\n",
       "        background: repeating-linear-gradient(45deg, #7e7e7e, #7e7e7e 10px, #5c5c5c 10px, #5c5c5c 20px);\n",
       "    }\n",
       "    .progress-bar-interrupted, .progress-bar-interrupted::-webkit-progress-bar {\n",
       "        background: #F44336;\n",
       "    }\n",
       "</style>\n"
      ],
      "text/plain": [
       "<IPython.core.display.HTML object>"
      ]
     },
     "metadata": {},
     "output_type": "display_data"
    },
    {
     "data": {
      "text/html": [
       "\n",
       "    <div>\n",
       "      <progress value='2000' class='' max='2000' style='width:300px; height:20px; vertical-align: middle;'></progress>\n",
       "      100.00% [2000/2000 00:02&lt;00:00]\n",
       "    </div>\n",
       "    "
      ],
      "text/plain": [
       "<IPython.core.display.HTML object>"
      ]
     },
     "metadata": {},
     "output_type": "display_data"
    },
    {
     "name": "stdout",
     "output_type": "stream",
     "text": [
      "Done computing zscores in 3.7035884857177734 seconds\n",
      "Computing zscores for NM_0_0_estimate.pkl\n",
      "SHASHb\n",
      "slope_mu <class 'pcntoolkit.model.hbr.FixedParameterization'>\n",
      "intercept_mu <class 'pcntoolkit.model.hbr.NonCentralRandomFixedParameterization'>\n",
      "mu <class 'pcntoolkit.model.hbr.LinearParameterization'>\n",
      "slope_sigma <class 'pcntoolkit.model.hbr.FixedParameterization'>\n",
      "intercept_sigma <class 'pcntoolkit.model.hbr.FixedParameterization'>\n",
      "sigma <class 'pcntoolkit.model.hbr.LinearParameterization'>\n",
      "epsilon <class 'pcntoolkit.model.hbr.FixedParameterization'>\n",
      "delta <class 'pcntoolkit.model.hbr.FixedParameterization'>\n"
     ]
    },
    {
     "name": "stderr",
     "output_type": "stream",
     "text": [
      "Sampling: [y_like]\n"
     ]
    },
    {
     "data": {
      "text/html": [
       "\n",
       "<style>\n",
       "    /* Turns off some styling */\n",
       "    progress {\n",
       "        /* gets rid of default border in Firefox and Opera. */\n",
       "        border: none;\n",
       "        /* Needs to be in here for Safari polyfill so background images work as expected. */\n",
       "        background-size: auto;\n",
       "    }\n",
       "    progress:not([value]), progress:not([value])::-webkit-progress-bar {\n",
       "        background: repeating-linear-gradient(45deg, #7e7e7e, #7e7e7e 10px, #5c5c5c 10px, #5c5c5c 20px);\n",
       "    }\n",
       "    .progress-bar-interrupted, .progress-bar-interrupted::-webkit-progress-bar {\n",
       "        background: #F44336;\n",
       "    }\n",
       "</style>\n"
      ],
      "text/plain": [
       "<IPython.core.display.HTML object>"
      ]
     },
     "metadata": {},
     "output_type": "display_data"
    },
    {
     "data": {
      "text/html": [
       "\n",
       "    <div>\n",
       "      <progress value='2000' class='' max='2000' style='width:300px; height:20px; vertical-align: middle;'></progress>\n",
       "      100.00% [2000/2000 00:02&lt;00:00]\n",
       "    </div>\n",
       "    "
      ],
      "text/plain": [
       "<IPython.core.display.HTML object>"
      ]
     },
     "metadata": {},
     "output_type": "display_data"
    },
    {
     "name": "stdout",
     "output_type": "stream",
     "text": [
      "Done computing zscores in 4.456773042678833 seconds\n",
      "Computing zscores for NM_0_0_estimate.pkl\n",
      "SHASHb\n",
      "slope_mu <class 'pcntoolkit.model.hbr.FixedParameterization'>\n",
      "intercept_mu <class 'pcntoolkit.model.hbr.NonCentralRandomFixedParameterization'>\n",
      "mu <class 'pcntoolkit.model.hbr.LinearParameterization'>\n",
      "slope_sigma <class 'pcntoolkit.model.hbr.FixedParameterization'>\n",
      "intercept_sigma <class 'pcntoolkit.model.hbr.FixedParameterization'>\n",
      "sigma <class 'pcntoolkit.model.hbr.LinearParameterization'>\n",
      "slope_epsilon <class 'pcntoolkit.model.hbr.FixedParameterization'>\n",
      "intercept_epsilon <class 'pcntoolkit.model.hbr.FixedParameterization'>\n",
      "epsilon <class 'pcntoolkit.model.hbr.LinearParameterization'>\n",
      "slope_delta <class 'pcntoolkit.model.hbr.FixedParameterization'>\n",
      "intercept_delta <class 'pcntoolkit.model.hbr.FixedParameterization'>\n",
      "delta <class 'pcntoolkit.model.hbr.LinearParameterization'>\n"
     ]
    },
    {
     "name": "stderr",
     "output_type": "stream",
     "text": [
      "Sampling: [y_like]\n"
     ]
    },
    {
     "data": {
      "text/html": [
       "\n",
       "<style>\n",
       "    /* Turns off some styling */\n",
       "    progress {\n",
       "        /* gets rid of default border in Firefox and Opera. */\n",
       "        border: none;\n",
       "        /* Needs to be in here for Safari polyfill so background images work as expected. */\n",
       "        background-size: auto;\n",
       "    }\n",
       "    progress:not([value]), progress:not([value])::-webkit-progress-bar {\n",
       "        background: repeating-linear-gradient(45deg, #7e7e7e, #7e7e7e 10px, #5c5c5c 10px, #5c5c5c 20px);\n",
       "    }\n",
       "    .progress-bar-interrupted, .progress-bar-interrupted::-webkit-progress-bar {\n",
       "        background: #F44336;\n",
       "    }\n",
       "</style>\n"
      ],
      "text/plain": [
       "<IPython.core.display.HTML object>"
      ]
     },
     "metadata": {},
     "output_type": "display_data"
    },
    {
     "data": {
      "text/html": [
       "\n",
       "    <div>\n",
       "      <progress value='2000' class='' max='2000' style='width:300px; height:20px; vertical-align: middle;'></progress>\n",
       "      100.00% [2000/2000 00:11&lt;00:00]\n",
       "    </div>\n",
       "    "
      ],
      "text/plain": [
       "<IPython.core.display.HTML object>"
      ]
     },
     "metadata": {},
     "output_type": "display_data"
    },
    {
     "name": "stdout",
     "output_type": "stream",
     "text": [
      "Done computing zscores in 37.42695593833923 seconds\n"
     ]
    },
    {
     "name": "stderr",
     "output_type": "stream",
     "text": [
      "Sampling: [y_like]\n"
     ]
    },
    {
     "name": "stdout",
     "output_type": "stream",
     "text": [
      "Computing zscores for NM_0_0_estimate.pkl\n",
      "Normal\n",
      "slope_mu <class 'pcntoolkit.model.hbr.FixedParameterization'>\n",
      "intercept_mu <class 'pcntoolkit.model.hbr.NonCentralRandomFixedParameterization'>\n",
      "mu <class 'pcntoolkit.model.hbr.LinearParameterization'>\n",
      "slope_sigma <class 'pcntoolkit.model.hbr.FixedParameterization'>\n",
      "intercept_sigma <class 'pcntoolkit.model.hbr.FixedParameterization'>\n",
      "sigma <class 'pcntoolkit.model.hbr.LinearParameterization'>\n"
     ]
    },
    {
     "data": {
      "text/html": [
       "\n",
       "<style>\n",
       "    /* Turns off some styling */\n",
       "    progress {\n",
       "        /* gets rid of default border in Firefox and Opera. */\n",
       "        border: none;\n",
       "        /* Needs to be in here for Safari polyfill so background images work as expected. */\n",
       "        background-size: auto;\n",
       "    }\n",
       "    progress:not([value]), progress:not([value])::-webkit-progress-bar {\n",
       "        background: repeating-linear-gradient(45deg, #7e7e7e, #7e7e7e 10px, #5c5c5c 10px, #5c5c5c 20px);\n",
       "    }\n",
       "    .progress-bar-interrupted, .progress-bar-interrupted::-webkit-progress-bar {\n",
       "        background: #F44336;\n",
       "    }\n",
       "</style>\n"
      ],
      "text/plain": [
       "<IPython.core.display.HTML object>"
      ]
     },
     "metadata": {},
     "output_type": "display_data"
    },
    {
     "data": {
      "text/html": [
       "\n",
       "    <div>\n",
       "      <progress value='2000' class='' max='2000' style='width:300px; height:20px; vertical-align: middle;'></progress>\n",
       "      100.00% [2000/2000 00:01&lt;00:00]\n",
       "    </div>\n",
       "    "
      ],
      "text/plain": [
       "<IPython.core.display.HTML object>"
      ]
     },
     "metadata": {},
     "output_type": "display_data"
    },
    {
     "name": "stdout",
     "output_type": "stream",
     "text": [
      "Done computing zscores in 2.130342960357666 seconds\n"
     ]
    },
    {
     "name": "stderr",
     "output_type": "stream",
     "text": [
      "Sampling: [y_like]\n"
     ]
    },
    {
     "name": "stdout",
     "output_type": "stream",
     "text": [
      "Computing zscores for NM_0_0_estimate.pkl\n",
      "SHASHo\n",
      "slope_mu <class 'pcntoolkit.model.hbr.FixedParameterization'>\n",
      "intercept_mu <class 'pcntoolkit.model.hbr.NonCentralRandomFixedParameterization'>\n",
      "mu <class 'pcntoolkit.model.hbr.LinearParameterization'>\n",
      "slope_sigma <class 'pcntoolkit.model.hbr.FixedParameterization'>\n",
      "intercept_sigma <class 'pcntoolkit.model.hbr.FixedParameterization'>\n",
      "sigma <class 'pcntoolkit.model.hbr.LinearParameterization'>\n",
      "epsilon <class 'pcntoolkit.model.hbr.FixedParameterization'>\n",
      "delta <class 'pcntoolkit.model.hbr.FixedParameterization'>\n"
     ]
    },
    {
     "data": {
      "text/html": [
       "\n",
       "<style>\n",
       "    /* Turns off some styling */\n",
       "    progress {\n",
       "        /* gets rid of default border in Firefox and Opera. */\n",
       "        border: none;\n",
       "        /* Needs to be in here for Safari polyfill so background images work as expected. */\n",
       "        background-size: auto;\n",
       "    }\n",
       "    progress:not([value]), progress:not([value])::-webkit-progress-bar {\n",
       "        background: repeating-linear-gradient(45deg, #7e7e7e, #7e7e7e 10px, #5c5c5c 10px, #5c5c5c 20px);\n",
       "    }\n",
       "    .progress-bar-interrupted, .progress-bar-interrupted::-webkit-progress-bar {\n",
       "        background: #F44336;\n",
       "    }\n",
       "</style>\n"
      ],
      "text/plain": [
       "<IPython.core.display.HTML object>"
      ]
     },
     "metadata": {},
     "output_type": "display_data"
    },
    {
     "data": {
      "text/html": [
       "\n",
       "    <div>\n",
       "      <progress value='2000' class='' max='2000' style='width:300px; height:20px; vertical-align: middle;'></progress>\n",
       "      100.00% [2000/2000 00:02&lt;00:00]\n",
       "    </div>\n",
       "    "
      ],
      "text/plain": [
       "<IPython.core.display.HTML object>"
      ]
     },
     "metadata": {},
     "output_type": "display_data"
    },
    {
     "name": "stdout",
     "output_type": "stream",
     "text": [
      "Done computing zscores in 3.84371018409729 seconds\n",
      "Computing zscores for NM_0_0_estimate.pkl\n",
      "SHASHb\n",
      "slope_mu <class 'pcntoolkit.model.hbr.FixedParameterization'>\n",
      "intercept_mu <class 'pcntoolkit.model.hbr.NonCentralRandomFixedParameterization'>\n",
      "mu <class 'pcntoolkit.model.hbr.LinearParameterization'>\n",
      "slope_sigma <class 'pcntoolkit.model.hbr.FixedParameterization'>\n",
      "intercept_sigma <class 'pcntoolkit.model.hbr.FixedParameterization'>\n",
      "sigma <class 'pcntoolkit.model.hbr.LinearParameterization'>\n",
      "epsilon <class 'pcntoolkit.model.hbr.FixedParameterization'>\n",
      "delta <class 'pcntoolkit.model.hbr.FixedParameterization'>\n"
     ]
    },
    {
     "name": "stderr",
     "output_type": "stream",
     "text": [
      "Sampling: [y_like]\n"
     ]
    },
    {
     "data": {
      "text/html": [
       "\n",
       "<style>\n",
       "    /* Turns off some styling */\n",
       "    progress {\n",
       "        /* gets rid of default border in Firefox and Opera. */\n",
       "        border: none;\n",
       "        /* Needs to be in here for Safari polyfill so background images work as expected. */\n",
       "        background-size: auto;\n",
       "    }\n",
       "    progress:not([value]), progress:not([value])::-webkit-progress-bar {\n",
       "        background: repeating-linear-gradient(45deg, #7e7e7e, #7e7e7e 10px, #5c5c5c 10px, #5c5c5c 20px);\n",
       "    }\n",
       "    .progress-bar-interrupted, .progress-bar-interrupted::-webkit-progress-bar {\n",
       "        background: #F44336;\n",
       "    }\n",
       "</style>\n"
      ],
      "text/plain": [
       "<IPython.core.display.HTML object>"
      ]
     },
     "metadata": {},
     "output_type": "display_data"
    },
    {
     "data": {
      "text/html": [
       "\n",
       "    <div>\n",
       "      <progress value='2000' class='' max='2000' style='width:300px; height:20px; vertical-align: middle;'></progress>\n",
       "      100.00% [2000/2000 00:02&lt;00:00]\n",
       "    </div>\n",
       "    "
      ],
      "text/plain": [
       "<IPython.core.display.HTML object>"
      ]
     },
     "metadata": {},
     "output_type": "display_data"
    },
    {
     "name": "stdout",
     "output_type": "stream",
     "text": [
      "Done computing zscores in 4.633671283721924 seconds\n",
      "Computing zscores for NM_0_0_estimate.pkl\n",
      "SHASHb\n",
      "slope_mu <class 'pcntoolkit.model.hbr.FixedParameterization'>\n",
      "intercept_mu <class 'pcntoolkit.model.hbr.NonCentralRandomFixedParameterization'>\n",
      "mu <class 'pcntoolkit.model.hbr.LinearParameterization'>\n",
      "slope_sigma <class 'pcntoolkit.model.hbr.FixedParameterization'>\n",
      "intercept_sigma <class 'pcntoolkit.model.hbr.FixedParameterization'>\n",
      "sigma <class 'pcntoolkit.model.hbr.LinearParameterization'>\n",
      "slope_epsilon <class 'pcntoolkit.model.hbr.FixedParameterization'>\n",
      "intercept_epsilon <class 'pcntoolkit.model.hbr.FixedParameterization'>\n",
      "epsilon <class 'pcntoolkit.model.hbr.LinearParameterization'>\n",
      "slope_delta <class 'pcntoolkit.model.hbr.FixedParameterization'>\n",
      "intercept_delta <class 'pcntoolkit.model.hbr.FixedParameterization'>\n",
      "delta <class 'pcntoolkit.model.hbr.LinearParameterization'>\n"
     ]
    },
    {
     "name": "stderr",
     "output_type": "stream",
     "text": [
      "Sampling: [y_like]\n"
     ]
    },
    {
     "data": {
      "text/html": [
       "\n",
       "<style>\n",
       "    /* Turns off some styling */\n",
       "    progress {\n",
       "        /* gets rid of default border in Firefox and Opera. */\n",
       "        border: none;\n",
       "        /* Needs to be in here for Safari polyfill so background images work as expected. */\n",
       "        background-size: auto;\n",
       "    }\n",
       "    progress:not([value]), progress:not([value])::-webkit-progress-bar {\n",
       "        background: repeating-linear-gradient(45deg, #7e7e7e, #7e7e7e 10px, #5c5c5c 10px, #5c5c5c 20px);\n",
       "    }\n",
       "    .progress-bar-interrupted, .progress-bar-interrupted::-webkit-progress-bar {\n",
       "        background: #F44336;\n",
       "    }\n",
       "</style>\n"
      ],
      "text/plain": [
       "<IPython.core.display.HTML object>"
      ]
     },
     "metadata": {},
     "output_type": "display_data"
    },
    {
     "data": {
      "text/html": [
       "\n",
       "    <div>\n",
       "      <progress value='2000' class='' max='2000' style='width:300px; height:20px; vertical-align: middle;'></progress>\n",
       "      100.00% [2000/2000 00:11&lt;00:00]\n",
       "    </div>\n",
       "    "
      ],
      "text/plain": [
       "<IPython.core.display.HTML object>"
      ]
     },
     "metadata": {},
     "output_type": "display_data"
    },
    {
     "name": "stdout",
     "output_type": "stream",
     "text": [
      "Done computing zscores in 38.81353259086609 seconds\n"
     ]
    },
    {
     "name": "stderr",
     "output_type": "stream",
     "text": [
      "Sampling: [y_like]\n"
     ]
    },
    {
     "name": "stdout",
     "output_type": "stream",
     "text": [
      "Computing zscores for NM_0_0_estimate.pkl\n",
      "Normal\n",
      "slope_mu <class 'pcntoolkit.model.hbr.FixedParameterization'>\n",
      "intercept_mu <class 'pcntoolkit.model.hbr.NonCentralRandomFixedParameterization'>\n",
      "mu <class 'pcntoolkit.model.hbr.LinearParameterization'>\n",
      "slope_sigma <class 'pcntoolkit.model.hbr.FixedParameterization'>\n",
      "intercept_sigma <class 'pcntoolkit.model.hbr.FixedParameterization'>\n",
      "sigma <class 'pcntoolkit.model.hbr.LinearParameterization'>\n"
     ]
    },
    {
     "data": {
      "text/html": [
       "\n",
       "<style>\n",
       "    /* Turns off some styling */\n",
       "    progress {\n",
       "        /* gets rid of default border in Firefox and Opera. */\n",
       "        border: none;\n",
       "        /* Needs to be in here for Safari polyfill so background images work as expected. */\n",
       "        background-size: auto;\n",
       "    }\n",
       "    progress:not([value]), progress:not([value])::-webkit-progress-bar {\n",
       "        background: repeating-linear-gradient(45deg, #7e7e7e, #7e7e7e 10px, #5c5c5c 10px, #5c5c5c 20px);\n",
       "    }\n",
       "    .progress-bar-interrupted, .progress-bar-interrupted::-webkit-progress-bar {\n",
       "        background: #F44336;\n",
       "    }\n",
       "</style>\n"
      ],
      "text/plain": [
       "<IPython.core.display.HTML object>"
      ]
     },
     "metadata": {},
     "output_type": "display_data"
    },
    {
     "data": {
      "text/html": [
       "\n",
       "    <div>\n",
       "      <progress value='2000' class='' max='2000' style='width:300px; height:20px; vertical-align: middle;'></progress>\n",
       "      100.00% [2000/2000 00:01&lt;00:00]\n",
       "    </div>\n",
       "    "
      ],
      "text/plain": [
       "<IPython.core.display.HTML object>"
      ]
     },
     "metadata": {},
     "output_type": "display_data"
    },
    {
     "name": "stdout",
     "output_type": "stream",
     "text": [
      "Done computing zscores in 2.1054306030273438 seconds\n",
      "Computing zscores for NM_0_0_estimate.pkl\n",
      "SHASHo\n",
      "slope_mu <class 'pcntoolkit.model.hbr.FixedParameterization'>\n",
      "intercept_mu <class 'pcntoolkit.model.hbr.NonCentralRandomFixedParameterization'>\n",
      "mu <class 'pcntoolkit.model.hbr.LinearParameterization'>\n",
      "slope_sigma <class 'pcntoolkit.model.hbr.FixedParameterization'>\n",
      "intercept_sigma <class 'pcntoolkit.model.hbr.FixedParameterization'>\n",
      "sigma <class 'pcntoolkit.model.hbr.LinearParameterization'>\n",
      "epsilon <class 'pcntoolkit.model.hbr.FixedParameterization'>\n",
      "delta <class 'pcntoolkit.model.hbr.FixedParameterization'>\n"
     ]
    },
    {
     "name": "stderr",
     "output_type": "stream",
     "text": [
      "Sampling: [y_like]\n"
     ]
    },
    {
     "data": {
      "text/html": [
       "\n",
       "<style>\n",
       "    /* Turns off some styling */\n",
       "    progress {\n",
       "        /* gets rid of default border in Firefox and Opera. */\n",
       "        border: none;\n",
       "        /* Needs to be in here for Safari polyfill so background images work as expected. */\n",
       "        background-size: auto;\n",
       "    }\n",
       "    progress:not([value]), progress:not([value])::-webkit-progress-bar {\n",
       "        background: repeating-linear-gradient(45deg, #7e7e7e, #7e7e7e 10px, #5c5c5c 10px, #5c5c5c 20px);\n",
       "    }\n",
       "    .progress-bar-interrupted, .progress-bar-interrupted::-webkit-progress-bar {\n",
       "        background: #F44336;\n",
       "    }\n",
       "</style>\n"
      ],
      "text/plain": [
       "<IPython.core.display.HTML object>"
      ]
     },
     "metadata": {},
     "output_type": "display_data"
    },
    {
     "data": {
      "text/html": [
       "\n",
       "    <div>\n",
       "      <progress value='2000' class='' max='2000' style='width:300px; height:20px; vertical-align: middle;'></progress>\n",
       "      100.00% [2000/2000 00:02&lt;00:00]\n",
       "    </div>\n",
       "    "
      ],
      "text/plain": [
       "<IPython.core.display.HTML object>"
      ]
     },
     "metadata": {},
     "output_type": "display_data"
    },
    {
     "name": "stdout",
     "output_type": "stream",
     "text": [
      "Done computing zscores in 3.9241721630096436 seconds\n",
      "Computing zscores for NM_0_0_estimate.pkl\n",
      "SHASHb\n",
      "slope_mu <class 'pcntoolkit.model.hbr.FixedParameterization'>\n",
      "intercept_mu <class 'pcntoolkit.model.hbr.NonCentralRandomFixedParameterization'>\n",
      "mu <class 'pcntoolkit.model.hbr.LinearParameterization'>\n",
      "slope_sigma <class 'pcntoolkit.model.hbr.FixedParameterization'>\n",
      "intercept_sigma <class 'pcntoolkit.model.hbr.FixedParameterization'>\n",
      "sigma <class 'pcntoolkit.model.hbr.LinearParameterization'>\n",
      "epsilon <class 'pcntoolkit.model.hbr.FixedParameterization'>\n",
      "delta <class 'pcntoolkit.model.hbr.FixedParameterization'>\n"
     ]
    },
    {
     "name": "stderr",
     "output_type": "stream",
     "text": [
      "Sampling: [y_like]\n"
     ]
    },
    {
     "data": {
      "text/html": [
       "\n",
       "<style>\n",
       "    /* Turns off some styling */\n",
       "    progress {\n",
       "        /* gets rid of default border in Firefox and Opera. */\n",
       "        border: none;\n",
       "        /* Needs to be in here for Safari polyfill so background images work as expected. */\n",
       "        background-size: auto;\n",
       "    }\n",
       "    progress:not([value]), progress:not([value])::-webkit-progress-bar {\n",
       "        background: repeating-linear-gradient(45deg, #7e7e7e, #7e7e7e 10px, #5c5c5c 10px, #5c5c5c 20px);\n",
       "    }\n",
       "    .progress-bar-interrupted, .progress-bar-interrupted::-webkit-progress-bar {\n",
       "        background: #F44336;\n",
       "    }\n",
       "</style>\n"
      ],
      "text/plain": [
       "<IPython.core.display.HTML object>"
      ]
     },
     "metadata": {},
     "output_type": "display_data"
    },
    {
     "data": {
      "text/html": [
       "\n",
       "    <div>\n",
       "      <progress value='2000' class='' max='2000' style='width:300px; height:20px; vertical-align: middle;'></progress>\n",
       "      100.00% [2000/2000 00:03&lt;00:00]\n",
       "    </div>\n",
       "    "
      ],
      "text/plain": [
       "<IPython.core.display.HTML object>"
      ]
     },
     "metadata": {},
     "output_type": "display_data"
    },
    {
     "name": "stdout",
     "output_type": "stream",
     "text": [
      "Done computing zscores in 4.726102113723755 seconds\n",
      "Computing zscores for NM_0_0_estimate.pkl\n",
      "SHASHb\n",
      "slope_mu <class 'pcntoolkit.model.hbr.FixedParameterization'>\n",
      "intercept_mu <class 'pcntoolkit.model.hbr.NonCentralRandomFixedParameterization'>\n",
      "mu <class 'pcntoolkit.model.hbr.LinearParameterization'>\n",
      "slope_sigma <class 'pcntoolkit.model.hbr.FixedParameterization'>\n",
      "intercept_sigma <class 'pcntoolkit.model.hbr.FixedParameterization'>\n",
      "sigma <class 'pcntoolkit.model.hbr.LinearParameterization'>\n",
      "slope_epsilon <class 'pcntoolkit.model.hbr.FixedParameterization'>\n",
      "intercept_epsilon <class 'pcntoolkit.model.hbr.FixedParameterization'>\n",
      "epsilon <class 'pcntoolkit.model.hbr.LinearParameterization'>\n",
      "slope_delta <class 'pcntoolkit.model.hbr.FixedParameterization'>\n",
      "intercept_delta <class 'pcntoolkit.model.hbr.FixedParameterization'>\n",
      "delta <class 'pcntoolkit.model.hbr.LinearParameterization'>\n"
     ]
    },
    {
     "name": "stderr",
     "output_type": "stream",
     "text": [
      "Sampling: [y_like]\n"
     ]
    },
    {
     "data": {
      "text/html": [
       "\n",
       "<style>\n",
       "    /* Turns off some styling */\n",
       "    progress {\n",
       "        /* gets rid of default border in Firefox and Opera. */\n",
       "        border: none;\n",
       "        /* Needs to be in here for Safari polyfill so background images work as expected. */\n",
       "        background-size: auto;\n",
       "    }\n",
       "    progress:not([value]), progress:not([value])::-webkit-progress-bar {\n",
       "        background: repeating-linear-gradient(45deg, #7e7e7e, #7e7e7e 10px, #5c5c5c 10px, #5c5c5c 20px);\n",
       "    }\n",
       "    .progress-bar-interrupted, .progress-bar-interrupted::-webkit-progress-bar {\n",
       "        background: #F44336;\n",
       "    }\n",
       "</style>\n"
      ],
      "text/plain": [
       "<IPython.core.display.HTML object>"
      ]
     },
     "metadata": {},
     "output_type": "display_data"
    },
    {
     "data": {
      "text/html": [
       "\n",
       "    <div>\n",
       "      <progress value='2000' class='' max='2000' style='width:300px; height:20px; vertical-align: middle;'></progress>\n",
       "      100.00% [2000/2000 00:11&lt;00:00]\n",
       "    </div>\n",
       "    "
      ],
      "text/plain": [
       "<IPython.core.display.HTML object>"
      ]
     },
     "metadata": {},
     "output_type": "display_data"
    },
    {
     "name": "stdout",
     "output_type": "stream",
     "text": [
      "Done computing zscores in 38.714293241500854 seconds\n"
     ]
    },
    {
     "name": "stderr",
     "output_type": "stream",
     "text": [
      "Sampling: [y_like]\n"
     ]
    },
    {
     "name": "stdout",
     "output_type": "stream",
     "text": [
      "Computing zscores for NM_0_0_estimate.pkl\n",
      "Normal\n",
      "slope_mu <class 'pcntoolkit.model.hbr.FixedParameterization'>\n",
      "intercept_mu <class 'pcntoolkit.model.hbr.NonCentralRandomFixedParameterization'>\n",
      "mu <class 'pcntoolkit.model.hbr.LinearParameterization'>\n",
      "slope_sigma <class 'pcntoolkit.model.hbr.FixedParameterization'>\n",
      "intercept_sigma <class 'pcntoolkit.model.hbr.FixedParameterization'>\n",
      "sigma <class 'pcntoolkit.model.hbr.LinearParameterization'>\n"
     ]
    },
    {
     "data": {
      "text/html": [
       "\n",
       "<style>\n",
       "    /* Turns off some styling */\n",
       "    progress {\n",
       "        /* gets rid of default border in Firefox and Opera. */\n",
       "        border: none;\n",
       "        /* Needs to be in here for Safari polyfill so background images work as expected. */\n",
       "        background-size: auto;\n",
       "    }\n",
       "    progress:not([value]), progress:not([value])::-webkit-progress-bar {\n",
       "        background: repeating-linear-gradient(45deg, #7e7e7e, #7e7e7e 10px, #5c5c5c 10px, #5c5c5c 20px);\n",
       "    }\n",
       "    .progress-bar-interrupted, .progress-bar-interrupted::-webkit-progress-bar {\n",
       "        background: #F44336;\n",
       "    }\n",
       "</style>\n"
      ],
      "text/plain": [
       "<IPython.core.display.HTML object>"
      ]
     },
     "metadata": {},
     "output_type": "display_data"
    },
    {
     "data": {
      "text/html": [
       "\n",
       "    <div>\n",
       "      <progress value='2000' class='' max='2000' style='width:300px; height:20px; vertical-align: middle;'></progress>\n",
       "      100.00% [2000/2000 00:01&lt;00:00]\n",
       "    </div>\n",
       "    "
      ],
      "text/plain": [
       "<IPython.core.display.HTML object>"
      ]
     },
     "metadata": {},
     "output_type": "display_data"
    },
    {
     "name": "stdout",
     "output_type": "stream",
     "text": [
      "Done computing zscores in 2.250659227371216 seconds\n",
      "Computing zscores for NM_0_0_estimate.pkl\n",
      "SHASHo\n",
      "slope_mu <class 'pcntoolkit.model.hbr.FixedParameterization'>\n",
      "intercept_mu <class 'pcntoolkit.model.hbr.NonCentralRandomFixedParameterization'>\n",
      "mu <class 'pcntoolkit.model.hbr.LinearParameterization'>\n",
      "slope_sigma <class 'pcntoolkit.model.hbr.FixedParameterization'>\n",
      "intercept_sigma <class 'pcntoolkit.model.hbr.FixedParameterization'>\n",
      "sigma <class 'pcntoolkit.model.hbr.LinearParameterization'>\n",
      "epsilon <class 'pcntoolkit.model.hbr.FixedParameterization'>\n",
      "delta <class 'pcntoolkit.model.hbr.FixedParameterization'>\n"
     ]
    },
    {
     "name": "stderr",
     "output_type": "stream",
     "text": [
      "Sampling: [y_like]\n"
     ]
    },
    {
     "data": {
      "text/html": [
       "\n",
       "<style>\n",
       "    /* Turns off some styling */\n",
       "    progress {\n",
       "        /* gets rid of default border in Firefox and Opera. */\n",
       "        border: none;\n",
       "        /* Needs to be in here for Safari polyfill so background images work as expected. */\n",
       "        background-size: auto;\n",
       "    }\n",
       "    progress:not([value]), progress:not([value])::-webkit-progress-bar {\n",
       "        background: repeating-linear-gradient(45deg, #7e7e7e, #7e7e7e 10px, #5c5c5c 10px, #5c5c5c 20px);\n",
       "    }\n",
       "    .progress-bar-interrupted, .progress-bar-interrupted::-webkit-progress-bar {\n",
       "        background: #F44336;\n",
       "    }\n",
       "</style>\n"
      ],
      "text/plain": [
       "<IPython.core.display.HTML object>"
      ]
     },
     "metadata": {},
     "output_type": "display_data"
    },
    {
     "data": {
      "text/html": [
       "\n",
       "    <div>\n",
       "      <progress value='2000' class='' max='2000' style='width:300px; height:20px; vertical-align: middle;'></progress>\n",
       "      100.00% [2000/2000 00:02&lt;00:00]\n",
       "    </div>\n",
       "    "
      ],
      "text/plain": [
       "<IPython.core.display.HTML object>"
      ]
     },
     "metadata": {},
     "output_type": "display_data"
    },
    {
     "name": "stdout",
     "output_type": "stream",
     "text": [
      "Done computing zscores in 4.22993016242981 seconds\n",
      "Computing zscores for NM_0_0_estimate.pkl\n",
      "SHASHb\n",
      "slope_mu <class 'pcntoolkit.model.hbr.FixedParameterization'>\n",
      "intercept_mu <class 'pcntoolkit.model.hbr.NonCentralRandomFixedParameterization'>\n",
      "mu <class 'pcntoolkit.model.hbr.LinearParameterization'>\n",
      "slope_sigma <class 'pcntoolkit.model.hbr.FixedParameterization'>\n",
      "intercept_sigma <class 'pcntoolkit.model.hbr.FixedParameterization'>\n",
      "sigma <class 'pcntoolkit.model.hbr.LinearParameterization'>\n",
      "epsilon <class 'pcntoolkit.model.hbr.FixedParameterization'>\n",
      "delta <class 'pcntoolkit.model.hbr.FixedParameterization'>\n"
     ]
    },
    {
     "name": "stderr",
     "output_type": "stream",
     "text": [
      "Sampling: [y_like]\n"
     ]
    },
    {
     "data": {
      "text/html": [
       "\n",
       "<style>\n",
       "    /* Turns off some styling */\n",
       "    progress {\n",
       "        /* gets rid of default border in Firefox and Opera. */\n",
       "        border: none;\n",
       "        /* Needs to be in here for Safari polyfill so background images work as expected. */\n",
       "        background-size: auto;\n",
       "    }\n",
       "    progress:not([value]), progress:not([value])::-webkit-progress-bar {\n",
       "        background: repeating-linear-gradient(45deg, #7e7e7e, #7e7e7e 10px, #5c5c5c 10px, #5c5c5c 20px);\n",
       "    }\n",
       "    .progress-bar-interrupted, .progress-bar-interrupted::-webkit-progress-bar {\n",
       "        background: #F44336;\n",
       "    }\n",
       "</style>\n"
      ],
      "text/plain": [
       "<IPython.core.display.HTML object>"
      ]
     },
     "metadata": {},
     "output_type": "display_data"
    },
    {
     "data": {
      "text/html": [
       "\n",
       "    <div>\n",
       "      <progress value='2000' class='' max='2000' style='width:300px; height:20px; vertical-align: middle;'></progress>\n",
       "      100.00% [2000/2000 00:03&lt;00:00]\n",
       "    </div>\n",
       "    "
      ],
      "text/plain": [
       "<IPython.core.display.HTML object>"
      ]
     },
     "metadata": {},
     "output_type": "display_data"
    },
    {
     "name": "stdout",
     "output_type": "stream",
     "text": [
      "Done computing zscores in 4.813721179962158 seconds\n",
      "Computing zscores for NM_0_0_estimate.pkl\n",
      "SHASHb\n",
      "slope_mu <class 'pcntoolkit.model.hbr.FixedParameterization'>\n",
      "intercept_mu <class 'pcntoolkit.model.hbr.NonCentralRandomFixedParameterization'>\n",
      "mu <class 'pcntoolkit.model.hbr.LinearParameterization'>\n",
      "slope_sigma <class 'pcntoolkit.model.hbr.FixedParameterization'>\n",
      "intercept_sigma <class 'pcntoolkit.model.hbr.FixedParameterization'>\n",
      "sigma <class 'pcntoolkit.model.hbr.LinearParameterization'>\n",
      "slope_epsilon <class 'pcntoolkit.model.hbr.FixedParameterization'>\n",
      "intercept_epsilon <class 'pcntoolkit.model.hbr.FixedParameterization'>\n",
      "epsilon <class 'pcntoolkit.model.hbr.LinearParameterization'>\n",
      "slope_delta <class 'pcntoolkit.model.hbr.FixedParameterization'>\n",
      "intercept_delta <class 'pcntoolkit.model.hbr.FixedParameterization'>\n",
      "delta <class 'pcntoolkit.model.hbr.LinearParameterization'>\n"
     ]
    },
    {
     "name": "stderr",
     "output_type": "stream",
     "text": [
      "Sampling: [y_like]\n"
     ]
    },
    {
     "data": {
      "text/html": [
       "\n",
       "<style>\n",
       "    /* Turns off some styling */\n",
       "    progress {\n",
       "        /* gets rid of default border in Firefox and Opera. */\n",
       "        border: none;\n",
       "        /* Needs to be in here for Safari polyfill so background images work as expected. */\n",
       "        background-size: auto;\n",
       "    }\n",
       "    progress:not([value]), progress:not([value])::-webkit-progress-bar {\n",
       "        background: repeating-linear-gradient(45deg, #7e7e7e, #7e7e7e 10px, #5c5c5c 10px, #5c5c5c 20px);\n",
       "    }\n",
       "    .progress-bar-interrupted, .progress-bar-interrupted::-webkit-progress-bar {\n",
       "        background: #F44336;\n",
       "    }\n",
       "</style>\n"
      ],
      "text/plain": [
       "<IPython.core.display.HTML object>"
      ]
     },
     "metadata": {},
     "output_type": "display_data"
    },
    {
     "data": {
      "text/html": [
       "\n",
       "    <div>\n",
       "      <progress value='2000' class='' max='2000' style='width:300px; height:20px; vertical-align: middle;'></progress>\n",
       "      100.00% [2000/2000 00:11&lt;00:00]\n",
       "    </div>\n",
       "    "
      ],
      "text/plain": [
       "<IPython.core.display.HTML object>"
      ]
     },
     "metadata": {},
     "output_type": "display_data"
    },
    {
     "name": "stdout",
     "output_type": "stream",
     "text": [
      "Done computing zscores in 38.200408935546875 seconds\n"
     ]
    },
    {
     "name": "stderr",
     "output_type": "stream",
     "text": [
      "Sampling: [y_like]\n"
     ]
    },
    {
     "name": "stdout",
     "output_type": "stream",
     "text": [
      "Computing zscores for NM_0_0_estimate.pkl\n",
      "Normal\n",
      "slope_mu <class 'pcntoolkit.model.hbr.FixedParameterization'>\n",
      "intercept_mu <class 'pcntoolkit.model.hbr.NonCentralRandomFixedParameterization'>\n",
      "mu <class 'pcntoolkit.model.hbr.LinearParameterization'>\n",
      "slope_sigma <class 'pcntoolkit.model.hbr.FixedParameterization'>\n",
      "intercept_sigma <class 'pcntoolkit.model.hbr.FixedParameterization'>\n",
      "sigma <class 'pcntoolkit.model.hbr.LinearParameterization'>\n"
     ]
    },
    {
     "data": {
      "text/html": [
       "\n",
       "<style>\n",
       "    /* Turns off some styling */\n",
       "    progress {\n",
       "        /* gets rid of default border in Firefox and Opera. */\n",
       "        border: none;\n",
       "        /* Needs to be in here for Safari polyfill so background images work as expected. */\n",
       "        background-size: auto;\n",
       "    }\n",
       "    progress:not([value]), progress:not([value])::-webkit-progress-bar {\n",
       "        background: repeating-linear-gradient(45deg, #7e7e7e, #7e7e7e 10px, #5c5c5c 10px, #5c5c5c 20px);\n",
       "    }\n",
       "    .progress-bar-interrupted, .progress-bar-interrupted::-webkit-progress-bar {\n",
       "        background: #F44336;\n",
       "    }\n",
       "</style>\n"
      ],
      "text/plain": [
       "<IPython.core.display.HTML object>"
      ]
     },
     "metadata": {},
     "output_type": "display_data"
    },
    {
     "data": {
      "text/html": [
       "\n",
       "    <div>\n",
       "      <progress value='2000' class='' max='2000' style='width:300px; height:20px; vertical-align: middle;'></progress>\n",
       "      100.00% [2000/2000 00:01&lt;00:00]\n",
       "    </div>\n",
       "    "
      ],
      "text/plain": [
       "<IPython.core.display.HTML object>"
      ]
     },
     "metadata": {},
     "output_type": "display_data"
    },
    {
     "name": "stdout",
     "output_type": "stream",
     "text": [
      "Done computing zscores in 2.2214066982269287 seconds\n",
      "Computing zscores for NM_0_0_estimate.pkl\n",
      "SHASHo\n",
      "slope_mu <class 'pcntoolkit.model.hbr.FixedParameterization'>\n",
      "intercept_mu <class 'pcntoolkit.model.hbr.NonCentralRandomFixedParameterization'>\n",
      "mu <class 'pcntoolkit.model.hbr.LinearParameterization'>\n",
      "slope_sigma <class 'pcntoolkit.model.hbr.FixedParameterization'>\n",
      "intercept_sigma <class 'pcntoolkit.model.hbr.FixedParameterization'>\n",
      "sigma <class 'pcntoolkit.model.hbr.LinearParameterization'>\n",
      "epsilon <class 'pcntoolkit.model.hbr.FixedParameterization'>\n",
      "delta <class 'pcntoolkit.model.hbr.FixedParameterization'>\n"
     ]
    },
    {
     "name": "stderr",
     "output_type": "stream",
     "text": [
      "Sampling: [y_like]\n"
     ]
    },
    {
     "data": {
      "text/html": [
       "\n",
       "<style>\n",
       "    /* Turns off some styling */\n",
       "    progress {\n",
       "        /* gets rid of default border in Firefox and Opera. */\n",
       "        border: none;\n",
       "        /* Needs to be in here for Safari polyfill so background images work as expected. */\n",
       "        background-size: auto;\n",
       "    }\n",
       "    progress:not([value]), progress:not([value])::-webkit-progress-bar {\n",
       "        background: repeating-linear-gradient(45deg, #7e7e7e, #7e7e7e 10px, #5c5c5c 10px, #5c5c5c 20px);\n",
       "    }\n",
       "    .progress-bar-interrupted, .progress-bar-interrupted::-webkit-progress-bar {\n",
       "        background: #F44336;\n",
       "    }\n",
       "</style>\n"
      ],
      "text/plain": [
       "<IPython.core.display.HTML object>"
      ]
     },
     "metadata": {},
     "output_type": "display_data"
    },
    {
     "data": {
      "text/html": [
       "\n",
       "    <div>\n",
       "      <progress value='2000' class='' max='2000' style='width:300px; height:20px; vertical-align: middle;'></progress>\n",
       "      100.00% [2000/2000 00:02&lt;00:00]\n",
       "    </div>\n",
       "    "
      ],
      "text/plain": [
       "<IPython.core.display.HTML object>"
      ]
     },
     "metadata": {},
     "output_type": "display_data"
    },
    {
     "name": "stdout",
     "output_type": "stream",
     "text": [
      "Done computing zscores in 3.764258623123169 seconds\n",
      "Computing zscores for NM_0_0_estimate.pkl\n",
      "SHASHb\n",
      "slope_mu <class 'pcntoolkit.model.hbr.FixedParameterization'>\n",
      "intercept_mu <class 'pcntoolkit.model.hbr.NonCentralRandomFixedParameterization'>\n",
      "mu <class 'pcntoolkit.model.hbr.LinearParameterization'>\n",
      "slope_sigma <class 'pcntoolkit.model.hbr.FixedParameterization'>\n",
      "intercept_sigma <class 'pcntoolkit.model.hbr.FixedParameterization'>\n",
      "sigma <class 'pcntoolkit.model.hbr.LinearParameterization'>\n",
      "epsilon <class 'pcntoolkit.model.hbr.FixedParameterization'>\n",
      "delta <class 'pcntoolkit.model.hbr.FixedParameterization'>\n"
     ]
    },
    {
     "name": "stderr",
     "output_type": "stream",
     "text": [
      "Sampling: [y_like]\n"
     ]
    },
    {
     "data": {
      "text/html": [
       "\n",
       "<style>\n",
       "    /* Turns off some styling */\n",
       "    progress {\n",
       "        /* gets rid of default border in Firefox and Opera. */\n",
       "        border: none;\n",
       "        /* Needs to be in here for Safari polyfill so background images work as expected. */\n",
       "        background-size: auto;\n",
       "    }\n",
       "    progress:not([value]), progress:not([value])::-webkit-progress-bar {\n",
       "        background: repeating-linear-gradient(45deg, #7e7e7e, #7e7e7e 10px, #5c5c5c 10px, #5c5c5c 20px);\n",
       "    }\n",
       "    .progress-bar-interrupted, .progress-bar-interrupted::-webkit-progress-bar {\n",
       "        background: #F44336;\n",
       "    }\n",
       "</style>\n"
      ],
      "text/plain": [
       "<IPython.core.display.HTML object>"
      ]
     },
     "metadata": {},
     "output_type": "display_data"
    },
    {
     "data": {
      "text/html": [
       "\n",
       "    <div>\n",
       "      <progress value='2000' class='' max='2000' style='width:300px; height:20px; vertical-align: middle;'></progress>\n",
       "      100.00% [2000/2000 00:03&lt;00:00]\n",
       "    </div>\n",
       "    "
      ],
      "text/plain": [
       "<IPython.core.display.HTML object>"
      ]
     },
     "metadata": {},
     "output_type": "display_data"
    },
    {
     "name": "stdout",
     "output_type": "stream",
     "text": [
      "Done computing zscores in 4.729188680648804 seconds\n",
      "Computing zscores for NM_0_0_estimate.pkl\n",
      "SHASHb\n",
      "slope_mu <class 'pcntoolkit.model.hbr.FixedParameterization'>\n",
      "intercept_mu <class 'pcntoolkit.model.hbr.NonCentralRandomFixedParameterization'>\n",
      "mu <class 'pcntoolkit.model.hbr.LinearParameterization'>\n",
      "slope_sigma <class 'pcntoolkit.model.hbr.FixedParameterization'>\n",
      "intercept_sigma <class 'pcntoolkit.model.hbr.FixedParameterization'>\n",
      "sigma <class 'pcntoolkit.model.hbr.LinearParameterization'>\n",
      "slope_epsilon <class 'pcntoolkit.model.hbr.FixedParameterization'>\n",
      "intercept_epsilon <class 'pcntoolkit.model.hbr.FixedParameterization'>\n",
      "epsilon <class 'pcntoolkit.model.hbr.LinearParameterization'>\n",
      "slope_delta <class 'pcntoolkit.model.hbr.FixedParameterization'>\n",
      "intercept_delta <class 'pcntoolkit.model.hbr.FixedParameterization'>\n",
      "delta <class 'pcntoolkit.model.hbr.LinearParameterization'>\n"
     ]
    },
    {
     "name": "stderr",
     "output_type": "stream",
     "text": [
      "Sampling: [y_like]\n"
     ]
    },
    {
     "data": {
      "text/html": [
       "\n",
       "<style>\n",
       "    /* Turns off some styling */\n",
       "    progress {\n",
       "        /* gets rid of default border in Firefox and Opera. */\n",
       "        border: none;\n",
       "        /* Needs to be in here for Safari polyfill so background images work as expected. */\n",
       "        background-size: auto;\n",
       "    }\n",
       "    progress:not([value]), progress:not([value])::-webkit-progress-bar {\n",
       "        background: repeating-linear-gradient(45deg, #7e7e7e, #7e7e7e 10px, #5c5c5c 10px, #5c5c5c 20px);\n",
       "    }\n",
       "    .progress-bar-interrupted, .progress-bar-interrupted::-webkit-progress-bar {\n",
       "        background: #F44336;\n",
       "    }\n",
       "</style>\n"
      ],
      "text/plain": [
       "<IPython.core.display.HTML object>"
      ]
     },
     "metadata": {},
     "output_type": "display_data"
    },
    {
     "data": {
      "text/html": [
       "\n",
       "    <div>\n",
       "      <progress value='2000' class='' max='2000' style='width:300px; height:20px; vertical-align: middle;'></progress>\n",
       "      100.00% [2000/2000 00:11&lt;00:00]\n",
       "    </div>\n",
       "    "
      ],
      "text/plain": [
       "<IPython.core.display.HTML object>"
      ]
     },
     "metadata": {},
     "output_type": "display_data"
    },
    {
     "name": "stdout",
     "output_type": "stream",
     "text": [
      "Done computing zscores in 39.168591022491455 seconds\n"
     ]
    },
    {
     "name": "stderr",
     "output_type": "stream",
     "text": [
      "Sampling: [y_like]\n"
     ]
    },
    {
     "name": "stdout",
     "output_type": "stream",
     "text": [
      "Computing zscores for NM_0_0_estimate.pkl\n",
      "Normal\n",
      "slope_mu <class 'pcntoolkit.model.hbr.FixedParameterization'>\n",
      "intercept_mu <class 'pcntoolkit.model.hbr.NonCentralRandomFixedParameterization'>\n",
      "mu <class 'pcntoolkit.model.hbr.LinearParameterization'>\n",
      "slope_sigma <class 'pcntoolkit.model.hbr.FixedParameterization'>\n",
      "intercept_sigma <class 'pcntoolkit.model.hbr.FixedParameterization'>\n",
      "sigma <class 'pcntoolkit.model.hbr.LinearParameterization'>\n"
     ]
    },
    {
     "data": {
      "text/html": [
       "\n",
       "<style>\n",
       "    /* Turns off some styling */\n",
       "    progress {\n",
       "        /* gets rid of default border in Firefox and Opera. */\n",
       "        border: none;\n",
       "        /* Needs to be in here for Safari polyfill so background images work as expected. */\n",
       "        background-size: auto;\n",
       "    }\n",
       "    progress:not([value]), progress:not([value])::-webkit-progress-bar {\n",
       "        background: repeating-linear-gradient(45deg, #7e7e7e, #7e7e7e 10px, #5c5c5c 10px, #5c5c5c 20px);\n",
       "    }\n",
       "    .progress-bar-interrupted, .progress-bar-interrupted::-webkit-progress-bar {\n",
       "        background: #F44336;\n",
       "    }\n",
       "</style>\n"
      ],
      "text/plain": [
       "<IPython.core.display.HTML object>"
      ]
     },
     "metadata": {},
     "output_type": "display_data"
    },
    {
     "data": {
      "text/html": [
       "\n",
       "    <div>\n",
       "      <progress value='2000' class='' max='2000' style='width:300px; height:20px; vertical-align: middle;'></progress>\n",
       "      100.00% [2000/2000 00:01&lt;00:00]\n",
       "    </div>\n",
       "    "
      ],
      "text/plain": [
       "<IPython.core.display.HTML object>"
      ]
     },
     "metadata": {},
     "output_type": "display_data"
    },
    {
     "name": "stdout",
     "output_type": "stream",
     "text": [
      "Done computing zscores in 2.317782163619995 seconds\n"
     ]
    },
    {
     "name": "stderr",
     "output_type": "stream",
     "text": [
      "Sampling: [y_like]\n"
     ]
    },
    {
     "name": "stdout",
     "output_type": "stream",
     "text": [
      "Computing zscores for NM_0_0_estimate.pkl\n",
      "SHASHo\n",
      "slope_mu <class 'pcntoolkit.model.hbr.FixedParameterization'>\n",
      "intercept_mu <class 'pcntoolkit.model.hbr.NonCentralRandomFixedParameterization'>\n",
      "mu <class 'pcntoolkit.model.hbr.LinearParameterization'>\n",
      "slope_sigma <class 'pcntoolkit.model.hbr.FixedParameterization'>\n",
      "intercept_sigma <class 'pcntoolkit.model.hbr.FixedParameterization'>\n",
      "sigma <class 'pcntoolkit.model.hbr.LinearParameterization'>\n",
      "epsilon <class 'pcntoolkit.model.hbr.FixedParameterization'>\n",
      "delta <class 'pcntoolkit.model.hbr.FixedParameterization'>\n"
     ]
    },
    {
     "data": {
      "text/html": [
       "\n",
       "<style>\n",
       "    /* Turns off some styling */\n",
       "    progress {\n",
       "        /* gets rid of default border in Firefox and Opera. */\n",
       "        border: none;\n",
       "        /* Needs to be in here for Safari polyfill so background images work as expected. */\n",
       "        background-size: auto;\n",
       "    }\n",
       "    progress:not([value]), progress:not([value])::-webkit-progress-bar {\n",
       "        background: repeating-linear-gradient(45deg, #7e7e7e, #7e7e7e 10px, #5c5c5c 10px, #5c5c5c 20px);\n",
       "    }\n",
       "    .progress-bar-interrupted, .progress-bar-interrupted::-webkit-progress-bar {\n",
       "        background: #F44336;\n",
       "    }\n",
       "</style>\n"
      ],
      "text/plain": [
       "<IPython.core.display.HTML object>"
      ]
     },
     "metadata": {},
     "output_type": "display_data"
    },
    {
     "data": {
      "text/html": [
       "\n",
       "    <div>\n",
       "      <progress value='2000' class='' max='2000' style='width:300px; height:20px; vertical-align: middle;'></progress>\n",
       "      100.00% [2000/2000 00:02&lt;00:00]\n",
       "    </div>\n",
       "    "
      ],
      "text/plain": [
       "<IPython.core.display.HTML object>"
      ]
     },
     "metadata": {},
     "output_type": "display_data"
    },
    {
     "name": "stdout",
     "output_type": "stream",
     "text": [
      "Done computing zscores in 3.7171084880828857 seconds\n"
     ]
    },
    {
     "name": "stderr",
     "output_type": "stream",
     "text": [
      "Sampling: [y_like]\n"
     ]
    },
    {
     "name": "stdout",
     "output_type": "stream",
     "text": [
      "Computing zscores for NM_0_0_estimate.pkl\n",
      "SHASHb\n",
      "slope_mu <class 'pcntoolkit.model.hbr.FixedParameterization'>\n",
      "intercept_mu <class 'pcntoolkit.model.hbr.NonCentralRandomFixedParameterization'>\n",
      "mu <class 'pcntoolkit.model.hbr.LinearParameterization'>\n",
      "slope_sigma <class 'pcntoolkit.model.hbr.FixedParameterization'>\n",
      "intercept_sigma <class 'pcntoolkit.model.hbr.FixedParameterization'>\n",
      "sigma <class 'pcntoolkit.model.hbr.LinearParameterization'>\n",
      "epsilon <class 'pcntoolkit.model.hbr.FixedParameterization'>\n",
      "delta <class 'pcntoolkit.model.hbr.FixedParameterization'>\n"
     ]
    },
    {
     "data": {
      "text/html": [
       "\n",
       "<style>\n",
       "    /* Turns off some styling */\n",
       "    progress {\n",
       "        /* gets rid of default border in Firefox and Opera. */\n",
       "        border: none;\n",
       "        /* Needs to be in here for Safari polyfill so background images work as expected. */\n",
       "        background-size: auto;\n",
       "    }\n",
       "    progress:not([value]), progress:not([value])::-webkit-progress-bar {\n",
       "        background: repeating-linear-gradient(45deg, #7e7e7e, #7e7e7e 10px, #5c5c5c 10px, #5c5c5c 20px);\n",
       "    }\n",
       "    .progress-bar-interrupted, .progress-bar-interrupted::-webkit-progress-bar {\n",
       "        background: #F44336;\n",
       "    }\n",
       "</style>\n"
      ],
      "text/plain": [
       "<IPython.core.display.HTML object>"
      ]
     },
     "metadata": {},
     "output_type": "display_data"
    },
    {
     "data": {
      "text/html": [
       "\n",
       "    <div>\n",
       "      <progress value='2000' class='' max='2000' style='width:300px; height:20px; vertical-align: middle;'></progress>\n",
       "      100.00% [2000/2000 00:03&lt;00:00]\n",
       "    </div>\n",
       "    "
      ],
      "text/plain": [
       "<IPython.core.display.HTML object>"
      ]
     },
     "metadata": {},
     "output_type": "display_data"
    },
    {
     "name": "stdout",
     "output_type": "stream",
     "text": [
      "Done computing zscores in 4.529466867446899 seconds\n",
      "Computing zscores for NM_0_0_estimate.pkl\n",
      "SHASHb\n",
      "slope_mu <class 'pcntoolkit.model.hbr.FixedParameterization'>\n",
      "intercept_mu <class 'pcntoolkit.model.hbr.NonCentralRandomFixedParameterization'>\n",
      "mu <class 'pcntoolkit.model.hbr.LinearParameterization'>\n",
      "slope_sigma <class 'pcntoolkit.model.hbr.FixedParameterization'>\n",
      "intercept_sigma <class 'pcntoolkit.model.hbr.FixedParameterization'>\n",
      "sigma <class 'pcntoolkit.model.hbr.LinearParameterization'>\n",
      "slope_epsilon <class 'pcntoolkit.model.hbr.FixedParameterization'>\n",
      "intercept_epsilon <class 'pcntoolkit.model.hbr.FixedParameterization'>\n",
      "epsilon <class 'pcntoolkit.model.hbr.LinearParameterization'>\n",
      "slope_delta <class 'pcntoolkit.model.hbr.FixedParameterization'>\n",
      "intercept_delta <class 'pcntoolkit.model.hbr.FixedParameterization'>\n",
      "delta <class 'pcntoolkit.model.hbr.LinearParameterization'>\n"
     ]
    },
    {
     "name": "stderr",
     "output_type": "stream",
     "text": [
      "Sampling: [y_like]\n"
     ]
    },
    {
     "data": {
      "text/html": [
       "\n",
       "<style>\n",
       "    /* Turns off some styling */\n",
       "    progress {\n",
       "        /* gets rid of default border in Firefox and Opera. */\n",
       "        border: none;\n",
       "        /* Needs to be in here for Safari polyfill so background images work as expected. */\n",
       "        background-size: auto;\n",
       "    }\n",
       "    progress:not([value]), progress:not([value])::-webkit-progress-bar {\n",
       "        background: repeating-linear-gradient(45deg, #7e7e7e, #7e7e7e 10px, #5c5c5c 10px, #5c5c5c 20px);\n",
       "    }\n",
       "    .progress-bar-interrupted, .progress-bar-interrupted::-webkit-progress-bar {\n",
       "        background: #F44336;\n",
       "    }\n",
       "</style>\n"
      ],
      "text/plain": [
       "<IPython.core.display.HTML object>"
      ]
     },
     "metadata": {},
     "output_type": "display_data"
    },
    {
     "data": {
      "text/html": [
       "\n",
       "    <div>\n",
       "      <progress value='2000' class='' max='2000' style='width:300px; height:20px; vertical-align: middle;'></progress>\n",
       "      100.00% [2000/2000 00:11&lt;00:00]\n",
       "    </div>\n",
       "    "
      ],
      "text/plain": [
       "<IPython.core.display.HTML object>"
      ]
     },
     "metadata": {},
     "output_type": "display_data"
    },
    {
     "name": "stdout",
     "output_type": "stream",
     "text": [
      "Done computing zscores in 40.38570713996887 seconds\n"
     ]
    },
    {
     "name": "stderr",
     "output_type": "stream",
     "text": [
      "Sampling: [y_like]\n"
     ]
    },
    {
     "name": "stdout",
     "output_type": "stream",
     "text": [
      "Computing zscores for NM_0_0_estimate.pkl\n",
      "Normal\n",
      "slope_mu <class 'pcntoolkit.model.hbr.FixedParameterization'>\n",
      "intercept_mu <class 'pcntoolkit.model.hbr.NonCentralRandomFixedParameterization'>\n",
      "mu <class 'pcntoolkit.model.hbr.LinearParameterization'>\n",
      "slope_sigma <class 'pcntoolkit.model.hbr.FixedParameterization'>\n",
      "intercept_sigma <class 'pcntoolkit.model.hbr.FixedParameterization'>\n",
      "sigma <class 'pcntoolkit.model.hbr.LinearParameterization'>\n"
     ]
    },
    {
     "data": {
      "text/html": [
       "\n",
       "<style>\n",
       "    /* Turns off some styling */\n",
       "    progress {\n",
       "        /* gets rid of default border in Firefox and Opera. */\n",
       "        border: none;\n",
       "        /* Needs to be in here for Safari polyfill so background images work as expected. */\n",
       "        background-size: auto;\n",
       "    }\n",
       "    progress:not([value]), progress:not([value])::-webkit-progress-bar {\n",
       "        background: repeating-linear-gradient(45deg, #7e7e7e, #7e7e7e 10px, #5c5c5c 10px, #5c5c5c 20px);\n",
       "    }\n",
       "    .progress-bar-interrupted, .progress-bar-interrupted::-webkit-progress-bar {\n",
       "        background: #F44336;\n",
       "    }\n",
       "</style>\n"
      ],
      "text/plain": [
       "<IPython.core.display.HTML object>"
      ]
     },
     "metadata": {},
     "output_type": "display_data"
    },
    {
     "data": {
      "text/html": [
       "\n",
       "    <div>\n",
       "      <progress value='2000' class='' max='2000' style='width:300px; height:20px; vertical-align: middle;'></progress>\n",
       "      100.00% [2000/2000 00:01&lt;00:00]\n",
       "    </div>\n",
       "    "
      ],
      "text/plain": [
       "<IPython.core.display.HTML object>"
      ]
     },
     "metadata": {},
     "output_type": "display_data"
    },
    {
     "name": "stdout",
     "output_type": "stream",
     "text": [
      "Done computing zscores in 2.210786819458008 seconds\n"
     ]
    },
    {
     "name": "stderr",
     "output_type": "stream",
     "text": [
      "Sampling: [y_like]\n"
     ]
    },
    {
     "name": "stdout",
     "output_type": "stream",
     "text": [
      "Computing zscores for NM_0_0_estimate.pkl\n",
      "SHASHo\n",
      "slope_mu <class 'pcntoolkit.model.hbr.FixedParameterization'>\n",
      "intercept_mu <class 'pcntoolkit.model.hbr.NonCentralRandomFixedParameterization'>\n",
      "mu <class 'pcntoolkit.model.hbr.LinearParameterization'>\n",
      "slope_sigma <class 'pcntoolkit.model.hbr.FixedParameterization'>\n",
      "intercept_sigma <class 'pcntoolkit.model.hbr.FixedParameterization'>\n",
      "sigma <class 'pcntoolkit.model.hbr.LinearParameterization'>\n",
      "epsilon <class 'pcntoolkit.model.hbr.FixedParameterization'>\n",
      "delta <class 'pcntoolkit.model.hbr.FixedParameterization'>\n"
     ]
    },
    {
     "data": {
      "text/html": [
       "\n",
       "<style>\n",
       "    /* Turns off some styling */\n",
       "    progress {\n",
       "        /* gets rid of default border in Firefox and Opera. */\n",
       "        border: none;\n",
       "        /* Needs to be in here for Safari polyfill so background images work as expected. */\n",
       "        background-size: auto;\n",
       "    }\n",
       "    progress:not([value]), progress:not([value])::-webkit-progress-bar {\n",
       "        background: repeating-linear-gradient(45deg, #7e7e7e, #7e7e7e 10px, #5c5c5c 10px, #5c5c5c 20px);\n",
       "    }\n",
       "    .progress-bar-interrupted, .progress-bar-interrupted::-webkit-progress-bar {\n",
       "        background: #F44336;\n",
       "    }\n",
       "</style>\n"
      ],
      "text/plain": [
       "<IPython.core.display.HTML object>"
      ]
     },
     "metadata": {},
     "output_type": "display_data"
    },
    {
     "data": {
      "text/html": [
       "\n",
       "    <div>\n",
       "      <progress value='2000' class='' max='2000' style='width:300px; height:20px; vertical-align: middle;'></progress>\n",
       "      100.00% [2000/2000 00:02&lt;00:00]\n",
       "    </div>\n",
       "    "
      ],
      "text/plain": [
       "<IPython.core.display.HTML object>"
      ]
     },
     "metadata": {},
     "output_type": "display_data"
    },
    {
     "name": "stdout",
     "output_type": "stream",
     "text": [
      "Done computing zscores in 3.8241350650787354 seconds\n",
      "Computing zscores for NM_0_0_estimate.pkl\n",
      "SHASHb\n",
      "slope_mu <class 'pcntoolkit.model.hbr.FixedParameterization'>\n",
      "intercept_mu <class 'pcntoolkit.model.hbr.NonCentralRandomFixedParameterization'>\n",
      "mu <class 'pcntoolkit.model.hbr.LinearParameterization'>\n",
      "slope_sigma <class 'pcntoolkit.model.hbr.FixedParameterization'>\n",
      "intercept_sigma <class 'pcntoolkit.model.hbr.FixedParameterization'>\n",
      "sigma <class 'pcntoolkit.model.hbr.LinearParameterization'>\n",
      "epsilon <class 'pcntoolkit.model.hbr.FixedParameterization'>\n",
      "delta <class 'pcntoolkit.model.hbr.FixedParameterization'>\n"
     ]
    },
    {
     "name": "stderr",
     "output_type": "stream",
     "text": [
      "Sampling: [y_like]\n"
     ]
    },
    {
     "data": {
      "text/html": [
       "\n",
       "<style>\n",
       "    /* Turns off some styling */\n",
       "    progress {\n",
       "        /* gets rid of default border in Firefox and Opera. */\n",
       "        border: none;\n",
       "        /* Needs to be in here for Safari polyfill so background images work as expected. */\n",
       "        background-size: auto;\n",
       "    }\n",
       "    progress:not([value]), progress:not([value])::-webkit-progress-bar {\n",
       "        background: repeating-linear-gradient(45deg, #7e7e7e, #7e7e7e 10px, #5c5c5c 10px, #5c5c5c 20px);\n",
       "    }\n",
       "    .progress-bar-interrupted, .progress-bar-interrupted::-webkit-progress-bar {\n",
       "        background: #F44336;\n",
       "    }\n",
       "</style>\n"
      ],
      "text/plain": [
       "<IPython.core.display.HTML object>"
      ]
     },
     "metadata": {},
     "output_type": "display_data"
    },
    {
     "data": {
      "text/html": [
       "\n",
       "    <div>\n",
       "      <progress value='2000' class='' max='2000' style='width:300px; height:20px; vertical-align: middle;'></progress>\n",
       "      100.00% [2000/2000 00:02&lt;00:00]\n",
       "    </div>\n",
       "    "
      ],
      "text/plain": [
       "<IPython.core.display.HTML object>"
      ]
     },
     "metadata": {},
     "output_type": "display_data"
    },
    {
     "name": "stdout",
     "output_type": "stream",
     "text": [
      "Done computing zscores in 4.493407487869263 seconds\n",
      "Computing zscores for NM_0_0_estimate.pkl\n",
      "SHASHb\n",
      "slope_mu <class 'pcntoolkit.model.hbr.FixedParameterization'>\n",
      "intercept_mu <class 'pcntoolkit.model.hbr.NonCentralRandomFixedParameterization'>\n",
      "mu <class 'pcntoolkit.model.hbr.LinearParameterization'>\n",
      "slope_sigma <class 'pcntoolkit.model.hbr.FixedParameterization'>\n",
      "intercept_sigma <class 'pcntoolkit.model.hbr.FixedParameterization'>\n",
      "sigma <class 'pcntoolkit.model.hbr.LinearParameterization'>\n",
      "slope_epsilon <class 'pcntoolkit.model.hbr.FixedParameterization'>\n",
      "intercept_epsilon <class 'pcntoolkit.model.hbr.FixedParameterization'>\n",
      "epsilon <class 'pcntoolkit.model.hbr.LinearParameterization'>\n",
      "slope_delta <class 'pcntoolkit.model.hbr.FixedParameterization'>\n",
      "intercept_delta <class 'pcntoolkit.model.hbr.FixedParameterization'>\n",
      "delta <class 'pcntoolkit.model.hbr.LinearParameterization'>\n"
     ]
    },
    {
     "name": "stderr",
     "output_type": "stream",
     "text": [
      "Sampling: [y_like]\n"
     ]
    },
    {
     "data": {
      "text/html": [
       "\n",
       "<style>\n",
       "    /* Turns off some styling */\n",
       "    progress {\n",
       "        /* gets rid of default border in Firefox and Opera. */\n",
       "        border: none;\n",
       "        /* Needs to be in here for Safari polyfill so background images work as expected. */\n",
       "        background-size: auto;\n",
       "    }\n",
       "    progress:not([value]), progress:not([value])::-webkit-progress-bar {\n",
       "        background: repeating-linear-gradient(45deg, #7e7e7e, #7e7e7e 10px, #5c5c5c 10px, #5c5c5c 20px);\n",
       "    }\n",
       "    .progress-bar-interrupted, .progress-bar-interrupted::-webkit-progress-bar {\n",
       "        background: #F44336;\n",
       "    }\n",
       "</style>\n"
      ],
      "text/plain": [
       "<IPython.core.display.HTML object>"
      ]
     },
     "metadata": {},
     "output_type": "display_data"
    },
    {
     "data": {
      "text/html": [
       "\n",
       "    <div>\n",
       "      <progress value='2000' class='' max='2000' style='width:300px; height:20px; vertical-align: middle;'></progress>\n",
       "      100.00% [2000/2000 00:11&lt;00:00]\n",
       "    </div>\n",
       "    "
      ],
      "text/plain": [
       "<IPython.core.display.HTML object>"
      ]
     },
     "metadata": {},
     "output_type": "display_data"
    },
    {
     "name": "stdout",
     "output_type": "stream",
     "text": [
      "Done computing zscores in 39.28923487663269 seconds\n"
     ]
    },
    {
     "name": "stderr",
     "output_type": "stream",
     "text": [
      "Sampling: [y_like]\n"
     ]
    },
    {
     "name": "stdout",
     "output_type": "stream",
     "text": [
      "Computing zscores for NM_0_0_estimate.pkl\n",
      "Normal\n",
      "slope_mu <class 'pcntoolkit.model.hbr.FixedParameterization'>\n",
      "intercept_mu <class 'pcntoolkit.model.hbr.NonCentralRandomFixedParameterization'>\n",
      "mu <class 'pcntoolkit.model.hbr.LinearParameterization'>\n",
      "slope_sigma <class 'pcntoolkit.model.hbr.FixedParameterization'>\n",
      "intercept_sigma <class 'pcntoolkit.model.hbr.FixedParameterization'>\n",
      "sigma <class 'pcntoolkit.model.hbr.LinearParameterization'>\n"
     ]
    },
    {
     "data": {
      "text/html": [
       "\n",
       "<style>\n",
       "    /* Turns off some styling */\n",
       "    progress {\n",
       "        /* gets rid of default border in Firefox and Opera. */\n",
       "        border: none;\n",
       "        /* Needs to be in here for Safari polyfill so background images work as expected. */\n",
       "        background-size: auto;\n",
       "    }\n",
       "    progress:not([value]), progress:not([value])::-webkit-progress-bar {\n",
       "        background: repeating-linear-gradient(45deg, #7e7e7e, #7e7e7e 10px, #5c5c5c 10px, #5c5c5c 20px);\n",
       "    }\n",
       "    .progress-bar-interrupted, .progress-bar-interrupted::-webkit-progress-bar {\n",
       "        background: #F44336;\n",
       "    }\n",
       "</style>\n"
      ],
      "text/plain": [
       "<IPython.core.display.HTML object>"
      ]
     },
     "metadata": {},
     "output_type": "display_data"
    },
    {
     "data": {
      "text/html": [
       "\n",
       "    <div>\n",
       "      <progress value='2000' class='' max='2000' style='width:300px; height:20px; vertical-align: middle;'></progress>\n",
       "      100.00% [2000/2000 00:01&lt;00:00]\n",
       "    </div>\n",
       "    "
      ],
      "text/plain": [
       "<IPython.core.display.HTML object>"
      ]
     },
     "metadata": {},
     "output_type": "display_data"
    },
    {
     "name": "stdout",
     "output_type": "stream",
     "text": [
      "Done computing zscores in 2.1594841480255127 seconds\n",
      "Computing zscores for NM_0_0_estimate.pkl\n",
      "SHASHo\n",
      "slope_mu <class 'pcntoolkit.model.hbr.FixedParameterization'>\n",
      "intercept_mu <class 'pcntoolkit.model.hbr.NonCentralRandomFixedParameterization'>\n",
      "mu <class 'pcntoolkit.model.hbr.LinearParameterization'>\n",
      "slope_sigma <class 'pcntoolkit.model.hbr.FixedParameterization'>\n",
      "intercept_sigma <class 'pcntoolkit.model.hbr.FixedParameterization'>\n",
      "sigma <class 'pcntoolkit.model.hbr.LinearParameterization'>\n",
      "epsilon <class 'pcntoolkit.model.hbr.FixedParameterization'>\n",
      "delta <class 'pcntoolkit.model.hbr.FixedParameterization'>\n"
     ]
    },
    {
     "name": "stderr",
     "output_type": "stream",
     "text": [
      "Sampling: [y_like]\n"
     ]
    },
    {
     "data": {
      "text/html": [
       "\n",
       "<style>\n",
       "    /* Turns off some styling */\n",
       "    progress {\n",
       "        /* gets rid of default border in Firefox and Opera. */\n",
       "        border: none;\n",
       "        /* Needs to be in here for Safari polyfill so background images work as expected. */\n",
       "        background-size: auto;\n",
       "    }\n",
       "    progress:not([value]), progress:not([value])::-webkit-progress-bar {\n",
       "        background: repeating-linear-gradient(45deg, #7e7e7e, #7e7e7e 10px, #5c5c5c 10px, #5c5c5c 20px);\n",
       "    }\n",
       "    .progress-bar-interrupted, .progress-bar-interrupted::-webkit-progress-bar {\n",
       "        background: #F44336;\n",
       "    }\n",
       "</style>\n"
      ],
      "text/plain": [
       "<IPython.core.display.HTML object>"
      ]
     },
     "metadata": {},
     "output_type": "display_data"
    },
    {
     "data": {
      "text/html": [
       "\n",
       "    <div>\n",
       "      <progress value='2000' class='' max='2000' style='width:300px; height:20px; vertical-align: middle;'></progress>\n",
       "      100.00% [2000/2000 00:02&lt;00:00]\n",
       "    </div>\n",
       "    "
      ],
      "text/plain": [
       "<IPython.core.display.HTML object>"
      ]
     },
     "metadata": {},
     "output_type": "display_data"
    },
    {
     "name": "stdout",
     "output_type": "stream",
     "text": [
      "Done computing zscores in 3.995821952819824 seconds\n",
      "Computing zscores for NM_0_0_estimate.pkl\n",
      "SHASHb\n",
      "slope_mu <class 'pcntoolkit.model.hbr.FixedParameterization'>\n",
      "intercept_mu <class 'pcntoolkit.model.hbr.NonCentralRandomFixedParameterization'>\n",
      "mu <class 'pcntoolkit.model.hbr.LinearParameterization'>\n",
      "slope_sigma <class 'pcntoolkit.model.hbr.FixedParameterization'>\n",
      "intercept_sigma <class 'pcntoolkit.model.hbr.FixedParameterization'>\n",
      "sigma <class 'pcntoolkit.model.hbr.LinearParameterization'>\n",
      "epsilon <class 'pcntoolkit.model.hbr.FixedParameterization'>\n",
      "delta <class 'pcntoolkit.model.hbr.FixedParameterization'>\n"
     ]
    },
    {
     "name": "stderr",
     "output_type": "stream",
     "text": [
      "Sampling: [y_like]\n"
     ]
    },
    {
     "data": {
      "text/html": [
       "\n",
       "<style>\n",
       "    /* Turns off some styling */\n",
       "    progress {\n",
       "        /* gets rid of default border in Firefox and Opera. */\n",
       "        border: none;\n",
       "        /* Needs to be in here for Safari polyfill so background images work as expected. */\n",
       "        background-size: auto;\n",
       "    }\n",
       "    progress:not([value]), progress:not([value])::-webkit-progress-bar {\n",
       "        background: repeating-linear-gradient(45deg, #7e7e7e, #7e7e7e 10px, #5c5c5c 10px, #5c5c5c 20px);\n",
       "    }\n",
       "    .progress-bar-interrupted, .progress-bar-interrupted::-webkit-progress-bar {\n",
       "        background: #F44336;\n",
       "    }\n",
       "</style>\n"
      ],
      "text/plain": [
       "<IPython.core.display.HTML object>"
      ]
     },
     "metadata": {},
     "output_type": "display_data"
    },
    {
     "data": {
      "text/html": [
       "\n",
       "    <div>\n",
       "      <progress value='2000' class='' max='2000' style='width:300px; height:20px; vertical-align: middle;'></progress>\n",
       "      100.00% [2000/2000 00:03&lt;00:00]\n",
       "    </div>\n",
       "    "
      ],
      "text/plain": [
       "<IPython.core.display.HTML object>"
      ]
     },
     "metadata": {},
     "output_type": "display_data"
    },
    {
     "name": "stdout",
     "output_type": "stream",
     "text": [
      "Done computing zscores in 4.843195915222168 seconds\n",
      "Computing zscores for NM_0_0_estimate.pkl\n",
      "SHASHb\n",
      "slope_mu <class 'pcntoolkit.model.hbr.FixedParameterization'>\n",
      "intercept_mu <class 'pcntoolkit.model.hbr.NonCentralRandomFixedParameterization'>\n",
      "mu <class 'pcntoolkit.model.hbr.LinearParameterization'>\n",
      "slope_sigma <class 'pcntoolkit.model.hbr.FixedParameterization'>\n",
      "intercept_sigma <class 'pcntoolkit.model.hbr.FixedParameterization'>\n",
      "sigma <class 'pcntoolkit.model.hbr.LinearParameterization'>\n",
      "slope_epsilon <class 'pcntoolkit.model.hbr.FixedParameterization'>\n",
      "intercept_epsilon <class 'pcntoolkit.model.hbr.FixedParameterization'>\n",
      "epsilon <class 'pcntoolkit.model.hbr.LinearParameterization'>\n",
      "slope_delta <class 'pcntoolkit.model.hbr.FixedParameterization'>\n",
      "intercept_delta <class 'pcntoolkit.model.hbr.FixedParameterization'>\n",
      "delta <class 'pcntoolkit.model.hbr.LinearParameterization'>\n"
     ]
    },
    {
     "name": "stderr",
     "output_type": "stream",
     "text": [
      "Sampling: [y_like]\n"
     ]
    },
    {
     "data": {
      "text/html": [
       "\n",
       "<style>\n",
       "    /* Turns off some styling */\n",
       "    progress {\n",
       "        /* gets rid of default border in Firefox and Opera. */\n",
       "        border: none;\n",
       "        /* Needs to be in here for Safari polyfill so background images work as expected. */\n",
       "        background-size: auto;\n",
       "    }\n",
       "    progress:not([value]), progress:not([value])::-webkit-progress-bar {\n",
       "        background: repeating-linear-gradient(45deg, #7e7e7e, #7e7e7e 10px, #5c5c5c 10px, #5c5c5c 20px);\n",
       "    }\n",
       "    .progress-bar-interrupted, .progress-bar-interrupted::-webkit-progress-bar {\n",
       "        background: #F44336;\n",
       "    }\n",
       "</style>\n"
      ],
      "text/plain": [
       "<IPython.core.display.HTML object>"
      ]
     },
     "metadata": {},
     "output_type": "display_data"
    },
    {
     "data": {
      "text/html": [
       "\n",
       "    <div>\n",
       "      <progress value='2000' class='' max='2000' style='width:300px; height:20px; vertical-align: middle;'></progress>\n",
       "      100.00% [2000/2000 00:11&lt;00:00]\n",
       "    </div>\n",
       "    "
      ],
      "text/plain": [
       "<IPython.core.display.HTML object>"
      ]
     },
     "metadata": {},
     "output_type": "display_data"
    },
    {
     "name": "stdout",
     "output_type": "stream",
     "text": [
      "Done computing zscores in 37.4924840927124 seconds\n"
     ]
    },
    {
     "name": "stderr",
     "output_type": "stream",
     "text": [
      "Sampling: [y_like]\n"
     ]
    },
    {
     "name": "stdout",
     "output_type": "stream",
     "text": [
      "Computing zscores for NM_0_0_estimate.pkl\n",
      "Normal\n",
      "slope_mu <class 'pcntoolkit.model.hbr.FixedParameterization'>\n",
      "intercept_mu <class 'pcntoolkit.model.hbr.NonCentralRandomFixedParameterization'>\n",
      "mu <class 'pcntoolkit.model.hbr.LinearParameterization'>\n",
      "slope_sigma <class 'pcntoolkit.model.hbr.FixedParameterization'>\n",
      "intercept_sigma <class 'pcntoolkit.model.hbr.FixedParameterization'>\n",
      "sigma <class 'pcntoolkit.model.hbr.LinearParameterization'>\n"
     ]
    },
    {
     "data": {
      "text/html": [
       "\n",
       "<style>\n",
       "    /* Turns off some styling */\n",
       "    progress {\n",
       "        /* gets rid of default border in Firefox and Opera. */\n",
       "        border: none;\n",
       "        /* Needs to be in here for Safari polyfill so background images work as expected. */\n",
       "        background-size: auto;\n",
       "    }\n",
       "    progress:not([value]), progress:not([value])::-webkit-progress-bar {\n",
       "        background: repeating-linear-gradient(45deg, #7e7e7e, #7e7e7e 10px, #5c5c5c 10px, #5c5c5c 20px);\n",
       "    }\n",
       "    .progress-bar-interrupted, .progress-bar-interrupted::-webkit-progress-bar {\n",
       "        background: #F44336;\n",
       "    }\n",
       "</style>\n"
      ],
      "text/plain": [
       "<IPython.core.display.HTML object>"
      ]
     },
     "metadata": {},
     "output_type": "display_data"
    },
    {
     "data": {
      "text/html": [
       "\n",
       "    <div>\n",
       "      <progress value='2000' class='' max='2000' style='width:300px; height:20px; vertical-align: middle;'></progress>\n",
       "      100.00% [2000/2000 00:01&lt;00:00]\n",
       "    </div>\n",
       "    "
      ],
      "text/plain": [
       "<IPython.core.display.HTML object>"
      ]
     },
     "metadata": {},
     "output_type": "display_data"
    },
    {
     "name": "stdout",
     "output_type": "stream",
     "text": [
      "Done computing zscores in 2.4010305404663086 seconds\n",
      "Computing zscores for NM_0_0_estimate.pkl\n",
      "SHASHo\n",
      "slope_mu <class 'pcntoolkit.model.hbr.FixedParameterization'>\n",
      "intercept_mu <class 'pcntoolkit.model.hbr.NonCentralRandomFixedParameterization'>\n",
      "mu <class 'pcntoolkit.model.hbr.LinearParameterization'>\n",
      "slope_sigma <class 'pcntoolkit.model.hbr.FixedParameterization'>\n",
      "intercept_sigma <class 'pcntoolkit.model.hbr.FixedParameterization'>\n",
      "sigma <class 'pcntoolkit.model.hbr.LinearParameterization'>\n",
      "epsilon <class 'pcntoolkit.model.hbr.FixedParameterization'>\n",
      "delta <class 'pcntoolkit.model.hbr.FixedParameterization'>\n"
     ]
    },
    {
     "name": "stderr",
     "output_type": "stream",
     "text": [
      "Sampling: [y_like]\n"
     ]
    },
    {
     "data": {
      "text/html": [
       "\n",
       "<style>\n",
       "    /* Turns off some styling */\n",
       "    progress {\n",
       "        /* gets rid of default border in Firefox and Opera. */\n",
       "        border: none;\n",
       "        /* Needs to be in here for Safari polyfill so background images work as expected. */\n",
       "        background-size: auto;\n",
       "    }\n",
       "    progress:not([value]), progress:not([value])::-webkit-progress-bar {\n",
       "        background: repeating-linear-gradient(45deg, #7e7e7e, #7e7e7e 10px, #5c5c5c 10px, #5c5c5c 20px);\n",
       "    }\n",
       "    .progress-bar-interrupted, .progress-bar-interrupted::-webkit-progress-bar {\n",
       "        background: #F44336;\n",
       "    }\n",
       "</style>\n"
      ],
      "text/plain": [
       "<IPython.core.display.HTML object>"
      ]
     },
     "metadata": {},
     "output_type": "display_data"
    },
    {
     "data": {
      "text/html": [
       "\n",
       "    <div>\n",
       "      <progress value='2000' class='' max='2000' style='width:300px; height:20px; vertical-align: middle;'></progress>\n",
       "      100.00% [2000/2000 00:02&lt;00:00]\n",
       "    </div>\n",
       "    "
      ],
      "text/plain": [
       "<IPython.core.display.HTML object>"
      ]
     },
     "metadata": {},
     "output_type": "display_data"
    },
    {
     "name": "stdout",
     "output_type": "stream",
     "text": [
      "Done computing zscores in 4.158363103866577 seconds\n",
      "Computing zscores for NM_0_0_estimate.pkl\n",
      "SHASHb\n",
      "slope_mu <class 'pcntoolkit.model.hbr.FixedParameterization'>\n",
      "intercept_mu <class 'pcntoolkit.model.hbr.NonCentralRandomFixedParameterization'>\n",
      "mu <class 'pcntoolkit.model.hbr.LinearParameterization'>\n",
      "slope_sigma <class 'pcntoolkit.model.hbr.FixedParameterization'>\n",
      "intercept_sigma <class 'pcntoolkit.model.hbr.FixedParameterization'>\n",
      "sigma <class 'pcntoolkit.model.hbr.LinearParameterization'>\n",
      "epsilon <class 'pcntoolkit.model.hbr.FixedParameterization'>\n",
      "delta <class 'pcntoolkit.model.hbr.FixedParameterization'>\n"
     ]
    },
    {
     "name": "stderr",
     "output_type": "stream",
     "text": [
      "Sampling: [y_like]\n"
     ]
    },
    {
     "data": {
      "text/html": [
       "\n",
       "<style>\n",
       "    /* Turns off some styling */\n",
       "    progress {\n",
       "        /* gets rid of default border in Firefox and Opera. */\n",
       "        border: none;\n",
       "        /* Needs to be in here for Safari polyfill so background images work as expected. */\n",
       "        background-size: auto;\n",
       "    }\n",
       "    progress:not([value]), progress:not([value])::-webkit-progress-bar {\n",
       "        background: repeating-linear-gradient(45deg, #7e7e7e, #7e7e7e 10px, #5c5c5c 10px, #5c5c5c 20px);\n",
       "    }\n",
       "    .progress-bar-interrupted, .progress-bar-interrupted::-webkit-progress-bar {\n",
       "        background: #F44336;\n",
       "    }\n",
       "</style>\n"
      ],
      "text/plain": [
       "<IPython.core.display.HTML object>"
      ]
     },
     "metadata": {},
     "output_type": "display_data"
    },
    {
     "data": {
      "text/html": [
       "\n",
       "    <div>\n",
       "      <progress value='2000' class='' max='2000' style='width:300px; height:20px; vertical-align: middle;'></progress>\n",
       "      100.00% [2000/2000 00:03&lt;00:00]\n",
       "    </div>\n",
       "    "
      ],
      "text/plain": [
       "<IPython.core.display.HTML object>"
      ]
     },
     "metadata": {},
     "output_type": "display_data"
    },
    {
     "name": "stdout",
     "output_type": "stream",
     "text": [
      "Done computing zscores in 4.694221258163452 seconds\n",
      "Computing zscores for NM_0_0_estimate.pkl\n",
      "SHASHb\n",
      "slope_mu <class 'pcntoolkit.model.hbr.FixedParameterization'>\n",
      "intercept_mu <class 'pcntoolkit.model.hbr.NonCentralRandomFixedParameterization'>\n",
      "mu <class 'pcntoolkit.model.hbr.LinearParameterization'>\n",
      "slope_sigma <class 'pcntoolkit.model.hbr.FixedParameterization'>\n",
      "intercept_sigma <class 'pcntoolkit.model.hbr.FixedParameterization'>\n",
      "sigma <class 'pcntoolkit.model.hbr.LinearParameterization'>\n",
      "slope_epsilon <class 'pcntoolkit.model.hbr.FixedParameterization'>\n",
      "intercept_epsilon <class 'pcntoolkit.model.hbr.FixedParameterization'>\n",
      "epsilon <class 'pcntoolkit.model.hbr.LinearParameterization'>\n",
      "slope_delta <class 'pcntoolkit.model.hbr.FixedParameterization'>\n",
      "intercept_delta <class 'pcntoolkit.model.hbr.FixedParameterization'>\n",
      "delta <class 'pcntoolkit.model.hbr.LinearParameterization'>\n"
     ]
    },
    {
     "name": "stderr",
     "output_type": "stream",
     "text": [
      "Sampling: [y_like]\n"
     ]
    },
    {
     "data": {
      "text/html": [
       "\n",
       "<style>\n",
       "    /* Turns off some styling */\n",
       "    progress {\n",
       "        /* gets rid of default border in Firefox and Opera. */\n",
       "        border: none;\n",
       "        /* Needs to be in here for Safari polyfill so background images work as expected. */\n",
       "        background-size: auto;\n",
       "    }\n",
       "    progress:not([value]), progress:not([value])::-webkit-progress-bar {\n",
       "        background: repeating-linear-gradient(45deg, #7e7e7e, #7e7e7e 10px, #5c5c5c 10px, #5c5c5c 20px);\n",
       "    }\n",
       "    .progress-bar-interrupted, .progress-bar-interrupted::-webkit-progress-bar {\n",
       "        background: #F44336;\n",
       "    }\n",
       "</style>\n"
      ],
      "text/plain": [
       "<IPython.core.display.HTML object>"
      ]
     },
     "metadata": {},
     "output_type": "display_data"
    },
    {
     "data": {
      "text/html": [
       "\n",
       "    <div>\n",
       "      <progress value='2000' class='' max='2000' style='width:300px; height:20px; vertical-align: middle;'></progress>\n",
       "      100.00% [2000/2000 00:11&lt;00:00]\n",
       "    </div>\n",
       "    "
      ],
      "text/plain": [
       "<IPython.core.display.HTML object>"
      ]
     },
     "metadata": {},
     "output_type": "display_data"
    },
    {
     "name": "stdout",
     "output_type": "stream",
     "text": [
      "Done computing zscores in 38.9265501499176 seconds\n"
     ]
    },
    {
     "name": "stderr",
     "output_type": "stream",
     "text": [
      "Sampling: [y_like]\n"
     ]
    },
    {
     "name": "stdout",
     "output_type": "stream",
     "text": [
      "Computing zscores for NM_0_0_estimate.pkl\n",
      "Normal\n",
      "slope_mu <class 'pcntoolkit.model.hbr.FixedParameterization'>\n",
      "intercept_mu <class 'pcntoolkit.model.hbr.NonCentralRandomFixedParameterization'>\n",
      "mu <class 'pcntoolkit.model.hbr.LinearParameterization'>\n",
      "slope_sigma <class 'pcntoolkit.model.hbr.FixedParameterization'>\n",
      "intercept_sigma <class 'pcntoolkit.model.hbr.FixedParameterization'>\n",
      "sigma <class 'pcntoolkit.model.hbr.LinearParameterization'>\n"
     ]
    },
    {
     "data": {
      "text/html": [
       "\n",
       "<style>\n",
       "    /* Turns off some styling */\n",
       "    progress {\n",
       "        /* gets rid of default border in Firefox and Opera. */\n",
       "        border: none;\n",
       "        /* Needs to be in here for Safari polyfill so background images work as expected. */\n",
       "        background-size: auto;\n",
       "    }\n",
       "    progress:not([value]), progress:not([value])::-webkit-progress-bar {\n",
       "        background: repeating-linear-gradient(45deg, #7e7e7e, #7e7e7e 10px, #5c5c5c 10px, #5c5c5c 20px);\n",
       "    }\n",
       "    .progress-bar-interrupted, .progress-bar-interrupted::-webkit-progress-bar {\n",
       "        background: #F44336;\n",
       "    }\n",
       "</style>\n"
      ],
      "text/plain": [
       "<IPython.core.display.HTML object>"
      ]
     },
     "metadata": {},
     "output_type": "display_data"
    },
    {
     "data": {
      "text/html": [
       "\n",
       "    <div>\n",
       "      <progress value='2000' class='' max='2000' style='width:300px; height:20px; vertical-align: middle;'></progress>\n",
       "      100.00% [2000/2000 00:01&lt;00:00]\n",
       "    </div>\n",
       "    "
      ],
      "text/plain": [
       "<IPython.core.display.HTML object>"
      ]
     },
     "metadata": {},
     "output_type": "display_data"
    },
    {
     "name": "stdout",
     "output_type": "stream",
     "text": [
      "Done computing zscores in 2.248241901397705 seconds\n"
     ]
    },
    {
     "name": "stderr",
     "output_type": "stream",
     "text": [
      "Sampling: [y_like]\n"
     ]
    },
    {
     "name": "stdout",
     "output_type": "stream",
     "text": [
      "Computing zscores for NM_0_0_estimate.pkl\n",
      "SHASHo\n",
      "slope_mu <class 'pcntoolkit.model.hbr.FixedParameterization'>\n",
      "intercept_mu <class 'pcntoolkit.model.hbr.NonCentralRandomFixedParameterization'>\n",
      "mu <class 'pcntoolkit.model.hbr.LinearParameterization'>\n",
      "slope_sigma <class 'pcntoolkit.model.hbr.FixedParameterization'>\n",
      "intercept_sigma <class 'pcntoolkit.model.hbr.FixedParameterization'>\n",
      "sigma <class 'pcntoolkit.model.hbr.LinearParameterization'>\n",
      "epsilon <class 'pcntoolkit.model.hbr.FixedParameterization'>\n",
      "delta <class 'pcntoolkit.model.hbr.FixedParameterization'>\n"
     ]
    },
    {
     "data": {
      "text/html": [
       "\n",
       "<style>\n",
       "    /* Turns off some styling */\n",
       "    progress {\n",
       "        /* gets rid of default border in Firefox and Opera. */\n",
       "        border: none;\n",
       "        /* Needs to be in here for Safari polyfill so background images work as expected. */\n",
       "        background-size: auto;\n",
       "    }\n",
       "    progress:not([value]), progress:not([value])::-webkit-progress-bar {\n",
       "        background: repeating-linear-gradient(45deg, #7e7e7e, #7e7e7e 10px, #5c5c5c 10px, #5c5c5c 20px);\n",
       "    }\n",
       "    .progress-bar-interrupted, .progress-bar-interrupted::-webkit-progress-bar {\n",
       "        background: #F44336;\n",
       "    }\n",
       "</style>\n"
      ],
      "text/plain": [
       "<IPython.core.display.HTML object>"
      ]
     },
     "metadata": {},
     "output_type": "display_data"
    },
    {
     "data": {
      "text/html": [
       "\n",
       "    <div>\n",
       "      <progress value='2000' class='' max='2000' style='width:300px; height:20px; vertical-align: middle;'></progress>\n",
       "      100.00% [2000/2000 00:02&lt;00:00]\n",
       "    </div>\n",
       "    "
      ],
      "text/plain": [
       "<IPython.core.display.HTML object>"
      ]
     },
     "metadata": {},
     "output_type": "display_data"
    },
    {
     "name": "stdout",
     "output_type": "stream",
     "text": [
      "Done computing zscores in 3.691462755203247 seconds\n",
      "Computing zscores for NM_0_0_estimate.pkl\n",
      "SHASHb\n",
      "slope_mu <class 'pcntoolkit.model.hbr.FixedParameterization'>\n",
      "intercept_mu <class 'pcntoolkit.model.hbr.NonCentralRandomFixedParameterization'>\n",
      "mu <class 'pcntoolkit.model.hbr.LinearParameterization'>\n",
      "slope_sigma <class 'pcntoolkit.model.hbr.FixedParameterization'>\n",
      "intercept_sigma <class 'pcntoolkit.model.hbr.FixedParameterization'>\n",
      "sigma <class 'pcntoolkit.model.hbr.LinearParameterization'>\n",
      "epsilon <class 'pcntoolkit.model.hbr.FixedParameterization'>\n",
      "delta <class 'pcntoolkit.model.hbr.FixedParameterization'>\n"
     ]
    },
    {
     "name": "stderr",
     "output_type": "stream",
     "text": [
      "Sampling: [y_like]\n"
     ]
    },
    {
     "data": {
      "text/html": [
       "\n",
       "<style>\n",
       "    /* Turns off some styling */\n",
       "    progress {\n",
       "        /* gets rid of default border in Firefox and Opera. */\n",
       "        border: none;\n",
       "        /* Needs to be in here for Safari polyfill so background images work as expected. */\n",
       "        background-size: auto;\n",
       "    }\n",
       "    progress:not([value]), progress:not([value])::-webkit-progress-bar {\n",
       "        background: repeating-linear-gradient(45deg, #7e7e7e, #7e7e7e 10px, #5c5c5c 10px, #5c5c5c 20px);\n",
       "    }\n",
       "    .progress-bar-interrupted, .progress-bar-interrupted::-webkit-progress-bar {\n",
       "        background: #F44336;\n",
       "    }\n",
       "</style>\n"
      ],
      "text/plain": [
       "<IPython.core.display.HTML object>"
      ]
     },
     "metadata": {},
     "output_type": "display_data"
    },
    {
     "data": {
      "text/html": [
       "\n",
       "    <div>\n",
       "      <progress value='2000' class='' max='2000' style='width:300px; height:20px; vertical-align: middle;'></progress>\n",
       "      100.00% [2000/2000 00:02&lt;00:00]\n",
       "    </div>\n",
       "    "
      ],
      "text/plain": [
       "<IPython.core.display.HTML object>"
      ]
     },
     "metadata": {},
     "output_type": "display_data"
    },
    {
     "name": "stdout",
     "output_type": "stream",
     "text": [
      "Done computing zscores in 4.380892515182495 seconds\n",
      "Computing zscores for NM_0_0_estimate.pkl\n",
      "SHASHb\n",
      "slope_mu <class 'pcntoolkit.model.hbr.FixedParameterization'>\n",
      "intercept_mu <class 'pcntoolkit.model.hbr.NonCentralRandomFixedParameterization'>\n",
      "mu <class 'pcntoolkit.model.hbr.LinearParameterization'>\n",
      "slope_sigma <class 'pcntoolkit.model.hbr.FixedParameterization'>\n",
      "intercept_sigma <class 'pcntoolkit.model.hbr.FixedParameterization'>\n",
      "sigma <class 'pcntoolkit.model.hbr.LinearParameterization'>\n",
      "slope_epsilon <class 'pcntoolkit.model.hbr.FixedParameterization'>\n",
      "intercept_epsilon <class 'pcntoolkit.model.hbr.FixedParameterization'>\n",
      "epsilon <class 'pcntoolkit.model.hbr.LinearParameterization'>\n",
      "slope_delta <class 'pcntoolkit.model.hbr.FixedParameterization'>\n",
      "intercept_delta <class 'pcntoolkit.model.hbr.FixedParameterization'>\n",
      "delta <class 'pcntoolkit.model.hbr.LinearParameterization'>\n"
     ]
    },
    {
     "name": "stderr",
     "output_type": "stream",
     "text": [
      "Sampling: [y_like]\n"
     ]
    },
    {
     "data": {
      "text/html": [
       "\n",
       "<style>\n",
       "    /* Turns off some styling */\n",
       "    progress {\n",
       "        /* gets rid of default border in Firefox and Opera. */\n",
       "        border: none;\n",
       "        /* Needs to be in here for Safari polyfill so background images work as expected. */\n",
       "        background-size: auto;\n",
       "    }\n",
       "    progress:not([value]), progress:not([value])::-webkit-progress-bar {\n",
       "        background: repeating-linear-gradient(45deg, #7e7e7e, #7e7e7e 10px, #5c5c5c 10px, #5c5c5c 20px);\n",
       "    }\n",
       "    .progress-bar-interrupted, .progress-bar-interrupted::-webkit-progress-bar {\n",
       "        background: #F44336;\n",
       "    }\n",
       "</style>\n"
      ],
      "text/plain": [
       "<IPython.core.display.HTML object>"
      ]
     },
     "metadata": {},
     "output_type": "display_data"
    },
    {
     "data": {
      "text/html": [
       "\n",
       "    <div>\n",
       "      <progress value='2000' class='' max='2000' style='width:300px; height:20px; vertical-align: middle;'></progress>\n",
       "      100.00% [2000/2000 00:11&lt;00:00]\n",
       "    </div>\n",
       "    "
      ],
      "text/plain": [
       "<IPython.core.display.HTML object>"
      ]
     },
     "metadata": {},
     "output_type": "display_data"
    },
    {
     "name": "stdout",
     "output_type": "stream",
     "text": [
      "Done computing zscores in 39.16353750228882 seconds\n"
     ]
    },
    {
     "name": "stderr",
     "output_type": "stream",
     "text": [
      "Sampling: [y_like]\n"
     ]
    },
    {
     "name": "stdout",
     "output_type": "stream",
     "text": [
      "Computing zscores for NM_0_0_estimate.pkl\n",
      "Normal\n",
      "slope_mu <class 'pcntoolkit.model.hbr.FixedParameterization'>\n",
      "intercept_mu <class 'pcntoolkit.model.hbr.NonCentralRandomFixedParameterization'>\n",
      "mu <class 'pcntoolkit.model.hbr.LinearParameterization'>\n",
      "slope_sigma <class 'pcntoolkit.model.hbr.FixedParameterization'>\n",
      "intercept_sigma <class 'pcntoolkit.model.hbr.FixedParameterization'>\n",
      "sigma <class 'pcntoolkit.model.hbr.LinearParameterization'>\n"
     ]
    },
    {
     "data": {
      "text/html": [
       "\n",
       "<style>\n",
       "    /* Turns off some styling */\n",
       "    progress {\n",
       "        /* gets rid of default border in Firefox and Opera. */\n",
       "        border: none;\n",
       "        /* Needs to be in here for Safari polyfill so background images work as expected. */\n",
       "        background-size: auto;\n",
       "    }\n",
       "    progress:not([value]), progress:not([value])::-webkit-progress-bar {\n",
       "        background: repeating-linear-gradient(45deg, #7e7e7e, #7e7e7e 10px, #5c5c5c 10px, #5c5c5c 20px);\n",
       "    }\n",
       "    .progress-bar-interrupted, .progress-bar-interrupted::-webkit-progress-bar {\n",
       "        background: #F44336;\n",
       "    }\n",
       "</style>\n"
      ],
      "text/plain": [
       "<IPython.core.display.HTML object>"
      ]
     },
     "metadata": {},
     "output_type": "display_data"
    },
    {
     "data": {
      "text/html": [
       "\n",
       "    <div>\n",
       "      <progress value='2000' class='' max='2000' style='width:300px; height:20px; vertical-align: middle;'></progress>\n",
       "      100.00% [2000/2000 00:01&lt;00:00]\n",
       "    </div>\n",
       "    "
      ],
      "text/plain": [
       "<IPython.core.display.HTML object>"
      ]
     },
     "metadata": {},
     "output_type": "display_data"
    },
    {
     "name": "stdout",
     "output_type": "stream",
     "text": [
      "Done computing zscores in 2.2042646408081055 seconds\n",
      "Computing zscores for NM_0_0_estimate.pkl\n",
      "SHASHo\n",
      "slope_mu <class 'pcntoolkit.model.hbr.FixedParameterization'>\n",
      "intercept_mu <class 'pcntoolkit.model.hbr.NonCentralRandomFixedParameterization'>\n",
      "mu <class 'pcntoolkit.model.hbr.LinearParameterization'>\n",
      "slope_sigma <class 'pcntoolkit.model.hbr.FixedParameterization'>\n",
      "intercept_sigma <class 'pcntoolkit.model.hbr.FixedParameterization'>\n",
      "sigma <class 'pcntoolkit.model.hbr.LinearParameterization'>\n",
      "epsilon <class 'pcntoolkit.model.hbr.FixedParameterization'>\n",
      "delta <class 'pcntoolkit.model.hbr.FixedParameterization'>\n"
     ]
    },
    {
     "name": "stderr",
     "output_type": "stream",
     "text": [
      "Sampling: [y_like]\n"
     ]
    },
    {
     "data": {
      "text/html": [
       "\n",
       "<style>\n",
       "    /* Turns off some styling */\n",
       "    progress {\n",
       "        /* gets rid of default border in Firefox and Opera. */\n",
       "        border: none;\n",
       "        /* Needs to be in here for Safari polyfill so background images work as expected. */\n",
       "        background-size: auto;\n",
       "    }\n",
       "    progress:not([value]), progress:not([value])::-webkit-progress-bar {\n",
       "        background: repeating-linear-gradient(45deg, #7e7e7e, #7e7e7e 10px, #5c5c5c 10px, #5c5c5c 20px);\n",
       "    }\n",
       "    .progress-bar-interrupted, .progress-bar-interrupted::-webkit-progress-bar {\n",
       "        background: #F44336;\n",
       "    }\n",
       "</style>\n"
      ],
      "text/plain": [
       "<IPython.core.display.HTML object>"
      ]
     },
     "metadata": {},
     "output_type": "display_data"
    },
    {
     "data": {
      "text/html": [
       "\n",
       "    <div>\n",
       "      <progress value='2000' class='' max='2000' style='width:300px; height:20px; vertical-align: middle;'></progress>\n",
       "      100.00% [2000/2000 00:02&lt;00:00]\n",
       "    </div>\n",
       "    "
      ],
      "text/plain": [
       "<IPython.core.display.HTML object>"
      ]
     },
     "metadata": {},
     "output_type": "display_data"
    },
    {
     "name": "stdout",
     "output_type": "stream",
     "text": [
      "Done computing zscores in 3.975827217102051 seconds\n",
      "Computing zscores for NM_0_0_estimate.pkl\n",
      "SHASHb\n",
      "slope_mu <class 'pcntoolkit.model.hbr.FixedParameterization'>\n",
      "intercept_mu <class 'pcntoolkit.model.hbr.NonCentralRandomFixedParameterization'>\n",
      "mu <class 'pcntoolkit.model.hbr.LinearParameterization'>\n",
      "slope_sigma <class 'pcntoolkit.model.hbr.FixedParameterization'>\n",
      "intercept_sigma <class 'pcntoolkit.model.hbr.FixedParameterization'>\n",
      "sigma <class 'pcntoolkit.model.hbr.LinearParameterization'>\n",
      "epsilon <class 'pcntoolkit.model.hbr.FixedParameterization'>\n",
      "delta <class 'pcntoolkit.model.hbr.FixedParameterization'>\n"
     ]
    },
    {
     "name": "stderr",
     "output_type": "stream",
     "text": [
      "Sampling: [y_like]\n"
     ]
    },
    {
     "data": {
      "text/html": [
       "\n",
       "<style>\n",
       "    /* Turns off some styling */\n",
       "    progress {\n",
       "        /* gets rid of default border in Firefox and Opera. */\n",
       "        border: none;\n",
       "        /* Needs to be in here for Safari polyfill so background images work as expected. */\n",
       "        background-size: auto;\n",
       "    }\n",
       "    progress:not([value]), progress:not([value])::-webkit-progress-bar {\n",
       "        background: repeating-linear-gradient(45deg, #7e7e7e, #7e7e7e 10px, #5c5c5c 10px, #5c5c5c 20px);\n",
       "    }\n",
       "    .progress-bar-interrupted, .progress-bar-interrupted::-webkit-progress-bar {\n",
       "        background: #F44336;\n",
       "    }\n",
       "</style>\n"
      ],
      "text/plain": [
       "<IPython.core.display.HTML object>"
      ]
     },
     "metadata": {},
     "output_type": "display_data"
    },
    {
     "data": {
      "text/html": [
       "\n",
       "    <div>\n",
       "      <progress value='2000' class='' max='2000' style='width:300px; height:20px; vertical-align: middle;'></progress>\n",
       "      100.00% [2000/2000 00:03&lt;00:00]\n",
       "    </div>\n",
       "    "
      ],
      "text/plain": [
       "<IPython.core.display.HTML object>"
      ]
     },
     "metadata": {},
     "output_type": "display_data"
    },
    {
     "name": "stdout",
     "output_type": "stream",
     "text": [
      "Done computing zscores in 4.725924491882324 seconds\n",
      "Computing zscores for NM_0_0_estimate.pkl\n",
      "SHASHb\n",
      "slope_mu <class 'pcntoolkit.model.hbr.FixedParameterization'>\n",
      "intercept_mu <class 'pcntoolkit.model.hbr.NonCentralRandomFixedParameterization'>\n",
      "mu <class 'pcntoolkit.model.hbr.LinearParameterization'>\n",
      "slope_sigma <class 'pcntoolkit.model.hbr.FixedParameterization'>\n",
      "intercept_sigma <class 'pcntoolkit.model.hbr.FixedParameterization'>\n",
      "sigma <class 'pcntoolkit.model.hbr.LinearParameterization'>\n",
      "slope_epsilon <class 'pcntoolkit.model.hbr.FixedParameterization'>\n",
      "intercept_epsilon <class 'pcntoolkit.model.hbr.FixedParameterization'>\n",
      "epsilon <class 'pcntoolkit.model.hbr.LinearParameterization'>\n",
      "slope_delta <class 'pcntoolkit.model.hbr.FixedParameterization'>\n"
     ]
    },
    {
     "name": "stderr",
     "output_type": "stream",
     "text": [
      "Sampling: [y_like]\n"
     ]
    },
    {
     "name": "stdout",
     "output_type": "stream",
     "text": [
      "intercept_delta <class 'pcntoolkit.model.hbr.FixedParameterization'>\n",
      "delta <class 'pcntoolkit.model.hbr.LinearParameterization'>\n"
     ]
    },
    {
     "data": {
      "text/html": [
       "\n",
       "<style>\n",
       "    /* Turns off some styling */\n",
       "    progress {\n",
       "        /* gets rid of default border in Firefox and Opera. */\n",
       "        border: none;\n",
       "        /* Needs to be in here for Safari polyfill so background images work as expected. */\n",
       "        background-size: auto;\n",
       "    }\n",
       "    progress:not([value]), progress:not([value])::-webkit-progress-bar {\n",
       "        background: repeating-linear-gradient(45deg, #7e7e7e, #7e7e7e 10px, #5c5c5c 10px, #5c5c5c 20px);\n",
       "    }\n",
       "    .progress-bar-interrupted, .progress-bar-interrupted::-webkit-progress-bar {\n",
       "        background: #F44336;\n",
       "    }\n",
       "</style>\n"
      ],
      "text/plain": [
       "<IPython.core.display.HTML object>"
      ]
     },
     "metadata": {},
     "output_type": "display_data"
    },
    {
     "data": {
      "text/html": [
       "\n",
       "    <div>\n",
       "      <progress value='2000' class='' max='2000' style='width:300px; height:20px; vertical-align: middle;'></progress>\n",
       "      100.00% [2000/2000 00:11&lt;00:00]\n",
       "    </div>\n",
       "    "
      ],
      "text/plain": [
       "<IPython.core.display.HTML object>"
      ]
     },
     "metadata": {},
     "output_type": "display_data"
    },
    {
     "name": "stdout",
     "output_type": "stream",
     "text": [
      "Done computing zscores in 38.40178728103638 seconds\n"
     ]
    },
    {
     "name": "stderr",
     "output_type": "stream",
     "text": [
      "Sampling: [y_like]\n"
     ]
    },
    {
     "name": "stdout",
     "output_type": "stream",
     "text": [
      "Computing zscores for NM_0_0_estimate.pkl\n",
      "Normal\n",
      "slope_mu <class 'pcntoolkit.model.hbr.FixedParameterization'>\n",
      "intercept_mu <class 'pcntoolkit.model.hbr.NonCentralRandomFixedParameterization'>\n",
      "mu <class 'pcntoolkit.model.hbr.LinearParameterization'>\n",
      "slope_sigma <class 'pcntoolkit.model.hbr.FixedParameterization'>\n",
      "intercept_sigma <class 'pcntoolkit.model.hbr.FixedParameterization'>\n",
      "sigma <class 'pcntoolkit.model.hbr.LinearParameterization'>\n"
     ]
    },
    {
     "data": {
      "text/html": [
       "\n",
       "<style>\n",
       "    /* Turns off some styling */\n",
       "    progress {\n",
       "        /* gets rid of default border in Firefox and Opera. */\n",
       "        border: none;\n",
       "        /* Needs to be in here for Safari polyfill so background images work as expected. */\n",
       "        background-size: auto;\n",
       "    }\n",
       "    progress:not([value]), progress:not([value])::-webkit-progress-bar {\n",
       "        background: repeating-linear-gradient(45deg, #7e7e7e, #7e7e7e 10px, #5c5c5c 10px, #5c5c5c 20px);\n",
       "    }\n",
       "    .progress-bar-interrupted, .progress-bar-interrupted::-webkit-progress-bar {\n",
       "        background: #F44336;\n",
       "    }\n",
       "</style>\n"
      ],
      "text/plain": [
       "<IPython.core.display.HTML object>"
      ]
     },
     "metadata": {},
     "output_type": "display_data"
    },
    {
     "data": {
      "text/html": [
       "\n",
       "    <div>\n",
       "      <progress value='2000' class='' max='2000' style='width:300px; height:20px; vertical-align: middle;'></progress>\n",
       "      100.00% [2000/2000 00:01&lt;00:00]\n",
       "    </div>\n",
       "    "
      ],
      "text/plain": [
       "<IPython.core.display.HTML object>"
      ]
     },
     "metadata": {},
     "output_type": "display_data"
    },
    {
     "name": "stdout",
     "output_type": "stream",
     "text": [
      "Done computing zscores in 2.1280694007873535 seconds\n"
     ]
    },
    {
     "name": "stderr",
     "output_type": "stream",
     "text": [
      "Sampling: [y_like]\n"
     ]
    },
    {
     "name": "stdout",
     "output_type": "stream",
     "text": [
      "Computing zscores for NM_0_0_estimate.pkl\n",
      "SHASHo\n",
      "slope_mu <class 'pcntoolkit.model.hbr.FixedParameterization'>\n",
      "intercept_mu <class 'pcntoolkit.model.hbr.NonCentralRandomFixedParameterization'>\n",
      "mu <class 'pcntoolkit.model.hbr.LinearParameterization'>\n",
      "slope_sigma <class 'pcntoolkit.model.hbr.FixedParameterization'>\n",
      "intercept_sigma <class 'pcntoolkit.model.hbr.FixedParameterization'>\n",
      "sigma <class 'pcntoolkit.model.hbr.LinearParameterization'>\n",
      "epsilon <class 'pcntoolkit.model.hbr.FixedParameterization'>\n",
      "delta <class 'pcntoolkit.model.hbr.FixedParameterization'>\n"
     ]
    },
    {
     "data": {
      "text/html": [
       "\n",
       "<style>\n",
       "    /* Turns off some styling */\n",
       "    progress {\n",
       "        /* gets rid of default border in Firefox and Opera. */\n",
       "        border: none;\n",
       "        /* Needs to be in here for Safari polyfill so background images work as expected. */\n",
       "        background-size: auto;\n",
       "    }\n",
       "    progress:not([value]), progress:not([value])::-webkit-progress-bar {\n",
       "        background: repeating-linear-gradient(45deg, #7e7e7e, #7e7e7e 10px, #5c5c5c 10px, #5c5c5c 20px);\n",
       "    }\n",
       "    .progress-bar-interrupted, .progress-bar-interrupted::-webkit-progress-bar {\n",
       "        background: #F44336;\n",
       "    }\n",
       "</style>\n"
      ],
      "text/plain": [
       "<IPython.core.display.HTML object>"
      ]
     },
     "metadata": {},
     "output_type": "display_data"
    },
    {
     "data": {
      "text/html": [
       "\n",
       "    <div>\n",
       "      <progress value='2000' class='' max='2000' style='width:300px; height:20px; vertical-align: middle;'></progress>\n",
       "      100.00% [2000/2000 00:02&lt;00:00]\n",
       "    </div>\n",
       "    "
      ],
      "text/plain": [
       "<IPython.core.display.HTML object>"
      ]
     },
     "metadata": {},
     "output_type": "display_data"
    },
    {
     "name": "stdout",
     "output_type": "stream",
     "text": [
      "Done computing zscores in 3.806344985961914 seconds\n",
      "Computing zscores for NM_0_0_estimate.pkl\n",
      "SHASHb\n",
      "slope_mu <class 'pcntoolkit.model.hbr.FixedParameterization'>\n",
      "intercept_mu <class 'pcntoolkit.model.hbr.NonCentralRandomFixedParameterization'>\n",
      "mu <class 'pcntoolkit.model.hbr.LinearParameterization'>\n",
      "slope_sigma <class 'pcntoolkit.model.hbr.FixedParameterization'>\n",
      "intercept_sigma <class 'pcntoolkit.model.hbr.FixedParameterization'>\n",
      "sigma <class 'pcntoolkit.model.hbr.LinearParameterization'>\n",
      "epsilon <class 'pcntoolkit.model.hbr.FixedParameterization'>\n",
      "delta <class 'pcntoolkit.model.hbr.FixedParameterization'>\n"
     ]
    },
    {
     "name": "stderr",
     "output_type": "stream",
     "text": [
      "Sampling: [y_like]\n"
     ]
    },
    {
     "data": {
      "text/html": [
       "\n",
       "<style>\n",
       "    /* Turns off some styling */\n",
       "    progress {\n",
       "        /* gets rid of default border in Firefox and Opera. */\n",
       "        border: none;\n",
       "        /* Needs to be in here for Safari polyfill so background images work as expected. */\n",
       "        background-size: auto;\n",
       "    }\n",
       "    progress:not([value]), progress:not([value])::-webkit-progress-bar {\n",
       "        background: repeating-linear-gradient(45deg, #7e7e7e, #7e7e7e 10px, #5c5c5c 10px, #5c5c5c 20px);\n",
       "    }\n",
       "    .progress-bar-interrupted, .progress-bar-interrupted::-webkit-progress-bar {\n",
       "        background: #F44336;\n",
       "    }\n",
       "</style>\n"
      ],
      "text/plain": [
       "<IPython.core.display.HTML object>"
      ]
     },
     "metadata": {},
     "output_type": "display_data"
    },
    {
     "data": {
      "text/html": [
       "\n",
       "    <div>\n",
       "      <progress value='2000' class='' max='2000' style='width:300px; height:20px; vertical-align: middle;'></progress>\n",
       "      100.00% [2000/2000 00:03&lt;00:00]\n",
       "    </div>\n",
       "    "
      ],
      "text/plain": [
       "<IPython.core.display.HTML object>"
      ]
     },
     "metadata": {},
     "output_type": "display_data"
    },
    {
     "name": "stdout",
     "output_type": "stream",
     "text": [
      "Done computing zscores in 4.804150342941284 seconds\n",
      "Computing zscores for NM_0_0_estimate.pkl\n",
      "SHASHb\n",
      "slope_mu <class 'pcntoolkit.model.hbr.FixedParameterization'>\n",
      "intercept_mu <class 'pcntoolkit.model.hbr.NonCentralRandomFixedParameterization'>\n",
      "mu <class 'pcntoolkit.model.hbr.LinearParameterization'>\n",
      "slope_sigma <class 'pcntoolkit.model.hbr.FixedParameterization'>\n",
      "intercept_sigma <class 'pcntoolkit.model.hbr.FixedParameterization'>\n",
      "sigma <class 'pcntoolkit.model.hbr.LinearParameterization'>\n",
      "slope_epsilon <class 'pcntoolkit.model.hbr.FixedParameterization'>\n",
      "intercept_epsilon <class 'pcntoolkit.model.hbr.FixedParameterization'>\n",
      "epsilon <class 'pcntoolkit.model.hbr.LinearParameterization'>\n",
      "slope_delta <class 'pcntoolkit.model.hbr.FixedParameterization'>\n",
      "intercept_delta <class 'pcntoolkit.model.hbr.FixedParameterization'>\n",
      "delta <class 'pcntoolkit.model.hbr.LinearParameterization'>\n"
     ]
    },
    {
     "name": "stderr",
     "output_type": "stream",
     "text": [
      "Sampling: [y_like]\n"
     ]
    },
    {
     "data": {
      "text/html": [
       "\n",
       "<style>\n",
       "    /* Turns off some styling */\n",
       "    progress {\n",
       "        /* gets rid of default border in Firefox and Opera. */\n",
       "        border: none;\n",
       "        /* Needs to be in here for Safari polyfill so background images work as expected. */\n",
       "        background-size: auto;\n",
       "    }\n",
       "    progress:not([value]), progress:not([value])::-webkit-progress-bar {\n",
       "        background: repeating-linear-gradient(45deg, #7e7e7e, #7e7e7e 10px, #5c5c5c 10px, #5c5c5c 20px);\n",
       "    }\n",
       "    .progress-bar-interrupted, .progress-bar-interrupted::-webkit-progress-bar {\n",
       "        background: #F44336;\n",
       "    }\n",
       "</style>\n"
      ],
      "text/plain": [
       "<IPython.core.display.HTML object>"
      ]
     },
     "metadata": {},
     "output_type": "display_data"
    },
    {
     "data": {
      "text/html": [
       "\n",
       "    <div>\n",
       "      <progress value='2000' class='' max='2000' style='width:300px; height:20px; vertical-align: middle;'></progress>\n",
       "      100.00% [2000/2000 00:11&lt;00:00]\n",
       "    </div>\n",
       "    "
      ],
      "text/plain": [
       "<IPython.core.display.HTML object>"
      ]
     },
     "metadata": {},
     "output_type": "display_data"
    },
    {
     "name": "stdout",
     "output_type": "stream",
     "text": [
      "Done computing zscores in 39.001105308532715 seconds\n"
     ]
    },
    {
     "name": "stderr",
     "output_type": "stream",
     "text": [
      "Sampling: [y_like]\n"
     ]
    },
    {
     "name": "stdout",
     "output_type": "stream",
     "text": [
      "Computing zscores for NM_0_0_estimate.pkl\n",
      "Normal\n",
      "slope_mu <class 'pcntoolkit.model.hbr.FixedParameterization'>\n",
      "intercept_mu <class 'pcntoolkit.model.hbr.NonCentralRandomFixedParameterization'>\n",
      "mu <class 'pcntoolkit.model.hbr.LinearParameterization'>\n",
      "slope_sigma <class 'pcntoolkit.model.hbr.FixedParameterization'>\n",
      "intercept_sigma <class 'pcntoolkit.model.hbr.FixedParameterization'>\n",
      "sigma <class 'pcntoolkit.model.hbr.LinearParameterization'>\n"
     ]
    },
    {
     "data": {
      "text/html": [
       "\n",
       "<style>\n",
       "    /* Turns off some styling */\n",
       "    progress {\n",
       "        /* gets rid of default border in Firefox and Opera. */\n",
       "        border: none;\n",
       "        /* Needs to be in here for Safari polyfill so background images work as expected. */\n",
       "        background-size: auto;\n",
       "    }\n",
       "    progress:not([value]), progress:not([value])::-webkit-progress-bar {\n",
       "        background: repeating-linear-gradient(45deg, #7e7e7e, #7e7e7e 10px, #5c5c5c 10px, #5c5c5c 20px);\n",
       "    }\n",
       "    .progress-bar-interrupted, .progress-bar-interrupted::-webkit-progress-bar {\n",
       "        background: #F44336;\n",
       "    }\n",
       "</style>\n"
      ],
      "text/plain": [
       "<IPython.core.display.HTML object>"
      ]
     },
     "metadata": {},
     "output_type": "display_data"
    },
    {
     "data": {
      "text/html": [
       "\n",
       "    <div>\n",
       "      <progress value='2000' class='' max='2000' style='width:300px; height:20px; vertical-align: middle;'></progress>\n",
       "      100.00% [2000/2000 00:01&lt;00:00]\n",
       "    </div>\n",
       "    "
      ],
      "text/plain": [
       "<IPython.core.display.HTML object>"
      ]
     },
     "metadata": {},
     "output_type": "display_data"
    },
    {
     "name": "stdout",
     "output_type": "stream",
     "text": [
      "Done computing zscores in 2.4895613193511963 seconds\n",
      "Computing zscores for NM_0_0_estimate.pkl\n",
      "SHASHo\n",
      "slope_mu <class 'pcntoolkit.model.hbr.FixedParameterization'>\n",
      "intercept_mu <class 'pcntoolkit.model.hbr.NonCentralRandomFixedParameterization'>\n",
      "mu <class 'pcntoolkit.model.hbr.LinearParameterization'>\n",
      "slope_sigma <class 'pcntoolkit.model.hbr.FixedParameterization'>\n",
      "intercept_sigma <class 'pcntoolkit.model.hbr.FixedParameterization'>\n",
      "sigma <class 'pcntoolkit.model.hbr.LinearParameterization'>\n",
      "epsilon <class 'pcntoolkit.model.hbr.FixedParameterization'>\n",
      "delta <class 'pcntoolkit.model.hbr.FixedParameterization'>\n"
     ]
    },
    {
     "name": "stderr",
     "output_type": "stream",
     "text": [
      "Sampling: [y_like]\n"
     ]
    },
    {
     "data": {
      "text/html": [
       "\n",
       "<style>\n",
       "    /* Turns off some styling */\n",
       "    progress {\n",
       "        /* gets rid of default border in Firefox and Opera. */\n",
       "        border: none;\n",
       "        /* Needs to be in here for Safari polyfill so background images work as expected. */\n",
       "        background-size: auto;\n",
       "    }\n",
       "    progress:not([value]), progress:not([value])::-webkit-progress-bar {\n",
       "        background: repeating-linear-gradient(45deg, #7e7e7e, #7e7e7e 10px, #5c5c5c 10px, #5c5c5c 20px);\n",
       "    }\n",
       "    .progress-bar-interrupted, .progress-bar-interrupted::-webkit-progress-bar {\n",
       "        background: #F44336;\n",
       "    }\n",
       "</style>\n"
      ],
      "text/plain": [
       "<IPython.core.display.HTML object>"
      ]
     },
     "metadata": {},
     "output_type": "display_data"
    },
    {
     "data": {
      "text/html": [
       "\n",
       "    <div>\n",
       "      <progress value='2000' class='' max='2000' style='width:300px; height:20px; vertical-align: middle;'></progress>\n",
       "      100.00% [2000/2000 00:02&lt;00:00]\n",
       "    </div>\n",
       "    "
      ],
      "text/plain": [
       "<IPython.core.display.HTML object>"
      ]
     },
     "metadata": {},
     "output_type": "display_data"
    },
    {
     "name": "stdout",
     "output_type": "stream",
     "text": [
      "Done computing zscores in 3.724850654602051 seconds\n",
      "Computing zscores for NM_0_0_estimate.pkl\n",
      "SHASHb\n",
      "slope_mu <class 'pcntoolkit.model.hbr.FixedParameterization'>\n",
      "intercept_mu <class 'pcntoolkit.model.hbr.NonCentralRandomFixedParameterization'>\n",
      "mu <class 'pcntoolkit.model.hbr.LinearParameterization'>\n",
      "slope_sigma <class 'pcntoolkit.model.hbr.FixedParameterization'>\n",
      "intercept_sigma <class 'pcntoolkit.model.hbr.FixedParameterization'>\n",
      "sigma <class 'pcntoolkit.model.hbr.LinearParameterization'>\n",
      "epsilon <class 'pcntoolkit.model.hbr.FixedParameterization'>\n",
      "delta <class 'pcntoolkit.model.hbr.FixedParameterization'>\n"
     ]
    },
    {
     "name": "stderr",
     "output_type": "stream",
     "text": [
      "Sampling: [y_like]\n"
     ]
    },
    {
     "data": {
      "text/html": [
       "\n",
       "<style>\n",
       "    /* Turns off some styling */\n",
       "    progress {\n",
       "        /* gets rid of default border in Firefox and Opera. */\n",
       "        border: none;\n",
       "        /* Needs to be in here for Safari polyfill so background images work as expected. */\n",
       "        background-size: auto;\n",
       "    }\n",
       "    progress:not([value]), progress:not([value])::-webkit-progress-bar {\n",
       "        background: repeating-linear-gradient(45deg, #7e7e7e, #7e7e7e 10px, #5c5c5c 10px, #5c5c5c 20px);\n",
       "    }\n",
       "    .progress-bar-interrupted, .progress-bar-interrupted::-webkit-progress-bar {\n",
       "        background: #F44336;\n",
       "    }\n",
       "</style>\n"
      ],
      "text/plain": [
       "<IPython.core.display.HTML object>"
      ]
     },
     "metadata": {},
     "output_type": "display_data"
    },
    {
     "data": {
      "text/html": [
       "\n",
       "    <div>\n",
       "      <progress value='2000' class='' max='2000' style='width:300px; height:20px; vertical-align: middle;'></progress>\n",
       "      100.00% [2000/2000 00:02&lt;00:00]\n",
       "    </div>\n",
       "    "
      ],
      "text/plain": [
       "<IPython.core.display.HTML object>"
      ]
     },
     "metadata": {},
     "output_type": "display_data"
    },
    {
     "name": "stdout",
     "output_type": "stream",
     "text": [
      "Done computing zscores in 4.49232029914856 seconds\n",
      "Computing zscores for NM_0_0_estimate.pkl\n",
      "SHASHb\n",
      "slope_mu <class 'pcntoolkit.model.hbr.FixedParameterization'>\n",
      "intercept_mu <class 'pcntoolkit.model.hbr.NonCentralRandomFixedParameterization'>\n",
      "mu <class 'pcntoolkit.model.hbr.LinearParameterization'>\n",
      "slope_sigma <class 'pcntoolkit.model.hbr.FixedParameterization'>\n",
      "intercept_sigma <class 'pcntoolkit.model.hbr.FixedParameterization'>\n",
      "sigma <class 'pcntoolkit.model.hbr.LinearParameterization'>\n",
      "slope_epsilon <class 'pcntoolkit.model.hbr.FixedParameterization'>\n",
      "intercept_epsilon <class 'pcntoolkit.model.hbr.FixedParameterization'>\n",
      "epsilon <class 'pcntoolkit.model.hbr.LinearParameterization'>\n",
      "slope_delta <class 'pcntoolkit.model.hbr.FixedParameterization'>\n",
      "intercept_delta <class 'pcntoolkit.model.hbr.FixedParameterization'>\n",
      "delta <class 'pcntoolkit.model.hbr.LinearParameterization'>\n"
     ]
    },
    {
     "name": "stderr",
     "output_type": "stream",
     "text": [
      "Sampling: [y_like]\n"
     ]
    },
    {
     "data": {
      "text/html": [
       "\n",
       "<style>\n",
       "    /* Turns off some styling */\n",
       "    progress {\n",
       "        /* gets rid of default border in Firefox and Opera. */\n",
       "        border: none;\n",
       "        /* Needs to be in here for Safari polyfill so background images work as expected. */\n",
       "        background-size: auto;\n",
       "    }\n",
       "    progress:not([value]), progress:not([value])::-webkit-progress-bar {\n",
       "        background: repeating-linear-gradient(45deg, #7e7e7e, #7e7e7e 10px, #5c5c5c 10px, #5c5c5c 20px);\n",
       "    }\n",
       "    .progress-bar-interrupted, .progress-bar-interrupted::-webkit-progress-bar {\n",
       "        background: #F44336;\n",
       "    }\n",
       "</style>\n"
      ],
      "text/plain": [
       "<IPython.core.display.HTML object>"
      ]
     },
     "metadata": {},
     "output_type": "display_data"
    },
    {
     "data": {
      "text/html": [
       "\n",
       "    <div>\n",
       "      <progress value='2000' class='' max='2000' style='width:300px; height:20px; vertical-align: middle;'></progress>\n",
       "      100.00% [2000/2000 00:11&lt;00:00]\n",
       "    </div>\n",
       "    "
      ],
      "text/plain": [
       "<IPython.core.display.HTML object>"
      ]
     },
     "metadata": {},
     "output_type": "display_data"
    },
    {
     "name": "stdout",
     "output_type": "stream",
     "text": [
      "Done computing zscores in 41.387794971466064 seconds\n"
     ]
    },
    {
     "name": "stderr",
     "output_type": "stream",
     "text": [
      "Sampling: [y_like]\n"
     ]
    },
    {
     "name": "stdout",
     "output_type": "stream",
     "text": [
      "Computing zscores for NM_0_0_estimate.pkl\n",
      "Normal\n",
      "slope_mu <class 'pcntoolkit.model.hbr.FixedParameterization'>\n",
      "intercept_mu <class 'pcntoolkit.model.hbr.NonCentralRandomFixedParameterization'>\n",
      "mu <class 'pcntoolkit.model.hbr.LinearParameterization'>\n",
      "slope_sigma <class 'pcntoolkit.model.hbr.FixedParameterization'>\n",
      "intercept_sigma <class 'pcntoolkit.model.hbr.FixedParameterization'>\n",
      "sigma <class 'pcntoolkit.model.hbr.LinearParameterization'>\n"
     ]
    },
    {
     "data": {
      "text/html": [
       "\n",
       "<style>\n",
       "    /* Turns off some styling */\n",
       "    progress {\n",
       "        /* gets rid of default border in Firefox and Opera. */\n",
       "        border: none;\n",
       "        /* Needs to be in here for Safari polyfill so background images work as expected. */\n",
       "        background-size: auto;\n",
       "    }\n",
       "    progress:not([value]), progress:not([value])::-webkit-progress-bar {\n",
       "        background: repeating-linear-gradient(45deg, #7e7e7e, #7e7e7e 10px, #5c5c5c 10px, #5c5c5c 20px);\n",
       "    }\n",
       "    .progress-bar-interrupted, .progress-bar-interrupted::-webkit-progress-bar {\n",
       "        background: #F44336;\n",
       "    }\n",
       "</style>\n"
      ],
      "text/plain": [
       "<IPython.core.display.HTML object>"
      ]
     },
     "metadata": {},
     "output_type": "display_data"
    },
    {
     "data": {
      "text/html": [
       "\n",
       "    <div>\n",
       "      <progress value='2000' class='' max='2000' style='width:300px; height:20px; vertical-align: middle;'></progress>\n",
       "      100.00% [2000/2000 00:01&lt;00:00]\n",
       "    </div>\n",
       "    "
      ],
      "text/plain": [
       "<IPython.core.display.HTML object>"
      ]
     },
     "metadata": {},
     "output_type": "display_data"
    },
    {
     "name": "stdout",
     "output_type": "stream",
     "text": [
      "Done computing zscores in 2.215736150741577 seconds\n",
      "Computing zscores for NM_0_0_estimate.pkl\n",
      "SHASHo\n",
      "slope_mu <class 'pcntoolkit.model.hbr.FixedParameterization'>\n",
      "intercept_mu <class 'pcntoolkit.model.hbr.NonCentralRandomFixedParameterization'>\n",
      "mu <class 'pcntoolkit.model.hbr.LinearParameterization'>\n",
      "slope_sigma <class 'pcntoolkit.model.hbr.FixedParameterization'>\n",
      "intercept_sigma <class 'pcntoolkit.model.hbr.FixedParameterization'>\n",
      "sigma <class 'pcntoolkit.model.hbr.LinearParameterization'>\n",
      "epsilon <class 'pcntoolkit.model.hbr.FixedParameterization'>\n",
      "delta <class 'pcntoolkit.model.hbr.FixedParameterization'>\n"
     ]
    },
    {
     "name": "stderr",
     "output_type": "stream",
     "text": [
      "Sampling: [y_like]\n"
     ]
    },
    {
     "data": {
      "text/html": [
       "\n",
       "<style>\n",
       "    /* Turns off some styling */\n",
       "    progress {\n",
       "        /* gets rid of default border in Firefox and Opera. */\n",
       "        border: none;\n",
       "        /* Needs to be in here for Safari polyfill so background images work as expected. */\n",
       "        background-size: auto;\n",
       "    }\n",
       "    progress:not([value]), progress:not([value])::-webkit-progress-bar {\n",
       "        background: repeating-linear-gradient(45deg, #7e7e7e, #7e7e7e 10px, #5c5c5c 10px, #5c5c5c 20px);\n",
       "    }\n",
       "    .progress-bar-interrupted, .progress-bar-interrupted::-webkit-progress-bar {\n",
       "        background: #F44336;\n",
       "    }\n",
       "</style>\n"
      ],
      "text/plain": [
       "<IPython.core.display.HTML object>"
      ]
     },
     "metadata": {},
     "output_type": "display_data"
    },
    {
     "data": {
      "text/html": [
       "\n",
       "    <div>\n",
       "      <progress value='2000' class='' max='2000' style='width:300px; height:20px; vertical-align: middle;'></progress>\n",
       "      100.00% [2000/2000 00:02&lt;00:00]\n",
       "    </div>\n",
       "    "
      ],
      "text/plain": [
       "<IPython.core.display.HTML object>"
      ]
     },
     "metadata": {},
     "output_type": "display_data"
    },
    {
     "name": "stdout",
     "output_type": "stream",
     "text": [
      "Done computing zscores in 3.95300555229187 seconds\n",
      "Computing zscores for NM_0_0_estimate.pkl\n",
      "SHASHb\n",
      "slope_mu <class 'pcntoolkit.model.hbr.FixedParameterization'>\n",
      "intercept_mu <class 'pcntoolkit.model.hbr.NonCentralRandomFixedParameterization'>\n",
      "mu <class 'pcntoolkit.model.hbr.LinearParameterization'>\n",
      "slope_sigma <class 'pcntoolkit.model.hbr.FixedParameterization'>\n",
      "intercept_sigma <class 'pcntoolkit.model.hbr.FixedParameterization'>\n",
      "sigma <class 'pcntoolkit.model.hbr.LinearParameterization'>\n",
      "epsilon <class 'pcntoolkit.model.hbr.FixedParameterization'>\n",
      "delta <class 'pcntoolkit.model.hbr.FixedParameterization'>\n"
     ]
    },
    {
     "name": "stderr",
     "output_type": "stream",
     "text": [
      "Sampling: [y_like]\n"
     ]
    },
    {
     "data": {
      "text/html": [
       "\n",
       "<style>\n",
       "    /* Turns off some styling */\n",
       "    progress {\n",
       "        /* gets rid of default border in Firefox and Opera. */\n",
       "        border: none;\n",
       "        /* Needs to be in here for Safari polyfill so background images work as expected. */\n",
       "        background-size: auto;\n",
       "    }\n",
       "    progress:not([value]), progress:not([value])::-webkit-progress-bar {\n",
       "        background: repeating-linear-gradient(45deg, #7e7e7e, #7e7e7e 10px, #5c5c5c 10px, #5c5c5c 20px);\n",
       "    }\n",
       "    .progress-bar-interrupted, .progress-bar-interrupted::-webkit-progress-bar {\n",
       "        background: #F44336;\n",
       "    }\n",
       "</style>\n"
      ],
      "text/plain": [
       "<IPython.core.display.HTML object>"
      ]
     },
     "metadata": {},
     "output_type": "display_data"
    },
    {
     "data": {
      "text/html": [
       "\n",
       "    <div>\n",
       "      <progress value='2000' class='' max='2000' style='width:300px; height:20px; vertical-align: middle;'></progress>\n",
       "      100.00% [2000/2000 00:02&lt;00:00]\n",
       "    </div>\n",
       "    "
      ],
      "text/plain": [
       "<IPython.core.display.HTML object>"
      ]
     },
     "metadata": {},
     "output_type": "display_data"
    },
    {
     "name": "stdout",
     "output_type": "stream",
     "text": [
      "Done computing zscores in 4.6026527881622314 seconds\n",
      "Computing zscores for NM_0_0_estimate.pkl\n",
      "SHASHb\n",
      "slope_mu <class 'pcntoolkit.model.hbr.FixedParameterization'>\n",
      "intercept_mu <class 'pcntoolkit.model.hbr.NonCentralRandomFixedParameterization'>\n",
      "mu <class 'pcntoolkit.model.hbr.LinearParameterization'>\n",
      "slope_sigma <class 'pcntoolkit.model.hbr.FixedParameterization'>\n",
      "intercept_sigma <class 'pcntoolkit.model.hbr.FixedParameterization'>\n",
      "sigma <class 'pcntoolkit.model.hbr.LinearParameterization'>\n",
      "slope_epsilon <class 'pcntoolkit.model.hbr.FixedParameterization'>\n",
      "intercept_epsilon <class 'pcntoolkit.model.hbr.FixedParameterization'>\n",
      "epsilon <class 'pcntoolkit.model.hbr.LinearParameterization'>\n",
      "slope_delta <class 'pcntoolkit.model.hbr.FixedParameterization'>\n",
      "intercept_delta <class 'pcntoolkit.model.hbr.FixedParameterization'>\n",
      "delta <class 'pcntoolkit.model.hbr.LinearParameterization'>\n"
     ]
    },
    {
     "name": "stderr",
     "output_type": "stream",
     "text": [
      "Sampling: [y_like]\n"
     ]
    },
    {
     "data": {
      "text/html": [
       "\n",
       "<style>\n",
       "    /* Turns off some styling */\n",
       "    progress {\n",
       "        /* gets rid of default border in Firefox and Opera. */\n",
       "        border: none;\n",
       "        /* Needs to be in here for Safari polyfill so background images work as expected. */\n",
       "        background-size: auto;\n",
       "    }\n",
       "    progress:not([value]), progress:not([value])::-webkit-progress-bar {\n",
       "        background: repeating-linear-gradient(45deg, #7e7e7e, #7e7e7e 10px, #5c5c5c 10px, #5c5c5c 20px);\n",
       "    }\n",
       "    .progress-bar-interrupted, .progress-bar-interrupted::-webkit-progress-bar {\n",
       "        background: #F44336;\n",
       "    }\n",
       "</style>\n"
      ],
      "text/plain": [
       "<IPython.core.display.HTML object>"
      ]
     },
     "metadata": {},
     "output_type": "display_data"
    },
    {
     "data": {
      "text/html": [
       "\n",
       "    <div>\n",
       "      <progress value='2000' class='' max='2000' style='width:300px; height:20px; vertical-align: middle;'></progress>\n",
       "      100.00% [2000/2000 00:12&lt;00:00]\n",
       "    </div>\n",
       "    "
      ],
      "text/plain": [
       "<IPython.core.display.HTML object>"
      ]
     },
     "metadata": {},
     "output_type": "display_data"
    },
    {
     "name": "stdout",
     "output_type": "stream",
     "text": [
      "Done computing zscores in 42.89001250267029 seconds\n",
      "Computing zscores for NM_0_0_estimate.pkl\n",
      "Normal\n",
      "slope_mu <class 'pcntoolkit.model.hbr.FixedParameterization'>\n",
      "intercept_mu <class 'pcntoolkit.model.hbr.NonCentralRandomFixedParameterization'>\n",
      "mu <class 'pcntoolkit.model.hbr.LinearParameterization'>\n",
      "slope_sigma <class 'pcntoolkit.model.hbr.FixedParameterization'>\n",
      "intercept_sigma <class 'pcntoolkit.model.hbr.FixedParameterization'>\n",
      "sigma <class 'pcntoolkit.model.hbr.LinearParameterization'>\n"
     ]
    },
    {
     "name": "stderr",
     "output_type": "stream",
     "text": [
      "Sampling: [y_like]\n"
     ]
    },
    {
     "data": {
      "text/html": [
       "\n",
       "<style>\n",
       "    /* Turns off some styling */\n",
       "    progress {\n",
       "        /* gets rid of default border in Firefox and Opera. */\n",
       "        border: none;\n",
       "        /* Needs to be in here for Safari polyfill so background images work as expected. */\n",
       "        background-size: auto;\n",
       "    }\n",
       "    progress:not([value]), progress:not([value])::-webkit-progress-bar {\n",
       "        background: repeating-linear-gradient(45deg, #7e7e7e, #7e7e7e 10px, #5c5c5c 10px, #5c5c5c 20px);\n",
       "    }\n",
       "    .progress-bar-interrupted, .progress-bar-interrupted::-webkit-progress-bar {\n",
       "        background: #F44336;\n",
       "    }\n",
       "</style>\n"
      ],
      "text/plain": [
       "<IPython.core.display.HTML object>"
      ]
     },
     "metadata": {},
     "output_type": "display_data"
    },
    {
     "data": {
      "text/html": [
       "\n",
       "    <div>\n",
       "      <progress value='2000' class='' max='2000' style='width:300px; height:20px; vertical-align: middle;'></progress>\n",
       "      100.00% [2000/2000 00:01&lt;00:00]\n",
       "    </div>\n",
       "    "
      ],
      "text/plain": [
       "<IPython.core.display.HTML object>"
      ]
     },
     "metadata": {},
     "output_type": "display_data"
    },
    {
     "name": "stdout",
     "output_type": "stream",
     "text": [
      "Done computing zscores in 2.450916290283203 seconds\n",
      "Computing zscores for NM_0_0_estimate.pkl\n",
      "SHASHo\n",
      "slope_mu <class 'pcntoolkit.model.hbr.FixedParameterization'>\n",
      "intercept_mu <class 'pcntoolkit.model.hbr.NonCentralRandomFixedParameterization'>\n",
      "mu <class 'pcntoolkit.model.hbr.LinearParameterization'>\n",
      "slope_sigma <class 'pcntoolkit.model.hbr.FixedParameterization'>\n",
      "intercept_sigma <class 'pcntoolkit.model.hbr.FixedParameterization'>\n",
      "sigma <class 'pcntoolkit.model.hbr.LinearParameterization'>\n",
      "epsilon <class 'pcntoolkit.model.hbr.FixedParameterization'>\n",
      "delta <class 'pcntoolkit.model.hbr.FixedParameterization'>\n"
     ]
    },
    {
     "name": "stderr",
     "output_type": "stream",
     "text": [
      "Sampling: [y_like]\n"
     ]
    },
    {
     "data": {
      "text/html": [
       "\n",
       "<style>\n",
       "    /* Turns off some styling */\n",
       "    progress {\n",
       "        /* gets rid of default border in Firefox and Opera. */\n",
       "        border: none;\n",
       "        /* Needs to be in here for Safari polyfill so background images work as expected. */\n",
       "        background-size: auto;\n",
       "    }\n",
       "    progress:not([value]), progress:not([value])::-webkit-progress-bar {\n",
       "        background: repeating-linear-gradient(45deg, #7e7e7e, #7e7e7e 10px, #5c5c5c 10px, #5c5c5c 20px);\n",
       "    }\n",
       "    .progress-bar-interrupted, .progress-bar-interrupted::-webkit-progress-bar {\n",
       "        background: #F44336;\n",
       "    }\n",
       "</style>\n"
      ],
      "text/plain": [
       "<IPython.core.display.HTML object>"
      ]
     },
     "metadata": {},
     "output_type": "display_data"
    },
    {
     "data": {
      "text/html": [
       "\n",
       "    <div>\n",
       "      <progress value='2000' class='' max='2000' style='width:300px; height:20px; vertical-align: middle;'></progress>\n",
       "      100.00% [2000/2000 00:02&lt;00:00]\n",
       "    </div>\n",
       "    "
      ],
      "text/plain": [
       "<IPython.core.display.HTML object>"
      ]
     },
     "metadata": {},
     "output_type": "display_data"
    },
    {
     "name": "stdout",
     "output_type": "stream",
     "text": [
      "Done computing zscores in 4.069856882095337 seconds\n",
      "Computing zscores for NM_0_0_estimate.pkl\n",
      "SHASHb\n",
      "slope_mu <class 'pcntoolkit.model.hbr.FixedParameterization'>\n"
     ]
    },
    {
     "name": "stderr",
     "output_type": "stream",
     "text": [
      "Sampling: [y_like]\n"
     ]
    },
    {
     "name": "stdout",
     "output_type": "stream",
     "text": [
      "intercept_mu <class 'pcntoolkit.model.hbr.NonCentralRandomFixedParameterization'>\n",
      "mu <class 'pcntoolkit.model.hbr.LinearParameterization'>\n",
      "slope_sigma <class 'pcntoolkit.model.hbr.FixedParameterization'>\n",
      "intercept_sigma <class 'pcntoolkit.model.hbr.FixedParameterization'>\n",
      "sigma <class 'pcntoolkit.model.hbr.LinearParameterization'>\n",
      "epsilon <class 'pcntoolkit.model.hbr.FixedParameterization'>\n",
      "delta <class 'pcntoolkit.model.hbr.FixedParameterization'>\n"
     ]
    },
    {
     "data": {
      "text/html": [
       "\n",
       "<style>\n",
       "    /* Turns off some styling */\n",
       "    progress {\n",
       "        /* gets rid of default border in Firefox and Opera. */\n",
       "        border: none;\n",
       "        /* Needs to be in here for Safari polyfill so background images work as expected. */\n",
       "        background-size: auto;\n",
       "    }\n",
       "    progress:not([value]), progress:not([value])::-webkit-progress-bar {\n",
       "        background: repeating-linear-gradient(45deg, #7e7e7e, #7e7e7e 10px, #5c5c5c 10px, #5c5c5c 20px);\n",
       "    }\n",
       "    .progress-bar-interrupted, .progress-bar-interrupted::-webkit-progress-bar {\n",
       "        background: #F44336;\n",
       "    }\n",
       "</style>\n"
      ],
      "text/plain": [
       "<IPython.core.display.HTML object>"
      ]
     },
     "metadata": {},
     "output_type": "display_data"
    },
    {
     "data": {
      "text/html": [
       "\n",
       "    <div>\n",
       "      <progress value='2000' class='' max='2000' style='width:300px; height:20px; vertical-align: middle;'></progress>\n",
       "      100.00% [2000/2000 00:03&lt;00:00]\n",
       "    </div>\n",
       "    "
      ],
      "text/plain": [
       "<IPython.core.display.HTML object>"
      ]
     },
     "metadata": {},
     "output_type": "display_data"
    },
    {
     "name": "stdout",
     "output_type": "stream",
     "text": [
      "Done computing zscores in 5.4802587032318115 seconds\n",
      "Computing zscores for NM_0_0_estimate.pkl\n",
      "SHASHb\n",
      "slope_mu <class 'pcntoolkit.model.hbr.FixedParameterization'>\n",
      "intercept_mu <class 'pcntoolkit.model.hbr.NonCentralRandomFixedParameterization'>\n",
      "mu <class 'pcntoolkit.model.hbr.LinearParameterization'>\n",
      "slope_sigma <class 'pcntoolkit.model.hbr.FixedParameterization'>\n",
      "intercept_sigma <class 'pcntoolkit.model.hbr.FixedParameterization'>\n",
      "sigma <class 'pcntoolkit.model.hbr.LinearParameterization'>\n",
      "slope_epsilon <class 'pcntoolkit.model.hbr.FixedParameterization'>\n",
      "intercept_epsilon <class 'pcntoolkit.model.hbr.FixedParameterization'>\n",
      "epsilon <class 'pcntoolkit.model.hbr.LinearParameterization'>\n",
      "slope_delta <class 'pcntoolkit.model.hbr.FixedParameterization'>\n",
      "intercept_delta <class 'pcntoolkit.model.hbr.FixedParameterization'>\n",
      "delta <class 'pcntoolkit.model.hbr.LinearParameterization'>\n"
     ]
    },
    {
     "name": "stderr",
     "output_type": "stream",
     "text": [
      "Sampling: [y_like]\n"
     ]
    },
    {
     "data": {
      "text/html": [
       "\n",
       "<style>\n",
       "    /* Turns off some styling */\n",
       "    progress {\n",
       "        /* gets rid of default border in Firefox and Opera. */\n",
       "        border: none;\n",
       "        /* Needs to be in here for Safari polyfill so background images work as expected. */\n",
       "        background-size: auto;\n",
       "    }\n",
       "    progress:not([value]), progress:not([value])::-webkit-progress-bar {\n",
       "        background: repeating-linear-gradient(45deg, #7e7e7e, #7e7e7e 10px, #5c5c5c 10px, #5c5c5c 20px);\n",
       "    }\n",
       "    .progress-bar-interrupted, .progress-bar-interrupted::-webkit-progress-bar {\n",
       "        background: #F44336;\n",
       "    }\n",
       "</style>\n"
      ],
      "text/plain": [
       "<IPython.core.display.HTML object>"
      ]
     },
     "metadata": {},
     "output_type": "display_data"
    },
    {
     "data": {
      "text/html": [
       "\n",
       "    <div>\n",
       "      <progress value='2000' class='' max='2000' style='width:300px; height:20px; vertical-align: middle;'></progress>\n",
       "      100.00% [2000/2000 00:12&lt;00:00]\n",
       "    </div>\n",
       "    "
      ],
      "text/plain": [
       "<IPython.core.display.HTML object>"
      ]
     },
     "metadata": {},
     "output_type": "display_data"
    },
    {
     "name": "stdout",
     "output_type": "stream",
     "text": [
      "Done computing zscores in 40.119977951049805 seconds\n"
     ]
    },
    {
     "name": "stderr",
     "output_type": "stream",
     "text": [
      "Sampling: [y_like]\n"
     ]
    },
    {
     "name": "stdout",
     "output_type": "stream",
     "text": [
      "Computing zscores for NM_0_0_estimate.pkl\n",
      "Normal\n",
      "slope_mu <class 'pcntoolkit.model.hbr.FixedParameterization'>\n",
      "intercept_mu <class 'pcntoolkit.model.hbr.NonCentralRandomFixedParameterization'>\n",
      "mu <class 'pcntoolkit.model.hbr.LinearParameterization'>\n",
      "slope_sigma <class 'pcntoolkit.model.hbr.FixedParameterization'>\n",
      "intercept_sigma <class 'pcntoolkit.model.hbr.FixedParameterization'>\n",
      "sigma <class 'pcntoolkit.model.hbr.LinearParameterization'>\n"
     ]
    },
    {
     "data": {
      "text/html": [
       "\n",
       "<style>\n",
       "    /* Turns off some styling */\n",
       "    progress {\n",
       "        /* gets rid of default border in Firefox and Opera. */\n",
       "        border: none;\n",
       "        /* Needs to be in here for Safari polyfill so background images work as expected. */\n",
       "        background-size: auto;\n",
       "    }\n",
       "    progress:not([value]), progress:not([value])::-webkit-progress-bar {\n",
       "        background: repeating-linear-gradient(45deg, #7e7e7e, #7e7e7e 10px, #5c5c5c 10px, #5c5c5c 20px);\n",
       "    }\n",
       "    .progress-bar-interrupted, .progress-bar-interrupted::-webkit-progress-bar {\n",
       "        background: #F44336;\n",
       "    }\n",
       "</style>\n"
      ],
      "text/plain": [
       "<IPython.core.display.HTML object>"
      ]
     },
     "metadata": {},
     "output_type": "display_data"
    },
    {
     "data": {
      "text/html": [
       "\n",
       "    <div>\n",
       "      <progress value='2000' class='' max='2000' style='width:300px; height:20px; vertical-align: middle;'></progress>\n",
       "      100.00% [2000/2000 00:01&lt;00:00]\n",
       "    </div>\n",
       "    "
      ],
      "text/plain": [
       "<IPython.core.display.HTML object>"
      ]
     },
     "metadata": {},
     "output_type": "display_data"
    },
    {
     "name": "stdout",
     "output_type": "stream",
     "text": [
      "Done computing zscores in 2.4945740699768066 seconds\n",
      "Computing zscores for NM_0_0_estimate.pkl\n",
      "SHASHo\n",
      "slope_mu <class 'pcntoolkit.model.hbr.FixedParameterization'>\n",
      "intercept_mu <class 'pcntoolkit.model.hbr.NonCentralRandomFixedParameterization'>\n",
      "mu <class 'pcntoolkit.model.hbr.LinearParameterization'>\n",
      "slope_sigma <class 'pcntoolkit.model.hbr.FixedParameterization'>\n",
      "intercept_sigma <class 'pcntoolkit.model.hbr.FixedParameterization'>\n",
      "sigma <class 'pcntoolkit.model.hbr.LinearParameterization'>\n",
      "epsilon <class 'pcntoolkit.model.hbr.FixedParameterization'>\n",
      "delta <class 'pcntoolkit.model.hbr.FixedParameterization'>\n"
     ]
    },
    {
     "name": "stderr",
     "output_type": "stream",
     "text": [
      "Sampling: [y_like]\n"
     ]
    },
    {
     "data": {
      "text/html": [
       "\n",
       "<style>\n",
       "    /* Turns off some styling */\n",
       "    progress {\n",
       "        /* gets rid of default border in Firefox and Opera. */\n",
       "        border: none;\n",
       "        /* Needs to be in here for Safari polyfill so background images work as expected. */\n",
       "        background-size: auto;\n",
       "    }\n",
       "    progress:not([value]), progress:not([value])::-webkit-progress-bar {\n",
       "        background: repeating-linear-gradient(45deg, #7e7e7e, #7e7e7e 10px, #5c5c5c 10px, #5c5c5c 20px);\n",
       "    }\n",
       "    .progress-bar-interrupted, .progress-bar-interrupted::-webkit-progress-bar {\n",
       "        background: #F44336;\n",
       "    }\n",
       "</style>\n"
      ],
      "text/plain": [
       "<IPython.core.display.HTML object>"
      ]
     },
     "metadata": {},
     "output_type": "display_data"
    },
    {
     "data": {
      "text/html": [
       "\n",
       "    <div>\n",
       "      <progress value='2000' class='' max='2000' style='width:300px; height:20px; vertical-align: middle;'></progress>\n",
       "      100.00% [2000/2000 00:02&lt;00:00]\n",
       "    </div>\n",
       "    "
      ],
      "text/plain": [
       "<IPython.core.display.HTML object>"
      ]
     },
     "metadata": {},
     "output_type": "display_data"
    },
    {
     "name": "stdout",
     "output_type": "stream",
     "text": [
      "Done computing zscores in 4.134807825088501 seconds\n",
      "Computing zscores for NM_0_0_estimate.pkl\n",
      "SHASHb\n",
      "slope_mu <class 'pcntoolkit.model.hbr.FixedParameterization'>\n",
      "intercept_mu <class 'pcntoolkit.model.hbr.NonCentralRandomFixedParameterization'>\n",
      "mu <class 'pcntoolkit.model.hbr.LinearParameterization'>\n",
      "slope_sigma <class 'pcntoolkit.model.hbr.FixedParameterization'>\n",
      "intercept_sigma <class 'pcntoolkit.model.hbr.FixedParameterization'>\n",
      "sigma <class 'pcntoolkit.model.hbr.LinearParameterization'>\n",
      "epsilon <class 'pcntoolkit.model.hbr.FixedParameterization'>\n",
      "delta <class 'pcntoolkit.model.hbr.FixedParameterization'>\n"
     ]
    },
    {
     "name": "stderr",
     "output_type": "stream",
     "text": [
      "Sampling: [y_like]\n"
     ]
    },
    {
     "data": {
      "text/html": [
       "\n",
       "<style>\n",
       "    /* Turns off some styling */\n",
       "    progress {\n",
       "        /* gets rid of default border in Firefox and Opera. */\n",
       "        border: none;\n",
       "        /* Needs to be in here for Safari polyfill so background images work as expected. */\n",
       "        background-size: auto;\n",
       "    }\n",
       "    progress:not([value]), progress:not([value])::-webkit-progress-bar {\n",
       "        background: repeating-linear-gradient(45deg, #7e7e7e, #7e7e7e 10px, #5c5c5c 10px, #5c5c5c 20px);\n",
       "    }\n",
       "    .progress-bar-interrupted, .progress-bar-interrupted::-webkit-progress-bar {\n",
       "        background: #F44336;\n",
       "    }\n",
       "</style>\n"
      ],
      "text/plain": [
       "<IPython.core.display.HTML object>"
      ]
     },
     "metadata": {},
     "output_type": "display_data"
    },
    {
     "data": {
      "text/html": [
       "\n",
       "    <div>\n",
       "      <progress value='2000' class='' max='2000' style='width:300px; height:20px; vertical-align: middle;'></progress>\n",
       "      100.00% [2000/2000 00:03&lt;00:00]\n",
       "    </div>\n",
       "    "
      ],
      "text/plain": [
       "<IPython.core.display.HTML object>"
      ]
     },
     "metadata": {},
     "output_type": "display_data"
    },
    {
     "name": "stdout",
     "output_type": "stream",
     "text": [
      "Done computing zscores in 4.940385580062866 seconds\n",
      "Computing zscores for NM_0_0_estimate.pkl\n",
      "SHASHb\n",
      "slope_mu <class 'pcntoolkit.model.hbr.FixedParameterization'>\n",
      "intercept_mu <class 'pcntoolkit.model.hbr.NonCentralRandomFixedParameterization'>\n",
      "mu <class 'pcntoolkit.model.hbr.LinearParameterization'>\n",
      "slope_sigma <class 'pcntoolkit.model.hbr.FixedParameterization'>\n",
      "intercept_sigma <class 'pcntoolkit.model.hbr.FixedParameterization'>\n",
      "sigma <class 'pcntoolkit.model.hbr.LinearParameterization'>\n",
      "slope_epsilon <class 'pcntoolkit.model.hbr.FixedParameterization'>\n",
      "intercept_epsilon <class 'pcntoolkit.model.hbr.FixedParameterization'>\n",
      "epsilon <class 'pcntoolkit.model.hbr.LinearParameterization'>\n",
      "slope_delta <class 'pcntoolkit.model.hbr.FixedParameterization'>\n",
      "intercept_delta <class 'pcntoolkit.model.hbr.FixedParameterization'>\n",
      "delta <class 'pcntoolkit.model.hbr.LinearParameterization'>\n"
     ]
    },
    {
     "name": "stderr",
     "output_type": "stream",
     "text": [
      "Sampling: [y_like]\n"
     ]
    },
    {
     "data": {
      "text/html": [
       "\n",
       "<style>\n",
       "    /* Turns off some styling */\n",
       "    progress {\n",
       "        /* gets rid of default border in Firefox and Opera. */\n",
       "        border: none;\n",
       "        /* Needs to be in here for Safari polyfill so background images work as expected. */\n",
       "        background-size: auto;\n",
       "    }\n",
       "    progress:not([value]), progress:not([value])::-webkit-progress-bar {\n",
       "        background: repeating-linear-gradient(45deg, #7e7e7e, #7e7e7e 10px, #5c5c5c 10px, #5c5c5c 20px);\n",
       "    }\n",
       "    .progress-bar-interrupted, .progress-bar-interrupted::-webkit-progress-bar {\n",
       "        background: #F44336;\n",
       "    }\n",
       "</style>\n"
      ],
      "text/plain": [
       "<IPython.core.display.HTML object>"
      ]
     },
     "metadata": {},
     "output_type": "display_data"
    },
    {
     "data": {
      "text/html": [
       "\n",
       "    <div>\n",
       "      <progress value='2000' class='' max='2000' style='width:300px; height:20px; vertical-align: middle;'></progress>\n",
       "      100.00% [2000/2000 00:11&lt;00:00]\n",
       "    </div>\n",
       "    "
      ],
      "text/plain": [
       "<IPython.core.display.HTML object>"
      ]
     },
     "metadata": {},
     "output_type": "display_data"
    },
    {
     "name": "stdout",
     "output_type": "stream",
     "text": [
      "Done computing zscores in 38.58401656150818 seconds\n"
     ]
    },
    {
     "name": "stderr",
     "output_type": "stream",
     "text": [
      "Sampling: [y_like]\n"
     ]
    },
    {
     "name": "stdout",
     "output_type": "stream",
     "text": [
      "Computing zscores for NM_0_0_estimate.pkl\n",
      "Normal\n",
      "slope_mu <class 'pcntoolkit.model.hbr.FixedParameterization'>\n",
      "intercept_mu <class 'pcntoolkit.model.hbr.NonCentralRandomFixedParameterization'>\n",
      "mu <class 'pcntoolkit.model.hbr.LinearParameterization'>\n",
      "slope_sigma <class 'pcntoolkit.model.hbr.FixedParameterization'>\n",
      "intercept_sigma <class 'pcntoolkit.model.hbr.FixedParameterization'>\n",
      "sigma <class 'pcntoolkit.model.hbr.LinearParameterization'>\n"
     ]
    },
    {
     "data": {
      "text/html": [
       "\n",
       "<style>\n",
       "    /* Turns off some styling */\n",
       "    progress {\n",
       "        /* gets rid of default border in Firefox and Opera. */\n",
       "        border: none;\n",
       "        /* Needs to be in here for Safari polyfill so background images work as expected. */\n",
       "        background-size: auto;\n",
       "    }\n",
       "    progress:not([value]), progress:not([value])::-webkit-progress-bar {\n",
       "        background: repeating-linear-gradient(45deg, #7e7e7e, #7e7e7e 10px, #5c5c5c 10px, #5c5c5c 20px);\n",
       "    }\n",
       "    .progress-bar-interrupted, .progress-bar-interrupted::-webkit-progress-bar {\n",
       "        background: #F44336;\n",
       "    }\n",
       "</style>\n"
      ],
      "text/plain": [
       "<IPython.core.display.HTML object>"
      ]
     },
     "metadata": {},
     "output_type": "display_data"
    },
    {
     "data": {
      "text/html": [
       "\n",
       "    <div>\n",
       "      <progress value='2000' class='' max='2000' style='width:300px; height:20px; vertical-align: middle;'></progress>\n",
       "      100.00% [2000/2000 00:01&lt;00:00]\n",
       "    </div>\n",
       "    "
      ],
      "text/plain": [
       "<IPython.core.display.HTML object>"
      ]
     },
     "metadata": {},
     "output_type": "display_data"
    },
    {
     "name": "stdout",
     "output_type": "stream",
     "text": [
      "Done computing zscores in 2.262221097946167 seconds\n",
      "Computing zscores for NM_0_0_estimate.pkl\n",
      "SHASHo\n",
      "slope_mu <class 'pcntoolkit.model.hbr.FixedParameterization'>\n",
      "intercept_mu <class 'pcntoolkit.model.hbr.NonCentralRandomFixedParameterization'>\n",
      "mu <class 'pcntoolkit.model.hbr.LinearParameterization'>\n",
      "slope_sigma <class 'pcntoolkit.model.hbr.FixedParameterization'>\n",
      "intercept_sigma <class 'pcntoolkit.model.hbr.FixedParameterization'>\n",
      "sigma <class 'pcntoolkit.model.hbr.LinearParameterization'>\n",
      "epsilon <class 'pcntoolkit.model.hbr.FixedParameterization'>\n",
      "delta <class 'pcntoolkit.model.hbr.FixedParameterization'>\n"
     ]
    },
    {
     "name": "stderr",
     "output_type": "stream",
     "text": [
      "Sampling: [y_like]\n"
     ]
    },
    {
     "data": {
      "text/html": [
       "\n",
       "<style>\n",
       "    /* Turns off some styling */\n",
       "    progress {\n",
       "        /* gets rid of default border in Firefox and Opera. */\n",
       "        border: none;\n",
       "        /* Needs to be in here for Safari polyfill so background images work as expected. */\n",
       "        background-size: auto;\n",
       "    }\n",
       "    progress:not([value]), progress:not([value])::-webkit-progress-bar {\n",
       "        background: repeating-linear-gradient(45deg, #7e7e7e, #7e7e7e 10px, #5c5c5c 10px, #5c5c5c 20px);\n",
       "    }\n",
       "    .progress-bar-interrupted, .progress-bar-interrupted::-webkit-progress-bar {\n",
       "        background: #F44336;\n",
       "    }\n",
       "</style>\n"
      ],
      "text/plain": [
       "<IPython.core.display.HTML object>"
      ]
     },
     "metadata": {},
     "output_type": "display_data"
    },
    {
     "data": {
      "text/html": [
       "\n",
       "    <div>\n",
       "      <progress value='2000' class='' max='2000' style='width:300px; height:20px; vertical-align: middle;'></progress>\n",
       "      100.00% [2000/2000 00:02&lt;00:00]\n",
       "    </div>\n",
       "    "
      ],
      "text/plain": [
       "<IPython.core.display.HTML object>"
      ]
     },
     "metadata": {},
     "output_type": "display_data"
    },
    {
     "name": "stdout",
     "output_type": "stream",
     "text": [
      "Done computing zscores in 3.988851308822632 seconds\n",
      "Computing zscores for NM_0_0_estimate.pkl\n",
      "SHASHb\n",
      "slope_mu <class 'pcntoolkit.model.hbr.FixedParameterization'>\n",
      "intercept_mu <class 'pcntoolkit.model.hbr.NonCentralRandomFixedParameterization'>\n",
      "mu <class 'pcntoolkit.model.hbr.LinearParameterization'>\n",
      "slope_sigma <class 'pcntoolkit.model.hbr.FixedParameterization'>\n",
      "intercept_sigma <class 'pcntoolkit.model.hbr.FixedParameterization'>\n",
      "sigma <class 'pcntoolkit.model.hbr.LinearParameterization'>\n",
      "epsilon <class 'pcntoolkit.model.hbr.FixedParameterization'>\n",
      "delta <class 'pcntoolkit.model.hbr.FixedParameterization'>\n"
     ]
    },
    {
     "name": "stderr",
     "output_type": "stream",
     "text": [
      "Sampling: [y_like]\n"
     ]
    },
    {
     "data": {
      "text/html": [
       "\n",
       "<style>\n",
       "    /* Turns off some styling */\n",
       "    progress {\n",
       "        /* gets rid of default border in Firefox and Opera. */\n",
       "        border: none;\n",
       "        /* Needs to be in here for Safari polyfill so background images work as expected. */\n",
       "        background-size: auto;\n",
       "    }\n",
       "    progress:not([value]), progress:not([value])::-webkit-progress-bar {\n",
       "        background: repeating-linear-gradient(45deg, #7e7e7e, #7e7e7e 10px, #5c5c5c 10px, #5c5c5c 20px);\n",
       "    }\n",
       "    .progress-bar-interrupted, .progress-bar-interrupted::-webkit-progress-bar {\n",
       "        background: #F44336;\n",
       "    }\n",
       "</style>\n"
      ],
      "text/plain": [
       "<IPython.core.display.HTML object>"
      ]
     },
     "metadata": {},
     "output_type": "display_data"
    },
    {
     "data": {
      "text/html": [
       "\n",
       "    <div>\n",
       "      <progress value='2000' class='' max='2000' style='width:300px; height:20px; vertical-align: middle;'></progress>\n",
       "      100.00% [2000/2000 00:02&lt;00:00]\n",
       "    </div>\n",
       "    "
      ],
      "text/plain": [
       "<IPython.core.display.HTML object>"
      ]
     },
     "metadata": {},
     "output_type": "display_data"
    },
    {
     "name": "stdout",
     "output_type": "stream",
     "text": [
      "Done computing zscores in 4.488130331039429 seconds\n",
      "Computing zscores for NM_0_0_estimate.pkl\n",
      "SHASHb\n",
      "slope_mu <class 'pcntoolkit.model.hbr.FixedParameterization'>\n",
      "intercept_mu <class 'pcntoolkit.model.hbr.NonCentralRandomFixedParameterization'>\n",
      "mu <class 'pcntoolkit.model.hbr.LinearParameterization'>\n",
      "slope_sigma <class 'pcntoolkit.model.hbr.FixedParameterization'>\n",
      "intercept_sigma <class 'pcntoolkit.model.hbr.FixedParameterization'>\n",
      "sigma <class 'pcntoolkit.model.hbr.LinearParameterization'>\n",
      "slope_epsilon <class 'pcntoolkit.model.hbr.FixedParameterization'>\n",
      "intercept_epsilon <class 'pcntoolkit.model.hbr.FixedParameterization'>\n",
      "epsilon <class 'pcntoolkit.model.hbr.LinearParameterization'>\n",
      "slope_delta <class 'pcntoolkit.model.hbr.FixedParameterization'>\n",
      "intercept_delta <class 'pcntoolkit.model.hbr.FixedParameterization'>\n",
      "delta <class 'pcntoolkit.model.hbr.LinearParameterization'>\n"
     ]
    },
    {
     "name": "stderr",
     "output_type": "stream",
     "text": [
      "Sampling: [y_like]\n"
     ]
    },
    {
     "data": {
      "text/html": [
       "\n",
       "<style>\n",
       "    /* Turns off some styling */\n",
       "    progress {\n",
       "        /* gets rid of default border in Firefox and Opera. */\n",
       "        border: none;\n",
       "        /* Needs to be in here for Safari polyfill so background images work as expected. */\n",
       "        background-size: auto;\n",
       "    }\n",
       "    progress:not([value]), progress:not([value])::-webkit-progress-bar {\n",
       "        background: repeating-linear-gradient(45deg, #7e7e7e, #7e7e7e 10px, #5c5c5c 10px, #5c5c5c 20px);\n",
       "    }\n",
       "    .progress-bar-interrupted, .progress-bar-interrupted::-webkit-progress-bar {\n",
       "        background: #F44336;\n",
       "    }\n",
       "</style>\n"
      ],
      "text/plain": [
       "<IPython.core.display.HTML object>"
      ]
     },
     "metadata": {},
     "output_type": "display_data"
    },
    {
     "data": {
      "text/html": [
       "\n",
       "    <div>\n",
       "      <progress value='2000' class='' max='2000' style='width:300px; height:20px; vertical-align: middle;'></progress>\n",
       "      100.00% [2000/2000 00:11&lt;00:00]\n",
       "    </div>\n",
       "    "
      ],
      "text/plain": [
       "<IPython.core.display.HTML object>"
      ]
     },
     "metadata": {},
     "output_type": "display_data"
    },
    {
     "name": "stdout",
     "output_type": "stream",
     "text": [
      "Done computing zscores in 39.1654531955719 seconds\n"
     ]
    },
    {
     "name": "stderr",
     "output_type": "stream",
     "text": [
      "Sampling: [y_like]\n"
     ]
    },
    {
     "name": "stdout",
     "output_type": "stream",
     "text": [
      "Computing zscores for NM_0_0_estimate.pkl\n",
      "Normal\n",
      "slope_mu <class 'pcntoolkit.model.hbr.FixedParameterization'>\n",
      "intercept_mu <class 'pcntoolkit.model.hbr.NonCentralRandomFixedParameterization'>\n",
      "mu <class 'pcntoolkit.model.hbr.LinearParameterization'>\n",
      "slope_sigma <class 'pcntoolkit.model.hbr.FixedParameterization'>\n",
      "intercept_sigma <class 'pcntoolkit.model.hbr.FixedParameterization'>\n",
      "sigma <class 'pcntoolkit.model.hbr.LinearParameterization'>\n"
     ]
    },
    {
     "data": {
      "text/html": [
       "\n",
       "<style>\n",
       "    /* Turns off some styling */\n",
       "    progress {\n",
       "        /* gets rid of default border in Firefox and Opera. */\n",
       "        border: none;\n",
       "        /* Needs to be in here for Safari polyfill so background images work as expected. */\n",
       "        background-size: auto;\n",
       "    }\n",
       "    progress:not([value]), progress:not([value])::-webkit-progress-bar {\n",
       "        background: repeating-linear-gradient(45deg, #7e7e7e, #7e7e7e 10px, #5c5c5c 10px, #5c5c5c 20px);\n",
       "    }\n",
       "    .progress-bar-interrupted, .progress-bar-interrupted::-webkit-progress-bar {\n",
       "        background: #F44336;\n",
       "    }\n",
       "</style>\n"
      ],
      "text/plain": [
       "<IPython.core.display.HTML object>"
      ]
     },
     "metadata": {},
     "output_type": "display_data"
    },
    {
     "data": {
      "text/html": [
       "\n",
       "    <div>\n",
       "      <progress value='2000' class='' max='2000' style='width:300px; height:20px; vertical-align: middle;'></progress>\n",
       "      100.00% [2000/2000 00:01&lt;00:00]\n",
       "    </div>\n",
       "    "
      ],
      "text/plain": [
       "<IPython.core.display.HTML object>"
      ]
     },
     "metadata": {},
     "output_type": "display_data"
    },
    {
     "name": "stdout",
     "output_type": "stream",
     "text": [
      "Done computing zscores in 2.254831075668335 seconds\n",
      "Computing zscores for NM_0_0_estimate.pkl\n",
      "SHASHo\n",
      "slope_mu <class 'pcntoolkit.model.hbr.FixedParameterization'>\n",
      "intercept_mu <class 'pcntoolkit.model.hbr.NonCentralRandomFixedParameterization'>\n",
      "mu <class 'pcntoolkit.model.hbr.LinearParameterization'>\n",
      "slope_sigma <class 'pcntoolkit.model.hbr.FixedParameterization'>\n",
      "intercept_sigma <class 'pcntoolkit.model.hbr.FixedParameterization'>\n",
      "sigma <class 'pcntoolkit.model.hbr.LinearParameterization'>\n",
      "epsilon <class 'pcntoolkit.model.hbr.FixedParameterization'>\n",
      "delta <class 'pcntoolkit.model.hbr.FixedParameterization'>\n"
     ]
    },
    {
     "name": "stderr",
     "output_type": "stream",
     "text": [
      "Sampling: [y_like]\n"
     ]
    },
    {
     "data": {
      "text/html": [
       "\n",
       "<style>\n",
       "    /* Turns off some styling */\n",
       "    progress {\n",
       "        /* gets rid of default border in Firefox and Opera. */\n",
       "        border: none;\n",
       "        /* Needs to be in here for Safari polyfill so background images work as expected. */\n",
       "        background-size: auto;\n",
       "    }\n",
       "    progress:not([value]), progress:not([value])::-webkit-progress-bar {\n",
       "        background: repeating-linear-gradient(45deg, #7e7e7e, #7e7e7e 10px, #5c5c5c 10px, #5c5c5c 20px);\n",
       "    }\n",
       "    .progress-bar-interrupted, .progress-bar-interrupted::-webkit-progress-bar {\n",
       "        background: #F44336;\n",
       "    }\n",
       "</style>\n"
      ],
      "text/plain": [
       "<IPython.core.display.HTML object>"
      ]
     },
     "metadata": {},
     "output_type": "display_data"
    },
    {
     "data": {
      "text/html": [
       "\n",
       "    <div>\n",
       "      <progress value='2000' class='' max='2000' style='width:300px; height:20px; vertical-align: middle;'></progress>\n",
       "      100.00% [2000/2000 00:02&lt;00:00]\n",
       "    </div>\n",
       "    "
      ],
      "text/plain": [
       "<IPython.core.display.HTML object>"
      ]
     },
     "metadata": {},
     "output_type": "display_data"
    },
    {
     "name": "stdout",
     "output_type": "stream",
     "text": [
      "Done computing zscores in 4.093035936355591 seconds\n",
      "Computing zscores for NM_0_0_estimate.pkl\n",
      "SHASHb\n",
      "slope_mu <class 'pcntoolkit.model.hbr.FixedParameterization'>\n",
      "intercept_mu <class 'pcntoolkit.model.hbr.NonCentralRandomFixedParameterization'>\n",
      "mu <class 'pcntoolkit.model.hbr.LinearParameterization'>\n",
      "slope_sigma <class 'pcntoolkit.model.hbr.FixedParameterization'>\n",
      "intercept_sigma <class 'pcntoolkit.model.hbr.FixedParameterization'>\n",
      "sigma <class 'pcntoolkit.model.hbr.LinearParameterization'>\n",
      "epsilon <class 'pcntoolkit.model.hbr.FixedParameterization'>\n",
      "delta <class 'pcntoolkit.model.hbr.FixedParameterization'>\n"
     ]
    },
    {
     "name": "stderr",
     "output_type": "stream",
     "text": [
      "Sampling: [y_like]\n"
     ]
    },
    {
     "data": {
      "text/html": [
       "\n",
       "<style>\n",
       "    /* Turns off some styling */\n",
       "    progress {\n",
       "        /* gets rid of default border in Firefox and Opera. */\n",
       "        border: none;\n",
       "        /* Needs to be in here for Safari polyfill so background images work as expected. */\n",
       "        background-size: auto;\n",
       "    }\n",
       "    progress:not([value]), progress:not([value])::-webkit-progress-bar {\n",
       "        background: repeating-linear-gradient(45deg, #7e7e7e, #7e7e7e 10px, #5c5c5c 10px, #5c5c5c 20px);\n",
       "    }\n",
       "    .progress-bar-interrupted, .progress-bar-interrupted::-webkit-progress-bar {\n",
       "        background: #F44336;\n",
       "    }\n",
       "</style>\n"
      ],
      "text/plain": [
       "<IPython.core.display.HTML object>"
      ]
     },
     "metadata": {},
     "output_type": "display_data"
    },
    {
     "data": {
      "text/html": [
       "\n",
       "    <div>\n",
       "      <progress value='2000' class='' max='2000' style='width:300px; height:20px; vertical-align: middle;'></progress>\n",
       "      100.00% [2000/2000 00:03&lt;00:00]\n",
       "    </div>\n",
       "    "
      ],
      "text/plain": [
       "<IPython.core.display.HTML object>"
      ]
     },
     "metadata": {},
     "output_type": "display_data"
    },
    {
     "name": "stdout",
     "output_type": "stream",
     "text": [
      "Done computing zscores in 4.5972325801849365 seconds\n",
      "Computing zscores for NM_0_0_estimate.pkl\n",
      "SHASHb\n",
      "slope_mu <class 'pcntoolkit.model.hbr.FixedParameterization'>\n",
      "intercept_mu <class 'pcntoolkit.model.hbr.NonCentralRandomFixedParameterization'>\n",
      "mu <class 'pcntoolkit.model.hbr.LinearParameterization'>\n",
      "slope_sigma <class 'pcntoolkit.model.hbr.FixedParameterization'>\n",
      "intercept_sigma <class 'pcntoolkit.model.hbr.FixedParameterization'>\n",
      "sigma <class 'pcntoolkit.model.hbr.LinearParameterization'>\n",
      "slope_epsilon <class 'pcntoolkit.model.hbr.FixedParameterization'>\n",
      "intercept_epsilon <class 'pcntoolkit.model.hbr.FixedParameterization'>\n",
      "epsilon <class 'pcntoolkit.model.hbr.LinearParameterization'>\n",
      "slope_delta <class 'pcntoolkit.model.hbr.FixedParameterization'>\n",
      "intercept_delta <class 'pcntoolkit.model.hbr.FixedParameterization'>\n",
      "delta <class 'pcntoolkit.model.hbr.LinearParameterization'>\n"
     ]
    },
    {
     "name": "stderr",
     "output_type": "stream",
     "text": [
      "Sampling: [y_like]\n"
     ]
    },
    {
     "data": {
      "text/html": [
       "\n",
       "<style>\n",
       "    /* Turns off some styling */\n",
       "    progress {\n",
       "        /* gets rid of default border in Firefox and Opera. */\n",
       "        border: none;\n",
       "        /* Needs to be in here for Safari polyfill so background images work as expected. */\n",
       "        background-size: auto;\n",
       "    }\n",
       "    progress:not([value]), progress:not([value])::-webkit-progress-bar {\n",
       "        background: repeating-linear-gradient(45deg, #7e7e7e, #7e7e7e 10px, #5c5c5c 10px, #5c5c5c 20px);\n",
       "    }\n",
       "    .progress-bar-interrupted, .progress-bar-interrupted::-webkit-progress-bar {\n",
       "        background: #F44336;\n",
       "    }\n",
       "</style>\n"
      ],
      "text/plain": [
       "<IPython.core.display.HTML object>"
      ]
     },
     "metadata": {},
     "output_type": "display_data"
    },
    {
     "data": {
      "text/html": [
       "\n",
       "    <div>\n",
       "      <progress value='2000' class='' max='2000' style='width:300px; height:20px; vertical-align: middle;'></progress>\n",
       "      100.00% [2000/2000 00:11&lt;00:00]\n",
       "    </div>\n",
       "    "
      ],
      "text/plain": [
       "<IPython.core.display.HTML object>"
      ]
     },
     "metadata": {},
     "output_type": "display_data"
    },
    {
     "name": "stdout",
     "output_type": "stream",
     "text": [
      "Done computing zscores in 38.11598992347717 seconds\n"
     ]
    },
    {
     "name": "stderr",
     "output_type": "stream",
     "text": [
      "Sampling: [y_like]\n"
     ]
    },
    {
     "name": "stdout",
     "output_type": "stream",
     "text": [
      "Computing zscores for NM_0_0_estimate.pkl\n",
      "Normal\n",
      "slope_mu <class 'pcntoolkit.model.hbr.FixedParameterization'>\n",
      "intercept_mu <class 'pcntoolkit.model.hbr.NonCentralRandomFixedParameterization'>\n",
      "mu <class 'pcntoolkit.model.hbr.LinearParameterization'>\n",
      "slope_sigma <class 'pcntoolkit.model.hbr.FixedParameterization'>\n",
      "intercept_sigma <class 'pcntoolkit.model.hbr.FixedParameterization'>\n",
      "sigma <class 'pcntoolkit.model.hbr.LinearParameterization'>\n"
     ]
    },
    {
     "data": {
      "text/html": [
       "\n",
       "<style>\n",
       "    /* Turns off some styling */\n",
       "    progress {\n",
       "        /* gets rid of default border in Firefox and Opera. */\n",
       "        border: none;\n",
       "        /* Needs to be in here for Safari polyfill so background images work as expected. */\n",
       "        background-size: auto;\n",
       "    }\n",
       "    progress:not([value]), progress:not([value])::-webkit-progress-bar {\n",
       "        background: repeating-linear-gradient(45deg, #7e7e7e, #7e7e7e 10px, #5c5c5c 10px, #5c5c5c 20px);\n",
       "    }\n",
       "    .progress-bar-interrupted, .progress-bar-interrupted::-webkit-progress-bar {\n",
       "        background: #F44336;\n",
       "    }\n",
       "</style>\n"
      ],
      "text/plain": [
       "<IPython.core.display.HTML object>"
      ]
     },
     "metadata": {},
     "output_type": "display_data"
    },
    {
     "data": {
      "text/html": [
       "\n",
       "    <div>\n",
       "      <progress value='2000' class='' max='2000' style='width:300px; height:20px; vertical-align: middle;'></progress>\n",
       "      100.00% [2000/2000 00:01&lt;00:00]\n",
       "    </div>\n",
       "    "
      ],
      "text/plain": [
       "<IPython.core.display.HTML object>"
      ]
     },
     "metadata": {},
     "output_type": "display_data"
    },
    {
     "name": "stdout",
     "output_type": "stream",
     "text": [
      "Done computing zscores in 2.1759755611419678 seconds\n",
      "Computing zscores for NM_0_0_estimate.pkl\n",
      "SHASHo\n",
      "slope_mu <class 'pcntoolkit.model.hbr.FixedParameterization'>\n",
      "intercept_mu <class 'pcntoolkit.model.hbr.NonCentralRandomFixedParameterization'>\n",
      "mu <class 'pcntoolkit.model.hbr.LinearParameterization'>\n",
      "slope_sigma <class 'pcntoolkit.model.hbr.FixedParameterization'>\n",
      "intercept_sigma <class 'pcntoolkit.model.hbr.FixedParameterization'>\n",
      "sigma <class 'pcntoolkit.model.hbr.LinearParameterization'>\n",
      "epsilon <class 'pcntoolkit.model.hbr.FixedParameterization'>\n",
      "delta <class 'pcntoolkit.model.hbr.FixedParameterization'>\n"
     ]
    },
    {
     "name": "stderr",
     "output_type": "stream",
     "text": [
      "Sampling: [y_like]\n"
     ]
    },
    {
     "data": {
      "text/html": [
       "\n",
       "<style>\n",
       "    /* Turns off some styling */\n",
       "    progress {\n",
       "        /* gets rid of default border in Firefox and Opera. */\n",
       "        border: none;\n",
       "        /* Needs to be in here for Safari polyfill so background images work as expected. */\n",
       "        background-size: auto;\n",
       "    }\n",
       "    progress:not([value]), progress:not([value])::-webkit-progress-bar {\n",
       "        background: repeating-linear-gradient(45deg, #7e7e7e, #7e7e7e 10px, #5c5c5c 10px, #5c5c5c 20px);\n",
       "    }\n",
       "    .progress-bar-interrupted, .progress-bar-interrupted::-webkit-progress-bar {\n",
       "        background: #F44336;\n",
       "    }\n",
       "</style>\n"
      ],
      "text/plain": [
       "<IPython.core.display.HTML object>"
      ]
     },
     "metadata": {},
     "output_type": "display_data"
    },
    {
     "data": {
      "text/html": [
       "\n",
       "    <div>\n",
       "      <progress value='2000' class='' max='2000' style='width:300px; height:20px; vertical-align: middle;'></progress>\n",
       "      100.00% [2000/2000 00:02&lt;00:00]\n",
       "    </div>\n",
       "    "
      ],
      "text/plain": [
       "<IPython.core.display.HTML object>"
      ]
     },
     "metadata": {},
     "output_type": "display_data"
    },
    {
     "name": "stdout",
     "output_type": "stream",
     "text": [
      "Done computing zscores in 4.2132344245910645 seconds\n",
      "Computing zscores for NM_0_0_estimate.pkl\n",
      "SHASHb\n",
      "slope_mu <class 'pcntoolkit.model.hbr.FixedParameterization'>\n",
      "intercept_mu <class 'pcntoolkit.model.hbr.NonCentralRandomFixedParameterization'>\n",
      "mu <class 'pcntoolkit.model.hbr.LinearParameterization'>\n",
      "slope_sigma <class 'pcntoolkit.model.hbr.FixedParameterization'>\n",
      "intercept_sigma <class 'pcntoolkit.model.hbr.FixedParameterization'>\n",
      "sigma <class 'pcntoolkit.model.hbr.LinearParameterization'>\n",
      "epsilon <class 'pcntoolkit.model.hbr.FixedParameterization'>\n",
      "delta <class 'pcntoolkit.model.hbr.FixedParameterization'>\n"
     ]
    },
    {
     "name": "stderr",
     "output_type": "stream",
     "text": [
      "Sampling: [y_like]\n"
     ]
    },
    {
     "data": {
      "text/html": [
       "\n",
       "<style>\n",
       "    /* Turns off some styling */\n",
       "    progress {\n",
       "        /* gets rid of default border in Firefox and Opera. */\n",
       "        border: none;\n",
       "        /* Needs to be in here for Safari polyfill so background images work as expected. */\n",
       "        background-size: auto;\n",
       "    }\n",
       "    progress:not([value]), progress:not([value])::-webkit-progress-bar {\n",
       "        background: repeating-linear-gradient(45deg, #7e7e7e, #7e7e7e 10px, #5c5c5c 10px, #5c5c5c 20px);\n",
       "    }\n",
       "    .progress-bar-interrupted, .progress-bar-interrupted::-webkit-progress-bar {\n",
       "        background: #F44336;\n",
       "    }\n",
       "</style>\n"
      ],
      "text/plain": [
       "<IPython.core.display.HTML object>"
      ]
     },
     "metadata": {},
     "output_type": "display_data"
    },
    {
     "data": {
      "text/html": [
       "\n",
       "    <div>\n",
       "      <progress value='2000' class='' max='2000' style='width:300px; height:20px; vertical-align: middle;'></progress>\n",
       "      100.00% [2000/2000 00:03&lt;00:00]\n",
       "    </div>\n",
       "    "
      ],
      "text/plain": [
       "<IPython.core.display.HTML object>"
      ]
     },
     "metadata": {},
     "output_type": "display_data"
    },
    {
     "name": "stdout",
     "output_type": "stream",
     "text": [
      "Done computing zscores in 4.8653693199157715 seconds\n",
      "Computing zscores for NM_0_0_estimate.pkl\n",
      "SHASHb\n",
      "slope_mu <class 'pcntoolkit.model.hbr.FixedParameterization'>\n",
      "intercept_mu <class 'pcntoolkit.model.hbr.NonCentralRandomFixedParameterization'>\n",
      "mu <class 'pcntoolkit.model.hbr.LinearParameterization'>\n",
      "slope_sigma <class 'pcntoolkit.model.hbr.FixedParameterization'>\n",
      "intercept_sigma <class 'pcntoolkit.model.hbr.FixedParameterization'>\n",
      "sigma <class 'pcntoolkit.model.hbr.LinearParameterization'>\n",
      "slope_epsilon <class 'pcntoolkit.model.hbr.FixedParameterization'>\n",
      "intercept_epsilon <class 'pcntoolkit.model.hbr.FixedParameterization'>\n",
      "epsilon <class 'pcntoolkit.model.hbr.LinearParameterization'>\n",
      "slope_delta <class 'pcntoolkit.model.hbr.FixedParameterization'>\n",
      "intercept_delta <class 'pcntoolkit.model.hbr.FixedParameterization'>\n",
      "delta <class 'pcntoolkit.model.hbr.LinearParameterization'>\n"
     ]
    },
    {
     "name": "stderr",
     "output_type": "stream",
     "text": [
      "Sampling: [y_like]\n"
     ]
    },
    {
     "data": {
      "text/html": [
       "\n",
       "<style>\n",
       "    /* Turns off some styling */\n",
       "    progress {\n",
       "        /* gets rid of default border in Firefox and Opera. */\n",
       "        border: none;\n",
       "        /* Needs to be in here for Safari polyfill so background images work as expected. */\n",
       "        background-size: auto;\n",
       "    }\n",
       "    progress:not([value]), progress:not([value])::-webkit-progress-bar {\n",
       "        background: repeating-linear-gradient(45deg, #7e7e7e, #7e7e7e 10px, #5c5c5c 10px, #5c5c5c 20px);\n",
       "    }\n",
       "    .progress-bar-interrupted, .progress-bar-interrupted::-webkit-progress-bar {\n",
       "        background: #F44336;\n",
       "    }\n",
       "</style>\n"
      ],
      "text/plain": [
       "<IPython.core.display.HTML object>"
      ]
     },
     "metadata": {},
     "output_type": "display_data"
    },
    {
     "data": {
      "text/html": [
       "\n",
       "    <div>\n",
       "      <progress value='2000' class='' max='2000' style='width:300px; height:20px; vertical-align: middle;'></progress>\n",
       "      100.00% [2000/2000 00:11&lt;00:00]\n",
       "    </div>\n",
       "    "
      ],
      "text/plain": [
       "<IPython.core.display.HTML object>"
      ]
     },
     "metadata": {},
     "output_type": "display_data"
    },
    {
     "name": "stdout",
     "output_type": "stream",
     "text": [
      "Done computing zscores in 38.77413892745972 seconds\n"
     ]
    },
    {
     "name": "stderr",
     "output_type": "stream",
     "text": [
      "Sampling: [y_like]\n"
     ]
    },
    {
     "name": "stdout",
     "output_type": "stream",
     "text": [
      "Computing zscores for NM_0_0_estimate.pkl\n",
      "Normal\n",
      "slope_mu <class 'pcntoolkit.model.hbr.FixedParameterization'>\n",
      "intercept_mu <class 'pcntoolkit.model.hbr.NonCentralRandomFixedParameterization'>\n",
      "mu <class 'pcntoolkit.model.hbr.LinearParameterization'>\n",
      "slope_sigma <class 'pcntoolkit.model.hbr.FixedParameterization'>\n",
      "intercept_sigma <class 'pcntoolkit.model.hbr.FixedParameterization'>\n",
      "sigma <class 'pcntoolkit.model.hbr.LinearParameterization'>\n"
     ]
    },
    {
     "data": {
      "text/html": [
       "\n",
       "<style>\n",
       "    /* Turns off some styling */\n",
       "    progress {\n",
       "        /* gets rid of default border in Firefox and Opera. */\n",
       "        border: none;\n",
       "        /* Needs to be in here for Safari polyfill so background images work as expected. */\n",
       "        background-size: auto;\n",
       "    }\n",
       "    progress:not([value]), progress:not([value])::-webkit-progress-bar {\n",
       "        background: repeating-linear-gradient(45deg, #7e7e7e, #7e7e7e 10px, #5c5c5c 10px, #5c5c5c 20px);\n",
       "    }\n",
       "    .progress-bar-interrupted, .progress-bar-interrupted::-webkit-progress-bar {\n",
       "        background: #F44336;\n",
       "    }\n",
       "</style>\n"
      ],
      "text/plain": [
       "<IPython.core.display.HTML object>"
      ]
     },
     "metadata": {},
     "output_type": "display_data"
    },
    {
     "data": {
      "text/html": [
       "\n",
       "    <div>\n",
       "      <progress value='2000' class='' max='2000' style='width:300px; height:20px; vertical-align: middle;'></progress>\n",
       "      100.00% [2000/2000 00:01&lt;00:00]\n",
       "    </div>\n",
       "    "
      ],
      "text/plain": [
       "<IPython.core.display.HTML object>"
      ]
     },
     "metadata": {},
     "output_type": "display_data"
    },
    {
     "name": "stdout",
     "output_type": "stream",
     "text": [
      "Done computing zscores in 2.394617795944214 seconds\n"
     ]
    },
    {
     "name": "stderr",
     "output_type": "stream",
     "text": [
      "Sampling: [y_like]\n"
     ]
    },
    {
     "name": "stdout",
     "output_type": "stream",
     "text": [
      "Computing zscores for NM_0_0_estimate.pkl\n",
      "SHASHo\n",
      "slope_mu <class 'pcntoolkit.model.hbr.FixedParameterization'>\n",
      "intercept_mu <class 'pcntoolkit.model.hbr.NonCentralRandomFixedParameterization'>\n",
      "mu <class 'pcntoolkit.model.hbr.LinearParameterization'>\n",
      "slope_sigma <class 'pcntoolkit.model.hbr.FixedParameterization'>\n",
      "intercept_sigma <class 'pcntoolkit.model.hbr.FixedParameterization'>\n",
      "sigma <class 'pcntoolkit.model.hbr.LinearParameterization'>\n",
      "epsilon <class 'pcntoolkit.model.hbr.FixedParameterization'>\n",
      "delta <class 'pcntoolkit.model.hbr.FixedParameterization'>\n"
     ]
    },
    {
     "data": {
      "text/html": [
       "\n",
       "<style>\n",
       "    /* Turns off some styling */\n",
       "    progress {\n",
       "        /* gets rid of default border in Firefox and Opera. */\n",
       "        border: none;\n",
       "        /* Needs to be in here for Safari polyfill so background images work as expected. */\n",
       "        background-size: auto;\n",
       "    }\n",
       "    progress:not([value]), progress:not([value])::-webkit-progress-bar {\n",
       "        background: repeating-linear-gradient(45deg, #7e7e7e, #7e7e7e 10px, #5c5c5c 10px, #5c5c5c 20px);\n",
       "    }\n",
       "    .progress-bar-interrupted, .progress-bar-interrupted::-webkit-progress-bar {\n",
       "        background: #F44336;\n",
       "    }\n",
       "</style>\n"
      ],
      "text/plain": [
       "<IPython.core.display.HTML object>"
      ]
     },
     "metadata": {},
     "output_type": "display_data"
    },
    {
     "data": {
      "text/html": [
       "\n",
       "    <div>\n",
       "      <progress value='2000' class='' max='2000' style='width:300px; height:20px; vertical-align: middle;'></progress>\n",
       "      100.00% [2000/2000 00:02&lt;00:00]\n",
       "    </div>\n",
       "    "
      ],
      "text/plain": [
       "<IPython.core.display.HTML object>"
      ]
     },
     "metadata": {},
     "output_type": "display_data"
    },
    {
     "name": "stdout",
     "output_type": "stream",
     "text": [
      "Done computing zscores in 3.737260580062866 seconds\n"
     ]
    },
    {
     "name": "stderr",
     "output_type": "stream",
     "text": [
      "Sampling: [y_like]\n"
     ]
    },
    {
     "name": "stdout",
     "output_type": "stream",
     "text": [
      "Computing zscores for NM_0_0_estimate.pkl\n",
      "SHASHb\n",
      "slope_mu <class 'pcntoolkit.model.hbr.FixedParameterization'>\n",
      "intercept_mu <class 'pcntoolkit.model.hbr.NonCentralRandomFixedParameterization'>\n",
      "mu <class 'pcntoolkit.model.hbr.LinearParameterization'>\n",
      "slope_sigma <class 'pcntoolkit.model.hbr.FixedParameterization'>\n",
      "intercept_sigma <class 'pcntoolkit.model.hbr.FixedParameterization'>\n",
      "sigma <class 'pcntoolkit.model.hbr.LinearParameterization'>\n",
      "epsilon <class 'pcntoolkit.model.hbr.FixedParameterization'>\n",
      "delta <class 'pcntoolkit.model.hbr.FixedParameterization'>\n"
     ]
    },
    {
     "data": {
      "text/html": [
       "\n",
       "<style>\n",
       "    /* Turns off some styling */\n",
       "    progress {\n",
       "        /* gets rid of default border in Firefox and Opera. */\n",
       "        border: none;\n",
       "        /* Needs to be in here for Safari polyfill so background images work as expected. */\n",
       "        background-size: auto;\n",
       "    }\n",
       "    progress:not([value]), progress:not([value])::-webkit-progress-bar {\n",
       "        background: repeating-linear-gradient(45deg, #7e7e7e, #7e7e7e 10px, #5c5c5c 10px, #5c5c5c 20px);\n",
       "    }\n",
       "    .progress-bar-interrupted, .progress-bar-interrupted::-webkit-progress-bar {\n",
       "        background: #F44336;\n",
       "    }\n",
       "</style>\n"
      ],
      "text/plain": [
       "<IPython.core.display.HTML object>"
      ]
     },
     "metadata": {},
     "output_type": "display_data"
    },
    {
     "data": {
      "text/html": [
       "\n",
       "    <div>\n",
       "      <progress value='2000' class='' max='2000' style='width:300px; height:20px; vertical-align: middle;'></progress>\n",
       "      100.00% [2000/2000 00:02&lt;00:00]\n",
       "    </div>\n",
       "    "
      ],
      "text/plain": [
       "<IPython.core.display.HTML object>"
      ]
     },
     "metadata": {},
     "output_type": "display_data"
    },
    {
     "name": "stdout",
     "output_type": "stream",
     "text": [
      "Done computing zscores in 4.3851423263549805 seconds\n",
      "Computing zscores for NM_0_0_estimate.pkl\n",
      "SHASHb\n",
      "slope_mu <class 'pcntoolkit.model.hbr.FixedParameterization'>\n",
      "intercept_mu <class 'pcntoolkit.model.hbr.NonCentralRandomFixedParameterization'>\n",
      "mu <class 'pcntoolkit.model.hbr.LinearParameterization'>\n",
      "slope_sigma <class 'pcntoolkit.model.hbr.FixedParameterization'>\n",
      "intercept_sigma <class 'pcntoolkit.model.hbr.FixedParameterization'>\n",
      "sigma <class 'pcntoolkit.model.hbr.LinearParameterization'>\n",
      "slope_epsilon <class 'pcntoolkit.model.hbr.FixedParameterization'>\n",
      "intercept_epsilon <class 'pcntoolkit.model.hbr.FixedParameterization'>\n",
      "epsilon <class 'pcntoolkit.model.hbr.LinearParameterization'>\n",
      "slope_delta <class 'pcntoolkit.model.hbr.FixedParameterization'>\n",
      "intercept_delta <class 'pcntoolkit.model.hbr.FixedParameterization'>\n",
      "delta <class 'pcntoolkit.model.hbr.LinearParameterization'>\n"
     ]
    },
    {
     "name": "stderr",
     "output_type": "stream",
     "text": [
      "Sampling: [y_like]\n"
     ]
    },
    {
     "data": {
      "text/html": [
       "\n",
       "<style>\n",
       "    /* Turns off some styling */\n",
       "    progress {\n",
       "        /* gets rid of default border in Firefox and Opera. */\n",
       "        border: none;\n",
       "        /* Needs to be in here for Safari polyfill so background images work as expected. */\n",
       "        background-size: auto;\n",
       "    }\n",
       "    progress:not([value]), progress:not([value])::-webkit-progress-bar {\n",
       "        background: repeating-linear-gradient(45deg, #7e7e7e, #7e7e7e 10px, #5c5c5c 10px, #5c5c5c 20px);\n",
       "    }\n",
       "    .progress-bar-interrupted, .progress-bar-interrupted::-webkit-progress-bar {\n",
       "        background: #F44336;\n",
       "    }\n",
       "</style>\n"
      ],
      "text/plain": [
       "<IPython.core.display.HTML object>"
      ]
     },
     "metadata": {},
     "output_type": "display_data"
    },
    {
     "data": {
      "text/html": [
       "\n",
       "    <div>\n",
       "      <progress value='2000' class='' max='2000' style='width:300px; height:20px; vertical-align: middle;'></progress>\n",
       "      100.00% [2000/2000 00:11&lt;00:00]\n",
       "    </div>\n",
       "    "
      ],
      "text/plain": [
       "<IPython.core.display.HTML object>"
      ]
     },
     "metadata": {},
     "output_type": "display_data"
    },
    {
     "name": "stdout",
     "output_type": "stream",
     "text": [
      "Done computing zscores in 39.95627808570862 seconds\n"
     ]
    },
    {
     "name": "stderr",
     "output_type": "stream",
     "text": [
      "Sampling: [y_like]\n"
     ]
    },
    {
     "name": "stdout",
     "output_type": "stream",
     "text": [
      "Computing zscores for NM_0_0_estimate.pkl\n",
      "Normal\n",
      "slope_mu <class 'pcntoolkit.model.hbr.FixedParameterization'>\n",
      "intercept_mu <class 'pcntoolkit.model.hbr.NonCentralRandomFixedParameterization'>\n",
      "mu <class 'pcntoolkit.model.hbr.LinearParameterization'>\n",
      "slope_sigma <class 'pcntoolkit.model.hbr.FixedParameterization'>\n",
      "intercept_sigma <class 'pcntoolkit.model.hbr.FixedParameterization'>\n",
      "sigma <class 'pcntoolkit.model.hbr.LinearParameterization'>\n"
     ]
    },
    {
     "data": {
      "text/html": [
       "\n",
       "<style>\n",
       "    /* Turns off some styling */\n",
       "    progress {\n",
       "        /* gets rid of default border in Firefox and Opera. */\n",
       "        border: none;\n",
       "        /* Needs to be in here for Safari polyfill so background images work as expected. */\n",
       "        background-size: auto;\n",
       "    }\n",
       "    progress:not([value]), progress:not([value])::-webkit-progress-bar {\n",
       "        background: repeating-linear-gradient(45deg, #7e7e7e, #7e7e7e 10px, #5c5c5c 10px, #5c5c5c 20px);\n",
       "    }\n",
       "    .progress-bar-interrupted, .progress-bar-interrupted::-webkit-progress-bar {\n",
       "        background: #F44336;\n",
       "    }\n",
       "</style>\n"
      ],
      "text/plain": [
       "<IPython.core.display.HTML object>"
      ]
     },
     "metadata": {},
     "output_type": "display_data"
    },
    {
     "data": {
      "text/html": [
       "\n",
       "    <div>\n",
       "      <progress value='2000' class='' max='2000' style='width:300px; height:20px; vertical-align: middle;'></progress>\n",
       "      100.00% [2000/2000 00:01&lt;00:00]\n",
       "    </div>\n",
       "    "
      ],
      "text/plain": [
       "<IPython.core.display.HTML object>"
      ]
     },
     "metadata": {},
     "output_type": "display_data"
    },
    {
     "name": "stdout",
     "output_type": "stream",
     "text": [
      "Done computing zscores in 2.226994037628174 seconds\n",
      "Computing zscores for NM_0_0_estimate.pkl\n",
      "SHASHo\n",
      "slope_mu <class 'pcntoolkit.model.hbr.FixedParameterization'>\n",
      "intercept_mu <class 'pcntoolkit.model.hbr.NonCentralRandomFixedParameterization'>\n",
      "mu <class 'pcntoolkit.model.hbr.LinearParameterization'>\n",
      "slope_sigma <class 'pcntoolkit.model.hbr.FixedParameterization'>\n",
      "intercept_sigma <class 'pcntoolkit.model.hbr.FixedParameterization'>\n",
      "sigma <class 'pcntoolkit.model.hbr.LinearParameterization'>\n",
      "epsilon <class 'pcntoolkit.model.hbr.FixedParameterization'>\n",
      "delta <class 'pcntoolkit.model.hbr.FixedParameterization'>\n"
     ]
    },
    {
     "name": "stderr",
     "output_type": "stream",
     "text": [
      "Sampling: [y_like]\n"
     ]
    },
    {
     "data": {
      "text/html": [
       "\n",
       "<style>\n",
       "    /* Turns off some styling */\n",
       "    progress {\n",
       "        /* gets rid of default border in Firefox and Opera. */\n",
       "        border: none;\n",
       "        /* Needs to be in here for Safari polyfill so background images work as expected. */\n",
       "        background-size: auto;\n",
       "    }\n",
       "    progress:not([value]), progress:not([value])::-webkit-progress-bar {\n",
       "        background: repeating-linear-gradient(45deg, #7e7e7e, #7e7e7e 10px, #5c5c5c 10px, #5c5c5c 20px);\n",
       "    }\n",
       "    .progress-bar-interrupted, .progress-bar-interrupted::-webkit-progress-bar {\n",
       "        background: #F44336;\n",
       "    }\n",
       "</style>\n"
      ],
      "text/plain": [
       "<IPython.core.display.HTML object>"
      ]
     },
     "metadata": {},
     "output_type": "display_data"
    },
    {
     "data": {
      "text/html": [
       "\n",
       "    <div>\n",
       "      <progress value='2000' class='' max='2000' style='width:300px; height:20px; vertical-align: middle;'></progress>\n",
       "      100.00% [2000/2000 00:02&lt;00:00]\n",
       "    </div>\n",
       "    "
      ],
      "text/plain": [
       "<IPython.core.display.HTML object>"
      ]
     },
     "metadata": {},
     "output_type": "display_data"
    },
    {
     "name": "stdout",
     "output_type": "stream",
     "text": [
      "Done computing zscores in 3.8009703159332275 seconds\n"
     ]
    },
    {
     "name": "stderr",
     "output_type": "stream",
     "text": [
      "Sampling: [y_like]\n"
     ]
    },
    {
     "name": "stdout",
     "output_type": "stream",
     "text": [
      "Computing zscores for NM_0_0_estimate.pkl\n",
      "SHASHb\n",
      "slope_mu <class 'pcntoolkit.model.hbr.FixedParameterization'>\n",
      "intercept_mu <class 'pcntoolkit.model.hbr.NonCentralRandomFixedParameterization'>\n",
      "mu <class 'pcntoolkit.model.hbr.LinearParameterization'>\n",
      "slope_sigma <class 'pcntoolkit.model.hbr.FixedParameterization'>\n",
      "intercept_sigma <class 'pcntoolkit.model.hbr.FixedParameterization'>\n",
      "sigma <class 'pcntoolkit.model.hbr.LinearParameterization'>\n",
      "epsilon <class 'pcntoolkit.model.hbr.FixedParameterization'>\n",
      "delta <class 'pcntoolkit.model.hbr.FixedParameterization'>\n"
     ]
    },
    {
     "data": {
      "text/html": [
       "\n",
       "<style>\n",
       "    /* Turns off some styling */\n",
       "    progress {\n",
       "        /* gets rid of default border in Firefox and Opera. */\n",
       "        border: none;\n",
       "        /* Needs to be in here for Safari polyfill so background images work as expected. */\n",
       "        background-size: auto;\n",
       "    }\n",
       "    progress:not([value]), progress:not([value])::-webkit-progress-bar {\n",
       "        background: repeating-linear-gradient(45deg, #7e7e7e, #7e7e7e 10px, #5c5c5c 10px, #5c5c5c 20px);\n",
       "    }\n",
       "    .progress-bar-interrupted, .progress-bar-interrupted::-webkit-progress-bar {\n",
       "        background: #F44336;\n",
       "    }\n",
       "</style>\n"
      ],
      "text/plain": [
       "<IPython.core.display.HTML object>"
      ]
     },
     "metadata": {},
     "output_type": "display_data"
    },
    {
     "data": {
      "text/html": [
       "\n",
       "    <div>\n",
       "      <progress value='2000' class='' max='2000' style='width:300px; height:20px; vertical-align: middle;'></progress>\n",
       "      100.00% [2000/2000 00:03&lt;00:00]\n",
       "    </div>\n",
       "    "
      ],
      "text/plain": [
       "<IPython.core.display.HTML object>"
      ]
     },
     "metadata": {},
     "output_type": "display_data"
    },
    {
     "name": "stdout",
     "output_type": "stream",
     "text": [
      "Done computing zscores in 4.58079719543457 seconds\n",
      "Computing zscores for NM_0_0_estimate.pkl\n",
      "SHASHb\n",
      "slope_mu <class 'pcntoolkit.model.hbr.FixedParameterization'>\n",
      "intercept_mu <class 'pcntoolkit.model.hbr.NonCentralRandomFixedParameterization'>\n",
      "mu <class 'pcntoolkit.model.hbr.LinearParameterization'>\n",
      "slope_sigma <class 'pcntoolkit.model.hbr.FixedParameterization'>\n",
      "intercept_sigma <class 'pcntoolkit.model.hbr.FixedParameterization'>\n",
      "sigma <class 'pcntoolkit.model.hbr.LinearParameterization'>\n",
      "slope_epsilon <class 'pcntoolkit.model.hbr.FixedParameterization'>\n",
      "intercept_epsilon <class 'pcntoolkit.model.hbr.FixedParameterization'>\n",
      "epsilon <class 'pcntoolkit.model.hbr.LinearParameterization'>\n",
      "slope_delta <class 'pcntoolkit.model.hbr.FixedParameterization'>\n",
      "intercept_delta <class 'pcntoolkit.model.hbr.FixedParameterization'>\n",
      "delta <class 'pcntoolkit.model.hbr.LinearParameterization'>\n"
     ]
    },
    {
     "name": "stderr",
     "output_type": "stream",
     "text": [
      "Sampling: [y_like]\n"
     ]
    },
    {
     "data": {
      "text/html": [
       "\n",
       "<style>\n",
       "    /* Turns off some styling */\n",
       "    progress {\n",
       "        /* gets rid of default border in Firefox and Opera. */\n",
       "        border: none;\n",
       "        /* Needs to be in here for Safari polyfill so background images work as expected. */\n",
       "        background-size: auto;\n",
       "    }\n",
       "    progress:not([value]), progress:not([value])::-webkit-progress-bar {\n",
       "        background: repeating-linear-gradient(45deg, #7e7e7e, #7e7e7e 10px, #5c5c5c 10px, #5c5c5c 20px);\n",
       "    }\n",
       "    .progress-bar-interrupted, .progress-bar-interrupted::-webkit-progress-bar {\n",
       "        background: #F44336;\n",
       "    }\n",
       "</style>\n"
      ],
      "text/plain": [
       "<IPython.core.display.HTML object>"
      ]
     },
     "metadata": {},
     "output_type": "display_data"
    },
    {
     "data": {
      "text/html": [
       "\n",
       "    <div>\n",
       "      <progress value='2000' class='' max='2000' style='width:300px; height:20px; vertical-align: middle;'></progress>\n",
       "      100.00% [2000/2000 00:11&lt;00:00]\n",
       "    </div>\n",
       "    "
      ],
      "text/plain": [
       "<IPython.core.display.HTML object>"
      ]
     },
     "metadata": {},
     "output_type": "display_data"
    },
    {
     "name": "stdout",
     "output_type": "stream",
     "text": [
      "Done computing zscores in 40.63087582588196 seconds\n"
     ]
    },
    {
     "name": "stderr",
     "output_type": "stream",
     "text": [
      "Sampling: [y_like]\n"
     ]
    },
    {
     "name": "stdout",
     "output_type": "stream",
     "text": [
      "Computing zscores for NM_0_0_estimate.pkl\n",
      "Normal\n",
      "slope_mu <class 'pcntoolkit.model.hbr.FixedParameterization'>\n",
      "intercept_mu <class 'pcntoolkit.model.hbr.NonCentralRandomFixedParameterization'>\n",
      "mu <class 'pcntoolkit.model.hbr.LinearParameterization'>\n",
      "slope_sigma <class 'pcntoolkit.model.hbr.FixedParameterization'>\n",
      "intercept_sigma <class 'pcntoolkit.model.hbr.FixedParameterization'>\n",
      "sigma <class 'pcntoolkit.model.hbr.LinearParameterization'>\n"
     ]
    },
    {
     "data": {
      "text/html": [
       "\n",
       "<style>\n",
       "    /* Turns off some styling */\n",
       "    progress {\n",
       "        /* gets rid of default border in Firefox and Opera. */\n",
       "        border: none;\n",
       "        /* Needs to be in here for Safari polyfill so background images work as expected. */\n",
       "        background-size: auto;\n",
       "    }\n",
       "    progress:not([value]), progress:not([value])::-webkit-progress-bar {\n",
       "        background: repeating-linear-gradient(45deg, #7e7e7e, #7e7e7e 10px, #5c5c5c 10px, #5c5c5c 20px);\n",
       "    }\n",
       "    .progress-bar-interrupted, .progress-bar-interrupted::-webkit-progress-bar {\n",
       "        background: #F44336;\n",
       "    }\n",
       "</style>\n"
      ],
      "text/plain": [
       "<IPython.core.display.HTML object>"
      ]
     },
     "metadata": {},
     "output_type": "display_data"
    },
    {
     "data": {
      "text/html": [
       "\n",
       "    <div>\n",
       "      <progress value='2000' class='' max='2000' style='width:300px; height:20px; vertical-align: middle;'></progress>\n",
       "      100.00% [2000/2000 00:01&lt;00:00]\n",
       "    </div>\n",
       "    "
      ],
      "text/plain": [
       "<IPython.core.display.HTML object>"
      ]
     },
     "metadata": {},
     "output_type": "display_data"
    },
    {
     "name": "stdout",
     "output_type": "stream",
     "text": [
      "Done computing zscores in 2.105923891067505 seconds\n",
      "Computing zscores for NM_0_0_estimate.pkl\n",
      "SHASHo\n",
      "slope_mu <class 'pcntoolkit.model.hbr.FixedParameterization'>\n",
      "intercept_mu <class 'pcntoolkit.model.hbr.NonCentralRandomFixedParameterization'>\n",
      "mu <class 'pcntoolkit.model.hbr.LinearParameterization'>\n",
      "slope_sigma <class 'pcntoolkit.model.hbr.FixedParameterization'>\n",
      "intercept_sigma <class 'pcntoolkit.model.hbr.FixedParameterization'>\n",
      "sigma <class 'pcntoolkit.model.hbr.LinearParameterization'>\n",
      "epsilon <class 'pcntoolkit.model.hbr.FixedParameterization'>\n",
      "delta <class 'pcntoolkit.model.hbr.FixedParameterization'>\n"
     ]
    },
    {
     "name": "stderr",
     "output_type": "stream",
     "text": [
      "Sampling: [y_like]\n"
     ]
    },
    {
     "data": {
      "text/html": [
       "\n",
       "<style>\n",
       "    /* Turns off some styling */\n",
       "    progress {\n",
       "        /* gets rid of default border in Firefox and Opera. */\n",
       "        border: none;\n",
       "        /* Needs to be in here for Safari polyfill so background images work as expected. */\n",
       "        background-size: auto;\n",
       "    }\n",
       "    progress:not([value]), progress:not([value])::-webkit-progress-bar {\n",
       "        background: repeating-linear-gradient(45deg, #7e7e7e, #7e7e7e 10px, #5c5c5c 10px, #5c5c5c 20px);\n",
       "    }\n",
       "    .progress-bar-interrupted, .progress-bar-interrupted::-webkit-progress-bar {\n",
       "        background: #F44336;\n",
       "    }\n",
       "</style>\n"
      ],
      "text/plain": [
       "<IPython.core.display.HTML object>"
      ]
     },
     "metadata": {},
     "output_type": "display_data"
    },
    {
     "data": {
      "text/html": [
       "\n",
       "    <div>\n",
       "      <progress value='2000' class='' max='2000' style='width:300px; height:20px; vertical-align: middle;'></progress>\n",
       "      100.00% [2000/2000 00:02&lt;00:00]\n",
       "    </div>\n",
       "    "
      ],
      "text/plain": [
       "<IPython.core.display.HTML object>"
      ]
     },
     "metadata": {},
     "output_type": "display_data"
    },
    {
     "name": "stdout",
     "output_type": "stream",
     "text": [
      "Done computing zscores in 3.780748128890991 seconds\n"
     ]
    },
    {
     "name": "stderr",
     "output_type": "stream",
     "text": [
      "Sampling: [y_like]\n"
     ]
    },
    {
     "name": "stdout",
     "output_type": "stream",
     "text": [
      "Computing zscores for NM_0_0_estimate.pkl\n",
      "SHASHb\n",
      "slope_mu <class 'pcntoolkit.model.hbr.FixedParameterization'>\n",
      "intercept_mu <class 'pcntoolkit.model.hbr.NonCentralRandomFixedParameterization'>\n",
      "mu <class 'pcntoolkit.model.hbr.LinearParameterization'>\n",
      "slope_sigma <class 'pcntoolkit.model.hbr.FixedParameterization'>\n",
      "intercept_sigma <class 'pcntoolkit.model.hbr.FixedParameterization'>\n",
      "sigma <class 'pcntoolkit.model.hbr.LinearParameterization'>\n",
      "epsilon <class 'pcntoolkit.model.hbr.FixedParameterization'>\n",
      "delta <class 'pcntoolkit.model.hbr.FixedParameterization'>\n"
     ]
    },
    {
     "data": {
      "text/html": [
       "\n",
       "<style>\n",
       "    /* Turns off some styling */\n",
       "    progress {\n",
       "        /* gets rid of default border in Firefox and Opera. */\n",
       "        border: none;\n",
       "        /* Needs to be in here for Safari polyfill so background images work as expected. */\n",
       "        background-size: auto;\n",
       "    }\n",
       "    progress:not([value]), progress:not([value])::-webkit-progress-bar {\n",
       "        background: repeating-linear-gradient(45deg, #7e7e7e, #7e7e7e 10px, #5c5c5c 10px, #5c5c5c 20px);\n",
       "    }\n",
       "    .progress-bar-interrupted, .progress-bar-interrupted::-webkit-progress-bar {\n",
       "        background: #F44336;\n",
       "    }\n",
       "</style>\n"
      ],
      "text/plain": [
       "<IPython.core.display.HTML object>"
      ]
     },
     "metadata": {},
     "output_type": "display_data"
    },
    {
     "data": {
      "text/html": [
       "\n",
       "    <div>\n",
       "      <progress value='2000' class='' max='2000' style='width:300px; height:20px; vertical-align: middle;'></progress>\n",
       "      100.00% [2000/2000 00:02&lt;00:00]\n",
       "    </div>\n",
       "    "
      ],
      "text/plain": [
       "<IPython.core.display.HTML object>"
      ]
     },
     "metadata": {},
     "output_type": "display_data"
    },
    {
     "name": "stdout",
     "output_type": "stream",
     "text": [
      "Done computing zscores in 4.6293745040893555 seconds\n",
      "Computing zscores for NM_0_0_estimate.pkl\n",
      "SHASHb\n",
      "slope_mu <class 'pcntoolkit.model.hbr.FixedParameterization'>\n",
      "intercept_mu <class 'pcntoolkit.model.hbr.NonCentralRandomFixedParameterization'>\n",
      "mu <class 'pcntoolkit.model.hbr.LinearParameterization'>\n",
      "slope_sigma <class 'pcntoolkit.model.hbr.FixedParameterization'>\n",
      "intercept_sigma <class 'pcntoolkit.model.hbr.FixedParameterization'>\n",
      "sigma <class 'pcntoolkit.model.hbr.LinearParameterization'>\n",
      "slope_epsilon <class 'pcntoolkit.model.hbr.FixedParameterization'>\n",
      "intercept_epsilon <class 'pcntoolkit.model.hbr.FixedParameterization'>\n",
      "epsilon <class 'pcntoolkit.model.hbr.LinearParameterization'>\n",
      "slope_delta <class 'pcntoolkit.model.hbr.FixedParameterization'>\n",
      "intercept_delta <class 'pcntoolkit.model.hbr.FixedParameterization'>\n",
      "delta <class 'pcntoolkit.model.hbr.LinearParameterization'>\n"
     ]
    },
    {
     "name": "stderr",
     "output_type": "stream",
     "text": [
      "Sampling: [y_like]\n"
     ]
    },
    {
     "data": {
      "text/html": [
       "\n",
       "<style>\n",
       "    /* Turns off some styling */\n",
       "    progress {\n",
       "        /* gets rid of default border in Firefox and Opera. */\n",
       "        border: none;\n",
       "        /* Needs to be in here for Safari polyfill so background images work as expected. */\n",
       "        background-size: auto;\n",
       "    }\n",
       "    progress:not([value]), progress:not([value])::-webkit-progress-bar {\n",
       "        background: repeating-linear-gradient(45deg, #7e7e7e, #7e7e7e 10px, #5c5c5c 10px, #5c5c5c 20px);\n",
       "    }\n",
       "    .progress-bar-interrupted, .progress-bar-interrupted::-webkit-progress-bar {\n",
       "        background: #F44336;\n",
       "    }\n",
       "</style>\n"
      ],
      "text/plain": [
       "<IPython.core.display.HTML object>"
      ]
     },
     "metadata": {},
     "output_type": "display_data"
    },
    {
     "data": {
      "text/html": [
       "\n",
       "    <div>\n",
       "      <progress value='2000' class='' max='2000' style='width:300px; height:20px; vertical-align: middle;'></progress>\n",
       "      100.00% [2000/2000 00:11&lt;00:00]\n",
       "    </div>\n",
       "    "
      ],
      "text/plain": [
       "<IPython.core.display.HTML object>"
      ]
     },
     "metadata": {},
     "output_type": "display_data"
    },
    {
     "name": "stdout",
     "output_type": "stream",
     "text": [
      "Done computing zscores in 37.58948826789856 seconds\n"
     ]
    },
    {
     "name": "stderr",
     "output_type": "stream",
     "text": [
      "Sampling: [y_like]\n"
     ]
    },
    {
     "name": "stdout",
     "output_type": "stream",
     "text": [
      "Computing zscores for NM_0_0_estimate.pkl\n",
      "Normal\n",
      "slope_mu <class 'pcntoolkit.model.hbr.FixedParameterization'>\n",
      "intercept_mu <class 'pcntoolkit.model.hbr.NonCentralRandomFixedParameterization'>\n",
      "mu <class 'pcntoolkit.model.hbr.LinearParameterization'>\n",
      "slope_sigma <class 'pcntoolkit.model.hbr.FixedParameterization'>\n",
      "intercept_sigma <class 'pcntoolkit.model.hbr.FixedParameterization'>\n",
      "sigma <class 'pcntoolkit.model.hbr.LinearParameterization'>\n"
     ]
    },
    {
     "data": {
      "text/html": [
       "\n",
       "<style>\n",
       "    /* Turns off some styling */\n",
       "    progress {\n",
       "        /* gets rid of default border in Firefox and Opera. */\n",
       "        border: none;\n",
       "        /* Needs to be in here for Safari polyfill so background images work as expected. */\n",
       "        background-size: auto;\n",
       "    }\n",
       "    progress:not([value]), progress:not([value])::-webkit-progress-bar {\n",
       "        background: repeating-linear-gradient(45deg, #7e7e7e, #7e7e7e 10px, #5c5c5c 10px, #5c5c5c 20px);\n",
       "    }\n",
       "    .progress-bar-interrupted, .progress-bar-interrupted::-webkit-progress-bar {\n",
       "        background: #F44336;\n",
       "    }\n",
       "</style>\n"
      ],
      "text/plain": [
       "<IPython.core.display.HTML object>"
      ]
     },
     "metadata": {},
     "output_type": "display_data"
    },
    {
     "data": {
      "text/html": [
       "\n",
       "    <div>\n",
       "      <progress value='2000' class='' max='2000' style='width:300px; height:20px; vertical-align: middle;'></progress>\n",
       "      100.00% [2000/2000 00:01&lt;00:00]\n",
       "    </div>\n",
       "    "
      ],
      "text/plain": [
       "<IPython.core.display.HTML object>"
      ]
     },
     "metadata": {},
     "output_type": "display_data"
    },
    {
     "name": "stdout",
     "output_type": "stream",
     "text": [
      "Done computing zscores in 2.192286729812622 seconds\n",
      "Computing zscores for NM_0_0_estimate.pkl\n",
      "SHASHo\n",
      "slope_mu <class 'pcntoolkit.model.hbr.FixedParameterization'>\n"
     ]
    },
    {
     "name": "stderr",
     "output_type": "stream",
     "text": [
      "Sampling: [y_like]\n"
     ]
    },
    {
     "name": "stdout",
     "output_type": "stream",
     "text": [
      "intercept_mu <class 'pcntoolkit.model.hbr.NonCentralRandomFixedParameterization'>\n",
      "mu <class 'pcntoolkit.model.hbr.LinearParameterization'>\n",
      "slope_sigma <class 'pcntoolkit.model.hbr.FixedParameterization'>\n",
      "intercept_sigma <class 'pcntoolkit.model.hbr.FixedParameterization'>\n",
      "sigma <class 'pcntoolkit.model.hbr.LinearParameterization'>\n",
      "epsilon <class 'pcntoolkit.model.hbr.FixedParameterization'>\n",
      "delta <class 'pcntoolkit.model.hbr.FixedParameterization'>\n"
     ]
    },
    {
     "data": {
      "text/html": [
       "\n",
       "<style>\n",
       "    /* Turns off some styling */\n",
       "    progress {\n",
       "        /* gets rid of default border in Firefox and Opera. */\n",
       "        border: none;\n",
       "        /* Needs to be in here for Safari polyfill so background images work as expected. */\n",
       "        background-size: auto;\n",
       "    }\n",
       "    progress:not([value]), progress:not([value])::-webkit-progress-bar {\n",
       "        background: repeating-linear-gradient(45deg, #7e7e7e, #7e7e7e 10px, #5c5c5c 10px, #5c5c5c 20px);\n",
       "    }\n",
       "    .progress-bar-interrupted, .progress-bar-interrupted::-webkit-progress-bar {\n",
       "        background: #F44336;\n",
       "    }\n",
       "</style>\n"
      ],
      "text/plain": [
       "<IPython.core.display.HTML object>"
      ]
     },
     "metadata": {},
     "output_type": "display_data"
    },
    {
     "data": {
      "text/html": [
       "\n",
       "    <div>\n",
       "      <progress value='2000' class='' max='2000' style='width:300px; height:20px; vertical-align: middle;'></progress>\n",
       "      100.00% [2000/2000 00:02&lt;00:00]\n",
       "    </div>\n",
       "    "
      ],
      "text/plain": [
       "<IPython.core.display.HTML object>"
      ]
     },
     "metadata": {},
     "output_type": "display_data"
    },
    {
     "name": "stdout",
     "output_type": "stream",
     "text": [
      "Done computing zscores in 4.414177417755127 seconds\n",
      "Computing zscores for NM_0_0_estimate.pkl\n",
      "SHASHb\n",
      "slope_mu <class 'pcntoolkit.model.hbr.FixedParameterization'>\n",
      "intercept_mu <class 'pcntoolkit.model.hbr.NonCentralRandomFixedParameterization'>\n",
      "mu <class 'pcntoolkit.model.hbr.LinearParameterization'>\n",
      "slope_sigma <class 'pcntoolkit.model.hbr.FixedParameterization'>\n",
      "intercept_sigma <class 'pcntoolkit.model.hbr.FixedParameterization'>\n",
      "sigma <class 'pcntoolkit.model.hbr.LinearParameterization'>\n",
      "epsilon <class 'pcntoolkit.model.hbr.FixedParameterization'>\n",
      "delta <class 'pcntoolkit.model.hbr.FixedParameterization'>\n"
     ]
    },
    {
     "name": "stderr",
     "output_type": "stream",
     "text": [
      "Sampling: [y_like]\n"
     ]
    },
    {
     "data": {
      "text/html": [
       "\n",
       "<style>\n",
       "    /* Turns off some styling */\n",
       "    progress {\n",
       "        /* gets rid of default border in Firefox and Opera. */\n",
       "        border: none;\n",
       "        /* Needs to be in here for Safari polyfill so background images work as expected. */\n",
       "        background-size: auto;\n",
       "    }\n",
       "    progress:not([value]), progress:not([value])::-webkit-progress-bar {\n",
       "        background: repeating-linear-gradient(45deg, #7e7e7e, #7e7e7e 10px, #5c5c5c 10px, #5c5c5c 20px);\n",
       "    }\n",
       "    .progress-bar-interrupted, .progress-bar-interrupted::-webkit-progress-bar {\n",
       "        background: #F44336;\n",
       "    }\n",
       "</style>\n"
      ],
      "text/plain": [
       "<IPython.core.display.HTML object>"
      ]
     },
     "metadata": {},
     "output_type": "display_data"
    },
    {
     "data": {
      "text/html": [
       "\n",
       "    <div>\n",
       "      <progress value='2000' class='' max='2000' style='width:300px; height:20px; vertical-align: middle;'></progress>\n",
       "      100.00% [2000/2000 00:03&lt;00:00]\n",
       "    </div>\n",
       "    "
      ],
      "text/plain": [
       "<IPython.core.display.HTML object>"
      ]
     },
     "metadata": {},
     "output_type": "display_data"
    },
    {
     "name": "stdout",
     "output_type": "stream",
     "text": [
      "Done computing zscores in 4.806779384613037 seconds\n",
      "Computing zscores for NM_0_0_estimate.pkl\n",
      "SHASHb\n",
      "slope_mu <class 'pcntoolkit.model.hbr.FixedParameterization'>\n",
      "intercept_mu <class 'pcntoolkit.model.hbr.NonCentralRandomFixedParameterization'>\n",
      "mu <class 'pcntoolkit.model.hbr.LinearParameterization'>\n",
      "slope_sigma <class 'pcntoolkit.model.hbr.FixedParameterization'>\n",
      "intercept_sigma <class 'pcntoolkit.model.hbr.FixedParameterization'>\n",
      "sigma <class 'pcntoolkit.model.hbr.LinearParameterization'>\n",
      "slope_epsilon <class 'pcntoolkit.model.hbr.FixedParameterization'>\n",
      "intercept_epsilon <class 'pcntoolkit.model.hbr.FixedParameterization'>\n",
      "epsilon <class 'pcntoolkit.model.hbr.LinearParameterization'>\n",
      "slope_delta <class 'pcntoolkit.model.hbr.FixedParameterization'>\n",
      "intercept_delta <class 'pcntoolkit.model.hbr.FixedParameterization'>\n",
      "delta <class 'pcntoolkit.model.hbr.LinearParameterization'>\n"
     ]
    },
    {
     "name": "stderr",
     "output_type": "stream",
     "text": [
      "Sampling: [y_like]\n"
     ]
    },
    {
     "data": {
      "text/html": [
       "\n",
       "<style>\n",
       "    /* Turns off some styling */\n",
       "    progress {\n",
       "        /* gets rid of default border in Firefox and Opera. */\n",
       "        border: none;\n",
       "        /* Needs to be in here for Safari polyfill so background images work as expected. */\n",
       "        background-size: auto;\n",
       "    }\n",
       "    progress:not([value]), progress:not([value])::-webkit-progress-bar {\n",
       "        background: repeating-linear-gradient(45deg, #7e7e7e, #7e7e7e 10px, #5c5c5c 10px, #5c5c5c 20px);\n",
       "    }\n",
       "    .progress-bar-interrupted, .progress-bar-interrupted::-webkit-progress-bar {\n",
       "        background: #F44336;\n",
       "    }\n",
       "</style>\n"
      ],
      "text/plain": [
       "<IPython.core.display.HTML object>"
      ]
     },
     "metadata": {},
     "output_type": "display_data"
    },
    {
     "data": {
      "text/html": [
       "\n",
       "    <div>\n",
       "      <progress value='2000' class='' max='2000' style='width:300px; height:20px; vertical-align: middle;'></progress>\n",
       "      100.00% [2000/2000 00:11&lt;00:00]\n",
       "    </div>\n",
       "    "
      ],
      "text/plain": [
       "<IPython.core.display.HTML object>"
      ]
     },
     "metadata": {},
     "output_type": "display_data"
    },
    {
     "name": "stdout",
     "output_type": "stream",
     "text": [
      "Done computing zscores in 39.19903826713562 seconds\n"
     ]
    },
    {
     "name": "stderr",
     "output_type": "stream",
     "text": [
      "Sampling: [y_like]\n"
     ]
    },
    {
     "name": "stdout",
     "output_type": "stream",
     "text": [
      "Computing zscores for NM_0_0_estimate.pkl\n",
      "Normal\n",
      "slope_mu <class 'pcntoolkit.model.hbr.FixedParameterization'>\n",
      "intercept_mu <class 'pcntoolkit.model.hbr.NonCentralRandomFixedParameterization'>\n",
      "mu <class 'pcntoolkit.model.hbr.LinearParameterization'>\n",
      "slope_sigma <class 'pcntoolkit.model.hbr.FixedParameterization'>\n",
      "intercept_sigma <class 'pcntoolkit.model.hbr.FixedParameterization'>\n",
      "sigma <class 'pcntoolkit.model.hbr.LinearParameterization'>\n"
     ]
    },
    {
     "data": {
      "text/html": [
       "\n",
       "<style>\n",
       "    /* Turns off some styling */\n",
       "    progress {\n",
       "        /* gets rid of default border in Firefox and Opera. */\n",
       "        border: none;\n",
       "        /* Needs to be in here for Safari polyfill so background images work as expected. */\n",
       "        background-size: auto;\n",
       "    }\n",
       "    progress:not([value]), progress:not([value])::-webkit-progress-bar {\n",
       "        background: repeating-linear-gradient(45deg, #7e7e7e, #7e7e7e 10px, #5c5c5c 10px, #5c5c5c 20px);\n",
       "    }\n",
       "    .progress-bar-interrupted, .progress-bar-interrupted::-webkit-progress-bar {\n",
       "        background: #F44336;\n",
       "    }\n",
       "</style>\n"
      ],
      "text/plain": [
       "<IPython.core.display.HTML object>"
      ]
     },
     "metadata": {},
     "output_type": "display_data"
    },
    {
     "data": {
      "text/html": [
       "\n",
       "    <div>\n",
       "      <progress value='2000' class='' max='2000' style='width:300px; height:20px; vertical-align: middle;'></progress>\n",
       "      100.00% [2000/2000 00:01&lt;00:00]\n",
       "    </div>\n",
       "    "
      ],
      "text/plain": [
       "<IPython.core.display.HTML object>"
      ]
     },
     "metadata": {},
     "output_type": "display_data"
    },
    {
     "name": "stdout",
     "output_type": "stream",
     "text": [
      "Done computing zscores in 2.259783983230591 seconds\n",
      "Computing zscores for NM_0_0_estimate.pkl\n",
      "SHASHo\n",
      "slope_mu <class 'pcntoolkit.model.hbr.FixedParameterization'>\n",
      "intercept_mu <class 'pcntoolkit.model.hbr.NonCentralRandomFixedParameterization'>\n",
      "mu <class 'pcntoolkit.model.hbr.LinearParameterization'>\n",
      "slope_sigma <class 'pcntoolkit.model.hbr.FixedParameterization'>\n",
      "intercept_sigma <class 'pcntoolkit.model.hbr.FixedParameterization'>\n",
      "sigma <class 'pcntoolkit.model.hbr.LinearParameterization'>\n",
      "epsilon <class 'pcntoolkit.model.hbr.FixedParameterization'>\n",
      "delta <class 'pcntoolkit.model.hbr.FixedParameterization'>\n"
     ]
    },
    {
     "name": "stderr",
     "output_type": "stream",
     "text": [
      "Sampling: [y_like]\n"
     ]
    },
    {
     "data": {
      "text/html": [
       "\n",
       "<style>\n",
       "    /* Turns off some styling */\n",
       "    progress {\n",
       "        /* gets rid of default border in Firefox and Opera. */\n",
       "        border: none;\n",
       "        /* Needs to be in here for Safari polyfill so background images work as expected. */\n",
       "        background-size: auto;\n",
       "    }\n",
       "    progress:not([value]), progress:not([value])::-webkit-progress-bar {\n",
       "        background: repeating-linear-gradient(45deg, #7e7e7e, #7e7e7e 10px, #5c5c5c 10px, #5c5c5c 20px);\n",
       "    }\n",
       "    .progress-bar-interrupted, .progress-bar-interrupted::-webkit-progress-bar {\n",
       "        background: #F44336;\n",
       "    }\n",
       "</style>\n"
      ],
      "text/plain": [
       "<IPython.core.display.HTML object>"
      ]
     },
     "metadata": {},
     "output_type": "display_data"
    },
    {
     "data": {
      "text/html": [
       "\n",
       "    <div>\n",
       "      <progress value='2000' class='' max='2000' style='width:300px; height:20px; vertical-align: middle;'></progress>\n",
       "      100.00% [2000/2000 00:02&lt;00:00]\n",
       "    </div>\n",
       "    "
      ],
      "text/plain": [
       "<IPython.core.display.HTML object>"
      ]
     },
     "metadata": {},
     "output_type": "display_data"
    },
    {
     "name": "stdout",
     "output_type": "stream",
     "text": [
      "Done computing zscores in 4.116995334625244 seconds\n"
     ]
    },
    {
     "name": "stderr",
     "output_type": "stream",
     "text": [
      "Sampling: [y_like]\n"
     ]
    },
    {
     "name": "stdout",
     "output_type": "stream",
     "text": [
      "Computing zscores for NM_0_0_estimate.pkl\n",
      "SHASHb\n",
      "slope_mu <class 'pcntoolkit.model.hbr.FixedParameterization'>\n",
      "intercept_mu <class 'pcntoolkit.model.hbr.NonCentralRandomFixedParameterization'>\n",
      "mu <class 'pcntoolkit.model.hbr.LinearParameterization'>\n",
      "slope_sigma <class 'pcntoolkit.model.hbr.FixedParameterization'>\n",
      "intercept_sigma <class 'pcntoolkit.model.hbr.FixedParameterization'>\n",
      "sigma <class 'pcntoolkit.model.hbr.LinearParameterization'>\n",
      "epsilon <class 'pcntoolkit.model.hbr.FixedParameterization'>\n",
      "delta <class 'pcntoolkit.model.hbr.FixedParameterization'>\n"
     ]
    },
    {
     "data": {
      "text/html": [
       "\n",
       "<style>\n",
       "    /* Turns off some styling */\n",
       "    progress {\n",
       "        /* gets rid of default border in Firefox and Opera. */\n",
       "        border: none;\n",
       "        /* Needs to be in here for Safari polyfill so background images work as expected. */\n",
       "        background-size: auto;\n",
       "    }\n",
       "    progress:not([value]), progress:not([value])::-webkit-progress-bar {\n",
       "        background: repeating-linear-gradient(45deg, #7e7e7e, #7e7e7e 10px, #5c5c5c 10px, #5c5c5c 20px);\n",
       "    }\n",
       "    .progress-bar-interrupted, .progress-bar-interrupted::-webkit-progress-bar {\n",
       "        background: #F44336;\n",
       "    }\n",
       "</style>\n"
      ],
      "text/plain": [
       "<IPython.core.display.HTML object>"
      ]
     },
     "metadata": {},
     "output_type": "display_data"
    },
    {
     "data": {
      "text/html": [
       "\n",
       "    <div>\n",
       "      <progress value='2000' class='' max='2000' style='width:300px; height:20px; vertical-align: middle;'></progress>\n",
       "      100.00% [2000/2000 00:02&lt;00:00]\n",
       "    </div>\n",
       "    "
      ],
      "text/plain": [
       "<IPython.core.display.HTML object>"
      ]
     },
     "metadata": {},
     "output_type": "display_data"
    },
    {
     "name": "stdout",
     "output_type": "stream",
     "text": [
      "Done computing zscores in 4.507389068603516 seconds\n",
      "Computing zscores for NM_0_0_estimate.pkl\n",
      "SHASHb\n",
      "slope_mu <class 'pcntoolkit.model.hbr.FixedParameterization'>\n",
      "intercept_mu <class 'pcntoolkit.model.hbr.NonCentralRandomFixedParameterization'>\n",
      "mu <class 'pcntoolkit.model.hbr.LinearParameterization'>\n",
      "slope_sigma <class 'pcntoolkit.model.hbr.FixedParameterization'>\n",
      "intercept_sigma <class 'pcntoolkit.model.hbr.FixedParameterization'>\n",
      "sigma <class 'pcntoolkit.model.hbr.LinearParameterization'>\n",
      "slope_epsilon <class 'pcntoolkit.model.hbr.FixedParameterization'>\n",
      "intercept_epsilon <class 'pcntoolkit.model.hbr.FixedParameterization'>\n",
      "epsilon <class 'pcntoolkit.model.hbr.LinearParameterization'>\n",
      "slope_delta <class 'pcntoolkit.model.hbr.FixedParameterization'>\n",
      "intercept_delta <class 'pcntoolkit.model.hbr.FixedParameterization'>\n",
      "delta <class 'pcntoolkit.model.hbr.LinearParameterization'>\n"
     ]
    },
    {
     "name": "stderr",
     "output_type": "stream",
     "text": [
      "Sampling: [y_like]\n"
     ]
    },
    {
     "data": {
      "text/html": [
       "\n",
       "<style>\n",
       "    /* Turns off some styling */\n",
       "    progress {\n",
       "        /* gets rid of default border in Firefox and Opera. */\n",
       "        border: none;\n",
       "        /* Needs to be in here for Safari polyfill so background images work as expected. */\n",
       "        background-size: auto;\n",
       "    }\n",
       "    progress:not([value]), progress:not([value])::-webkit-progress-bar {\n",
       "        background: repeating-linear-gradient(45deg, #7e7e7e, #7e7e7e 10px, #5c5c5c 10px, #5c5c5c 20px);\n",
       "    }\n",
       "    .progress-bar-interrupted, .progress-bar-interrupted::-webkit-progress-bar {\n",
       "        background: #F44336;\n",
       "    }\n",
       "</style>\n"
      ],
      "text/plain": [
       "<IPython.core.display.HTML object>"
      ]
     },
     "metadata": {},
     "output_type": "display_data"
    },
    {
     "data": {
      "text/html": [
       "\n",
       "    <div>\n",
       "      <progress value='2000' class='' max='2000' style='width:300px; height:20px; vertical-align: middle;'></progress>\n",
       "      100.00% [2000/2000 00:11&lt;00:00]\n",
       "    </div>\n",
       "    "
      ],
      "text/plain": [
       "<IPython.core.display.HTML object>"
      ]
     },
     "metadata": {},
     "output_type": "display_data"
    },
    {
     "name": "stdout",
     "output_type": "stream",
     "text": [
      "Done computing zscores in 39.88656687736511 seconds\n"
     ]
    },
    {
     "name": "stderr",
     "output_type": "stream",
     "text": [
      "Sampling: [y_like]\n"
     ]
    },
    {
     "name": "stdout",
     "output_type": "stream",
     "text": [
      "Computing zscores for NM_0_0_estimate.pkl\n",
      "Normal\n",
      "slope_mu <class 'pcntoolkit.model.hbr.FixedParameterization'>\n",
      "intercept_mu <class 'pcntoolkit.model.hbr.NonCentralRandomFixedParameterization'>\n",
      "mu <class 'pcntoolkit.model.hbr.LinearParameterization'>\n",
      "slope_sigma <class 'pcntoolkit.model.hbr.FixedParameterization'>\n",
      "intercept_sigma <class 'pcntoolkit.model.hbr.FixedParameterization'>\n",
      "sigma <class 'pcntoolkit.model.hbr.LinearParameterization'>\n"
     ]
    },
    {
     "data": {
      "text/html": [
       "\n",
       "<style>\n",
       "    /* Turns off some styling */\n",
       "    progress {\n",
       "        /* gets rid of default border in Firefox and Opera. */\n",
       "        border: none;\n",
       "        /* Needs to be in here for Safari polyfill so background images work as expected. */\n",
       "        background-size: auto;\n",
       "    }\n",
       "    progress:not([value]), progress:not([value])::-webkit-progress-bar {\n",
       "        background: repeating-linear-gradient(45deg, #7e7e7e, #7e7e7e 10px, #5c5c5c 10px, #5c5c5c 20px);\n",
       "    }\n",
       "    .progress-bar-interrupted, .progress-bar-interrupted::-webkit-progress-bar {\n",
       "        background: #F44336;\n",
       "    }\n",
       "</style>\n"
      ],
      "text/plain": [
       "<IPython.core.display.HTML object>"
      ]
     },
     "metadata": {},
     "output_type": "display_data"
    },
    {
     "data": {
      "text/html": [
       "\n",
       "    <div>\n",
       "      <progress value='2000' class='' max='2000' style='width:300px; height:20px; vertical-align: middle;'></progress>\n",
       "      100.00% [2000/2000 00:01&lt;00:00]\n",
       "    </div>\n",
       "    "
      ],
      "text/plain": [
       "<IPython.core.display.HTML object>"
      ]
     },
     "metadata": {},
     "output_type": "display_data"
    },
    {
     "name": "stdout",
     "output_type": "stream",
     "text": [
      "Done computing zscores in 2.325147867202759 seconds\n",
      "Computing zscores for NM_0_0_estimate.pkl\n",
      "SHASHo\n",
      "slope_mu <class 'pcntoolkit.model.hbr.FixedParameterization'>\n",
      "intercept_mu <class 'pcntoolkit.model.hbr.NonCentralRandomFixedParameterization'>\n",
      "mu <class 'pcntoolkit.model.hbr.LinearParameterization'>\n",
      "slope_sigma <class 'pcntoolkit.model.hbr.FixedParameterization'>\n",
      "intercept_sigma <class 'pcntoolkit.model.hbr.FixedParameterization'>\n",
      "sigma <class 'pcntoolkit.model.hbr.LinearParameterization'>\n",
      "epsilon <class 'pcntoolkit.model.hbr.FixedParameterization'>\n",
      "delta <class 'pcntoolkit.model.hbr.FixedParameterization'>\n"
     ]
    },
    {
     "name": "stderr",
     "output_type": "stream",
     "text": [
      "Sampling: [y_like]\n"
     ]
    },
    {
     "data": {
      "text/html": [
       "\n",
       "<style>\n",
       "    /* Turns off some styling */\n",
       "    progress {\n",
       "        /* gets rid of default border in Firefox and Opera. */\n",
       "        border: none;\n",
       "        /* Needs to be in here for Safari polyfill so background images work as expected. */\n",
       "        background-size: auto;\n",
       "    }\n",
       "    progress:not([value]), progress:not([value])::-webkit-progress-bar {\n",
       "        background: repeating-linear-gradient(45deg, #7e7e7e, #7e7e7e 10px, #5c5c5c 10px, #5c5c5c 20px);\n",
       "    }\n",
       "    .progress-bar-interrupted, .progress-bar-interrupted::-webkit-progress-bar {\n",
       "        background: #F44336;\n",
       "    }\n",
       "</style>\n"
      ],
      "text/plain": [
       "<IPython.core.display.HTML object>"
      ]
     },
     "metadata": {},
     "output_type": "display_data"
    },
    {
     "data": {
      "text/html": [
       "\n",
       "    <div>\n",
       "      <progress value='2000' class='' max='2000' style='width:300px; height:20px; vertical-align: middle;'></progress>\n",
       "      100.00% [2000/2000 00:02&lt;00:00]\n",
       "    </div>\n",
       "    "
      ],
      "text/plain": [
       "<IPython.core.display.HTML object>"
      ]
     },
     "metadata": {},
     "output_type": "display_data"
    },
    {
     "name": "stdout",
     "output_type": "stream",
     "text": [
      "Done computing zscores in 4.060676574707031 seconds\n"
     ]
    },
    {
     "name": "stderr",
     "output_type": "stream",
     "text": [
      "Sampling: [y_like]\n"
     ]
    },
    {
     "name": "stdout",
     "output_type": "stream",
     "text": [
      "Computing zscores for NM_0_0_estimate.pkl\n",
      "SHASHb\n",
      "slope_mu <class 'pcntoolkit.model.hbr.FixedParameterization'>\n",
      "intercept_mu <class 'pcntoolkit.model.hbr.NonCentralRandomFixedParameterization'>\n",
      "mu <class 'pcntoolkit.model.hbr.LinearParameterization'>\n",
      "slope_sigma <class 'pcntoolkit.model.hbr.FixedParameterization'>\n",
      "intercept_sigma <class 'pcntoolkit.model.hbr.FixedParameterization'>\n",
      "sigma <class 'pcntoolkit.model.hbr.LinearParameterization'>\n",
      "epsilon <class 'pcntoolkit.model.hbr.FixedParameterization'>\n",
      "delta <class 'pcntoolkit.model.hbr.FixedParameterization'>\n"
     ]
    },
    {
     "data": {
      "text/html": [
       "\n",
       "<style>\n",
       "    /* Turns off some styling */\n",
       "    progress {\n",
       "        /* gets rid of default border in Firefox and Opera. */\n",
       "        border: none;\n",
       "        /* Needs to be in here for Safari polyfill so background images work as expected. */\n",
       "        background-size: auto;\n",
       "    }\n",
       "    progress:not([value]), progress:not([value])::-webkit-progress-bar {\n",
       "        background: repeating-linear-gradient(45deg, #7e7e7e, #7e7e7e 10px, #5c5c5c 10px, #5c5c5c 20px);\n",
       "    }\n",
       "    .progress-bar-interrupted, .progress-bar-interrupted::-webkit-progress-bar {\n",
       "        background: #F44336;\n",
       "    }\n",
       "</style>\n"
      ],
      "text/plain": [
       "<IPython.core.display.HTML object>"
      ]
     },
     "metadata": {},
     "output_type": "display_data"
    },
    {
     "data": {
      "text/html": [
       "\n",
       "    <div>\n",
       "      <progress value='2000' class='' max='2000' style='width:300px; height:20px; vertical-align: middle;'></progress>\n",
       "      100.00% [2000/2000 00:03&lt;00:00]\n",
       "    </div>\n",
       "    "
      ],
      "text/plain": [
       "<IPython.core.display.HTML object>"
      ]
     },
     "metadata": {},
     "output_type": "display_data"
    },
    {
     "name": "stdout",
     "output_type": "stream",
     "text": [
      "Done computing zscores in 4.617413520812988 seconds\n",
      "Computing zscores for NM_0_0_estimate.pkl\n",
      "SHASHb\n",
      "slope_mu <class 'pcntoolkit.model.hbr.FixedParameterization'>\n",
      "intercept_mu <class 'pcntoolkit.model.hbr.NonCentralRandomFixedParameterization'>\n",
      "mu <class 'pcntoolkit.model.hbr.LinearParameterization'>\n",
      "slope_sigma <class 'pcntoolkit.model.hbr.FixedParameterization'>\n",
      "intercept_sigma <class 'pcntoolkit.model.hbr.FixedParameterization'>\n",
      "sigma <class 'pcntoolkit.model.hbr.LinearParameterization'>\n",
      "slope_epsilon <class 'pcntoolkit.model.hbr.FixedParameterization'>\n",
      "intercept_epsilon <class 'pcntoolkit.model.hbr.FixedParameterization'>\n",
      "epsilon <class 'pcntoolkit.model.hbr.LinearParameterization'>\n",
      "slope_delta <class 'pcntoolkit.model.hbr.FixedParameterization'>\n",
      "intercept_delta <class 'pcntoolkit.model.hbr.FixedParameterization'>\n",
      "delta <class 'pcntoolkit.model.hbr.LinearParameterization'>\n"
     ]
    },
    {
     "name": "stderr",
     "output_type": "stream",
     "text": [
      "Sampling: [y_like]\n"
     ]
    },
    {
     "data": {
      "text/html": [
       "\n",
       "<style>\n",
       "    /* Turns off some styling */\n",
       "    progress {\n",
       "        /* gets rid of default border in Firefox and Opera. */\n",
       "        border: none;\n",
       "        /* Needs to be in here for Safari polyfill so background images work as expected. */\n",
       "        background-size: auto;\n",
       "    }\n",
       "    progress:not([value]), progress:not([value])::-webkit-progress-bar {\n",
       "        background: repeating-linear-gradient(45deg, #7e7e7e, #7e7e7e 10px, #5c5c5c 10px, #5c5c5c 20px);\n",
       "    }\n",
       "    .progress-bar-interrupted, .progress-bar-interrupted::-webkit-progress-bar {\n",
       "        background: #F44336;\n",
       "    }\n",
       "</style>\n"
      ],
      "text/plain": [
       "<IPython.core.display.HTML object>"
      ]
     },
     "metadata": {},
     "output_type": "display_data"
    },
    {
     "data": {
      "text/html": [
       "\n",
       "    <div>\n",
       "      <progress value='2000' class='' max='2000' style='width:300px; height:20px; vertical-align: middle;'></progress>\n",
       "      100.00% [2000/2000 00:11&lt;00:00]\n",
       "    </div>\n",
       "    "
      ],
      "text/plain": [
       "<IPython.core.display.HTML object>"
      ]
     },
     "metadata": {},
     "output_type": "display_data"
    },
    {
     "name": "stdout",
     "output_type": "stream",
     "text": [
      "Done computing zscores in 38.308048486709595 seconds\n"
     ]
    },
    {
     "name": "stderr",
     "output_type": "stream",
     "text": [
      "Sampling: [y_like]\n"
     ]
    },
    {
     "name": "stdout",
     "output_type": "stream",
     "text": [
      "Computing zscores for NM_0_0_estimate.pkl\n",
      "Normal\n",
      "slope_mu <class 'pcntoolkit.model.hbr.FixedParameterization'>\n",
      "intercept_mu <class 'pcntoolkit.model.hbr.NonCentralRandomFixedParameterization'>\n",
      "mu <class 'pcntoolkit.model.hbr.LinearParameterization'>\n",
      "slope_sigma <class 'pcntoolkit.model.hbr.FixedParameterization'>\n",
      "intercept_sigma <class 'pcntoolkit.model.hbr.FixedParameterization'>\n",
      "sigma <class 'pcntoolkit.model.hbr.LinearParameterization'>\n"
     ]
    },
    {
     "data": {
      "text/html": [
       "\n",
       "<style>\n",
       "    /* Turns off some styling */\n",
       "    progress {\n",
       "        /* gets rid of default border in Firefox and Opera. */\n",
       "        border: none;\n",
       "        /* Needs to be in here for Safari polyfill so background images work as expected. */\n",
       "        background-size: auto;\n",
       "    }\n",
       "    progress:not([value]), progress:not([value])::-webkit-progress-bar {\n",
       "        background: repeating-linear-gradient(45deg, #7e7e7e, #7e7e7e 10px, #5c5c5c 10px, #5c5c5c 20px);\n",
       "    }\n",
       "    .progress-bar-interrupted, .progress-bar-interrupted::-webkit-progress-bar {\n",
       "        background: #F44336;\n",
       "    }\n",
       "</style>\n"
      ],
      "text/plain": [
       "<IPython.core.display.HTML object>"
      ]
     },
     "metadata": {},
     "output_type": "display_data"
    },
    {
     "data": {
      "text/html": [
       "\n",
       "    <div>\n",
       "      <progress value='2000' class='' max='2000' style='width:300px; height:20px; vertical-align: middle;'></progress>\n",
       "      100.00% [2000/2000 00:01&lt;00:00]\n",
       "    </div>\n",
       "    "
      ],
      "text/plain": [
       "<IPython.core.display.HTML object>"
      ]
     },
     "metadata": {},
     "output_type": "display_data"
    },
    {
     "name": "stdout",
     "output_type": "stream",
     "text": [
      "Done computing zscores in 2.1963982582092285 seconds\n"
     ]
    },
    {
     "name": "stderr",
     "output_type": "stream",
     "text": [
      "Sampling: [y_like]\n"
     ]
    },
    {
     "name": "stdout",
     "output_type": "stream",
     "text": [
      "Computing zscores for NM_0_0_estimate.pkl\n",
      "SHASHo\n",
      "slope_mu <class 'pcntoolkit.model.hbr.FixedParameterization'>\n",
      "intercept_mu <class 'pcntoolkit.model.hbr.NonCentralRandomFixedParameterization'>\n",
      "mu <class 'pcntoolkit.model.hbr.LinearParameterization'>\n",
      "slope_sigma <class 'pcntoolkit.model.hbr.FixedParameterization'>\n",
      "intercept_sigma <class 'pcntoolkit.model.hbr.FixedParameterization'>\n",
      "sigma <class 'pcntoolkit.model.hbr.LinearParameterization'>\n",
      "epsilon <class 'pcntoolkit.model.hbr.FixedParameterization'>\n",
      "delta <class 'pcntoolkit.model.hbr.FixedParameterization'>\n"
     ]
    },
    {
     "data": {
      "text/html": [
       "\n",
       "<style>\n",
       "    /* Turns off some styling */\n",
       "    progress {\n",
       "        /* gets rid of default border in Firefox and Opera. */\n",
       "        border: none;\n",
       "        /* Needs to be in here for Safari polyfill so background images work as expected. */\n",
       "        background-size: auto;\n",
       "    }\n",
       "    progress:not([value]), progress:not([value])::-webkit-progress-bar {\n",
       "        background: repeating-linear-gradient(45deg, #7e7e7e, #7e7e7e 10px, #5c5c5c 10px, #5c5c5c 20px);\n",
       "    }\n",
       "    .progress-bar-interrupted, .progress-bar-interrupted::-webkit-progress-bar {\n",
       "        background: #F44336;\n",
       "    }\n",
       "</style>\n"
      ],
      "text/plain": [
       "<IPython.core.display.HTML object>"
      ]
     },
     "metadata": {},
     "output_type": "display_data"
    },
    {
     "data": {
      "text/html": [
       "\n",
       "    <div>\n",
       "      <progress value='2000' class='' max='2000' style='width:300px; height:20px; vertical-align: middle;'></progress>\n",
       "      100.00% [2000/2000 00:02&lt;00:00]\n",
       "    </div>\n",
       "    "
      ],
      "text/plain": [
       "<IPython.core.display.HTML object>"
      ]
     },
     "metadata": {},
     "output_type": "display_data"
    },
    {
     "name": "stdout",
     "output_type": "stream",
     "text": [
      "Done computing zscores in 3.8221418857574463 seconds\n",
      "Computing zscores for NM_0_0_estimate.pkl\n",
      "SHASHb\n",
      "slope_mu <class 'pcntoolkit.model.hbr.FixedParameterization'>\n",
      "intercept_mu <class 'pcntoolkit.model.hbr.NonCentralRandomFixedParameterization'>\n",
      "mu <class 'pcntoolkit.model.hbr.LinearParameterization'>\n",
      "slope_sigma <class 'pcntoolkit.model.hbr.FixedParameterization'>\n",
      "intercept_sigma <class 'pcntoolkit.model.hbr.FixedParameterization'>\n",
      "sigma <class 'pcntoolkit.model.hbr.LinearParameterization'>\n",
      "epsilon <class 'pcntoolkit.model.hbr.FixedParameterization'>\n",
      "delta <class 'pcntoolkit.model.hbr.FixedParameterization'>\n"
     ]
    },
    {
     "name": "stderr",
     "output_type": "stream",
     "text": [
      "Sampling: [y_like]\n"
     ]
    },
    {
     "data": {
      "text/html": [
       "\n",
       "<style>\n",
       "    /* Turns off some styling */\n",
       "    progress {\n",
       "        /* gets rid of default border in Firefox and Opera. */\n",
       "        border: none;\n",
       "        /* Needs to be in here for Safari polyfill so background images work as expected. */\n",
       "        background-size: auto;\n",
       "    }\n",
       "    progress:not([value]), progress:not([value])::-webkit-progress-bar {\n",
       "        background: repeating-linear-gradient(45deg, #7e7e7e, #7e7e7e 10px, #5c5c5c 10px, #5c5c5c 20px);\n",
       "    }\n",
       "    .progress-bar-interrupted, .progress-bar-interrupted::-webkit-progress-bar {\n",
       "        background: #F44336;\n",
       "    }\n",
       "</style>\n"
      ],
      "text/plain": [
       "<IPython.core.display.HTML object>"
      ]
     },
     "metadata": {},
     "output_type": "display_data"
    },
    {
     "data": {
      "text/html": [
       "\n",
       "    <div>\n",
       "      <progress value='2000' class='' max='2000' style='width:300px; height:20px; vertical-align: middle;'></progress>\n",
       "      100.00% [2000/2000 00:03&lt;00:00]\n",
       "    </div>\n",
       "    "
      ],
      "text/plain": [
       "<IPython.core.display.HTML object>"
      ]
     },
     "metadata": {},
     "output_type": "display_data"
    },
    {
     "name": "stdout",
     "output_type": "stream",
     "text": [
      "Done computing zscores in 4.750181674957275 seconds\n",
      "Computing zscores for NM_0_0_estimate.pkl\n",
      "SHASHb\n",
      "slope_mu <class 'pcntoolkit.model.hbr.FixedParameterization'>\n",
      "intercept_mu <class 'pcntoolkit.model.hbr.NonCentralRandomFixedParameterization'>\n",
      "mu <class 'pcntoolkit.model.hbr.LinearParameterization'>\n",
      "slope_sigma <class 'pcntoolkit.model.hbr.FixedParameterization'>\n",
      "intercept_sigma <class 'pcntoolkit.model.hbr.FixedParameterization'>\n",
      "sigma <class 'pcntoolkit.model.hbr.LinearParameterization'>\n",
      "slope_epsilon <class 'pcntoolkit.model.hbr.FixedParameterization'>\n",
      "intercept_epsilon <class 'pcntoolkit.model.hbr.FixedParameterization'>\n",
      "epsilon <class 'pcntoolkit.model.hbr.LinearParameterization'>\n",
      "slope_delta <class 'pcntoolkit.model.hbr.FixedParameterization'>\n",
      "intercept_delta <class 'pcntoolkit.model.hbr.FixedParameterization'>\n",
      "delta <class 'pcntoolkit.model.hbr.LinearParameterization'>\n"
     ]
    },
    {
     "name": "stderr",
     "output_type": "stream",
     "text": [
      "Sampling: [y_like]\n"
     ]
    },
    {
     "data": {
      "text/html": [
       "\n",
       "<style>\n",
       "    /* Turns off some styling */\n",
       "    progress {\n",
       "        /* gets rid of default border in Firefox and Opera. */\n",
       "        border: none;\n",
       "        /* Needs to be in here for Safari polyfill so background images work as expected. */\n",
       "        background-size: auto;\n",
       "    }\n",
       "    progress:not([value]), progress:not([value])::-webkit-progress-bar {\n",
       "        background: repeating-linear-gradient(45deg, #7e7e7e, #7e7e7e 10px, #5c5c5c 10px, #5c5c5c 20px);\n",
       "    }\n",
       "    .progress-bar-interrupted, .progress-bar-interrupted::-webkit-progress-bar {\n",
       "        background: #F44336;\n",
       "    }\n",
       "</style>\n"
      ],
      "text/plain": [
       "<IPython.core.display.HTML object>"
      ]
     },
     "metadata": {},
     "output_type": "display_data"
    },
    {
     "data": {
      "text/html": [
       "\n",
       "    <div>\n",
       "      <progress value='2000' class='' max='2000' style='width:300px; height:20px; vertical-align: middle;'></progress>\n",
       "      100.00% [2000/2000 00:12&lt;00:00]\n",
       "    </div>\n",
       "    "
      ],
      "text/plain": [
       "<IPython.core.display.HTML object>"
      ]
     },
     "metadata": {},
     "output_type": "display_data"
    },
    {
     "name": "stdout",
     "output_type": "stream",
     "text": [
      "Done computing zscores in 39.226619482040405 seconds\n",
      "Computing zscores for NM_0_0_estimate.pkl\n",
      "Normal\n",
      "slope_mu <class 'pcntoolkit.model.hbr.FixedParameterization'>\n",
      "intercept_mu <class 'pcntoolkit.model.hbr.NonCentralRandomFixedParameterization'>\n",
      "mu <class 'pcntoolkit.model.hbr.LinearParameterization'>\n",
      "slope_sigma <class 'pcntoolkit.model.hbr.FixedParameterization'>\n",
      "intercept_sigma <class 'pcntoolkit.model.hbr.FixedParameterization'>\n",
      "sigma <class 'pcntoolkit.model.hbr.LinearParameterization'>\n"
     ]
    },
    {
     "name": "stderr",
     "output_type": "stream",
     "text": [
      "Sampling: [y_like]\n"
     ]
    },
    {
     "data": {
      "text/html": [
       "\n",
       "<style>\n",
       "    /* Turns off some styling */\n",
       "    progress {\n",
       "        /* gets rid of default border in Firefox and Opera. */\n",
       "        border: none;\n",
       "        /* Needs to be in here for Safari polyfill so background images work as expected. */\n",
       "        background-size: auto;\n",
       "    }\n",
       "    progress:not([value]), progress:not([value])::-webkit-progress-bar {\n",
       "        background: repeating-linear-gradient(45deg, #7e7e7e, #7e7e7e 10px, #5c5c5c 10px, #5c5c5c 20px);\n",
       "    }\n",
       "    .progress-bar-interrupted, .progress-bar-interrupted::-webkit-progress-bar {\n",
       "        background: #F44336;\n",
       "    }\n",
       "</style>\n"
      ],
      "text/plain": [
       "<IPython.core.display.HTML object>"
      ]
     },
     "metadata": {},
     "output_type": "display_data"
    },
    {
     "data": {
      "text/html": [
       "\n",
       "    <div>\n",
       "      <progress value='2000' class='' max='2000' style='width:300px; height:20px; vertical-align: middle;'></progress>\n",
       "      100.00% [2000/2000 00:01&lt;00:00]\n",
       "    </div>\n",
       "    "
      ],
      "text/plain": [
       "<IPython.core.display.HTML object>"
      ]
     },
     "metadata": {},
     "output_type": "display_data"
    },
    {
     "name": "stdout",
     "output_type": "stream",
     "text": [
      "Done computing zscores in 2.643049478530884 seconds\n"
     ]
    },
    {
     "name": "stderr",
     "output_type": "stream",
     "text": [
      "Sampling: [y_like]\n"
     ]
    },
    {
     "name": "stdout",
     "output_type": "stream",
     "text": [
      "Computing zscores for NM_0_0_estimate.pkl\n",
      "SHASHo\n",
      "slope_mu <class 'pcntoolkit.model.hbr.FixedParameterization'>\n",
      "intercept_mu <class 'pcntoolkit.model.hbr.NonCentralRandomFixedParameterization'>\n",
      "mu <class 'pcntoolkit.model.hbr.LinearParameterization'>\n",
      "slope_sigma <class 'pcntoolkit.model.hbr.FixedParameterization'>\n",
      "intercept_sigma <class 'pcntoolkit.model.hbr.FixedParameterization'>\n",
      "sigma <class 'pcntoolkit.model.hbr.LinearParameterization'>\n",
      "epsilon <class 'pcntoolkit.model.hbr.FixedParameterization'>\n",
      "delta <class 'pcntoolkit.model.hbr.FixedParameterization'>\n"
     ]
    },
    {
     "data": {
      "text/html": [
       "\n",
       "<style>\n",
       "    /* Turns off some styling */\n",
       "    progress {\n",
       "        /* gets rid of default border in Firefox and Opera. */\n",
       "        border: none;\n",
       "        /* Needs to be in here for Safari polyfill so background images work as expected. */\n",
       "        background-size: auto;\n",
       "    }\n",
       "    progress:not([value]), progress:not([value])::-webkit-progress-bar {\n",
       "        background: repeating-linear-gradient(45deg, #7e7e7e, #7e7e7e 10px, #5c5c5c 10px, #5c5c5c 20px);\n",
       "    }\n",
       "    .progress-bar-interrupted, .progress-bar-interrupted::-webkit-progress-bar {\n",
       "        background: #F44336;\n",
       "    }\n",
       "</style>\n"
      ],
      "text/plain": [
       "<IPython.core.display.HTML object>"
      ]
     },
     "metadata": {},
     "output_type": "display_data"
    },
    {
     "data": {
      "text/html": [
       "\n",
       "    <div>\n",
       "      <progress value='2000' class='' max='2000' style='width:300px; height:20px; vertical-align: middle;'></progress>\n",
       "      100.00% [2000/2000 00:02&lt;00:00]\n",
       "    </div>\n",
       "    "
      ],
      "text/plain": [
       "<IPython.core.display.HTML object>"
      ]
     },
     "metadata": {},
     "output_type": "display_data"
    },
    {
     "name": "stdout",
     "output_type": "stream",
     "text": [
      "Done computing zscores in 3.753114700317383 seconds\n",
      "Computing zscores for NM_0_0_estimate.pkl\n",
      "SHASHb\n",
      "slope_mu <class 'pcntoolkit.model.hbr.FixedParameterization'>\n",
      "intercept_mu <class 'pcntoolkit.model.hbr.NonCentralRandomFixedParameterization'>\n",
      "mu <class 'pcntoolkit.model.hbr.LinearParameterization'>\n",
      "slope_sigma <class 'pcntoolkit.model.hbr.FixedParameterization'>\n",
      "intercept_sigma <class 'pcntoolkit.model.hbr.FixedParameterization'>\n",
      "sigma <class 'pcntoolkit.model.hbr.LinearParameterization'>\n",
      "epsilon <class 'pcntoolkit.model.hbr.FixedParameterization'>\n",
      "delta <class 'pcntoolkit.model.hbr.FixedParameterization'>\n"
     ]
    },
    {
     "name": "stderr",
     "output_type": "stream",
     "text": [
      "Sampling: [y_like]\n"
     ]
    },
    {
     "data": {
      "text/html": [
       "\n",
       "<style>\n",
       "    /* Turns off some styling */\n",
       "    progress {\n",
       "        /* gets rid of default border in Firefox and Opera. */\n",
       "        border: none;\n",
       "        /* Needs to be in here for Safari polyfill so background images work as expected. */\n",
       "        background-size: auto;\n",
       "    }\n",
       "    progress:not([value]), progress:not([value])::-webkit-progress-bar {\n",
       "        background: repeating-linear-gradient(45deg, #7e7e7e, #7e7e7e 10px, #5c5c5c 10px, #5c5c5c 20px);\n",
       "    }\n",
       "    .progress-bar-interrupted, .progress-bar-interrupted::-webkit-progress-bar {\n",
       "        background: #F44336;\n",
       "    }\n",
       "</style>\n"
      ],
      "text/plain": [
       "<IPython.core.display.HTML object>"
      ]
     },
     "metadata": {},
     "output_type": "display_data"
    },
    {
     "data": {
      "text/html": [
       "\n",
       "    <div>\n",
       "      <progress value='2000' class='' max='2000' style='width:300px; height:20px; vertical-align: middle;'></progress>\n",
       "      100.00% [2000/2000 00:02&lt;00:00]\n",
       "    </div>\n",
       "    "
      ],
      "text/plain": [
       "<IPython.core.display.HTML object>"
      ]
     },
     "metadata": {},
     "output_type": "display_data"
    },
    {
     "name": "stdout",
     "output_type": "stream",
     "text": [
      "Done computing zscores in 4.423763751983643 seconds\n",
      "Computing zscores for NM_0_0_estimate.pkl\n",
      "SHASHb\n",
      "slope_mu <class 'pcntoolkit.model.hbr.FixedParameterization'>\n",
      "intercept_mu <class 'pcntoolkit.model.hbr.NonCentralRandomFixedParameterization'>\n",
      "mu <class 'pcntoolkit.model.hbr.LinearParameterization'>\n",
      "slope_sigma <class 'pcntoolkit.model.hbr.FixedParameterization'>\n",
      "intercept_sigma <class 'pcntoolkit.model.hbr.FixedParameterization'>\n",
      "sigma <class 'pcntoolkit.model.hbr.LinearParameterization'>\n",
      "slope_epsilon <class 'pcntoolkit.model.hbr.FixedParameterization'>\n",
      "intercept_epsilon <class 'pcntoolkit.model.hbr.FixedParameterization'>\n",
      "epsilon <class 'pcntoolkit.model.hbr.LinearParameterization'>\n",
      "slope_delta <class 'pcntoolkit.model.hbr.FixedParameterization'>\n",
      "intercept_delta <class 'pcntoolkit.model.hbr.FixedParameterization'>\n",
      "delta <class 'pcntoolkit.model.hbr.LinearParameterization'>\n"
     ]
    },
    {
     "name": "stderr",
     "output_type": "stream",
     "text": [
      "Sampling: [y_like]\n"
     ]
    },
    {
     "data": {
      "text/html": [
       "\n",
       "<style>\n",
       "    /* Turns off some styling */\n",
       "    progress {\n",
       "        /* gets rid of default border in Firefox and Opera. */\n",
       "        border: none;\n",
       "        /* Needs to be in here for Safari polyfill so background images work as expected. */\n",
       "        background-size: auto;\n",
       "    }\n",
       "    progress:not([value]), progress:not([value])::-webkit-progress-bar {\n",
       "        background: repeating-linear-gradient(45deg, #7e7e7e, #7e7e7e 10px, #5c5c5c 10px, #5c5c5c 20px);\n",
       "    }\n",
       "    .progress-bar-interrupted, .progress-bar-interrupted::-webkit-progress-bar {\n",
       "        background: #F44336;\n",
       "    }\n",
       "</style>\n"
      ],
      "text/plain": [
       "<IPython.core.display.HTML object>"
      ]
     },
     "metadata": {},
     "output_type": "display_data"
    },
    {
     "data": {
      "text/html": [
       "\n",
       "    <div>\n",
       "      <progress value='2000' class='' max='2000' style='width:300px; height:20px; vertical-align: middle;'></progress>\n",
       "      100.00% [2000/2000 00:11&lt;00:00]\n",
       "    </div>\n",
       "    "
      ],
      "text/plain": [
       "<IPython.core.display.HTML object>"
      ]
     },
     "metadata": {},
     "output_type": "display_data"
    },
    {
     "name": "stdout",
     "output_type": "stream",
     "text": [
      "Done computing zscores in 40.10700440406799 seconds\n"
     ]
    },
    {
     "name": "stderr",
     "output_type": "stream",
     "text": [
      "Sampling: [y_like]\n"
     ]
    },
    {
     "name": "stdout",
     "output_type": "stream",
     "text": [
      "Computing zscores for NM_0_0_estimate.pkl\n",
      "Normal\n",
      "slope_mu <class 'pcntoolkit.model.hbr.FixedParameterization'>\n",
      "intercept_mu <class 'pcntoolkit.model.hbr.NonCentralRandomFixedParameterization'>\n",
      "mu <class 'pcntoolkit.model.hbr.LinearParameterization'>\n",
      "slope_sigma <class 'pcntoolkit.model.hbr.FixedParameterization'>\n",
      "intercept_sigma <class 'pcntoolkit.model.hbr.FixedParameterization'>\n",
      "sigma <class 'pcntoolkit.model.hbr.LinearParameterization'>\n"
     ]
    },
    {
     "data": {
      "text/html": [
       "\n",
       "<style>\n",
       "    /* Turns off some styling */\n",
       "    progress {\n",
       "        /* gets rid of default border in Firefox and Opera. */\n",
       "        border: none;\n",
       "        /* Needs to be in here for Safari polyfill so background images work as expected. */\n",
       "        background-size: auto;\n",
       "    }\n",
       "    progress:not([value]), progress:not([value])::-webkit-progress-bar {\n",
       "        background: repeating-linear-gradient(45deg, #7e7e7e, #7e7e7e 10px, #5c5c5c 10px, #5c5c5c 20px);\n",
       "    }\n",
       "    .progress-bar-interrupted, .progress-bar-interrupted::-webkit-progress-bar {\n",
       "        background: #F44336;\n",
       "    }\n",
       "</style>\n"
      ],
      "text/plain": [
       "<IPython.core.display.HTML object>"
      ]
     },
     "metadata": {},
     "output_type": "display_data"
    },
    {
     "data": {
      "text/html": [
       "\n",
       "    <div>\n",
       "      <progress value='2000' class='' max='2000' style='width:300px; height:20px; vertical-align: middle;'></progress>\n",
       "      100.00% [2000/2000 00:01&lt;00:00]\n",
       "    </div>\n",
       "    "
      ],
      "text/plain": [
       "<IPython.core.display.HTML object>"
      ]
     },
     "metadata": {},
     "output_type": "display_data"
    },
    {
     "name": "stdout",
     "output_type": "stream",
     "text": [
      "Done computing zscores in 2.0831189155578613 seconds\n",
      "Computing zscores for NM_0_0_estimate.pkl\n",
      "SHASHo\n",
      "slope_mu <class 'pcntoolkit.model.hbr.FixedParameterization'>\n",
      "intercept_mu <class 'pcntoolkit.model.hbr.NonCentralRandomFixedParameterization'>\n",
      "mu <class 'pcntoolkit.model.hbr.LinearParameterization'>\n",
      "slope_sigma <class 'pcntoolkit.model.hbr.FixedParameterization'>\n",
      "intercept_sigma <class 'pcntoolkit.model.hbr.FixedParameterization'>\n",
      "sigma <class 'pcntoolkit.model.hbr.LinearParameterization'>\n",
      "epsilon <class 'pcntoolkit.model.hbr.FixedParameterization'>\n",
      "delta <class 'pcntoolkit.model.hbr.FixedParameterization'>\n"
     ]
    },
    {
     "name": "stderr",
     "output_type": "stream",
     "text": [
      "Sampling: [y_like]\n"
     ]
    },
    {
     "data": {
      "text/html": [
       "\n",
       "<style>\n",
       "    /* Turns off some styling */\n",
       "    progress {\n",
       "        /* gets rid of default border in Firefox and Opera. */\n",
       "        border: none;\n",
       "        /* Needs to be in here for Safari polyfill so background images work as expected. */\n",
       "        background-size: auto;\n",
       "    }\n",
       "    progress:not([value]), progress:not([value])::-webkit-progress-bar {\n",
       "        background: repeating-linear-gradient(45deg, #7e7e7e, #7e7e7e 10px, #5c5c5c 10px, #5c5c5c 20px);\n",
       "    }\n",
       "    .progress-bar-interrupted, .progress-bar-interrupted::-webkit-progress-bar {\n",
       "        background: #F44336;\n",
       "    }\n",
       "</style>\n"
      ],
      "text/plain": [
       "<IPython.core.display.HTML object>"
      ]
     },
     "metadata": {},
     "output_type": "display_data"
    },
    {
     "data": {
      "text/html": [
       "\n",
       "    <div>\n",
       "      <progress value='2000' class='' max='2000' style='width:300px; height:20px; vertical-align: middle;'></progress>\n",
       "      100.00% [2000/2000 00:02&lt;00:00]\n",
       "    </div>\n",
       "    "
      ],
      "text/plain": [
       "<IPython.core.display.HTML object>"
      ]
     },
     "metadata": {},
     "output_type": "display_data"
    },
    {
     "name": "stdout",
     "output_type": "stream",
     "text": [
      "Done computing zscores in 3.8303027153015137 seconds\n",
      "Computing zscores for NM_0_0_estimate.pkl\n",
      "SHASHb\n",
      "slope_mu <class 'pcntoolkit.model.hbr.FixedParameterization'>\n",
      "intercept_mu <class 'pcntoolkit.model.hbr.NonCentralRandomFixedParameterization'>\n",
      "mu <class 'pcntoolkit.model.hbr.LinearParameterization'>\n",
      "slope_sigma <class 'pcntoolkit.model.hbr.FixedParameterization'>\n",
      "intercept_sigma <class 'pcntoolkit.model.hbr.FixedParameterization'>\n",
      "sigma <class 'pcntoolkit.model.hbr.LinearParameterization'>\n",
      "epsilon <class 'pcntoolkit.model.hbr.FixedParameterization'>\n",
      "delta <class 'pcntoolkit.model.hbr.FixedParameterization'>\n"
     ]
    },
    {
     "name": "stderr",
     "output_type": "stream",
     "text": [
      "Sampling: [y_like]\n"
     ]
    },
    {
     "data": {
      "text/html": [
       "\n",
       "<style>\n",
       "    /* Turns off some styling */\n",
       "    progress {\n",
       "        /* gets rid of default border in Firefox and Opera. */\n",
       "        border: none;\n",
       "        /* Needs to be in here for Safari polyfill so background images work as expected. */\n",
       "        background-size: auto;\n",
       "    }\n",
       "    progress:not([value]), progress:not([value])::-webkit-progress-bar {\n",
       "        background: repeating-linear-gradient(45deg, #7e7e7e, #7e7e7e 10px, #5c5c5c 10px, #5c5c5c 20px);\n",
       "    }\n",
       "    .progress-bar-interrupted, .progress-bar-interrupted::-webkit-progress-bar {\n",
       "        background: #F44336;\n",
       "    }\n",
       "</style>\n"
      ],
      "text/plain": [
       "<IPython.core.display.HTML object>"
      ]
     },
     "metadata": {},
     "output_type": "display_data"
    },
    {
     "data": {
      "text/html": [
       "\n",
       "    <div>\n",
       "      <progress value='2000' class='' max='2000' style='width:300px; height:20px; vertical-align: middle;'></progress>\n",
       "      100.00% [2000/2000 00:02&lt;00:00]\n",
       "    </div>\n",
       "    "
      ],
      "text/plain": [
       "<IPython.core.display.HTML object>"
      ]
     },
     "metadata": {},
     "output_type": "display_data"
    },
    {
     "name": "stdout",
     "output_type": "stream",
     "text": [
      "Done computing zscores in 4.4428582191467285 seconds\n",
      "Computing zscores for NM_0_0_estimate.pkl\n",
      "SHASHb\n",
      "slope_mu <class 'pcntoolkit.model.hbr.FixedParameterization'>\n",
      "intercept_mu <class 'pcntoolkit.model.hbr.NonCentralRandomFixedParameterization'>\n",
      "mu <class 'pcntoolkit.model.hbr.LinearParameterization'>\n",
      "slope_sigma <class 'pcntoolkit.model.hbr.FixedParameterization'>\n",
      "intercept_sigma <class 'pcntoolkit.model.hbr.FixedParameterization'>\n",
      "sigma <class 'pcntoolkit.model.hbr.LinearParameterization'>\n",
      "slope_epsilon <class 'pcntoolkit.model.hbr.FixedParameterization'>\n",
      "intercept_epsilon <class 'pcntoolkit.model.hbr.FixedParameterization'>\n",
      "epsilon <class 'pcntoolkit.model.hbr.LinearParameterization'>\n",
      "slope_delta <class 'pcntoolkit.model.hbr.FixedParameterization'>\n",
      "intercept_delta <class 'pcntoolkit.model.hbr.FixedParameterization'>\n",
      "delta <class 'pcntoolkit.model.hbr.LinearParameterization'>\n"
     ]
    },
    {
     "name": "stderr",
     "output_type": "stream",
     "text": [
      "Sampling: [y_like]\n"
     ]
    },
    {
     "data": {
      "text/html": [
       "\n",
       "<style>\n",
       "    /* Turns off some styling */\n",
       "    progress {\n",
       "        /* gets rid of default border in Firefox and Opera. */\n",
       "        border: none;\n",
       "        /* Needs to be in here for Safari polyfill so background images work as expected. */\n",
       "        background-size: auto;\n",
       "    }\n",
       "    progress:not([value]), progress:not([value])::-webkit-progress-bar {\n",
       "        background: repeating-linear-gradient(45deg, #7e7e7e, #7e7e7e 10px, #5c5c5c 10px, #5c5c5c 20px);\n",
       "    }\n",
       "    .progress-bar-interrupted, .progress-bar-interrupted::-webkit-progress-bar {\n",
       "        background: #F44336;\n",
       "    }\n",
       "</style>\n"
      ],
      "text/plain": [
       "<IPython.core.display.HTML object>"
      ]
     },
     "metadata": {},
     "output_type": "display_data"
    },
    {
     "data": {
      "text/html": [
       "\n",
       "    <div>\n",
       "      <progress value='2000' class='' max='2000' style='width:300px; height:20px; vertical-align: middle;'></progress>\n",
       "      100.00% [2000/2000 00:11&lt;00:00]\n",
       "    </div>\n",
       "    "
      ],
      "text/plain": [
       "<IPython.core.display.HTML object>"
      ]
     },
     "metadata": {},
     "output_type": "display_data"
    },
    {
     "name": "stdout",
     "output_type": "stream",
     "text": [
      "Done computing zscores in 40.474393367767334 seconds\n"
     ]
    },
    {
     "name": "stderr",
     "output_type": "stream",
     "text": [
      "Sampling: [y_like]\n"
     ]
    },
    {
     "name": "stdout",
     "output_type": "stream",
     "text": [
      "Computing zscores for NM_0_0_estimate.pkl\n",
      "Normal\n",
      "slope_mu <class 'pcntoolkit.model.hbr.FixedParameterization'>\n",
      "intercept_mu <class 'pcntoolkit.model.hbr.NonCentralRandomFixedParameterization'>\n",
      "mu <class 'pcntoolkit.model.hbr.LinearParameterization'>\n",
      "slope_sigma <class 'pcntoolkit.model.hbr.FixedParameterization'>\n",
      "intercept_sigma <class 'pcntoolkit.model.hbr.FixedParameterization'>\n",
      "sigma <class 'pcntoolkit.model.hbr.LinearParameterization'>\n"
     ]
    },
    {
     "data": {
      "text/html": [
       "\n",
       "<style>\n",
       "    /* Turns off some styling */\n",
       "    progress {\n",
       "        /* gets rid of default border in Firefox and Opera. */\n",
       "        border: none;\n",
       "        /* Needs to be in here for Safari polyfill so background images work as expected. */\n",
       "        background-size: auto;\n",
       "    }\n",
       "    progress:not([value]), progress:not([value])::-webkit-progress-bar {\n",
       "        background: repeating-linear-gradient(45deg, #7e7e7e, #7e7e7e 10px, #5c5c5c 10px, #5c5c5c 20px);\n",
       "    }\n",
       "    .progress-bar-interrupted, .progress-bar-interrupted::-webkit-progress-bar {\n",
       "        background: #F44336;\n",
       "    }\n",
       "</style>\n"
      ],
      "text/plain": [
       "<IPython.core.display.HTML object>"
      ]
     },
     "metadata": {},
     "output_type": "display_data"
    },
    {
     "data": {
      "text/html": [
       "\n",
       "    <div>\n",
       "      <progress value='2000' class='' max='2000' style='width:300px; height:20px; vertical-align: middle;'></progress>\n",
       "      100.00% [2000/2000 00:01&lt;00:00]\n",
       "    </div>\n",
       "    "
      ],
      "text/plain": [
       "<IPython.core.display.HTML object>"
      ]
     },
     "metadata": {},
     "output_type": "display_data"
    },
    {
     "name": "stdout",
     "output_type": "stream",
     "text": [
      "Done computing zscores in 2.1515400409698486 seconds\n",
      "Computing zscores for NM_0_0_estimate.pkl\n",
      "SHASHo\n",
      "slope_mu <class 'pcntoolkit.model.hbr.FixedParameterization'>\n",
      "intercept_mu <class 'pcntoolkit.model.hbr.NonCentralRandomFixedParameterization'>\n",
      "mu <class 'pcntoolkit.model.hbr.LinearParameterization'>\n",
      "slope_sigma <class 'pcntoolkit.model.hbr.FixedParameterization'>\n",
      "intercept_sigma <class 'pcntoolkit.model.hbr.FixedParameterization'>\n",
      "sigma <class 'pcntoolkit.model.hbr.LinearParameterization'>\n",
      "epsilon <class 'pcntoolkit.model.hbr.FixedParameterization'>\n",
      "delta <class 'pcntoolkit.model.hbr.FixedParameterization'>\n"
     ]
    },
    {
     "name": "stderr",
     "output_type": "stream",
     "text": [
      "Sampling: [y_like]\n"
     ]
    },
    {
     "data": {
      "text/html": [
       "\n",
       "<style>\n",
       "    /* Turns off some styling */\n",
       "    progress {\n",
       "        /* gets rid of default border in Firefox and Opera. */\n",
       "        border: none;\n",
       "        /* Needs to be in here for Safari polyfill so background images work as expected. */\n",
       "        background-size: auto;\n",
       "    }\n",
       "    progress:not([value]), progress:not([value])::-webkit-progress-bar {\n",
       "        background: repeating-linear-gradient(45deg, #7e7e7e, #7e7e7e 10px, #5c5c5c 10px, #5c5c5c 20px);\n",
       "    }\n",
       "    .progress-bar-interrupted, .progress-bar-interrupted::-webkit-progress-bar {\n",
       "        background: #F44336;\n",
       "    }\n",
       "</style>\n"
      ],
      "text/plain": [
       "<IPython.core.display.HTML object>"
      ]
     },
     "metadata": {},
     "output_type": "display_data"
    },
    {
     "data": {
      "text/html": [
       "\n",
       "    <div>\n",
       "      <progress value='2000' class='' max='2000' style='width:300px; height:20px; vertical-align: middle;'></progress>\n",
       "      100.00% [2000/2000 00:02&lt;00:00]\n",
       "    </div>\n",
       "    "
      ],
      "text/plain": [
       "<IPython.core.display.HTML object>"
      ]
     },
     "metadata": {},
     "output_type": "display_data"
    },
    {
     "name": "stdout",
     "output_type": "stream",
     "text": [
      "Done computing zscores in 3.7324748039245605 seconds\n",
      "Computing zscores for NM_0_0_estimate.pkl\n",
      "SHASHb\n",
      "slope_mu <class 'pcntoolkit.model.hbr.FixedParameterization'>\n",
      "intercept_mu <class 'pcntoolkit.model.hbr.NonCentralRandomFixedParameterization'>\n",
      "mu <class 'pcntoolkit.model.hbr.LinearParameterization'>\n",
      "slope_sigma <class 'pcntoolkit.model.hbr.FixedParameterization'>\n",
      "intercept_sigma <class 'pcntoolkit.model.hbr.FixedParameterization'>\n",
      "sigma <class 'pcntoolkit.model.hbr.LinearParameterization'>\n",
      "epsilon <class 'pcntoolkit.model.hbr.FixedParameterization'>\n",
      "delta <class 'pcntoolkit.model.hbr.FixedParameterization'>\n"
     ]
    },
    {
     "name": "stderr",
     "output_type": "stream",
     "text": [
      "Sampling: [y_like]\n"
     ]
    },
    {
     "data": {
      "text/html": [
       "\n",
       "<style>\n",
       "    /* Turns off some styling */\n",
       "    progress {\n",
       "        /* gets rid of default border in Firefox and Opera. */\n",
       "        border: none;\n",
       "        /* Needs to be in here for Safari polyfill so background images work as expected. */\n",
       "        background-size: auto;\n",
       "    }\n",
       "    progress:not([value]), progress:not([value])::-webkit-progress-bar {\n",
       "        background: repeating-linear-gradient(45deg, #7e7e7e, #7e7e7e 10px, #5c5c5c 10px, #5c5c5c 20px);\n",
       "    }\n",
       "    .progress-bar-interrupted, .progress-bar-interrupted::-webkit-progress-bar {\n",
       "        background: #F44336;\n",
       "    }\n",
       "</style>\n"
      ],
      "text/plain": [
       "<IPython.core.display.HTML object>"
      ]
     },
     "metadata": {},
     "output_type": "display_data"
    },
    {
     "data": {
      "text/html": [
       "\n",
       "    <div>\n",
       "      <progress value='2000' class='' max='2000' style='width:300px; height:20px; vertical-align: middle;'></progress>\n",
       "      100.00% [2000/2000 00:02&lt;00:00]\n",
       "    </div>\n",
       "    "
      ],
      "text/plain": [
       "<IPython.core.display.HTML object>"
      ]
     },
     "metadata": {},
     "output_type": "display_data"
    },
    {
     "name": "stdout",
     "output_type": "stream",
     "text": [
      "Done computing zscores in 4.551278352737427 seconds\n",
      "Computing zscores for NM_0_0_estimate.pkl\n",
      "SHASHb\n",
      "slope_mu <class 'pcntoolkit.model.hbr.FixedParameterization'>\n",
      "intercept_mu <class 'pcntoolkit.model.hbr.NonCentralRandomFixedParameterization'>\n",
      "mu <class 'pcntoolkit.model.hbr.LinearParameterization'>\n",
      "slope_sigma <class 'pcntoolkit.model.hbr.FixedParameterization'>\n",
      "intercept_sigma <class 'pcntoolkit.model.hbr.FixedParameterization'>\n",
      "sigma <class 'pcntoolkit.model.hbr.LinearParameterization'>\n",
      "slope_epsilon <class 'pcntoolkit.model.hbr.FixedParameterization'>\n",
      "intercept_epsilon <class 'pcntoolkit.model.hbr.FixedParameterization'>\n",
      "epsilon <class 'pcntoolkit.model.hbr.LinearParameterization'>\n",
      "slope_delta <class 'pcntoolkit.model.hbr.FixedParameterization'>\n",
      "intercept_delta <class 'pcntoolkit.model.hbr.FixedParameterization'>\n",
      "delta <class 'pcntoolkit.model.hbr.LinearParameterization'>\n"
     ]
    },
    {
     "name": "stderr",
     "output_type": "stream",
     "text": [
      "Sampling: [y_like]\n"
     ]
    },
    {
     "data": {
      "text/html": [
       "\n",
       "<style>\n",
       "    /* Turns off some styling */\n",
       "    progress {\n",
       "        /* gets rid of default border in Firefox and Opera. */\n",
       "        border: none;\n",
       "        /* Needs to be in here for Safari polyfill so background images work as expected. */\n",
       "        background-size: auto;\n",
       "    }\n",
       "    progress:not([value]), progress:not([value])::-webkit-progress-bar {\n",
       "        background: repeating-linear-gradient(45deg, #7e7e7e, #7e7e7e 10px, #5c5c5c 10px, #5c5c5c 20px);\n",
       "    }\n",
       "    .progress-bar-interrupted, .progress-bar-interrupted::-webkit-progress-bar {\n",
       "        background: #F44336;\n",
       "    }\n",
       "</style>\n"
      ],
      "text/plain": [
       "<IPython.core.display.HTML object>"
      ]
     },
     "metadata": {},
     "output_type": "display_data"
    },
    {
     "data": {
      "text/html": [
       "\n",
       "    <div>\n",
       "      <progress value='2000' class='' max='2000' style='width:300px; height:20px; vertical-align: middle;'></progress>\n",
       "      100.00% [2000/2000 00:12&lt;00:00]\n",
       "    </div>\n",
       "    "
      ],
      "text/plain": [
       "<IPython.core.display.HTML object>"
      ]
     },
     "metadata": {},
     "output_type": "display_data"
    },
    {
     "name": "stdout",
     "output_type": "stream",
     "text": [
      "Done computing zscores in 38.43653106689453 seconds\n"
     ]
    },
    {
     "name": "stderr",
     "output_type": "stream",
     "text": [
      "Sampling: [y_like]\n"
     ]
    },
    {
     "name": "stdout",
     "output_type": "stream",
     "text": [
      "Computing zscores for NM_0_0_estimate.pkl\n",
      "Normal\n",
      "slope_mu <class 'pcntoolkit.model.hbr.FixedParameterization'>\n",
      "intercept_mu <class 'pcntoolkit.model.hbr.NonCentralRandomFixedParameterization'>\n",
      "mu <class 'pcntoolkit.model.hbr.LinearParameterization'>\n",
      "slope_sigma <class 'pcntoolkit.model.hbr.FixedParameterization'>\n",
      "intercept_sigma <class 'pcntoolkit.model.hbr.FixedParameterization'>\n",
      "sigma <class 'pcntoolkit.model.hbr.LinearParameterization'>\n"
     ]
    },
    {
     "data": {
      "text/html": [
       "\n",
       "<style>\n",
       "    /* Turns off some styling */\n",
       "    progress {\n",
       "        /* gets rid of default border in Firefox and Opera. */\n",
       "        border: none;\n",
       "        /* Needs to be in here for Safari polyfill so background images work as expected. */\n",
       "        background-size: auto;\n",
       "    }\n",
       "    progress:not([value]), progress:not([value])::-webkit-progress-bar {\n",
       "        background: repeating-linear-gradient(45deg, #7e7e7e, #7e7e7e 10px, #5c5c5c 10px, #5c5c5c 20px);\n",
       "    }\n",
       "    .progress-bar-interrupted, .progress-bar-interrupted::-webkit-progress-bar {\n",
       "        background: #F44336;\n",
       "    }\n",
       "</style>\n"
      ],
      "text/plain": [
       "<IPython.core.display.HTML object>"
      ]
     },
     "metadata": {},
     "output_type": "display_data"
    },
    {
     "data": {
      "text/html": [
       "\n",
       "    <div>\n",
       "      <progress value='2000' class='' max='2000' style='width:300px; height:20px; vertical-align: middle;'></progress>\n",
       "      100.00% [2000/2000 00:01&lt;00:00]\n",
       "    </div>\n",
       "    "
      ],
      "text/plain": [
       "<IPython.core.display.HTML object>"
      ]
     },
     "metadata": {},
     "output_type": "display_data"
    },
    {
     "name": "stdout",
     "output_type": "stream",
     "text": [
      "Done computing zscores in 2.149848699569702 seconds\n",
      "Computing zscores for NM_0_0_estimate.pkl\n",
      "SHASHo\n",
      "slope_mu <class 'pcntoolkit.model.hbr.FixedParameterization'>\n",
      "intercept_mu <class 'pcntoolkit.model.hbr.NonCentralRandomFixedParameterization'>\n",
      "mu <class 'pcntoolkit.model.hbr.LinearParameterization'>\n",
      "slope_sigma <class 'pcntoolkit.model.hbr.FixedParameterization'>\n",
      "intercept_sigma <class 'pcntoolkit.model.hbr.FixedParameterization'>\n",
      "sigma <class 'pcntoolkit.model.hbr.LinearParameterization'>\n",
      "epsilon <class 'pcntoolkit.model.hbr.FixedParameterization'>\n",
      "delta <class 'pcntoolkit.model.hbr.FixedParameterization'>\n"
     ]
    },
    {
     "name": "stderr",
     "output_type": "stream",
     "text": [
      "Sampling: [y_like]\n"
     ]
    },
    {
     "data": {
      "text/html": [
       "\n",
       "<style>\n",
       "    /* Turns off some styling */\n",
       "    progress {\n",
       "        /* gets rid of default border in Firefox and Opera. */\n",
       "        border: none;\n",
       "        /* Needs to be in here for Safari polyfill so background images work as expected. */\n",
       "        background-size: auto;\n",
       "    }\n",
       "    progress:not([value]), progress:not([value])::-webkit-progress-bar {\n",
       "        background: repeating-linear-gradient(45deg, #7e7e7e, #7e7e7e 10px, #5c5c5c 10px, #5c5c5c 20px);\n",
       "    }\n",
       "    .progress-bar-interrupted, .progress-bar-interrupted::-webkit-progress-bar {\n",
       "        background: #F44336;\n",
       "    }\n",
       "</style>\n"
      ],
      "text/plain": [
       "<IPython.core.display.HTML object>"
      ]
     },
     "metadata": {},
     "output_type": "display_data"
    },
    {
     "data": {
      "text/html": [
       "\n",
       "    <div>\n",
       "      <progress value='2000' class='' max='2000' style='width:300px; height:20px; vertical-align: middle;'></progress>\n",
       "      100.00% [2000/2000 00:02&lt;00:00]\n",
       "    </div>\n",
       "    "
      ],
      "text/plain": [
       "<IPython.core.display.HTML object>"
      ]
     },
     "metadata": {},
     "output_type": "display_data"
    },
    {
     "name": "stdout",
     "output_type": "stream",
     "text": [
      "Done computing zscores in 3.7368581295013428 seconds\n",
      "Computing zscores for NM_0_0_estimate.pkl\n",
      "SHASHb\n",
      "slope_mu <class 'pcntoolkit.model.hbr.FixedParameterization'>\n",
      "intercept_mu <class 'pcntoolkit.model.hbr.NonCentralRandomFixedParameterization'>\n",
      "mu <class 'pcntoolkit.model.hbr.LinearParameterization'>\n",
      "slope_sigma <class 'pcntoolkit.model.hbr.FixedParameterization'>\n",
      "intercept_sigma <class 'pcntoolkit.model.hbr.FixedParameterization'>\n",
      "sigma <class 'pcntoolkit.model.hbr.LinearParameterization'>\n",
      "epsilon <class 'pcntoolkit.model.hbr.FixedParameterization'>\n",
      "delta <class 'pcntoolkit.model.hbr.FixedParameterization'>\n"
     ]
    },
    {
     "name": "stderr",
     "output_type": "stream",
     "text": [
      "Sampling: [y_like]\n"
     ]
    },
    {
     "data": {
      "text/html": [
       "\n",
       "<style>\n",
       "    /* Turns off some styling */\n",
       "    progress {\n",
       "        /* gets rid of default border in Firefox and Opera. */\n",
       "        border: none;\n",
       "        /* Needs to be in here for Safari polyfill so background images work as expected. */\n",
       "        background-size: auto;\n",
       "    }\n",
       "    progress:not([value]), progress:not([value])::-webkit-progress-bar {\n",
       "        background: repeating-linear-gradient(45deg, #7e7e7e, #7e7e7e 10px, #5c5c5c 10px, #5c5c5c 20px);\n",
       "    }\n",
       "    .progress-bar-interrupted, .progress-bar-interrupted::-webkit-progress-bar {\n",
       "        background: #F44336;\n",
       "    }\n",
       "</style>\n"
      ],
      "text/plain": [
       "<IPython.core.display.HTML object>"
      ]
     },
     "metadata": {},
     "output_type": "display_data"
    },
    {
     "data": {
      "text/html": [
       "\n",
       "    <div>\n",
       "      <progress value='2000' class='' max='2000' style='width:300px; height:20px; vertical-align: middle;'></progress>\n",
       "      100.00% [2000/2000 00:03&lt;00:00]\n",
       "    </div>\n",
       "    "
      ],
      "text/plain": [
       "<IPython.core.display.HTML object>"
      ]
     },
     "metadata": {},
     "output_type": "display_data"
    },
    {
     "name": "stdout",
     "output_type": "stream",
     "text": [
      "Done computing zscores in 4.613480806350708 seconds\n",
      "Computing zscores for NM_0_0_estimate.pkl\n",
      "SHASHb\n",
      "slope_mu <class 'pcntoolkit.model.hbr.FixedParameterization'>\n",
      "intercept_mu <class 'pcntoolkit.model.hbr.NonCentralRandomFixedParameterization'>\n",
      "mu <class 'pcntoolkit.model.hbr.LinearParameterization'>\n",
      "slope_sigma <class 'pcntoolkit.model.hbr.FixedParameterization'>\n",
      "intercept_sigma <class 'pcntoolkit.model.hbr.FixedParameterization'>\n",
      "sigma <class 'pcntoolkit.model.hbr.LinearParameterization'>\n",
      "slope_epsilon <class 'pcntoolkit.model.hbr.FixedParameterization'>\n",
      "intercept_epsilon <class 'pcntoolkit.model.hbr.FixedParameterization'>\n",
      "epsilon <class 'pcntoolkit.model.hbr.LinearParameterization'>\n",
      "slope_delta <class 'pcntoolkit.model.hbr.FixedParameterization'>\n",
      "intercept_delta <class 'pcntoolkit.model.hbr.FixedParameterization'>\n",
      "delta <class 'pcntoolkit.model.hbr.LinearParameterization'>\n"
     ]
    },
    {
     "name": "stderr",
     "output_type": "stream",
     "text": [
      "Sampling: [y_like]\n"
     ]
    },
    {
     "data": {
      "text/html": [
       "\n",
       "<style>\n",
       "    /* Turns off some styling */\n",
       "    progress {\n",
       "        /* gets rid of default border in Firefox and Opera. */\n",
       "        border: none;\n",
       "        /* Needs to be in here for Safari polyfill so background images work as expected. */\n",
       "        background-size: auto;\n",
       "    }\n",
       "    progress:not([value]), progress:not([value])::-webkit-progress-bar {\n",
       "        background: repeating-linear-gradient(45deg, #7e7e7e, #7e7e7e 10px, #5c5c5c 10px, #5c5c5c 20px);\n",
       "    }\n",
       "    .progress-bar-interrupted, .progress-bar-interrupted::-webkit-progress-bar {\n",
       "        background: #F44336;\n",
       "    }\n",
       "</style>\n"
      ],
      "text/plain": [
       "<IPython.core.display.HTML object>"
      ]
     },
     "metadata": {},
     "output_type": "display_data"
    },
    {
     "data": {
      "text/html": [
       "\n",
       "    <div>\n",
       "      <progress value='2000' class='' max='2000' style='width:300px; height:20px; vertical-align: middle;'></progress>\n",
       "      100.00% [2000/2000 00:11&lt;00:00]\n",
       "    </div>\n",
       "    "
      ],
      "text/plain": [
       "<IPython.core.display.HTML object>"
      ]
     },
     "metadata": {},
     "output_type": "display_data"
    },
    {
     "name": "stdout",
     "output_type": "stream",
     "text": [
      "Done computing zscores in 39.42799758911133 seconds\n",
      "Computing zscores for NM_0_0_estimate.pkl\n",
      "Normal\n",
      "slope_mu <class 'pcntoolkit.model.hbr.FixedParameterization'>\n",
      "intercept_mu <class 'pcntoolkit.model.hbr.NonCentralRandomFixedParameterization'>\n",
      "mu <class 'pcntoolkit.model.hbr.LinearParameterization'>\n",
      "slope_sigma <class 'pcntoolkit.model.hbr.FixedParameterization'>\n",
      "intercept_sigma <class 'pcntoolkit.model.hbr.FixedParameterization'>\n",
      "sigma <class 'pcntoolkit.model.hbr.LinearParameterization'>\n"
     ]
    },
    {
     "name": "stderr",
     "output_type": "stream",
     "text": [
      "Sampling: [y_like]\n"
     ]
    },
    {
     "data": {
      "text/html": [
       "\n",
       "<style>\n",
       "    /* Turns off some styling */\n",
       "    progress {\n",
       "        /* gets rid of default border in Firefox and Opera. */\n",
       "        border: none;\n",
       "        /* Needs to be in here for Safari polyfill so background images work as expected. */\n",
       "        background-size: auto;\n",
       "    }\n",
       "    progress:not([value]), progress:not([value])::-webkit-progress-bar {\n",
       "        background: repeating-linear-gradient(45deg, #7e7e7e, #7e7e7e 10px, #5c5c5c 10px, #5c5c5c 20px);\n",
       "    }\n",
       "    .progress-bar-interrupted, .progress-bar-interrupted::-webkit-progress-bar {\n",
       "        background: #F44336;\n",
       "    }\n",
       "</style>\n"
      ],
      "text/plain": [
       "<IPython.core.display.HTML object>"
      ]
     },
     "metadata": {},
     "output_type": "display_data"
    },
    {
     "data": {
      "text/html": [
       "\n",
       "    <div>\n",
       "      <progress value='2000' class='' max='2000' style='width:300px; height:20px; vertical-align: middle;'></progress>\n",
       "      100.00% [2000/2000 00:01&lt;00:00]\n",
       "    </div>\n",
       "    "
      ],
      "text/plain": [
       "<IPython.core.display.HTML object>"
      ]
     },
     "metadata": {},
     "output_type": "display_data"
    },
    {
     "name": "stdout",
     "output_type": "stream",
     "text": [
      "Done computing zscores in 2.529728412628174 seconds\n",
      "Computing zscores for NM_0_0_estimate.pkl\n",
      "SHASHo\n",
      "slope_mu <class 'pcntoolkit.model.hbr.FixedParameterization'>\n",
      "intercept_mu <class 'pcntoolkit.model.hbr.NonCentralRandomFixedParameterization'>\n",
      "mu <class 'pcntoolkit.model.hbr.LinearParameterization'>\n",
      "slope_sigma <class 'pcntoolkit.model.hbr.FixedParameterization'>\n",
      "intercept_sigma <class 'pcntoolkit.model.hbr.FixedParameterization'>\n",
      "sigma <class 'pcntoolkit.model.hbr.LinearParameterization'>\n",
      "epsilon <class 'pcntoolkit.model.hbr.FixedParameterization'>\n",
      "delta <class 'pcntoolkit.model.hbr.FixedParameterization'>\n"
     ]
    },
    {
     "name": "stderr",
     "output_type": "stream",
     "text": [
      "Sampling: [y_like]\n"
     ]
    },
    {
     "data": {
      "text/html": [
       "\n",
       "<style>\n",
       "    /* Turns off some styling */\n",
       "    progress {\n",
       "        /* gets rid of default border in Firefox and Opera. */\n",
       "        border: none;\n",
       "        /* Needs to be in here for Safari polyfill so background images work as expected. */\n",
       "        background-size: auto;\n",
       "    }\n",
       "    progress:not([value]), progress:not([value])::-webkit-progress-bar {\n",
       "        background: repeating-linear-gradient(45deg, #7e7e7e, #7e7e7e 10px, #5c5c5c 10px, #5c5c5c 20px);\n",
       "    }\n",
       "    .progress-bar-interrupted, .progress-bar-interrupted::-webkit-progress-bar {\n",
       "        background: #F44336;\n",
       "    }\n",
       "</style>\n"
      ],
      "text/plain": [
       "<IPython.core.display.HTML object>"
      ]
     },
     "metadata": {},
     "output_type": "display_data"
    },
    {
     "data": {
      "text/html": [
       "\n",
       "    <div>\n",
       "      <progress value='2000' class='' max='2000' style='width:300px; height:20px; vertical-align: middle;'></progress>\n",
       "      100.00% [2000/2000 00:02&lt;00:00]\n",
       "    </div>\n",
       "    "
      ],
      "text/plain": [
       "<IPython.core.display.HTML object>"
      ]
     },
     "metadata": {},
     "output_type": "display_data"
    },
    {
     "name": "stdout",
     "output_type": "stream",
     "text": [
      "Done computing zscores in 4.0879504680633545 seconds\n",
      "Computing zscores for NM_0_0_estimate.pkl\n",
      "SHASHb\n",
      "slope_mu <class 'pcntoolkit.model.hbr.FixedParameterization'>\n",
      "intercept_mu <class 'pcntoolkit.model.hbr.NonCentralRandomFixedParameterization'>\n",
      "mu <class 'pcntoolkit.model.hbr.LinearParameterization'>\n",
      "slope_sigma <class 'pcntoolkit.model.hbr.FixedParameterization'>\n",
      "intercept_sigma <class 'pcntoolkit.model.hbr.FixedParameterization'>\n",
      "sigma <class 'pcntoolkit.model.hbr.LinearParameterization'>\n",
      "epsilon <class 'pcntoolkit.model.hbr.FixedParameterization'>\n",
      "delta <class 'pcntoolkit.model.hbr.FixedParameterization'>\n"
     ]
    },
    {
     "name": "stderr",
     "output_type": "stream",
     "text": [
      "Sampling: [y_like]\n"
     ]
    },
    {
     "data": {
      "text/html": [
       "\n",
       "<style>\n",
       "    /* Turns off some styling */\n",
       "    progress {\n",
       "        /* gets rid of default border in Firefox and Opera. */\n",
       "        border: none;\n",
       "        /* Needs to be in here for Safari polyfill so background images work as expected. */\n",
       "        background-size: auto;\n",
       "    }\n",
       "    progress:not([value]), progress:not([value])::-webkit-progress-bar {\n",
       "        background: repeating-linear-gradient(45deg, #7e7e7e, #7e7e7e 10px, #5c5c5c 10px, #5c5c5c 20px);\n",
       "    }\n",
       "    .progress-bar-interrupted, .progress-bar-interrupted::-webkit-progress-bar {\n",
       "        background: #F44336;\n",
       "    }\n",
       "</style>\n"
      ],
      "text/plain": [
       "<IPython.core.display.HTML object>"
      ]
     },
     "metadata": {},
     "output_type": "display_data"
    },
    {
     "data": {
      "text/html": [
       "\n",
       "    <div>\n",
       "      <progress value='2000' class='' max='2000' style='width:300px; height:20px; vertical-align: middle;'></progress>\n",
       "      100.00% [2000/2000 00:03&lt;00:00]\n",
       "    </div>\n",
       "    "
      ],
      "text/plain": [
       "<IPython.core.display.HTML object>"
      ]
     },
     "metadata": {},
     "output_type": "display_data"
    },
    {
     "name": "stdout",
     "output_type": "stream",
     "text": [
      "Done computing zscores in 4.720911741256714 seconds\n",
      "Computing zscores for NM_0_0_estimate.pkl\n",
      "SHASHb\n",
      "slope_mu <class 'pcntoolkit.model.hbr.FixedParameterization'>\n",
      "intercept_mu <class 'pcntoolkit.model.hbr.NonCentralRandomFixedParameterization'>\n",
      "mu <class 'pcntoolkit.model.hbr.LinearParameterization'>\n",
      "slope_sigma <class 'pcntoolkit.model.hbr.FixedParameterization'>\n",
      "intercept_sigma <class 'pcntoolkit.model.hbr.FixedParameterization'>\n",
      "sigma <class 'pcntoolkit.model.hbr.LinearParameterization'>\n",
      "slope_epsilon <class 'pcntoolkit.model.hbr.FixedParameterization'>\n",
      "intercept_epsilon <class 'pcntoolkit.model.hbr.FixedParameterization'>\n",
      "epsilon <class 'pcntoolkit.model.hbr.LinearParameterization'>\n",
      "slope_delta <class 'pcntoolkit.model.hbr.FixedParameterization'>\n",
      "intercept_delta <class 'pcntoolkit.model.hbr.FixedParameterization'>\n",
      "delta <class 'pcntoolkit.model.hbr.LinearParameterization'>\n"
     ]
    },
    {
     "name": "stderr",
     "output_type": "stream",
     "text": [
      "Sampling: [y_like]\n"
     ]
    },
    {
     "data": {
      "text/html": [
       "\n",
       "<style>\n",
       "    /* Turns off some styling */\n",
       "    progress {\n",
       "        /* gets rid of default border in Firefox and Opera. */\n",
       "        border: none;\n",
       "        /* Needs to be in here for Safari polyfill so background images work as expected. */\n",
       "        background-size: auto;\n",
       "    }\n",
       "    progress:not([value]), progress:not([value])::-webkit-progress-bar {\n",
       "        background: repeating-linear-gradient(45deg, #7e7e7e, #7e7e7e 10px, #5c5c5c 10px, #5c5c5c 20px);\n",
       "    }\n",
       "    .progress-bar-interrupted, .progress-bar-interrupted::-webkit-progress-bar {\n",
       "        background: #F44336;\n",
       "    }\n",
       "</style>\n"
      ],
      "text/plain": [
       "<IPython.core.display.HTML object>"
      ]
     },
     "metadata": {},
     "output_type": "display_data"
    },
    {
     "data": {
      "text/html": [
       "\n",
       "    <div>\n",
       "      <progress value='2000' class='' max='2000' style='width:300px; height:20px; vertical-align: middle;'></progress>\n",
       "      100.00% [2000/2000 00:11&lt;00:00]\n",
       "    </div>\n",
       "    "
      ],
      "text/plain": [
       "<IPython.core.display.HTML object>"
      ]
     },
     "metadata": {},
     "output_type": "display_data"
    },
    {
     "name": "stdout",
     "output_type": "stream",
     "text": [
      "Done computing zscores in 38.35212516784668 seconds\n"
     ]
    },
    {
     "name": "stderr",
     "output_type": "stream",
     "text": [
      "Sampling: [y_like]\n"
     ]
    },
    {
     "name": "stdout",
     "output_type": "stream",
     "text": [
      "Computing zscores for NM_0_0_estimate.pkl\n",
      "Normal\n",
      "slope_mu <class 'pcntoolkit.model.hbr.FixedParameterization'>\n",
      "intercept_mu <class 'pcntoolkit.model.hbr.NonCentralRandomFixedParameterization'>\n",
      "mu <class 'pcntoolkit.model.hbr.LinearParameterization'>\n",
      "slope_sigma <class 'pcntoolkit.model.hbr.FixedParameterization'>\n",
      "intercept_sigma <class 'pcntoolkit.model.hbr.FixedParameterization'>\n",
      "sigma <class 'pcntoolkit.model.hbr.LinearParameterization'>\n"
     ]
    },
    {
     "data": {
      "text/html": [
       "\n",
       "<style>\n",
       "    /* Turns off some styling */\n",
       "    progress {\n",
       "        /* gets rid of default border in Firefox and Opera. */\n",
       "        border: none;\n",
       "        /* Needs to be in here for Safari polyfill so background images work as expected. */\n",
       "        background-size: auto;\n",
       "    }\n",
       "    progress:not([value]), progress:not([value])::-webkit-progress-bar {\n",
       "        background: repeating-linear-gradient(45deg, #7e7e7e, #7e7e7e 10px, #5c5c5c 10px, #5c5c5c 20px);\n",
       "    }\n",
       "    .progress-bar-interrupted, .progress-bar-interrupted::-webkit-progress-bar {\n",
       "        background: #F44336;\n",
       "    }\n",
       "</style>\n"
      ],
      "text/plain": [
       "<IPython.core.display.HTML object>"
      ]
     },
     "metadata": {},
     "output_type": "display_data"
    },
    {
     "data": {
      "text/html": [
       "\n",
       "    <div>\n",
       "      <progress value='2000' class='' max='2000' style='width:300px; height:20px; vertical-align: middle;'></progress>\n",
       "      100.00% [2000/2000 00:01&lt;00:00]\n",
       "    </div>\n",
       "    "
      ],
      "text/plain": [
       "<IPython.core.display.HTML object>"
      ]
     },
     "metadata": {},
     "output_type": "display_data"
    },
    {
     "name": "stdout",
     "output_type": "stream",
     "text": [
      "Done computing zscores in 2.396152973175049 seconds\n",
      "Computing zscores for NM_0_0_estimate.pkl\n",
      "SHASHo\n",
      "slope_mu <class 'pcntoolkit.model.hbr.FixedParameterization'>\n",
      "intercept_mu <class 'pcntoolkit.model.hbr.NonCentralRandomFixedParameterization'>\n",
      "mu <class 'pcntoolkit.model.hbr.LinearParameterization'>\n",
      "slope_sigma <class 'pcntoolkit.model.hbr.FixedParameterization'>\n",
      "intercept_sigma <class 'pcntoolkit.model.hbr.FixedParameterization'>\n",
      "sigma <class 'pcntoolkit.model.hbr.LinearParameterization'>\n",
      "epsilon <class 'pcntoolkit.model.hbr.FixedParameterization'>\n",
      "delta <class 'pcntoolkit.model.hbr.FixedParameterization'>\n"
     ]
    },
    {
     "name": "stderr",
     "output_type": "stream",
     "text": [
      "Sampling: [y_like]\n"
     ]
    },
    {
     "data": {
      "text/html": [
       "\n",
       "<style>\n",
       "    /* Turns off some styling */\n",
       "    progress {\n",
       "        /* gets rid of default border in Firefox and Opera. */\n",
       "        border: none;\n",
       "        /* Needs to be in here for Safari polyfill so background images work as expected. */\n",
       "        background-size: auto;\n",
       "    }\n",
       "    progress:not([value]), progress:not([value])::-webkit-progress-bar {\n",
       "        background: repeating-linear-gradient(45deg, #7e7e7e, #7e7e7e 10px, #5c5c5c 10px, #5c5c5c 20px);\n",
       "    }\n",
       "    .progress-bar-interrupted, .progress-bar-interrupted::-webkit-progress-bar {\n",
       "        background: #F44336;\n",
       "    }\n",
       "</style>\n"
      ],
      "text/plain": [
       "<IPython.core.display.HTML object>"
      ]
     },
     "metadata": {},
     "output_type": "display_data"
    },
    {
     "data": {
      "text/html": [
       "\n",
       "    <div>\n",
       "      <progress value='2000' class='' max='2000' style='width:300px; height:20px; vertical-align: middle;'></progress>\n",
       "      100.00% [2000/2000 00:02&lt;00:00]\n",
       "    </div>\n",
       "    "
      ],
      "text/plain": [
       "<IPython.core.display.HTML object>"
      ]
     },
     "metadata": {},
     "output_type": "display_data"
    },
    {
     "name": "stdout",
     "output_type": "stream",
     "text": [
      "Done computing zscores in 3.9630701541900635 seconds\n",
      "Computing zscores for NM_0_0_estimate.pkl\n",
      "SHASHb\n",
      "slope_mu <class 'pcntoolkit.model.hbr.FixedParameterization'>\n",
      "intercept_mu <class 'pcntoolkit.model.hbr.NonCentralRandomFixedParameterization'>\n",
      "mu <class 'pcntoolkit.model.hbr.LinearParameterization'>\n",
      "slope_sigma <class 'pcntoolkit.model.hbr.FixedParameterization'>\n",
      "intercept_sigma <class 'pcntoolkit.model.hbr.FixedParameterization'>\n",
      "sigma <class 'pcntoolkit.model.hbr.LinearParameterization'>\n",
      "epsilon <class 'pcntoolkit.model.hbr.FixedParameterization'>\n",
      "delta <class 'pcntoolkit.model.hbr.FixedParameterization'>\n"
     ]
    },
    {
     "name": "stderr",
     "output_type": "stream",
     "text": [
      "Sampling: [y_like]\n"
     ]
    },
    {
     "data": {
      "text/html": [
       "\n",
       "<style>\n",
       "    /* Turns off some styling */\n",
       "    progress {\n",
       "        /* gets rid of default border in Firefox and Opera. */\n",
       "        border: none;\n",
       "        /* Needs to be in here for Safari polyfill so background images work as expected. */\n",
       "        background-size: auto;\n",
       "    }\n",
       "    progress:not([value]), progress:not([value])::-webkit-progress-bar {\n",
       "        background: repeating-linear-gradient(45deg, #7e7e7e, #7e7e7e 10px, #5c5c5c 10px, #5c5c5c 20px);\n",
       "    }\n",
       "    .progress-bar-interrupted, .progress-bar-interrupted::-webkit-progress-bar {\n",
       "        background: #F44336;\n",
       "    }\n",
       "</style>\n"
      ],
      "text/plain": [
       "<IPython.core.display.HTML object>"
      ]
     },
     "metadata": {},
     "output_type": "display_data"
    },
    {
     "data": {
      "text/html": [
       "\n",
       "    <div>\n",
       "      <progress value='2000' class='' max='2000' style='width:300px; height:20px; vertical-align: middle;'></progress>\n",
       "      100.00% [2000/2000 00:03&lt;00:00]\n",
       "    </div>\n",
       "    "
      ],
      "text/plain": [
       "<IPython.core.display.HTML object>"
      ]
     },
     "metadata": {},
     "output_type": "display_data"
    },
    {
     "name": "stdout",
     "output_type": "stream",
     "text": [
      "Done computing zscores in 4.759546995162964 seconds\n",
      "Computing zscores for NM_0_0_estimate.pkl\n",
      "SHASHb\n",
      "slope_mu <class 'pcntoolkit.model.hbr.FixedParameterization'>\n",
      "intercept_mu <class 'pcntoolkit.model.hbr.NonCentralRandomFixedParameterization'>\n",
      "mu <class 'pcntoolkit.model.hbr.LinearParameterization'>\n",
      "slope_sigma <class 'pcntoolkit.model.hbr.FixedParameterization'>\n",
      "intercept_sigma <class 'pcntoolkit.model.hbr.FixedParameterization'>\n",
      "sigma <class 'pcntoolkit.model.hbr.LinearParameterization'>\n",
      "slope_epsilon <class 'pcntoolkit.model.hbr.FixedParameterization'>\n",
      "intercept_epsilon <class 'pcntoolkit.model.hbr.FixedParameterization'>\n",
      "epsilon <class 'pcntoolkit.model.hbr.LinearParameterization'>\n",
      "slope_delta <class 'pcntoolkit.model.hbr.FixedParameterization'>\n",
      "intercept_delta <class 'pcntoolkit.model.hbr.FixedParameterization'>\n",
      "delta <class 'pcntoolkit.model.hbr.LinearParameterization'>\n"
     ]
    },
    {
     "name": "stderr",
     "output_type": "stream",
     "text": [
      "Sampling: [y_like]\n"
     ]
    },
    {
     "data": {
      "text/html": [
       "\n",
       "<style>\n",
       "    /* Turns off some styling */\n",
       "    progress {\n",
       "        /* gets rid of default border in Firefox and Opera. */\n",
       "        border: none;\n",
       "        /* Needs to be in here for Safari polyfill so background images work as expected. */\n",
       "        background-size: auto;\n",
       "    }\n",
       "    progress:not([value]), progress:not([value])::-webkit-progress-bar {\n",
       "        background: repeating-linear-gradient(45deg, #7e7e7e, #7e7e7e 10px, #5c5c5c 10px, #5c5c5c 20px);\n",
       "    }\n",
       "    .progress-bar-interrupted, .progress-bar-interrupted::-webkit-progress-bar {\n",
       "        background: #F44336;\n",
       "    }\n",
       "</style>\n"
      ],
      "text/plain": [
       "<IPython.core.display.HTML object>"
      ]
     },
     "metadata": {},
     "output_type": "display_data"
    },
    {
     "data": {
      "text/html": [
       "\n",
       "    <div>\n",
       "      <progress value='2000' class='' max='2000' style='width:300px; height:20px; vertical-align: middle;'></progress>\n",
       "      100.00% [2000/2000 00:11&lt;00:00]\n",
       "    </div>\n",
       "    "
      ],
      "text/plain": [
       "<IPython.core.display.HTML object>"
      ]
     },
     "metadata": {},
     "output_type": "display_data"
    },
    {
     "name": "stdout",
     "output_type": "stream",
     "text": [
      "Done computing zscores in 37.24893617630005 seconds\n"
     ]
    },
    {
     "name": "stderr",
     "output_type": "stream",
     "text": [
      "Sampling: [y_like]\n"
     ]
    },
    {
     "name": "stdout",
     "output_type": "stream",
     "text": [
      "Computing zscores for NM_0_0_estimate.pkl\n",
      "Normal\n",
      "slope_mu <class 'pcntoolkit.model.hbr.FixedParameterization'>\n",
      "intercept_mu <class 'pcntoolkit.model.hbr.NonCentralRandomFixedParameterization'>\n",
      "mu <class 'pcntoolkit.model.hbr.LinearParameterization'>\n",
      "slope_sigma <class 'pcntoolkit.model.hbr.FixedParameterization'>\n",
      "intercept_sigma <class 'pcntoolkit.model.hbr.FixedParameterization'>\n",
      "sigma <class 'pcntoolkit.model.hbr.LinearParameterization'>\n"
     ]
    },
    {
     "data": {
      "text/html": [
       "\n",
       "<style>\n",
       "    /* Turns off some styling */\n",
       "    progress {\n",
       "        /* gets rid of default border in Firefox and Opera. */\n",
       "        border: none;\n",
       "        /* Needs to be in here for Safari polyfill so background images work as expected. */\n",
       "        background-size: auto;\n",
       "    }\n",
       "    progress:not([value]), progress:not([value])::-webkit-progress-bar {\n",
       "        background: repeating-linear-gradient(45deg, #7e7e7e, #7e7e7e 10px, #5c5c5c 10px, #5c5c5c 20px);\n",
       "    }\n",
       "    .progress-bar-interrupted, .progress-bar-interrupted::-webkit-progress-bar {\n",
       "        background: #F44336;\n",
       "    }\n",
       "</style>\n"
      ],
      "text/plain": [
       "<IPython.core.display.HTML object>"
      ]
     },
     "metadata": {},
     "output_type": "display_data"
    },
    {
     "data": {
      "text/html": [
       "\n",
       "    <div>\n",
       "      <progress value='2000' class='' max='2000' style='width:300px; height:20px; vertical-align: middle;'></progress>\n",
       "      100.00% [2000/2000 00:01&lt;00:00]\n",
       "    </div>\n",
       "    "
      ],
      "text/plain": [
       "<IPython.core.display.HTML object>"
      ]
     },
     "metadata": {},
     "output_type": "display_data"
    },
    {
     "name": "stdout",
     "output_type": "stream",
     "text": [
      "Done computing zscores in 2.2646701335906982 seconds\n"
     ]
    },
    {
     "name": "stderr",
     "output_type": "stream",
     "text": [
      "Sampling: [y_like]\n"
     ]
    },
    {
     "name": "stdout",
     "output_type": "stream",
     "text": [
      "Computing zscores for NM_0_0_estimate.pkl\n",
      "SHASHo\n",
      "slope_mu <class 'pcntoolkit.model.hbr.FixedParameterization'>\n",
      "intercept_mu <class 'pcntoolkit.model.hbr.NonCentralRandomFixedParameterization'>\n",
      "mu <class 'pcntoolkit.model.hbr.LinearParameterization'>\n",
      "slope_sigma <class 'pcntoolkit.model.hbr.FixedParameterization'>\n",
      "intercept_sigma <class 'pcntoolkit.model.hbr.FixedParameterization'>\n",
      "sigma <class 'pcntoolkit.model.hbr.LinearParameterization'>\n",
      "epsilon <class 'pcntoolkit.model.hbr.FixedParameterization'>\n",
      "delta <class 'pcntoolkit.model.hbr.FixedParameterization'>\n"
     ]
    },
    {
     "data": {
      "text/html": [
       "\n",
       "<style>\n",
       "    /* Turns off some styling */\n",
       "    progress {\n",
       "        /* gets rid of default border in Firefox and Opera. */\n",
       "        border: none;\n",
       "        /* Needs to be in here for Safari polyfill so background images work as expected. */\n",
       "        background-size: auto;\n",
       "    }\n",
       "    progress:not([value]), progress:not([value])::-webkit-progress-bar {\n",
       "        background: repeating-linear-gradient(45deg, #7e7e7e, #7e7e7e 10px, #5c5c5c 10px, #5c5c5c 20px);\n",
       "    }\n",
       "    .progress-bar-interrupted, .progress-bar-interrupted::-webkit-progress-bar {\n",
       "        background: #F44336;\n",
       "    }\n",
       "</style>\n"
      ],
      "text/plain": [
       "<IPython.core.display.HTML object>"
      ]
     },
     "metadata": {},
     "output_type": "display_data"
    },
    {
     "data": {
      "text/html": [
       "\n",
       "    <div>\n",
       "      <progress value='2000' class='' max='2000' style='width:300px; height:20px; vertical-align: middle;'></progress>\n",
       "      100.00% [2000/2000 00:02&lt;00:00]\n",
       "    </div>\n",
       "    "
      ],
      "text/plain": [
       "<IPython.core.display.HTML object>"
      ]
     },
     "metadata": {},
     "output_type": "display_data"
    },
    {
     "name": "stdout",
     "output_type": "stream",
     "text": [
      "Done computing zscores in 3.768218755722046 seconds\n"
     ]
    },
    {
     "name": "stderr",
     "output_type": "stream",
     "text": [
      "Sampling: [y_like]\n"
     ]
    },
    {
     "name": "stdout",
     "output_type": "stream",
     "text": [
      "Computing zscores for NM_0_0_estimate.pkl\n",
      "SHASHb\n",
      "slope_mu <class 'pcntoolkit.model.hbr.FixedParameterization'>\n",
      "intercept_mu <class 'pcntoolkit.model.hbr.NonCentralRandomFixedParameterization'>\n",
      "mu <class 'pcntoolkit.model.hbr.LinearParameterization'>\n",
      "slope_sigma <class 'pcntoolkit.model.hbr.FixedParameterization'>\n",
      "intercept_sigma <class 'pcntoolkit.model.hbr.FixedParameterization'>\n",
      "sigma <class 'pcntoolkit.model.hbr.LinearParameterization'>\n",
      "epsilon <class 'pcntoolkit.model.hbr.FixedParameterization'>\n",
      "delta <class 'pcntoolkit.model.hbr.FixedParameterization'>\n"
     ]
    },
    {
     "data": {
      "text/html": [
       "\n",
       "<style>\n",
       "    /* Turns off some styling */\n",
       "    progress {\n",
       "        /* gets rid of default border in Firefox and Opera. */\n",
       "        border: none;\n",
       "        /* Needs to be in here for Safari polyfill so background images work as expected. */\n",
       "        background-size: auto;\n",
       "    }\n",
       "    progress:not([value]), progress:not([value])::-webkit-progress-bar {\n",
       "        background: repeating-linear-gradient(45deg, #7e7e7e, #7e7e7e 10px, #5c5c5c 10px, #5c5c5c 20px);\n",
       "    }\n",
       "    .progress-bar-interrupted, .progress-bar-interrupted::-webkit-progress-bar {\n",
       "        background: #F44336;\n",
       "    }\n",
       "</style>\n"
      ],
      "text/plain": [
       "<IPython.core.display.HTML object>"
      ]
     },
     "metadata": {},
     "output_type": "display_data"
    },
    {
     "data": {
      "text/html": [
       "\n",
       "    <div>\n",
       "      <progress value='2000' class='' max='2000' style='width:300px; height:20px; vertical-align: middle;'></progress>\n",
       "      100.00% [2000/2000 00:02&lt;00:00]\n",
       "    </div>\n",
       "    "
      ],
      "text/plain": [
       "<IPython.core.display.HTML object>"
      ]
     },
     "metadata": {},
     "output_type": "display_data"
    },
    {
     "name": "stdout",
     "output_type": "stream",
     "text": [
      "Done computing zscores in 4.560822010040283 seconds\n",
      "Computing zscores for NM_0_0_estimate.pkl\n",
      "SHASHb\n",
      "slope_mu <class 'pcntoolkit.model.hbr.FixedParameterization'>\n",
      "intercept_mu <class 'pcntoolkit.model.hbr.NonCentralRandomFixedParameterization'>\n",
      "mu <class 'pcntoolkit.model.hbr.LinearParameterization'>\n",
      "slope_sigma <class 'pcntoolkit.model.hbr.FixedParameterization'>\n",
      "intercept_sigma <class 'pcntoolkit.model.hbr.FixedParameterization'>\n",
      "sigma <class 'pcntoolkit.model.hbr.LinearParameterization'>\n",
      "slope_epsilon <class 'pcntoolkit.model.hbr.FixedParameterization'>\n",
      "intercept_epsilon <class 'pcntoolkit.model.hbr.FixedParameterization'>\n",
      "epsilon <class 'pcntoolkit.model.hbr.LinearParameterization'>\n",
      "slope_delta <class 'pcntoolkit.model.hbr.FixedParameterization'>\n",
      "intercept_delta <class 'pcntoolkit.model.hbr.FixedParameterization'>\n",
      "delta <class 'pcntoolkit.model.hbr.LinearParameterization'>\n"
     ]
    },
    {
     "name": "stderr",
     "output_type": "stream",
     "text": [
      "Sampling: [y_like]\n"
     ]
    },
    {
     "data": {
      "text/html": [
       "\n",
       "<style>\n",
       "    /* Turns off some styling */\n",
       "    progress {\n",
       "        /* gets rid of default border in Firefox and Opera. */\n",
       "        border: none;\n",
       "        /* Needs to be in here for Safari polyfill so background images work as expected. */\n",
       "        background-size: auto;\n",
       "    }\n",
       "    progress:not([value]), progress:not([value])::-webkit-progress-bar {\n",
       "        background: repeating-linear-gradient(45deg, #7e7e7e, #7e7e7e 10px, #5c5c5c 10px, #5c5c5c 20px);\n",
       "    }\n",
       "    .progress-bar-interrupted, .progress-bar-interrupted::-webkit-progress-bar {\n",
       "        background: #F44336;\n",
       "    }\n",
       "</style>\n"
      ],
      "text/plain": [
       "<IPython.core.display.HTML object>"
      ]
     },
     "metadata": {},
     "output_type": "display_data"
    },
    {
     "data": {
      "text/html": [
       "\n",
       "    <div>\n",
       "      <progress value='2000' class='' max='2000' style='width:300px; height:20px; vertical-align: middle;'></progress>\n",
       "      100.00% [2000/2000 00:11&lt;00:00]\n",
       "    </div>\n",
       "    "
      ],
      "text/plain": [
       "<IPython.core.display.HTML object>"
      ]
     },
     "metadata": {},
     "output_type": "display_data"
    },
    {
     "name": "stdout",
     "output_type": "stream",
     "text": [
      "Done computing zscores in 38.20064115524292 seconds\n"
     ]
    },
    {
     "name": "stderr",
     "output_type": "stream",
     "text": [
      "Sampling: [y_like]\n"
     ]
    },
    {
     "name": "stdout",
     "output_type": "stream",
     "text": [
      "Computing zscores for NM_0_0_estimate.pkl\n",
      "Normal\n",
      "slope_mu <class 'pcntoolkit.model.hbr.FixedParameterization'>\n",
      "intercept_mu <class 'pcntoolkit.model.hbr.NonCentralRandomFixedParameterization'>\n",
      "mu <class 'pcntoolkit.model.hbr.LinearParameterization'>\n",
      "slope_sigma <class 'pcntoolkit.model.hbr.FixedParameterization'>\n",
      "intercept_sigma <class 'pcntoolkit.model.hbr.FixedParameterization'>\n",
      "sigma <class 'pcntoolkit.model.hbr.LinearParameterization'>\n"
     ]
    },
    {
     "data": {
      "text/html": [
       "\n",
       "<style>\n",
       "    /* Turns off some styling */\n",
       "    progress {\n",
       "        /* gets rid of default border in Firefox and Opera. */\n",
       "        border: none;\n",
       "        /* Needs to be in here for Safari polyfill so background images work as expected. */\n",
       "        background-size: auto;\n",
       "    }\n",
       "    progress:not([value]), progress:not([value])::-webkit-progress-bar {\n",
       "        background: repeating-linear-gradient(45deg, #7e7e7e, #7e7e7e 10px, #5c5c5c 10px, #5c5c5c 20px);\n",
       "    }\n",
       "    .progress-bar-interrupted, .progress-bar-interrupted::-webkit-progress-bar {\n",
       "        background: #F44336;\n",
       "    }\n",
       "</style>\n"
      ],
      "text/plain": [
       "<IPython.core.display.HTML object>"
      ]
     },
     "metadata": {},
     "output_type": "display_data"
    },
    {
     "data": {
      "text/html": [
       "\n",
       "    <div>\n",
       "      <progress value='2000' class='' max='2000' style='width:300px; height:20px; vertical-align: middle;'></progress>\n",
       "      100.00% [2000/2000 00:01&lt;00:00]\n",
       "    </div>\n",
       "    "
      ],
      "text/plain": [
       "<IPython.core.display.HTML object>"
      ]
     },
     "metadata": {},
     "output_type": "display_data"
    },
    {
     "name": "stdout",
     "output_type": "stream",
     "text": [
      "Done computing zscores in 2.4110865592956543 seconds\n",
      "Computing zscores for NM_0_0_estimate.pkl\n",
      "SHASHo\n",
      "slope_mu <class 'pcntoolkit.model.hbr.FixedParameterization'>\n",
      "intercept_mu <class 'pcntoolkit.model.hbr.NonCentralRandomFixedParameterization'>\n",
      "mu <class 'pcntoolkit.model.hbr.LinearParameterization'>\n",
      "slope_sigma <class 'pcntoolkit.model.hbr.FixedParameterization'>\n",
      "intercept_sigma <class 'pcntoolkit.model.hbr.FixedParameterization'>\n",
      "sigma <class 'pcntoolkit.model.hbr.LinearParameterization'>\n",
      "epsilon <class 'pcntoolkit.model.hbr.FixedParameterization'>\n",
      "delta <class 'pcntoolkit.model.hbr.FixedParameterization'>\n"
     ]
    },
    {
     "name": "stderr",
     "output_type": "stream",
     "text": [
      "Sampling: [y_like]\n"
     ]
    },
    {
     "data": {
      "text/html": [
       "\n",
       "<style>\n",
       "    /* Turns off some styling */\n",
       "    progress {\n",
       "        /* gets rid of default border in Firefox and Opera. */\n",
       "        border: none;\n",
       "        /* Needs to be in here for Safari polyfill so background images work as expected. */\n",
       "        background-size: auto;\n",
       "    }\n",
       "    progress:not([value]), progress:not([value])::-webkit-progress-bar {\n",
       "        background: repeating-linear-gradient(45deg, #7e7e7e, #7e7e7e 10px, #5c5c5c 10px, #5c5c5c 20px);\n",
       "    }\n",
       "    .progress-bar-interrupted, .progress-bar-interrupted::-webkit-progress-bar {\n",
       "        background: #F44336;\n",
       "    }\n",
       "</style>\n"
      ],
      "text/plain": [
       "<IPython.core.display.HTML object>"
      ]
     },
     "metadata": {},
     "output_type": "display_data"
    },
    {
     "data": {
      "text/html": [
       "\n",
       "    <div>\n",
       "      <progress value='2000' class='' max='2000' style='width:300px; height:20px; vertical-align: middle;'></progress>\n",
       "      100.00% [2000/2000 00:02&lt;00:00]\n",
       "    </div>\n",
       "    "
      ],
      "text/plain": [
       "<IPython.core.display.HTML object>"
      ]
     },
     "metadata": {},
     "output_type": "display_data"
    },
    {
     "name": "stdout",
     "output_type": "stream",
     "text": [
      "Done computing zscores in 3.9872612953186035 seconds\n",
      "Computing zscores for NM_0_0_estimate.pkl\n",
      "SHASHb\n",
      "slope_mu <class 'pcntoolkit.model.hbr.FixedParameterization'>\n",
      "intercept_mu <class 'pcntoolkit.model.hbr.NonCentralRandomFixedParameterization'>\n",
      "mu <class 'pcntoolkit.model.hbr.LinearParameterization'>\n",
      "slope_sigma <class 'pcntoolkit.model.hbr.FixedParameterization'>\n",
      "intercept_sigma <class 'pcntoolkit.model.hbr.FixedParameterization'>\n",
      "sigma <class 'pcntoolkit.model.hbr.LinearParameterization'>\n",
      "epsilon <class 'pcntoolkit.model.hbr.FixedParameterization'>\n",
      "delta <class 'pcntoolkit.model.hbr.FixedParameterization'>\n"
     ]
    },
    {
     "name": "stderr",
     "output_type": "stream",
     "text": [
      "Sampling: [y_like]\n"
     ]
    },
    {
     "data": {
      "text/html": [
       "\n",
       "<style>\n",
       "    /* Turns off some styling */\n",
       "    progress {\n",
       "        /* gets rid of default border in Firefox and Opera. */\n",
       "        border: none;\n",
       "        /* Needs to be in here for Safari polyfill so background images work as expected. */\n",
       "        background-size: auto;\n",
       "    }\n",
       "    progress:not([value]), progress:not([value])::-webkit-progress-bar {\n",
       "        background: repeating-linear-gradient(45deg, #7e7e7e, #7e7e7e 10px, #5c5c5c 10px, #5c5c5c 20px);\n",
       "    }\n",
       "    .progress-bar-interrupted, .progress-bar-interrupted::-webkit-progress-bar {\n",
       "        background: #F44336;\n",
       "    }\n",
       "</style>\n"
      ],
      "text/plain": [
       "<IPython.core.display.HTML object>"
      ]
     },
     "metadata": {},
     "output_type": "display_data"
    },
    {
     "data": {
      "text/html": [
       "\n",
       "    <div>\n",
       "      <progress value='2000' class='' max='2000' style='width:300px; height:20px; vertical-align: middle;'></progress>\n",
       "      100.00% [2000/2000 00:03&lt;00:00]\n",
       "    </div>\n",
       "    "
      ],
      "text/plain": [
       "<IPython.core.display.HTML object>"
      ]
     },
     "metadata": {},
     "output_type": "display_data"
    },
    {
     "name": "stdout",
     "output_type": "stream",
     "text": [
      "Done computing zscores in 4.607813835144043 seconds\n",
      "Computing zscores for NM_0_0_estimate.pkl\n",
      "SHASHb\n",
      "slope_mu <class 'pcntoolkit.model.hbr.FixedParameterization'>\n",
      "intercept_mu <class 'pcntoolkit.model.hbr.NonCentralRandomFixedParameterization'>\n",
      "mu <class 'pcntoolkit.model.hbr.LinearParameterization'>\n",
      "slope_sigma <class 'pcntoolkit.model.hbr.FixedParameterization'>\n",
      "intercept_sigma <class 'pcntoolkit.model.hbr.FixedParameterization'>\n",
      "sigma <class 'pcntoolkit.model.hbr.LinearParameterization'>\n",
      "slope_epsilon <class 'pcntoolkit.model.hbr.FixedParameterization'>\n",
      "intercept_epsilon <class 'pcntoolkit.model.hbr.FixedParameterization'>\n",
      "epsilon <class 'pcntoolkit.model.hbr.LinearParameterization'>\n",
      "slope_delta <class 'pcntoolkit.model.hbr.FixedParameterization'>\n",
      "intercept_delta <class 'pcntoolkit.model.hbr.FixedParameterization'>\n",
      "delta <class 'pcntoolkit.model.hbr.LinearParameterization'>\n"
     ]
    },
    {
     "name": "stderr",
     "output_type": "stream",
     "text": [
      "Sampling: [y_like]\n"
     ]
    },
    {
     "data": {
      "text/html": [
       "\n",
       "<style>\n",
       "    /* Turns off some styling */\n",
       "    progress {\n",
       "        /* gets rid of default border in Firefox and Opera. */\n",
       "        border: none;\n",
       "        /* Needs to be in here for Safari polyfill so background images work as expected. */\n",
       "        background-size: auto;\n",
       "    }\n",
       "    progress:not([value]), progress:not([value])::-webkit-progress-bar {\n",
       "        background: repeating-linear-gradient(45deg, #7e7e7e, #7e7e7e 10px, #5c5c5c 10px, #5c5c5c 20px);\n",
       "    }\n",
       "    .progress-bar-interrupted, .progress-bar-interrupted::-webkit-progress-bar {\n",
       "        background: #F44336;\n",
       "    }\n",
       "</style>\n"
      ],
      "text/plain": [
       "<IPython.core.display.HTML object>"
      ]
     },
     "metadata": {},
     "output_type": "display_data"
    },
    {
     "data": {
      "text/html": [
       "\n",
       "    <div>\n",
       "      <progress value='2000' class='' max='2000' style='width:300px; height:20px; vertical-align: middle;'></progress>\n",
       "      100.00% [2000/2000 00:11&lt;00:00]\n",
       "    </div>\n",
       "    "
      ],
      "text/plain": [
       "<IPython.core.display.HTML object>"
      ]
     },
     "metadata": {},
     "output_type": "display_data"
    },
    {
     "name": "stdout",
     "output_type": "stream",
     "text": [
      "Done computing zscores in 40.69037437438965 seconds\n"
     ]
    },
    {
     "name": "stderr",
     "output_type": "stream",
     "text": [
      "Sampling: [y_like]\n"
     ]
    },
    {
     "name": "stdout",
     "output_type": "stream",
     "text": [
      "Computing zscores for NM_0_0_estimate.pkl\n",
      "Normal\n",
      "slope_mu <class 'pcntoolkit.model.hbr.FixedParameterization'>\n",
      "intercept_mu <class 'pcntoolkit.model.hbr.NonCentralRandomFixedParameterization'>\n",
      "mu <class 'pcntoolkit.model.hbr.LinearParameterization'>\n",
      "slope_sigma <class 'pcntoolkit.model.hbr.FixedParameterization'>\n",
      "intercept_sigma <class 'pcntoolkit.model.hbr.FixedParameterization'>\n",
      "sigma <class 'pcntoolkit.model.hbr.LinearParameterization'>\n"
     ]
    },
    {
     "data": {
      "text/html": [
       "\n",
       "<style>\n",
       "    /* Turns off some styling */\n",
       "    progress {\n",
       "        /* gets rid of default border in Firefox and Opera. */\n",
       "        border: none;\n",
       "        /* Needs to be in here for Safari polyfill so background images work as expected. */\n",
       "        background-size: auto;\n",
       "    }\n",
       "    progress:not([value]), progress:not([value])::-webkit-progress-bar {\n",
       "        background: repeating-linear-gradient(45deg, #7e7e7e, #7e7e7e 10px, #5c5c5c 10px, #5c5c5c 20px);\n",
       "    }\n",
       "    .progress-bar-interrupted, .progress-bar-interrupted::-webkit-progress-bar {\n",
       "        background: #F44336;\n",
       "    }\n",
       "</style>\n"
      ],
      "text/plain": [
       "<IPython.core.display.HTML object>"
      ]
     },
     "metadata": {},
     "output_type": "display_data"
    },
    {
     "data": {
      "text/html": [
       "\n",
       "    <div>\n",
       "      <progress value='2000' class='' max='2000' style='width:300px; height:20px; vertical-align: middle;'></progress>\n",
       "      100.00% [2000/2000 00:01&lt;00:00]\n",
       "    </div>\n",
       "    "
      ],
      "text/plain": [
       "<IPython.core.display.HTML object>"
      ]
     },
     "metadata": {},
     "output_type": "display_data"
    },
    {
     "name": "stdout",
     "output_type": "stream",
     "text": [
      "Done computing zscores in 2.1253511905670166 seconds\n",
      "Computing zscores for NM_0_0_estimate.pkl\n",
      "SHASHo\n",
      "slope_mu <class 'pcntoolkit.model.hbr.FixedParameterization'>\n",
      "intercept_mu <class 'pcntoolkit.model.hbr.NonCentralRandomFixedParameterization'>\n",
      "mu <class 'pcntoolkit.model.hbr.LinearParameterization'>\n",
      "slope_sigma <class 'pcntoolkit.model.hbr.FixedParameterization'>\n",
      "intercept_sigma <class 'pcntoolkit.model.hbr.FixedParameterization'>\n",
      "sigma <class 'pcntoolkit.model.hbr.LinearParameterization'>\n",
      "epsilon <class 'pcntoolkit.model.hbr.FixedParameterization'>\n",
      "delta <class 'pcntoolkit.model.hbr.FixedParameterization'>\n"
     ]
    },
    {
     "name": "stderr",
     "output_type": "stream",
     "text": [
      "Sampling: [y_like]\n"
     ]
    },
    {
     "data": {
      "text/html": [
       "\n",
       "<style>\n",
       "    /* Turns off some styling */\n",
       "    progress {\n",
       "        /* gets rid of default border in Firefox and Opera. */\n",
       "        border: none;\n",
       "        /* Needs to be in here for Safari polyfill so background images work as expected. */\n",
       "        background-size: auto;\n",
       "    }\n",
       "    progress:not([value]), progress:not([value])::-webkit-progress-bar {\n",
       "        background: repeating-linear-gradient(45deg, #7e7e7e, #7e7e7e 10px, #5c5c5c 10px, #5c5c5c 20px);\n",
       "    }\n",
       "    .progress-bar-interrupted, .progress-bar-interrupted::-webkit-progress-bar {\n",
       "        background: #F44336;\n",
       "    }\n",
       "</style>\n"
      ],
      "text/plain": [
       "<IPython.core.display.HTML object>"
      ]
     },
     "metadata": {},
     "output_type": "display_data"
    },
    {
     "data": {
      "text/html": [
       "\n",
       "    <div>\n",
       "      <progress value='2000' class='' max='2000' style='width:300px; height:20px; vertical-align: middle;'></progress>\n",
       "      100.00% [2000/2000 00:02&lt;00:00]\n",
       "    </div>\n",
       "    "
      ],
      "text/plain": [
       "<IPython.core.display.HTML object>"
      ]
     },
     "metadata": {},
     "output_type": "display_data"
    },
    {
     "name": "stdout",
     "output_type": "stream",
     "text": [
      "Done computing zscores in 3.9394898414611816 seconds\n"
     ]
    },
    {
     "name": "stderr",
     "output_type": "stream",
     "text": [
      "Sampling: [y_like]\n"
     ]
    },
    {
     "name": "stdout",
     "output_type": "stream",
     "text": [
      "Computing zscores for NM_0_0_estimate.pkl\n",
      "SHASHb\n",
      "slope_mu <class 'pcntoolkit.model.hbr.FixedParameterization'>\n",
      "intercept_mu <class 'pcntoolkit.model.hbr.NonCentralRandomFixedParameterization'>\n",
      "mu <class 'pcntoolkit.model.hbr.LinearParameterization'>\n",
      "slope_sigma <class 'pcntoolkit.model.hbr.FixedParameterization'>\n",
      "intercept_sigma <class 'pcntoolkit.model.hbr.FixedParameterization'>\n",
      "sigma <class 'pcntoolkit.model.hbr.LinearParameterization'>\n",
      "epsilon <class 'pcntoolkit.model.hbr.FixedParameterization'>\n",
      "delta <class 'pcntoolkit.model.hbr.FixedParameterization'>\n"
     ]
    },
    {
     "data": {
      "text/html": [
       "\n",
       "<style>\n",
       "    /* Turns off some styling */\n",
       "    progress {\n",
       "        /* gets rid of default border in Firefox and Opera. */\n",
       "        border: none;\n",
       "        /* Needs to be in here for Safari polyfill so background images work as expected. */\n",
       "        background-size: auto;\n",
       "    }\n",
       "    progress:not([value]), progress:not([value])::-webkit-progress-bar {\n",
       "        background: repeating-linear-gradient(45deg, #7e7e7e, #7e7e7e 10px, #5c5c5c 10px, #5c5c5c 20px);\n",
       "    }\n",
       "    .progress-bar-interrupted, .progress-bar-interrupted::-webkit-progress-bar {\n",
       "        background: #F44336;\n",
       "    }\n",
       "</style>\n"
      ],
      "text/plain": [
       "<IPython.core.display.HTML object>"
      ]
     },
     "metadata": {},
     "output_type": "display_data"
    },
    {
     "data": {
      "text/html": [
       "\n",
       "    <div>\n",
       "      <progress value='2000' class='' max='2000' style='width:300px; height:20px; vertical-align: middle;'></progress>\n",
       "      100.00% [2000/2000 00:02&lt;00:00]\n",
       "    </div>\n",
       "    "
      ],
      "text/plain": [
       "<IPython.core.display.HTML object>"
      ]
     },
     "metadata": {},
     "output_type": "display_data"
    },
    {
     "name": "stdout",
     "output_type": "stream",
     "text": [
      "Done computing zscores in 4.441406488418579 seconds\n",
      "Computing zscores for NM_0_0_estimate.pkl\n",
      "SHASHb\n",
      "slope_mu <class 'pcntoolkit.model.hbr.FixedParameterization'>\n",
      "intercept_mu <class 'pcntoolkit.model.hbr.NonCentralRandomFixedParameterization'>\n",
      "mu <class 'pcntoolkit.model.hbr.LinearParameterization'>\n",
      "slope_sigma <class 'pcntoolkit.model.hbr.FixedParameterization'>\n",
      "intercept_sigma <class 'pcntoolkit.model.hbr.FixedParameterization'>\n",
      "sigma <class 'pcntoolkit.model.hbr.LinearParameterization'>\n",
      "slope_epsilon <class 'pcntoolkit.model.hbr.FixedParameterization'>\n",
      "intercept_epsilon <class 'pcntoolkit.model.hbr.FixedParameterization'>\n",
      "epsilon <class 'pcntoolkit.model.hbr.LinearParameterization'>\n",
      "slope_delta <class 'pcntoolkit.model.hbr.FixedParameterization'>\n",
      "intercept_delta <class 'pcntoolkit.model.hbr.FixedParameterization'>\n",
      "delta <class 'pcntoolkit.model.hbr.LinearParameterization'>\n"
     ]
    },
    {
     "name": "stderr",
     "output_type": "stream",
     "text": [
      "Sampling: [y_like]\n"
     ]
    },
    {
     "data": {
      "text/html": [
       "\n",
       "<style>\n",
       "    /* Turns off some styling */\n",
       "    progress {\n",
       "        /* gets rid of default border in Firefox and Opera. */\n",
       "        border: none;\n",
       "        /* Needs to be in here for Safari polyfill so background images work as expected. */\n",
       "        background-size: auto;\n",
       "    }\n",
       "    progress:not([value]), progress:not([value])::-webkit-progress-bar {\n",
       "        background: repeating-linear-gradient(45deg, #7e7e7e, #7e7e7e 10px, #5c5c5c 10px, #5c5c5c 20px);\n",
       "    }\n",
       "    .progress-bar-interrupted, .progress-bar-interrupted::-webkit-progress-bar {\n",
       "        background: #F44336;\n",
       "    }\n",
       "</style>\n"
      ],
      "text/plain": [
       "<IPython.core.display.HTML object>"
      ]
     },
     "metadata": {},
     "output_type": "display_data"
    },
    {
     "data": {
      "text/html": [
       "\n",
       "    <div>\n",
       "      <progress value='2000' class='' max='2000' style='width:300px; height:20px; vertical-align: middle;'></progress>\n",
       "      100.00% [2000/2000 00:11&lt;00:00]\n",
       "    </div>\n",
       "    "
      ],
      "text/plain": [
       "<IPython.core.display.HTML object>"
      ]
     },
     "metadata": {},
     "output_type": "display_data"
    },
    {
     "name": "stdout",
     "output_type": "stream",
     "text": [
      "Done computing zscores in 41.072434186935425 seconds\n"
     ]
    },
    {
     "name": "stderr",
     "output_type": "stream",
     "text": [
      "Sampling: [y_like]\n"
     ]
    },
    {
     "name": "stdout",
     "output_type": "stream",
     "text": [
      "Computing zscores for NM_0_0_estimate.pkl\n",
      "Normal\n",
      "slope_mu <class 'pcntoolkit.model.hbr.FixedParameterization'>\n",
      "intercept_mu <class 'pcntoolkit.model.hbr.NonCentralRandomFixedParameterization'>\n",
      "mu <class 'pcntoolkit.model.hbr.LinearParameterization'>\n",
      "slope_sigma <class 'pcntoolkit.model.hbr.FixedParameterization'>\n",
      "intercept_sigma <class 'pcntoolkit.model.hbr.FixedParameterization'>\n",
      "sigma <class 'pcntoolkit.model.hbr.LinearParameterization'>\n"
     ]
    },
    {
     "data": {
      "text/html": [
       "\n",
       "<style>\n",
       "    /* Turns off some styling */\n",
       "    progress {\n",
       "        /* gets rid of default border in Firefox and Opera. */\n",
       "        border: none;\n",
       "        /* Needs to be in here for Safari polyfill so background images work as expected. */\n",
       "        background-size: auto;\n",
       "    }\n",
       "    progress:not([value]), progress:not([value])::-webkit-progress-bar {\n",
       "        background: repeating-linear-gradient(45deg, #7e7e7e, #7e7e7e 10px, #5c5c5c 10px, #5c5c5c 20px);\n",
       "    }\n",
       "    .progress-bar-interrupted, .progress-bar-interrupted::-webkit-progress-bar {\n",
       "        background: #F44336;\n",
       "    }\n",
       "</style>\n"
      ],
      "text/plain": [
       "<IPython.core.display.HTML object>"
      ]
     },
     "metadata": {},
     "output_type": "display_data"
    },
    {
     "data": {
      "text/html": [
       "\n",
       "    <div>\n",
       "      <progress value='2000' class='' max='2000' style='width:300px; height:20px; vertical-align: middle;'></progress>\n",
       "      100.00% [2000/2000 00:01&lt;00:00]\n",
       "    </div>\n",
       "    "
      ],
      "text/plain": [
       "<IPython.core.display.HTML object>"
      ]
     },
     "metadata": {},
     "output_type": "display_data"
    },
    {
     "name": "stdout",
     "output_type": "stream",
     "text": [
      "Done computing zscores in 2.149902582168579 seconds\n"
     ]
    },
    {
     "name": "stderr",
     "output_type": "stream",
     "text": [
      "Sampling: [y_like]\n"
     ]
    },
    {
     "name": "stdout",
     "output_type": "stream",
     "text": [
      "Computing zscores for NM_0_0_estimate.pkl\n",
      "SHASHo\n",
      "slope_mu <class 'pcntoolkit.model.hbr.FixedParameterization'>\n",
      "intercept_mu <class 'pcntoolkit.model.hbr.NonCentralRandomFixedParameterization'>\n",
      "mu <class 'pcntoolkit.model.hbr.LinearParameterization'>\n",
      "slope_sigma <class 'pcntoolkit.model.hbr.FixedParameterization'>\n",
      "intercept_sigma <class 'pcntoolkit.model.hbr.FixedParameterization'>\n",
      "sigma <class 'pcntoolkit.model.hbr.LinearParameterization'>\n",
      "epsilon <class 'pcntoolkit.model.hbr.FixedParameterization'>\n",
      "delta <class 'pcntoolkit.model.hbr.FixedParameterization'>\n"
     ]
    },
    {
     "data": {
      "text/html": [
       "\n",
       "<style>\n",
       "    /* Turns off some styling */\n",
       "    progress {\n",
       "        /* gets rid of default border in Firefox and Opera. */\n",
       "        border: none;\n",
       "        /* Needs to be in here for Safari polyfill so background images work as expected. */\n",
       "        background-size: auto;\n",
       "    }\n",
       "    progress:not([value]), progress:not([value])::-webkit-progress-bar {\n",
       "        background: repeating-linear-gradient(45deg, #7e7e7e, #7e7e7e 10px, #5c5c5c 10px, #5c5c5c 20px);\n",
       "    }\n",
       "    .progress-bar-interrupted, .progress-bar-interrupted::-webkit-progress-bar {\n",
       "        background: #F44336;\n",
       "    }\n",
       "</style>\n"
      ],
      "text/plain": [
       "<IPython.core.display.HTML object>"
      ]
     },
     "metadata": {},
     "output_type": "display_data"
    },
    {
     "data": {
      "text/html": [
       "\n",
       "    <div>\n",
       "      <progress value='2000' class='' max='2000' style='width:300px; height:20px; vertical-align: middle;'></progress>\n",
       "      100.00% [2000/2000 00:02&lt;00:00]\n",
       "    </div>\n",
       "    "
      ],
      "text/plain": [
       "<IPython.core.display.HTML object>"
      ]
     },
     "metadata": {},
     "output_type": "display_data"
    },
    {
     "name": "stdout",
     "output_type": "stream",
     "text": [
      "Done computing zscores in 3.7888526916503906 seconds\n",
      "Computing zscores for NM_0_0_estimate.pkl\n",
      "SHASHb\n",
      "slope_mu <class 'pcntoolkit.model.hbr.FixedParameterization'>\n",
      "intercept_mu <class 'pcntoolkit.model.hbr.NonCentralRandomFixedParameterization'>\n",
      "mu <class 'pcntoolkit.model.hbr.LinearParameterization'>\n",
      "slope_sigma <class 'pcntoolkit.model.hbr.FixedParameterization'>\n",
      "intercept_sigma <class 'pcntoolkit.model.hbr.FixedParameterization'>\n",
      "sigma <class 'pcntoolkit.model.hbr.LinearParameterization'>\n",
      "epsilon <class 'pcntoolkit.model.hbr.FixedParameterization'>\n",
      "delta <class 'pcntoolkit.model.hbr.FixedParameterization'>\n"
     ]
    },
    {
     "name": "stderr",
     "output_type": "stream",
     "text": [
      "Sampling: [y_like]\n"
     ]
    },
    {
     "data": {
      "text/html": [
       "\n",
       "<style>\n",
       "    /* Turns off some styling */\n",
       "    progress {\n",
       "        /* gets rid of default border in Firefox and Opera. */\n",
       "        border: none;\n",
       "        /* Needs to be in here for Safari polyfill so background images work as expected. */\n",
       "        background-size: auto;\n",
       "    }\n",
       "    progress:not([value]), progress:not([value])::-webkit-progress-bar {\n",
       "        background: repeating-linear-gradient(45deg, #7e7e7e, #7e7e7e 10px, #5c5c5c 10px, #5c5c5c 20px);\n",
       "    }\n",
       "    .progress-bar-interrupted, .progress-bar-interrupted::-webkit-progress-bar {\n",
       "        background: #F44336;\n",
       "    }\n",
       "</style>\n"
      ],
      "text/plain": [
       "<IPython.core.display.HTML object>"
      ]
     },
     "metadata": {},
     "output_type": "display_data"
    },
    {
     "data": {
      "text/html": [
       "\n",
       "    <div>\n",
       "      <progress value='2000' class='' max='2000' style='width:300px; height:20px; vertical-align: middle;'></progress>\n",
       "      100.00% [2000/2000 00:03&lt;00:00]\n",
       "    </div>\n",
       "    "
      ],
      "text/plain": [
       "<IPython.core.display.HTML object>"
      ]
     },
     "metadata": {},
     "output_type": "display_data"
    },
    {
     "name": "stdout",
     "output_type": "stream",
     "text": [
      "Done computing zscores in 4.5838189125061035 seconds\n",
      "Computing zscores for NM_0_0_estimate.pkl\n",
      "SHASHb\n",
      "slope_mu <class 'pcntoolkit.model.hbr.FixedParameterization'>\n",
      "intercept_mu <class 'pcntoolkit.model.hbr.NonCentralRandomFixedParameterization'>\n",
      "mu <class 'pcntoolkit.model.hbr.LinearParameterization'>\n",
      "slope_sigma <class 'pcntoolkit.model.hbr.FixedParameterization'>\n",
      "intercept_sigma <class 'pcntoolkit.model.hbr.FixedParameterization'>\n",
      "sigma <class 'pcntoolkit.model.hbr.LinearParameterization'>\n",
      "slope_epsilon <class 'pcntoolkit.model.hbr.FixedParameterization'>\n",
      "intercept_epsilon <class 'pcntoolkit.model.hbr.FixedParameterization'>\n",
      "epsilon <class 'pcntoolkit.model.hbr.LinearParameterization'>\n",
      "slope_delta <class 'pcntoolkit.model.hbr.FixedParameterization'>\n",
      "intercept_delta <class 'pcntoolkit.model.hbr.FixedParameterization'>\n",
      "delta <class 'pcntoolkit.model.hbr.LinearParameterization'>\n"
     ]
    },
    {
     "name": "stderr",
     "output_type": "stream",
     "text": [
      "Sampling: [y_like]\n"
     ]
    },
    {
     "data": {
      "text/html": [
       "\n",
       "<style>\n",
       "    /* Turns off some styling */\n",
       "    progress {\n",
       "        /* gets rid of default border in Firefox and Opera. */\n",
       "        border: none;\n",
       "        /* Needs to be in here for Safari polyfill so background images work as expected. */\n",
       "        background-size: auto;\n",
       "    }\n",
       "    progress:not([value]), progress:not([value])::-webkit-progress-bar {\n",
       "        background: repeating-linear-gradient(45deg, #7e7e7e, #7e7e7e 10px, #5c5c5c 10px, #5c5c5c 20px);\n",
       "    }\n",
       "    .progress-bar-interrupted, .progress-bar-interrupted::-webkit-progress-bar {\n",
       "        background: #F44336;\n",
       "    }\n",
       "</style>\n"
      ],
      "text/plain": [
       "<IPython.core.display.HTML object>"
      ]
     },
     "metadata": {},
     "output_type": "display_data"
    },
    {
     "data": {
      "text/html": [
       "\n",
       "    <div>\n",
       "      <progress value='2000' class='' max='2000' style='width:300px; height:20px; vertical-align: middle;'></progress>\n",
       "      100.00% [2000/2000 00:12&lt;00:00]\n",
       "    </div>\n",
       "    "
      ],
      "text/plain": [
       "<IPython.core.display.HTML object>"
      ]
     },
     "metadata": {},
     "output_type": "display_data"
    },
    {
     "name": "stdout",
     "output_type": "stream",
     "text": [
      "Done computing zscores in 38.34701871871948 seconds\n"
     ]
    },
    {
     "name": "stderr",
     "output_type": "stream",
     "text": [
      "Sampling: [y_like]\n"
     ]
    },
    {
     "name": "stdout",
     "output_type": "stream",
     "text": [
      "Computing zscores for NM_0_0_estimate.pkl\n",
      "Normal\n",
      "slope_mu <class 'pcntoolkit.model.hbr.FixedParameterization'>\n",
      "intercept_mu <class 'pcntoolkit.model.hbr.NonCentralRandomFixedParameterization'>\n",
      "mu <class 'pcntoolkit.model.hbr.LinearParameterization'>\n",
      "slope_sigma <class 'pcntoolkit.model.hbr.FixedParameterization'>\n",
      "intercept_sigma <class 'pcntoolkit.model.hbr.FixedParameterization'>\n",
      "sigma <class 'pcntoolkit.model.hbr.LinearParameterization'>\n"
     ]
    },
    {
     "data": {
      "text/html": [
       "\n",
       "<style>\n",
       "    /* Turns off some styling */\n",
       "    progress {\n",
       "        /* gets rid of default border in Firefox and Opera. */\n",
       "        border: none;\n",
       "        /* Needs to be in here for Safari polyfill so background images work as expected. */\n",
       "        background-size: auto;\n",
       "    }\n",
       "    progress:not([value]), progress:not([value])::-webkit-progress-bar {\n",
       "        background: repeating-linear-gradient(45deg, #7e7e7e, #7e7e7e 10px, #5c5c5c 10px, #5c5c5c 20px);\n",
       "    }\n",
       "    .progress-bar-interrupted, .progress-bar-interrupted::-webkit-progress-bar {\n",
       "        background: #F44336;\n",
       "    }\n",
       "</style>\n"
      ],
      "text/plain": [
       "<IPython.core.display.HTML object>"
      ]
     },
     "metadata": {},
     "output_type": "display_data"
    },
    {
     "data": {
      "text/html": [
       "\n",
       "    <div>\n",
       "      <progress value='2000' class='' max='2000' style='width:300px; height:20px; vertical-align: middle;'></progress>\n",
       "      100.00% [2000/2000 00:01&lt;00:00]\n",
       "    </div>\n",
       "    "
      ],
      "text/plain": [
       "<IPython.core.display.HTML object>"
      ]
     },
     "metadata": {},
     "output_type": "display_data"
    },
    {
     "name": "stdout",
     "output_type": "stream",
     "text": [
      "Done computing zscores in 2.154479503631592 seconds\n"
     ]
    }
   ],
   "source": [
    "# For each fold\n",
    "n_folds = 10\n",
    "for i_fold in range(n_folds):\n",
    "    \n",
    "    # Load the train and test data\n",
    "    fold_data_dir = f'/project_cephfs/3022017.02/projects/stijdboe/Data/10_folds_sexcov/fold_{i_fold}'\n",
    "    with open(os.path.join(fold_data_dir, 'X_train.pkl'),'rb') as file:\n",
    "              X_train = pickle.load(file)\n",
    "    with open(os.path.join(fold_data_dir, 'Y_train.pkl'),'rb') as file:\n",
    "              Y_train = pickle.load(file)\n",
    "    with open(os.path.join(fold_data_dir, 'Z_train.pkl'),'rb') as file:\n",
    "              Z_train = pickle.load(file)\n",
    "    with open(os.path.join(fold_data_dir, 'X_test.pkl'),'rb') as file:\n",
    "              X_test = pickle.load(file)\n",
    "    with open(os.path.join(fold_data_dir, 'Y_test.pkl'),'rb') as file:\n",
    "              Y_test = pickle.load(file)\n",
    "    with open(os.path.join(fold_data_dir, 'Z_test.pkl'),'rb') as file:\n",
    "              Z_test = pickle.load(file)\n",
    "\n",
    "    # For each feature\n",
    "    features = ['Right-Cerebellum-White-Matter',\n",
    "                'EstimatedTotalIntraCranialVol',\n",
    "                'Right-Lateral-Ventricle',\n",
    "                'WM-hypointensities',\n",
    "                'rh_S_interm_prim-Jensen_thickness', \n",
    "                'Brain-Stem',\n",
    "                'log_WM-hypointensities']\n",
    "    for i_f, feature in enumerate(features):    \n",
    "        \n",
    "        # Load that particular data\n",
    "        this_X_train = X_train.to_numpy()\n",
    "        this_Y_train = Y_train[feature].to_numpy()\n",
    "        this_X_test = X_test.to_numpy()\n",
    "        this_Y_test = Y_test[feature].to_numpy()\n",
    "        this_Z_test = Z_test.to_numpy()\n",
    "        \n",
    "        # Apply in- and outscale to train and test (use util.scaler)\n",
    "        inscaler = scaler('standardize')\n",
    "        outscaler = scaler('standardize')\n",
    "        inscaler.fit(this_X_train)\n",
    "        outscaler.fit(this_Y_train)\n",
    "        this_X_test = inscaler.transform(this_X_test)\n",
    "        this_Y_test = outscaler.transform(this_Y_test)\n",
    "        \n",
    "        # For each model type:\n",
    "        for model_type in ['SHASHo', 'SHASHb_1','SHASHb_2','Normal']:\n",
    "        # for model_type in ['SHASHo']:\n",
    "        # for model_type in ['SHASHb_2']:\n",
    "\n",
    "        # for model_type in ['SHASHb_1','Normal']:\n",
    "\n",
    "            # Load the model\n",
    "            fold_dir = f'fold_{i_fold}_{model_type}'\n",
    "            batch_dir = f'batch_{i_f+1}'\n",
    "            nm_name = f'NM_0_0_estimate.pkl'\n",
    "            model_path = os.path.join(projdir, fold_dir, batch_dir, 'Models', nm_name)\n",
    "            if os.path.exists(model_path):\n",
    "                with open(model_path, 'rb') as file:\n",
    "                    norm_hbr_model = pickle.load(file)\n",
    "                # Find the MCMC z-scores\n",
    "                print(f\"Computing zscores for {nm_name}\")\n",
    "                start = time.time()\n",
    "                MCMC_z_scores = norm_hbr_model.get_mcmc_zscores(np.squeeze(this_X_test), this_Y_test[:,None], this_Z_test)\n",
    "                a = norm_hbr_model.hbr.idata\n",
    "                end = time.time()\n",
    "                print(f\"Done computing zscores in {end-start} seconds\")\n",
    "                \n",
    "                mcmc_zscoresdir = os.path.join(projdir, fold_dir, batch_dir, 'MCMC_zscores')\n",
    "                if not os.path.exists(mcmc_zscoresdir):\n",
    "                    os.mkdir(mcmc_zscoresdir)\n",
    "                with open(os.path.join(mcmc_zscoresdir, f'MCMC_zscores_{i_f}_{model_type}_fold{i_fold}.pkl'),'wb') as file:\n",
    "                    pickle.dump(MCMC_z_scores, file)\n"
   ]
  },
  {
   "cell_type": "code",
   "execution_count": null,
   "id": "93fc6117-6123-41a3-8611-d39567ae334b",
   "metadata": {},
   "outputs": [],
   "source": []
  },
  {
   "cell_type": "code",
   "execution_count": null,
   "id": "ed077f49-0030-4dd3-92b2-092b5b718bfa",
   "metadata": {},
   "outputs": [],
   "source": []
  }
 ],
 "metadata": {
  "kernelspec": {
   "display_name": "new_pymc_venv",
   "language": "python",
   "name": "new_pymc_venv"
  },
  "language_info": {
   "codemirror_mode": {
    "name": "ipython",
    "version": 3
   },
   "file_extension": ".py",
   "mimetype": "text/x-python",
   "name": "python",
   "nbconvert_exporter": "python",
   "pygments_lexer": "ipython3",
   "version": "3.10.11"
  }
 },
 "nbformat": 4,
 "nbformat_minor": 5
}
